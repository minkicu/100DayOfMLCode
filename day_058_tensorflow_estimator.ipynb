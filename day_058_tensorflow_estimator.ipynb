{
  "nbformat": 4,
  "nbformat_minor": 0,
  "metadata": {
    "colab": {
      "name": "day_058_tensorflow_estimator.ipynb",
      "version": "0.3.2",
      "provenance": [],
      "collapsed_sections": [],
      "toc_visible": true,
      "include_colab_link": true
    },
    "kernelspec": {
      "name": "python3",
      "display_name": "Python 3"
    }
  },
  "cells": [
    {
      "cell_type": "markdown",
      "metadata": {
        "id": "view-in-github",
        "colab_type": "text"
      },
      "source": [
        "<a href=\"https://colab.research.google.com/github/rkrissada/100DayOfMLCode/blob/master/day_058_tensorflow_estimator.ipynb\" target=\"_parent\"><img src=\"https://colab.research.google.com/assets/colab-badge.svg\" alt=\"Open In Colab\"/></a>"
      ]
    },
    {
      "metadata": {
        "id": "471EOLR-aMzZ",
        "colab_type": "text"
      },
      "cell_type": "markdown",
      "source": [
        "## tf.estimator\n",
        "\n",
        "we will create a machine learning model using tf.estimator and evaluate its performance. The dataset is rather small (7700 samples), so we can do it all in-memory. We will also simply pass the raw data in as-is"
      ]
    },
    {
      "metadata": {
        "id": "pKcP_Yqka3PN",
        "colab_type": "code",
        "outputId": "bfd720c2-9e17-44dc-d57f-6fadc334dfe1",
        "colab": {
          "base_uri": "https://localhost:8080/",
          "height": 1125
        }
      },
      "cell_type": "code",
      "source": [
        "!pip install datalab"
      ],
      "execution_count": 1,
      "outputs": [
        {
          "output_type": "stream",
          "text": [
            "Requirement already satisfied: datalab in /usr/local/lib/python3.6/dist-packages (1.1.4)\n",
            "Requirement already satisfied: plotly>=1.12.5 in /usr/local/lib/python3.6/dist-packages (from datalab) (3.6.1)\n",
            "Requirement already satisfied: pandas-profiling>=1.0.0a2 in /usr/local/lib/python3.6/dist-packages (from datalab) (1.4.1)\n",
            "Requirement already satisfied: mock>=2.0.0 in /usr/local/lib/python3.6/dist-packages (from datalab) (2.0.0)\n",
            "Requirement already satisfied: urllib3>=1.22 in /usr/local/lib/python3.6/dist-packages (from datalab) (1.22)\n",
            "Requirement already satisfied: psutil>=4.3.0 in /usr/local/lib/python3.6/dist-packages (from datalab) (5.4.8)\n",
            "Requirement already satisfied: jsonschema>=2.6.0 in /usr/local/lib/python3.6/dist-packages (from datalab) (2.6.0)\n",
            "Requirement already satisfied: configparser>=3.5.0 in /usr/local/lib/python3.6/dist-packages (from datalab) (3.7.4)\n",
            "Requirement already satisfied: google-auth-httplib2>=0.0.2 in /usr/local/lib/python3.6/dist-packages (from datalab) (0.0.3)\n",
            "Requirement already satisfied: six==1.10.0 in /usr/local/lib/python3.6/dist-packages (from datalab) (1.10.0)\n",
            "Requirement already satisfied: ipykernel>=4.5.2 in /usr/local/lib/python3.6/dist-packages (from datalab) (4.6.1)\n",
            "Requirement already satisfied: requests>=2.9.1 in /usr/local/lib/python3.6/dist-packages (from datalab) (2.18.4)\n",
            "Requirement already satisfied: future>=0.16.0 in /usr/local/lib/python3.6/dist-packages (from datalab) (0.16.0)\n",
            "Requirement already satisfied: pytz>=2015.4 in /usr/local/lib/python3.6/dist-packages (from datalab) (2018.9)\n",
            "Requirement already satisfied: google-cloud>=0.30.0 in /usr/local/lib/python3.6/dist-packages (from datalab) (0.34.0)\n",
            "Requirement already satisfied: python-dateutil>=2.5.0 in /usr/local/lib/python3.6/dist-packages (from datalab) (2.5.3)\n",
            "Requirement already satisfied: httplib2>=0.10.3 in /usr/local/lib/python3.6/dist-packages (from datalab) (0.11.3)\n",
            "Requirement already satisfied: scikit-image>=0.13.0 in /usr/local/lib/python3.6/dist-packages (from datalab) (0.13.1)\n",
            "Requirement already satisfied: pandas>=0.22.0 in /usr/local/lib/python3.6/dist-packages (from datalab) (0.22.0)\n",
            "Requirement already satisfied: seaborn>=0.7.0 in /usr/local/lib/python3.6/dist-packages (from datalab) (0.7.1)\n",
            "Requirement already satisfied: google-api-python-client>=1.6.2 in /usr/local/lib/python3.6/dist-packages (from datalab) (1.6.7)\n",
            "Requirement already satisfied: oauth2client>=2.2.0 in /usr/local/lib/python3.6/dist-packages (from datalab) (4.1.3)\n",
            "Requirement already satisfied: scikit-learn>=0.18.2 in /usr/local/lib/python3.6/dist-packages (from datalab) (0.20.3)\n",
            "Requirement already satisfied: pyyaml>=3.11 in /usr/local/lib/python3.6/dist-packages (from datalab) (3.13)\n",
            "Requirement already satisfied: nbformat>=4.2 in /usr/local/lib/python3.6/dist-packages (from plotly>=1.12.5->datalab) (4.4.0)\n",
            "Requirement already satisfied: decorator>=4.0.6 in /usr/local/lib/python3.6/dist-packages (from plotly>=1.12.5->datalab) (4.4.0)\n",
            "Requirement already satisfied: retrying>=1.3.3 in /usr/local/lib/python3.6/dist-packages (from plotly>=1.12.5->datalab) (1.3.3)\n",
            "Requirement already satisfied: jinja2>=2.8 in /usr/local/lib/python3.6/dist-packages (from pandas-profiling>=1.0.0a2->datalab) (2.10)\n",
            "Requirement already satisfied: matplotlib>=1.4 in /usr/local/lib/python3.6/dist-packages (from pandas-profiling>=1.0.0a2->datalab) (3.0.3)\n",
            "Requirement already satisfied: pbr>=0.11 in /usr/local/lib/python3.6/dist-packages (from mock>=2.0.0->datalab) (5.1.3)\n",
            "Requirement already satisfied: google-auth in /usr/local/lib/python3.6/dist-packages (from google-auth-httplib2>=0.0.2->datalab) (1.4.2)\n",
            "Requirement already satisfied: tornado>=4.0 in /usr/local/lib/python3.6/dist-packages (from ipykernel>=4.5.2->datalab) (4.5.3)\n",
            "Requirement already satisfied: ipython>=4.0.0 in /usr/local/lib/python3.6/dist-packages (from ipykernel>=4.5.2->datalab) (5.5.0)\n",
            "Requirement already satisfied: traitlets>=4.1.0 in /usr/local/lib/python3.6/dist-packages (from ipykernel>=4.5.2->datalab) (4.3.2)\n",
            "Requirement already satisfied: jupyter-client in /usr/local/lib/python3.6/dist-packages (from ipykernel>=4.5.2->datalab) (5.2.4)\n",
            "Requirement already satisfied: chardet<3.1.0,>=3.0.2 in /usr/local/lib/python3.6/dist-packages (from requests>=2.9.1->datalab) (3.0.4)\n",
            "Requirement already satisfied: certifi>=2017.4.17 in /usr/local/lib/python3.6/dist-packages (from requests>=2.9.1->datalab) (2019.3.9)\n",
            "Requirement already satisfied: idna<2.7,>=2.5 in /usr/local/lib/python3.6/dist-packages (from requests>=2.9.1->datalab) (2.6)\n",
            "Requirement already satisfied: networkx>=1.8 in /usr/local/lib/python3.6/dist-packages (from scikit-image>=0.13.0->datalab) (2.2)\n",
            "Requirement already satisfied: pillow>=2.1.0 in /usr/local/lib/python3.6/dist-packages (from scikit-image>=0.13.0->datalab) (4.1.1)\n",
            "Requirement already satisfied: scipy>=0.17.0 in /usr/local/lib/python3.6/dist-packages (from scikit-image>=0.13.0->datalab) (1.1.0)\n",
            "Requirement already satisfied: PyWavelets>=0.4.0 in /usr/local/lib/python3.6/dist-packages (from scikit-image>=0.13.0->datalab) (1.0.2)\n",
            "Requirement already satisfied: numpy>=1.9.0 in /usr/local/lib/python3.6/dist-packages (from pandas>=0.22.0->datalab) (1.14.6)\n",
            "Requirement already satisfied: uritemplate<4dev,>=3.0.0 in /usr/local/lib/python3.6/dist-packages (from google-api-python-client>=1.6.2->datalab) (3.0.0)\n",
            "Requirement already satisfied: rsa>=3.1.4 in /usr/local/lib/python3.6/dist-packages (from oauth2client>=2.2.0->datalab) (4.0)\n",
            "Requirement already satisfied: pyasn1>=0.1.7 in /usr/local/lib/python3.6/dist-packages (from oauth2client>=2.2.0->datalab) (0.4.5)\n",
            "Requirement already satisfied: pyasn1-modules>=0.0.5 in /usr/local/lib/python3.6/dist-packages (from oauth2client>=2.2.0->datalab) (0.2.4)\n",
            "Requirement already satisfied: jupyter-core in /usr/local/lib/python3.6/dist-packages (from nbformat>=4.2->plotly>=1.12.5->datalab) (4.4.0)\n",
            "Requirement already satisfied: ipython-genutils in /usr/local/lib/python3.6/dist-packages (from nbformat>=4.2->plotly>=1.12.5->datalab) (0.2.0)\n",
            "Requirement already satisfied: MarkupSafe>=0.23 in /usr/local/lib/python3.6/dist-packages (from jinja2>=2.8->pandas-profiling>=1.0.0a2->datalab) (1.1.1)\n",
            "Requirement already satisfied: cycler>=0.10 in /usr/local/lib/python3.6/dist-packages (from matplotlib>=1.4->pandas-profiling>=1.0.0a2->datalab) (0.10.0)\n",
            "Requirement already satisfied: pyparsing!=2.0.4,!=2.1.2,!=2.1.6,>=2.0.1 in /usr/local/lib/python3.6/dist-packages (from matplotlib>=1.4->pandas-profiling>=1.0.0a2->datalab) (2.3.1)\n",
            "Requirement already satisfied: kiwisolver>=1.0.1 in /usr/local/lib/python3.6/dist-packages (from matplotlib>=1.4->pandas-profiling>=1.0.0a2->datalab) (1.0.1)\n",
            "Requirement already satisfied: cachetools>=2.0.0 in /usr/local/lib/python3.6/dist-packages (from google-auth->google-auth-httplib2>=0.0.2->datalab) (3.1.0)\n",
            "Requirement already satisfied: pickleshare in /usr/local/lib/python3.6/dist-packages (from ipython>=4.0.0->ipykernel>=4.5.2->datalab) (0.7.5)\n",
            "Requirement already satisfied: pygments in /usr/local/lib/python3.6/dist-packages (from ipython>=4.0.0->ipykernel>=4.5.2->datalab) (2.1.3)\n",
            "Requirement already satisfied: pexpect; sys_platform != \"win32\" in /usr/local/lib/python3.6/dist-packages (from ipython>=4.0.0->ipykernel>=4.5.2->datalab) (4.6.0)\n",
            "Requirement already satisfied: prompt-toolkit<2.0.0,>=1.0.4 in /usr/local/lib/python3.6/dist-packages (from ipython>=4.0.0->ipykernel>=4.5.2->datalab) (1.0.15)\n",
            "Requirement already satisfied: simplegeneric>0.8 in /usr/local/lib/python3.6/dist-packages (from ipython>=4.0.0->ipykernel>=4.5.2->datalab) (0.8.1)\n",
            "Requirement already satisfied: setuptools>=18.5 in /usr/local/lib/python3.6/dist-packages (from ipython>=4.0.0->ipykernel>=4.5.2->datalab) (40.9.0)\n",
            "Requirement already satisfied: pyzmq>=13 in /usr/local/lib/python3.6/dist-packages (from jupyter-client->ipykernel>=4.5.2->datalab) (17.0.0)\n",
            "Requirement already satisfied: olefile in /usr/local/lib/python3.6/dist-packages (from pillow>=2.1.0->scikit-image>=0.13.0->datalab) (0.46)\n",
            "Requirement already satisfied: ptyprocess>=0.5 in /usr/local/lib/python3.6/dist-packages (from pexpect; sys_platform != \"win32\"->ipython>=4.0.0->ipykernel>=4.5.2->datalab) (0.6.0)\n",
            "Requirement already satisfied: wcwidth in /usr/local/lib/python3.6/dist-packages (from prompt-toolkit<2.0.0,>=1.0.4->ipython>=4.0.0->ipykernel>=4.5.2->datalab) (0.1.7)\n"
          ],
          "name": "stdout"
        }
      ]
    },
    {
      "metadata": {
        "id": "fOKnAW9bakem",
        "colab_type": "code",
        "outputId": "304bcb60-0013-41ab-aff8-021418ef1f80",
        "colab": {
          "base_uri": "https://localhost:8080/",
          "height": 34
        }
      },
      "cell_type": "code",
      "source": [
        "import tensorflow as tf\n",
        "import pandas as pd\n",
        "import numpy as np\n",
        "import shutil\n",
        "\n",
        "print(tf.__version__)"
      ],
      "execution_count": 2,
      "outputs": [
        {
          "output_type": "stream",
          "text": [
            "1.13.1\n"
          ],
          "name": "stdout"
        }
      ]
    },
    {
      "metadata": {
        "id": "EZCJMSdWbFi-",
        "colab_type": "text"
      },
      "cell_type": "markdown",
      "source": [
        "\n",
        "Read data created in the previous chapter."
      ]
    },
    {
      "metadata": {
        "id": "3Rfp6FdRbGfe",
        "colab_type": "code",
        "colab": {}
      },
      "cell_type": "code",
      "source": [
        "csv_columns = ['fare_amount','pickuplon','pickuplat','dropofflon','dropofflat','passengers','key']\n",
        "features = csv_columns[1:len(csv_columns)-1]\n",
        "label = csv_columns[0]\n",
        "\n",
        "df_train = pd.read_csv('./taxi-train.csv',header = None, names = csv_columns)\n",
        "df_valid = pd.read_csv('./taxi-valid.csv',header = None, names = csv_columns)"
      ],
      "execution_count": 0,
      "outputs": []
    },
    {
      "metadata": {
        "id": "RThZQaxqdM53",
        "colab_type": "text"
      },
      "cell_type": "markdown",
      "source": [
        "### Input function to read from Pandas Dataframe into tf.constant"
      ]
    },
    {
      "metadata": {
        "id": "mg-I8tPcdQN9",
        "colab_type": "code",
        "colab": {}
      },
      "cell_type": "code",
      "source": [
        "def make_input_fn(df, num_epochs):\n",
        "  return tf.estimator.inputs.pandas_input_fn(\n",
        "    x = df,\n",
        "    y = df[label],\n",
        "    batch_size = 128,\n",
        "    num_epochs = num_epochs,\n",
        "    shuffle = True,\n",
        "    queue_capacity = 1000,\n",
        "    num_threads =1\n",
        "  )"
      ],
      "execution_count": 0,
      "outputs": []
    },
    {
      "metadata": {
        "id": "9tvUxP8od0P_",
        "colab_type": "text"
      },
      "cell_type": "markdown",
      "source": [
        "### Create feature columns for estimator"
      ]
    },
    {
      "metadata": {
        "id": "ykzHExNkd36O",
        "colab_type": "code",
        "colab": {}
      },
      "cell_type": "code",
      "source": [
        "def make_feature_cols():\n",
        "  input_columns = [tf.feature_column.numeric_column(k) for k in features]\n",
        "  return input_columns"
      ],
      "execution_count": 0,
      "outputs": []
    },
    {
      "metadata": {
        "id": "PT-YZtsfny0z",
        "colab_type": "text"
      },
      "cell_type": "markdown",
      "source": [
        "\n",
        "### Linear Regression with tf.Estimator framework"
      ]
    },
    {
      "metadata": {
        "id": "l6-tndmFn2lD",
        "colab_type": "code",
        "outputId": "2dffa1f0-385d-4741-f48c-2540b1f74651",
        "colab": {
          "base_uri": "https://localhost:8080/",
          "height": 819
        }
      },
      "cell_type": "code",
      "source": [
        "tf.logging.set_verbosity(tf.logging.INFO)\n",
        "\n",
        "outdir = 'taxi_trained'\n",
        "shutil.rmtree(outdir, ignore_errors = True) # start fresh each time\n",
        "\n",
        "model = tf.estimator.LinearRegressor(\n",
        "      feature_columns = make_feature_cols(), model_dir = outdir)\n",
        "\n",
        "model.train(input_fn = make_input_fn(df_train, num_epochs = 10))"
      ],
      "execution_count": 6,
      "outputs": [
        {
          "output_type": "stream",
          "text": [
            "INFO:tensorflow:Using default config.\n",
            "INFO:tensorflow:Using config: {'_model_dir': 'taxi_trained', '_tf_random_seed': None, '_save_summary_steps': 100, '_save_checkpoints_steps': None, '_save_checkpoints_secs': 600, '_session_config': allow_soft_placement: true\n",
            "graph_options {\n",
            "  rewrite_options {\n",
            "    meta_optimizer_iterations: ONE\n",
            "  }\n",
            "}\n",
            ", '_keep_checkpoint_max': 5, '_keep_checkpoint_every_n_hours': 10000, '_log_step_count_steps': 100, '_train_distribute': None, '_device_fn': None, '_protocol': None, '_eval_distribute': None, '_experimental_distribute': None, '_service': None, '_cluster_spec': <tensorflow.python.training.server_lib.ClusterSpec object at 0x7f790e9d9eb8>, '_task_type': 'worker', '_task_id': 0, '_global_id_in_cluster': 0, '_master': '', '_evaluation_master': '', '_is_chief': True, '_num_ps_replicas': 0, '_num_worker_replicas': 1}\n",
            "WARNING:tensorflow:From /usr/local/lib/python3.6/dist-packages/tensorflow/python/framework/op_def_library.py:263: colocate_with (from tensorflow.python.framework.ops) is deprecated and will be removed in a future version.\n",
            "Instructions for updating:\n",
            "Colocations handled automatically by placer.\n",
            "WARNING:tensorflow:From /usr/local/lib/python3.6/dist-packages/tensorflow_estimator/python/estimator/inputs/queues/feeding_queue_runner.py:62: QueueRunner.__init__ (from tensorflow.python.training.queue_runner_impl) is deprecated and will be removed in a future version.\n",
            "Instructions for updating:\n",
            "To construct input pipelines, use the `tf.data` module.\n",
            "WARNING:tensorflow:From /usr/local/lib/python3.6/dist-packages/tensorflow_estimator/python/estimator/inputs/queues/feeding_functions.py:500: add_queue_runner (from tensorflow.python.training.queue_runner_impl) is deprecated and will be removed in a future version.\n",
            "Instructions for updating:\n",
            "To construct input pipelines, use the `tf.data` module.\n",
            "INFO:tensorflow:Calling model_fn.\n",
            "WARNING:tensorflow:From /usr/local/lib/python3.6/dist-packages/tensorflow/python/feature_column/feature_column_v2.py:2703: to_float (from tensorflow.python.ops.math_ops) is deprecated and will be removed in a future version.\n",
            "Instructions for updating:\n",
            "Use tf.cast instead.\n",
            "INFO:tensorflow:Done calling model_fn.\n",
            "INFO:tensorflow:Create CheckpointSaverHook.\n",
            "INFO:tensorflow:Graph was finalized.\n",
            "INFO:tensorflow:Running local_init_op.\n",
            "INFO:tensorflow:Done running local_init_op.\n",
            "WARNING:tensorflow:From /usr/local/lib/python3.6/dist-packages/tensorflow/python/training/monitored_session.py:809: start_queue_runners (from tensorflow.python.training.queue_runner_impl) is deprecated and will be removed in a future version.\n",
            "Instructions for updating:\n",
            "To construct input pipelines, use the `tf.data` module.\n",
            "INFO:tensorflow:Saving checkpoints for 0 into taxi_trained/model.ckpt.\n",
            "INFO:tensorflow:loss = 20543.217, step = 1\n",
            "INFO:tensorflow:global_step/sec: 372.394\n",
            "INFO:tensorflow:loss = 13441.988, step = 101 (0.273 sec)\n",
            "INFO:tensorflow:global_step/sec: 424.053\n",
            "INFO:tensorflow:loss = 10992.387, step = 201 (0.233 sec)\n",
            "INFO:tensorflow:global_step/sec: 408.723\n",
            "INFO:tensorflow:loss = 9330.49, step = 301 (0.253 sec)\n",
            "INFO:tensorflow:global_step/sec: 415.218\n",
            "INFO:tensorflow:loss = 10934.7705, step = 401 (0.239 sec)\n",
            "INFO:tensorflow:global_step/sec: 422.348\n",
            "INFO:tensorflow:loss = 13822.406, step = 501 (0.233 sec)\n",
            "INFO:tensorflow:global_step/sec: 426.251\n",
            "INFO:tensorflow:loss = 10514.725, step = 601 (0.231 sec)\n",
            "INFO:tensorflow:Saving checkpoints for 608 into taxi_trained/model.ckpt.\n",
            "INFO:tensorflow:Loss for final step: 88.13803.\n"
          ],
          "name": "stdout"
        },
        {
          "output_type": "execute_result",
          "data": {
            "text/plain": [
              "<tensorflow_estimator.python.estimator.canned.linear.LinearRegressor at 0x7f790e9c9208>"
            ]
          },
          "metadata": {
            "tags": []
          },
          "execution_count": 6
        }
      ]
    },
    {
      "metadata": {
        "id": "BOzYutu6qv9S",
        "colab_type": "text"
      },
      "cell_type": "markdown",
      "source": [
        "Evaluate on the validation data (we should defer using the test data to after we have selected a final model)."
      ]
    },
    {
      "metadata": {
        "id": "Wjfs1SjHqxQU",
        "colab_type": "code",
        "outputId": "601e4527-e29a-41c6-bbb8-2f4be4a12c89",
        "colab": {
          "base_uri": "https://localhost:8080/",
          "height": 275
        }
      },
      "cell_type": "code",
      "source": [
        "def print_rmse(model, name, df):\n",
        "  metrics = model.evaluate(input_fn = make_input_fn(df,1))\n",
        "  print('RMSE on {} dataset = {}'.format(name, np.sqrt(metrics['average_loss'])))\n",
        "print_rmse(model, 'validation', df_valid)"
      ],
      "execution_count": 7,
      "outputs": [
        {
          "output_type": "stream",
          "text": [
            "INFO:tensorflow:Calling model_fn.\n",
            "INFO:tensorflow:Done calling model_fn.\n",
            "INFO:tensorflow:Starting evaluation at 2019-04-10T08:37:43Z\n",
            "INFO:tensorflow:Graph was finalized.\n",
            "WARNING:tensorflow:From /usr/local/lib/python3.6/dist-packages/tensorflow/python/training/saver.py:1266: checkpoint_exists (from tensorflow.python.training.checkpoint_management) is deprecated and will be removed in a future version.\n",
            "Instructions for updating:\n",
            "Use standard file APIs to check for files with this prefix.\n",
            "INFO:tensorflow:Restoring parameters from taxi_trained/model.ckpt-608\n",
            "INFO:tensorflow:Running local_init_op.\n",
            "INFO:tensorflow:Done running local_init_op.\n",
            "INFO:tensorflow:Finished evaluation at 2019-04-10-08:37:43\n",
            "INFO:tensorflow:Saving dict for global step 608: average_loss = 108.84712, global_step = 608, label/mean = 11.666427, loss = 12945.032, prediction/mean = 11.813898\n",
            "INFO:tensorflow:Saving 'checkpoint_path' summary for global step 608: taxi_trained/model.ckpt-608\n",
            "RMSE on validation dataset = 10.432982444763184\n"
          ],
          "name": "stdout"
        }
      ]
    },
    {
      "metadata": {
        "id": "FRmRPQ5Nstvq",
        "colab_type": "text"
      },
      "cell_type": "markdown",
      "source": [
        "This is nowhere near our benchmark (RMSE of $6 or so on this data), but it serves to demonstrate what TensorFlow code looks like.\n",
        "\n",
        "Let's use this model for prediction."
      ]
    },
    {
      "metadata": {
        "id": "NjRsyfQr6tyF",
        "colab_type": "code",
        "outputId": "c76b46b0-ff10-4da8-aa82-c2ecb4c658d5",
        "colab": {
          "base_uri": "https://localhost:8080/",
          "height": 292
        }
      },
      "cell_type": "code",
      "source": [
        "import itertools\n",
        "# Read saved model and use it for prediction\n",
        "model = tf.estimator.LinearRegressor(\n",
        "  feature_columns = make_feature_cols(), model_dir = outdir)\n",
        "\n",
        "preds_iter = model.predict(input_fn=make_input_fn(df_valid, 1))\n",
        "print([pred['predictions'][0] for pred in list(itertools.islice(preds_iter, 5))])"
      ],
      "execution_count": 8,
      "outputs": [
        {
          "output_type": "stream",
          "text": [
            "INFO:tensorflow:Using default config.\n",
            "INFO:tensorflow:Using config: {'_model_dir': 'taxi_trained', '_tf_random_seed': None, '_save_summary_steps': 100, '_save_checkpoints_steps': None, '_save_checkpoints_secs': 600, '_session_config': allow_soft_placement: true\n",
            "graph_options {\n",
            "  rewrite_options {\n",
            "    meta_optimizer_iterations: ONE\n",
            "  }\n",
            "}\n",
            ", '_keep_checkpoint_max': 5, '_keep_checkpoint_every_n_hours': 10000, '_log_step_count_steps': 100, '_train_distribute': None, '_device_fn': None, '_protocol': None, '_eval_distribute': None, '_experimental_distribute': None, '_service': None, '_cluster_spec': <tensorflow.python.training.server_lib.ClusterSpec object at 0x7f790e0e9240>, '_task_type': 'worker', '_task_id': 0, '_global_id_in_cluster': 0, '_master': '', '_evaluation_master': '', '_is_chief': True, '_num_ps_replicas': 0, '_num_worker_replicas': 1}\n",
            "INFO:tensorflow:Calling model_fn.\n",
            "INFO:tensorflow:Done calling model_fn.\n",
            "INFO:tensorflow:Graph was finalized.\n",
            "INFO:tensorflow:Restoring parameters from taxi_trained/model.ckpt-608\n",
            "INFO:tensorflow:Running local_init_op.\n",
            "INFO:tensorflow:Done running local_init_op.\n",
            "[11.774276, 11.773639, 11.773521, 11.774678, 11.776729]\n"
          ],
          "name": "stdout"
        }
      ]
    },
    {
      "metadata": {
        "id": "AiYbqHcp7lnt",
        "colab_type": "text"
      },
      "cell_type": "markdown",
      "source": [
        "This explains why the RMSE was so high -- the model essentially predicts the same amount for every trip. Would a more complex model help? Let's try using a deep neural network. The code to do this is quite straightforward as well."
      ]
    },
    {
      "metadata": {
        "id": "ilkBfkzY8QID",
        "colab_type": "text"
      },
      "cell_type": "markdown",
      "source": [
        "### Deep Neural Network regression"
      ]
    },
    {
      "metadata": {
        "id": "6ph6R-7Y8V60",
        "colab_type": "code",
        "outputId": "e3da38d4-b066-4605-a4f8-bbb28472c1cd",
        "colab": {
          "base_uri": "https://localhost:8080/",
          "height": 2570
        }
      },
      "cell_type": "code",
      "source": [
        "tf.logging.set_verbosity(tf.logging.INFO)\n",
        "shutil.rmtree(outdir, ignore_errors = True) # start fresh each time\n",
        "model = tf.estimator.DNNRegressor(hidden_units=[32,8,2],\n",
        "  feature_columns = make_feature_cols(), model_dir = outdir)\n",
        "\n",
        "model.train(input_fn=make_input_fn(df_train, num_epochs = 100));\n",
        "print_rmse(model,'validation', df_valid)"
      ],
      "execution_count": 9,
      "outputs": [
        {
          "output_type": "stream",
          "text": [
            "INFO:tensorflow:Using default config.\n",
            "INFO:tensorflow:Using config: {'_model_dir': 'taxi_trained', '_tf_random_seed': None, '_save_summary_steps': 100, '_save_checkpoints_steps': None, '_save_checkpoints_secs': 600, '_session_config': allow_soft_placement: true\n",
            "graph_options {\n",
            "  rewrite_options {\n",
            "    meta_optimizer_iterations: ONE\n",
            "  }\n",
            "}\n",
            ", '_keep_checkpoint_max': 5, '_keep_checkpoint_every_n_hours': 10000, '_log_step_count_steps': 100, '_train_distribute': None, '_device_fn': None, '_protocol': None, '_eval_distribute': None, '_experimental_distribute': None, '_service': None, '_cluster_spec': <tensorflow.python.training.server_lib.ClusterSpec object at 0x7f790dc2beb8>, '_task_type': 'worker', '_task_id': 0, '_global_id_in_cluster': 0, '_master': '', '_evaluation_master': '', '_is_chief': True, '_num_ps_replicas': 0, '_num_worker_replicas': 1}\n",
            "INFO:tensorflow:Calling model_fn.\n",
            "INFO:tensorflow:Done calling model_fn.\n",
            "INFO:tensorflow:Create CheckpointSaverHook.\n",
            "INFO:tensorflow:Graph was finalized.\n",
            "INFO:tensorflow:Running local_init_op.\n",
            "INFO:tensorflow:Done running local_init_op.\n",
            "INFO:tensorflow:Saving checkpoints for 0 into taxi_trained/model.ckpt.\n",
            "INFO:tensorflow:loss = 56022.016, step = 1\n",
            "INFO:tensorflow:global_step/sec: 361.148\n",
            "INFO:tensorflow:loss = 28080.797, step = 101 (0.278 sec)\n",
            "INFO:tensorflow:global_step/sec: 271.029\n",
            "INFO:tensorflow:loss = 21015.328, step = 201 (0.375 sec)\n",
            "INFO:tensorflow:global_step/sec: 403.439\n",
            "INFO:tensorflow:loss = 24456.404, step = 301 (0.249 sec)\n",
            "INFO:tensorflow:global_step/sec: 402.357\n",
            "INFO:tensorflow:loss = 28529.033, step = 401 (0.245 sec)\n",
            "INFO:tensorflow:global_step/sec: 382.697\n",
            "INFO:tensorflow:loss = 19267.96, step = 501 (0.259 sec)\n",
            "INFO:tensorflow:global_step/sec: 386.902\n",
            "INFO:tensorflow:loss = 22922.242, step = 601 (0.260 sec)\n",
            "INFO:tensorflow:global_step/sec: 396.866\n",
            "INFO:tensorflow:loss = 26058.973, step = 701 (0.250 sec)\n",
            "INFO:tensorflow:global_step/sec: 397.608\n",
            "INFO:tensorflow:loss = 22658.273, step = 801 (0.255 sec)\n",
            "INFO:tensorflow:global_step/sec: 407.358\n",
            "INFO:tensorflow:loss = 13569.448, step = 901 (0.243 sec)\n",
            "INFO:tensorflow:global_step/sec: 391.476\n",
            "INFO:tensorflow:loss = 22538.174, step = 1001 (0.255 sec)\n",
            "INFO:tensorflow:global_step/sec: 400.127\n",
            "INFO:tensorflow:loss = 17873.586, step = 1101 (0.253 sec)\n",
            "INFO:tensorflow:global_step/sec: 395.22\n",
            "INFO:tensorflow:loss = 8802.191, step = 1201 (0.256 sec)\n",
            "INFO:tensorflow:global_step/sec: 382.858\n",
            "INFO:tensorflow:loss = 13080.025, step = 1301 (0.260 sec)\n",
            "INFO:tensorflow:global_step/sec: 395.402\n",
            "INFO:tensorflow:loss = 22695.133, step = 1401 (0.250 sec)\n",
            "INFO:tensorflow:global_step/sec: 386.214\n",
            "INFO:tensorflow:loss = 17000.818, step = 1501 (0.260 sec)\n",
            "INFO:tensorflow:global_step/sec: 398.184\n",
            "INFO:tensorflow:loss = 16275.482, step = 1601 (0.251 sec)\n",
            "INFO:tensorflow:global_step/sec: 399.867\n",
            "INFO:tensorflow:loss = 17511.617, step = 1701 (0.246 sec)\n",
            "INFO:tensorflow:global_step/sec: 397.897\n",
            "INFO:tensorflow:loss = 17512.938, step = 1801 (0.251 sec)\n",
            "INFO:tensorflow:global_step/sec: 390.24\n",
            "INFO:tensorflow:loss = 17466.549, step = 1901 (0.258 sec)\n",
            "INFO:tensorflow:global_step/sec: 393.623\n",
            "INFO:tensorflow:loss = 10895.853, step = 2001 (0.259 sec)\n",
            "INFO:tensorflow:global_step/sec: 393.586\n",
            "INFO:tensorflow:loss = 16308.367, step = 2101 (0.248 sec)\n",
            "INFO:tensorflow:global_step/sec: 393.654\n",
            "INFO:tensorflow:loss = 18257.77, step = 2201 (0.258 sec)\n",
            "INFO:tensorflow:global_step/sec: 403.834\n",
            "INFO:tensorflow:loss = 17812.57, step = 2301 (0.243 sec)\n",
            "INFO:tensorflow:global_step/sec: 392.213\n",
            "INFO:tensorflow:loss = 11632.611, step = 2401 (0.256 sec)\n",
            "INFO:tensorflow:global_step/sec: 385.922\n",
            "INFO:tensorflow:loss = 8248.111, step = 2501 (0.258 sec)\n",
            "INFO:tensorflow:global_step/sec: 391.342\n",
            "INFO:tensorflow:loss = 18987.277, step = 2601 (0.260 sec)\n",
            "INFO:tensorflow:global_step/sec: 395.335\n",
            "INFO:tensorflow:loss = 25495.822, step = 2701 (0.253 sec)\n",
            "INFO:tensorflow:global_step/sec: 405.215\n",
            "INFO:tensorflow:loss = 13124.207, step = 2801 (0.241 sec)\n",
            "INFO:tensorflow:global_step/sec: 382.771\n",
            "INFO:tensorflow:loss = 21834.77, step = 2901 (0.264 sec)\n",
            "INFO:tensorflow:global_step/sec: 395.704\n",
            "INFO:tensorflow:loss = 11898.24, step = 3001 (0.255 sec)\n",
            "INFO:tensorflow:global_step/sec: 403.287\n",
            "INFO:tensorflow:loss = 6293.8804, step = 3101 (0.244 sec)\n",
            "INFO:tensorflow:global_step/sec: 394.808\n",
            "INFO:tensorflow:loss = 17577.121, step = 3201 (0.254 sec)\n",
            "INFO:tensorflow:global_step/sec: 395.469\n",
            "INFO:tensorflow:loss = 9989.101, step = 3301 (0.261 sec)\n",
            "INFO:tensorflow:global_step/sec: 398.389\n",
            "INFO:tensorflow:loss = 16283.345, step = 3401 (0.243 sec)\n",
            "INFO:tensorflow:global_step/sec: 383.612\n",
            "INFO:tensorflow:loss = 20061.18, step = 3501 (0.260 sec)\n",
            "INFO:tensorflow:global_step/sec: 389.319\n",
            "INFO:tensorflow:loss = 10158.912, step = 3601 (0.257 sec)\n",
            "INFO:tensorflow:global_step/sec: 395.068\n",
            "INFO:tensorflow:loss = 16518.332, step = 3701 (0.257 sec)\n",
            "INFO:tensorflow:global_step/sec: 400.061\n",
            "INFO:tensorflow:loss = 16691.588, step = 3801 (0.249 sec)\n",
            "INFO:tensorflow:global_step/sec: 271.517\n",
            "INFO:tensorflow:loss = 8274.633, step = 3901 (0.363 sec)\n",
            "INFO:tensorflow:global_step/sec: 348.342\n",
            "INFO:tensorflow:loss = 5964.4644, step = 4001 (0.287 sec)\n",
            "INFO:tensorflow:global_step/sec: 334.375\n",
            "INFO:tensorflow:loss = 22501.434, step = 4101 (0.299 sec)\n",
            "INFO:tensorflow:global_step/sec: 332.197\n",
            "INFO:tensorflow:loss = 13867.648, step = 4201 (0.302 sec)\n",
            "INFO:tensorflow:global_step/sec: 341.203\n",
            "INFO:tensorflow:loss = 13179.361, step = 4301 (0.292 sec)\n",
            "INFO:tensorflow:global_step/sec: 336.997\n",
            "INFO:tensorflow:loss = 18522.934, step = 4401 (0.297 sec)\n",
            "INFO:tensorflow:global_step/sec: 340.883\n",
            "INFO:tensorflow:loss = 12141.745, step = 4501 (0.293 sec)\n",
            "INFO:tensorflow:global_step/sec: 337.007\n",
            "INFO:tensorflow:loss = 8606.96, step = 4601 (0.298 sec)\n",
            "INFO:tensorflow:global_step/sec: 334.941\n",
            "INFO:tensorflow:loss = 8901.387, step = 4701 (0.297 sec)\n",
            "INFO:tensorflow:global_step/sec: 334.334\n",
            "INFO:tensorflow:loss = 11217.256, step = 4801 (0.301 sec)\n",
            "INFO:tensorflow:global_step/sec: 336.846\n",
            "INFO:tensorflow:loss = 12299.615, step = 4901 (0.300 sec)\n",
            "INFO:tensorflow:global_step/sec: 332.637\n",
            "INFO:tensorflow:loss = 8721.43, step = 5001 (0.300 sec)\n",
            "INFO:tensorflow:global_step/sec: 337.484\n",
            "INFO:tensorflow:loss = 9321.141, step = 5101 (0.302 sec)\n",
            "INFO:tensorflow:global_step/sec: 335.482\n",
            "INFO:tensorflow:loss = 18930.793, step = 5201 (0.289 sec)\n",
            "INFO:tensorflow:global_step/sec: 343.485\n",
            "INFO:tensorflow:loss = 16148.167, step = 5301 (0.293 sec)\n",
            "INFO:tensorflow:global_step/sec: 335.28\n",
            "INFO:tensorflow:loss = 10343.168, step = 5401 (0.296 sec)\n",
            "INFO:tensorflow:global_step/sec: 336.641\n",
            "INFO:tensorflow:loss = 16989.984, step = 5501 (0.298 sec)\n",
            "INFO:tensorflow:global_step/sec: 343.077\n",
            "INFO:tensorflow:loss = 16433.229, step = 5601 (0.292 sec)\n",
            "INFO:tensorflow:global_step/sec: 338.476\n",
            "INFO:tensorflow:loss = 16901.57, step = 5701 (0.295 sec)\n",
            "INFO:tensorflow:global_step/sec: 337.024\n",
            "INFO:tensorflow:loss = 7032.8604, step = 5801 (0.296 sec)\n",
            "INFO:tensorflow:global_step/sec: 337.253\n",
            "INFO:tensorflow:loss = 6815.847, step = 5901 (0.297 sec)\n",
            "INFO:tensorflow:global_step/sec: 337.932\n",
            "INFO:tensorflow:loss = 14444.7, step = 6001 (0.296 sec)\n",
            "INFO:tensorflow:Saving checkpoints for 6071 into taxi_trained/model.ckpt.\n",
            "INFO:tensorflow:Loss for final step: 1903.3816.\n",
            "INFO:tensorflow:Calling model_fn.\n",
            "INFO:tensorflow:Done calling model_fn.\n",
            "INFO:tensorflow:Starting evaluation at 2019-04-10T08:38:11Z\n",
            "INFO:tensorflow:Graph was finalized.\n",
            "INFO:tensorflow:Restoring parameters from taxi_trained/model.ckpt-6071\n",
            "INFO:tensorflow:Running local_init_op.\n",
            "INFO:tensorflow:Done running local_init_op.\n",
            "INFO:tensorflow:Finished evaluation at 2019-04-10-08:38:11\n",
            "INFO:tensorflow:Saving dict for global step 6071: average_loss = 135.45998, global_step = 6071, label/mean = 11.666427, loss = 16110.062, prediction/mean = 6.5011296\n",
            "INFO:tensorflow:Saving 'checkpoint_path' summary for global step 6071: taxi_trained/model.ckpt-6071\n",
            "RMSE on validation dataset = 11.638727188110352\n"
          ],
          "name": "stdout"
        }
      ]
    },
    {
      "metadata": {
        "id": "bsiv6OZ_9ZEE",
        "colab_type": "text"
      },
      "cell_type": "markdown",
      "source": [
        "We are not beating our benchmark with either model ... what's up? Well, we may be using TensorFlow for Machine Learning, but we are not yet using it well. That's what the rest of this course is about!\n",
        "\n",
        "\n",
        "But, for the record, let's say we had to choose between the two models. We'd choose the one with the lower validation error. Finally, we'd measure the RMSE on the test data with this chosen model."
      ]
    },
    {
      "metadata": {
        "id": "aQzY5h0c9pJt",
        "colab_type": "text"
      },
      "cell_type": "markdown",
      "source": [
        "### Benchmark dataset"
      ]
    },
    {
      "metadata": {
        "id": "kWV36xaIXM1U",
        "colab_type": "code",
        "colab": {}
      },
      "cell_type": "code",
      "source": [
        "import os\n",
        "os.environ[\"GOOGLE_APPLICATION_CREDENTIALS\"] = \"./bigquery_user.json\""
      ],
      "execution_count": 0,
      "outputs": []
    },
    {
      "metadata": {
        "id": "6ndnj2oZa6iD",
        "colab_type": "code",
        "colab": {}
      },
      "cell_type": "code",
      "source": [
        "from google.cloud import bigquery\n",
        "client = bigquery.Client()"
      ],
      "execution_count": 0,
      "outputs": []
    },
    {
      "metadata": {
        "id": "pPq2dU6QXgob",
        "colab_type": "code",
        "colab": {}
      },
      "cell_type": "code",
      "source": [
        "def create_query(phase, every_n):\n",
        "  \"\"\"\n",
        "  phase: 1 = train 2 = valid\n",
        "  \"\"\"\n",
        "  base_query = \"\"\"\n",
        "SELECT\n",
        "  (tolls_amount + fare_amount) AS fare_amount,\n",
        "  GENERATE_UUID() AS key,\n",
        "  EXTRACT(DAYOFWEEK FROM pickup_datetime)*1.0 AS dayofweek,\n",
        "  EXTRACT(HOUR FROM pickup_datetime)*1.0 AS hourofday,\n",
        "  pickup_longitude AS pickuplon,\n",
        "  pickup_latitude AS pickuplat,\n",
        "  dropoff_longitude AS dropofflon,\n",
        "  dropoff_latitude AS dropofflat,\n",
        "  passenger_count*1.0 AS passengers\n",
        "FROM\n",
        "  `bigquery-public-data.new_york.tlc_yellow_trips_2016`\n",
        "WHERE\n",
        "  trip_distance > 0\n",
        "  AND fare_amount >= 2.5\n",
        "  AND pickup_longitude > -78\n",
        "  AND pickup_longitude < -70\n",
        "  AND dropoff_longitude > -78\n",
        "  AND dropoff_longitude < -70\n",
        "  AND pickup_latitude > 37\n",
        "  AND pickup_latitude < 45\n",
        "  AND dropoff_latitude > 37\n",
        "  AND dropoff_latitude < 45\n",
        "  AND passenger_count > 0\n",
        "  \"\"\"\n",
        "\n",
        "  if every_n == None:\n",
        "    if phase < 2:\n",
        "      # Training\n",
        "      query = \"{0} AND MOD(ABS(FARM_FINGERPRINT(STRING(pickup_datetime))),4) < 2\".format(base_query)\n",
        "    else:\n",
        "      # Validation\n",
        "      query = \"{0} AND MOD(ABS(FARM_FINGERPRINT(STRING(pickup_datetime))),4) = {1}\".format(base_query, phase)\n",
        "  else:\n",
        "    query = \"{0} AND MOD(ABS(FARM_FINGERPRINT(STRING(pickup_datetime))),{1}) = {2}\".format(base_query, every_n, phase)\n",
        "    \n",
        "  return query"
      ],
      "execution_count": 0,
      "outputs": []
    },
    {
      "metadata": {
        "id": "Qf6oM_jyZipN",
        "colab_type": "code",
        "colab": {}
      },
      "cell_type": "code",
      "source": [
        "query = create_query(2, 100000)\n",
        "df = client.query(query).to_dataframe()"
      ],
      "execution_count": 0,
      "outputs": []
    },
    {
      "metadata": {
        "id": "rb0BXL6nQSz2",
        "colab_type": "code",
        "colab": {
          "base_uri": "https://localhost:8080/",
          "height": 224
        },
        "outputId": "d5866eb5-0db4-46b1-8707-22d7c2ba820d"
      },
      "cell_type": "code",
      "source": [
        "print_rmse(model, 'benchmark', df)"
      ],
      "execution_count": 27,
      "outputs": [
        {
          "output_type": "stream",
          "text": [
            "INFO:tensorflow:Calling model_fn.\n",
            "INFO:tensorflow:Done calling model_fn.\n",
            "INFO:tensorflow:Starting evaluation at 2019-04-10T08:49:42Z\n",
            "INFO:tensorflow:Graph was finalized.\n",
            "INFO:tensorflow:Restoring parameters from taxi_trained/model.ckpt-6071\n",
            "INFO:tensorflow:Running local_init_op.\n",
            "INFO:tensorflow:Done running local_init_op.\n",
            "INFO:tensorflow:Finished evaluation at 2019-04-10-08:49:43\n",
            "INFO:tensorflow:Saving dict for global step 6071: average_loss = 164.49333, global_step = 6071, label/mean = 13.153233, loss = 18066.85, prediction/mean = 6.50113\n",
            "INFO:tensorflow:Saving 'checkpoint_path' summary for global step 6071: taxi_trained/model.ckpt-6071\n",
            "RMSE on benchmark dataset = 12.825495719909668\n"
          ],
          "name": "stdout"
        }
      ]
    }
  ]
}