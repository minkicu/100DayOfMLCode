{
  "nbformat": 4,
  "nbformat_minor": 0,
  "metadata": {
    "colab": {
      "name": "day_046_autoencode_image_reconstruction.ipynb",
      "version": "0.3.2",
      "provenance": [],
      "collapsed_sections": [],
      "include_colab_link": true
    },
    "kernelspec": {
      "name": "python3",
      "display_name": "Python 3"
    },
    "accelerator": "GPU"
  },
  "cells": [
    {
      "cell_type": "markdown",
      "metadata": {
        "id": "view-in-github",
        "colab_type": "text"
      },
      "source": [
        "<a href=\"https://colab.research.google.com/github/rkrissada/100DayOfMLCode/blob/master/day_046_autoencode_image_reconstruction.ipynb\" target=\"_parent\"><img src=\"https://colab.research.google.com/assets/colab-badge.svg\" alt=\"Open In Colab\"/></a>"
      ]
    },
    {
      "metadata": {
        "id": "ezkgbNjplxPl",
        "colab_type": "code",
        "colab": {
          "base_uri": "https://localhost:8080/",
          "height": 170
        },
        "outputId": "a975622e-1ee1-425a-930c-d7facab4ff67"
      },
      "cell_type": "code",
      "source": [
        "from keras.layers import Dense, Input, Conv2D, LSTM, MaxPool2D, UpSampling2D\n",
        "from sklearn.model_selection import train_test_split\n",
        "from keras.callbacks import EarlyStopping\n",
        "from keras.utils import to_categorical\n",
        "from numpy import argmax, array_equal\n",
        "import matplotlib.pyplot as plt\n",
        "from keras.models import Model\n",
        "from imgaug import augmenters\n",
        "from random import randint\n",
        "import pandas as pd\n",
        "import numpy as np\n",
        "%matplotlib inline\n",
        "\n",
        "from keras.datasets import fashion_mnist\n",
        "((x_train, y_train), (x_test, y_test)) = fashion_mnist.load_data()"
      ],
      "execution_count": 1,
      "outputs": [
        {
          "output_type": "stream",
          "text": [
            "Using TensorFlow backend.\n"
          ],
          "name": "stderr"
        },
        {
          "output_type": "stream",
          "text": [
            "Downloading data from http://fashion-mnist.s3-website.eu-central-1.amazonaws.com/train-labels-idx1-ubyte.gz\n",
            "32768/29515 [=================================] - 0s 8us/step\n",
            "Downloading data from http://fashion-mnist.s3-website.eu-central-1.amazonaws.com/train-images-idx3-ubyte.gz\n",
            "26427392/26421880 [==============================] - 4s 0us/step\n",
            "Downloading data from http://fashion-mnist.s3-website.eu-central-1.amazonaws.com/t10k-labels-idx1-ubyte.gz\n",
            "8192/5148 [===============================================] - 0s 0us/step\n",
            "Downloading data from http://fashion-mnist.s3-website.eu-central-1.amazonaws.com/t10k-images-idx3-ubyte.gz\n",
            "4423680/4422102 [==============================] - 2s 0us/step\n"
          ],
          "name": "stdout"
        }
      ]
    },
    {
      "metadata": {
        "id": "_qtn_nJr6Gtj",
        "colab_type": "text"
      },
      "cell_type": "markdown",
      "source": [
        "Autoencoders are a special type of neural network architectures in which the output is same as the input. Autoencoders are trained in an unsupervised manner in order to learn the exteremely low level repersentations of the input data. These low level features are then deformed back to project the actual data. An autoencoder is a regression task where the network is asked to predict its input (in other words, model the identity function). These networks has a tight bottleneck of a few neurons in the middle, forcing them to create effective representations that compress the input into a low-dimensional code that can be used by the decoder to reproduce the original input.\n",
        "\n",
        "A typical autoencoder architecture comprises of three main components:\n",
        "\n",
        "**Encoding Architecture :** The encoder architecture comprises of series of layers with decreasing number of nodes and ultimately reduces to a latent view repersentation.\n",
        "\n",
        "**Latent View Repersentation :** Latent view repersents the lowest level space in which the inputs are reduced and information is preserved.\n",
        "\n",
        "**Decoding Architecture :** The decoding architecture is the mirro image of the encoding architecture but in which number of nodes in every layer increases and ultimately outputs the similar (almost) input."
      ]
    },
    {
      "metadata": {
        "id": "GPaGCL_Vmei1",
        "colab_type": "code",
        "colab": {}
      },
      "cell_type": "code",
      "source": [
        "## normalize and reshape the predictors  \n",
        "x_train = x_train/255"
      ],
      "execution_count": 0,
      "outputs": []
    },
    {
      "metadata": {
        "id": "fiE6uM8D3G3-",
        "colab_type": "code",
        "colab": {}
      },
      "cell_type": "code",
      "source": [
        "## create train and validation datasets\n",
        "x_train, x_val, y_train, y_val = train_test_split(x_train, y_train, test_size=0.3)\n",
        "\n",
        "## reshape the inputs\n",
        "x_train = x_train.reshape(-1, 784)\n",
        "x_val = x_val.reshape(-1, 784)"
      ],
      "execution_count": 0,
      "outputs": []
    },
    {
      "metadata": {
        "id": "14CCWX-D5RXP",
        "colab_type": "text"
      },
      "cell_type": "markdown",
      "source": [
        "#### Create Autoencoder architecture\n",
        "\n",
        "lets create an autoencoder architecture. The encoding part comprises of three layers with 1500, 1000, and 500 nodes. Encoding architecture is connected to latent view space comprising of 10 nodes which is then connected to decoding architecture with 500, 1000, and 1500 nodes. The final layer comprises of exact number of nodes as the input layer."
      ]
    },
    {
      "metadata": {
        "id": "EN1L0GgG3aZy",
        "colab_type": "code",
        "colab": {
          "base_uri": "https://localhost:8080/",
          "height": 88
        },
        "outputId": "36c2a3ab-3b42-47b7-80bc-779dd0c80d39"
      },
      "cell_type": "code",
      "source": [
        "## input layer\n",
        "input_layer = Input(shape=(784,))\n",
        "\n",
        "## encoding architecture\n",
        "encode_layer1 = Dense(1500, activation='relu')(input_layer)\n",
        "encode_layer2 = Dense(1000, activation='relu')(encode_layer1)\n",
        "encode_layer3 = Dense(500, activation='relu')(encode_layer2)\n",
        "\n",
        "## latent view\n",
        "latent_view   = Dense(10, activation='sigmoid')(encode_layer3)\n",
        "\n",
        "## decoding architecture\n",
        "decode_layer1 = Dense(500, activation='relu')(latent_view)\n",
        "decode_layer2 = Dense(1000, activation='relu')(decode_layer1)\n",
        "decode_layer3 = Dense(1500, activation='relu')(decode_layer2)\n",
        "\n",
        "## output layer\n",
        "output_layer  = Dense(784)(decode_layer3)\n",
        "\n",
        "model = Model(input_layer, output_layer)"
      ],
      "execution_count": 4,
      "outputs": [
        {
          "output_type": "stream",
          "text": [
            "WARNING:tensorflow:From /usr/local/lib/python3.6/dist-packages/tensorflow/python/framework/op_def_library.py:263: colocate_with (from tensorflow.python.framework.ops) is deprecated and will be removed in a future version.\n",
            "Instructions for updating:\n",
            "Colocations handled automatically by placer.\n"
          ],
          "name": "stdout"
        }
      ]
    },
    {
      "metadata": {
        "id": "JJD5Dezr3iwZ",
        "colab_type": "code",
        "colab": {
          "base_uri": "https://localhost:8080/",
          "height": 442
        },
        "outputId": "83314ae7-157a-4c88-bcf9-2c276296598d"
      },
      "cell_type": "code",
      "source": [
        "model.summary()"
      ],
      "execution_count": 5,
      "outputs": [
        {
          "output_type": "stream",
          "text": [
            "_________________________________________________________________\n",
            "Layer (type)                 Output Shape              Param #   \n",
            "=================================================================\n",
            "input_1 (InputLayer)         (None, 784)               0         \n",
            "_________________________________________________________________\n",
            "dense_1 (Dense)              (None, 1500)              1177500   \n",
            "_________________________________________________________________\n",
            "dense_2 (Dense)              (None, 1000)              1501000   \n",
            "_________________________________________________________________\n",
            "dense_3 (Dense)              (None, 500)               500500    \n",
            "_________________________________________________________________\n",
            "dense_4 (Dense)              (None, 10)                5010      \n",
            "_________________________________________________________________\n",
            "dense_5 (Dense)              (None, 500)               5500      \n",
            "_________________________________________________________________\n",
            "dense_6 (Dense)              (None, 1000)              501000    \n",
            "_________________________________________________________________\n",
            "dense_7 (Dense)              (None, 1500)              1501500   \n",
            "_________________________________________________________________\n",
            "dense_8 (Dense)              (None, 784)               1176784   \n",
            "=================================================================\n",
            "Total params: 6,368,794\n",
            "Trainable params: 6,368,794\n",
            "Non-trainable params: 0\n",
            "_________________________________________________________________\n"
          ],
          "name": "stdout"
        }
      ]
    },
    {
      "metadata": {
        "id": "sN8R6Mr0naKJ",
        "colab_type": "code",
        "colab": {
          "base_uri": "https://localhost:8080/",
          "height": 802
        },
        "outputId": "ba7d0880-a28a-4650-a488-5bc6329daf20"
      },
      "cell_type": "code",
      "source": [
        "model.compile(optimizer='adam', loss='mse')\n",
        "early_stopping = EarlyStopping(monitor='val_loss', min_delta=0, patience=10, verbose=1, mode='auto')\n",
        "model.fit(x_train, x_train, epochs=20, batch_size=2048, validation_data=(x_val, x_val), callbacks=[early_stopping])"
      ],
      "execution_count": 6,
      "outputs": [
        {
          "output_type": "stream",
          "text": [
            "WARNING:tensorflow:From /usr/local/lib/python3.6/dist-packages/tensorflow/python/ops/math_ops.py:3066: to_int32 (from tensorflow.python.ops.math_ops) is deprecated and will be removed in a future version.\n",
            "Instructions for updating:\n",
            "Use tf.cast instead.\n",
            "Train on 42000 samples, validate on 18000 samples\n",
            "Epoch 1/20\n",
            "42000/42000 [==============================] - 5s 112us/step - loss: 0.0996 - val_loss: 0.0700\n",
            "Epoch 2/20\n",
            "42000/42000 [==============================] - 2s 40us/step - loss: 0.0660 - val_loss: 0.0625\n",
            "Epoch 3/20\n",
            "42000/42000 [==============================] - 2s 40us/step - loss: 0.0558 - val_loss: 0.0489\n",
            "Epoch 4/20\n",
            "42000/42000 [==============================] - 2s 40us/step - loss: 0.0448 - val_loss: 0.0416\n",
            "Epoch 5/20\n",
            "42000/42000 [==============================] - 2s 40us/step - loss: 0.0395 - val_loss: 0.0376\n",
            "Epoch 6/20\n",
            "42000/42000 [==============================] - 2s 40us/step - loss: 0.0370 - val_loss: 0.0360\n",
            "Epoch 7/20\n",
            "42000/42000 [==============================] - 2s 40us/step - loss: 0.0354 - val_loss: 0.0355\n",
            "Epoch 8/20\n",
            "42000/42000 [==============================] - 2s 40us/step - loss: 0.0328 - val_loss: 0.0313\n",
            "Epoch 9/20\n",
            "42000/42000 [==============================] - 2s 40us/step - loss: 0.0297 - val_loss: 0.0281\n",
            "Epoch 10/20\n",
            "42000/42000 [==============================] - 2s 40us/step - loss: 0.0276 - val_loss: 0.0276\n",
            "Epoch 11/20\n",
            "42000/42000 [==============================] - 2s 40us/step - loss: 0.0261 - val_loss: 0.0252\n",
            "Epoch 12/20\n",
            "42000/42000 [==============================] - 2s 40us/step - loss: 0.0247 - val_loss: 0.0242\n",
            "Epoch 13/20\n",
            "42000/42000 [==============================] - 2s 39us/step - loss: 0.0240 - val_loss: 0.0234\n",
            "Epoch 14/20\n",
            "42000/42000 [==============================] - 2s 40us/step - loss: 0.0234 - val_loss: 0.0230\n",
            "Epoch 15/20\n",
            "42000/42000 [==============================] - 2s 40us/step - loss: 0.0225 - val_loss: 0.0221\n",
            "Epoch 16/20\n",
            "42000/42000 [==============================] - 2s 40us/step - loss: 0.0221 - val_loss: 0.0232\n",
            "Epoch 17/20\n",
            "42000/42000 [==============================] - 2s 40us/step - loss: 0.0217 - val_loss: 0.0212\n",
            "Epoch 18/20\n",
            "42000/42000 [==============================] - 2s 39us/step - loss: 0.0210 - val_loss: 0.0207\n",
            "Epoch 19/20\n",
            "42000/42000 [==============================] - 2s 40us/step - loss: 0.0207 - val_loss: 0.0203\n",
            "Epoch 20/20\n",
            "42000/42000 [==============================] - 2s 40us/step - loss: 0.0201 - val_loss: 0.0202\n"
          ],
          "name": "stdout"
        },
        {
          "output_type": "execute_result",
          "data": {
            "text/plain": [
              "<keras.callbacks.History at 0x7f3919795e48>"
            ]
          },
          "metadata": {
            "tags": []
          },
          "execution_count": 6
        }
      ]
    },
    {
      "metadata": {
        "id": "DzSidHHZ5GJG",
        "colab_type": "text"
      },
      "cell_type": "markdown",
      "source": [
        "Generate the predictions on validation data."
      ]
    },
    {
      "metadata": {
        "id": "X0bB0Nqa4DL5",
        "colab_type": "code",
        "colab": {}
      },
      "cell_type": "code",
      "source": [
        "preds = model.predict(x_val)"
      ],
      "execution_count": 0,
      "outputs": []
    },
    {
      "metadata": {
        "id": "4moH1wBJ4iKN",
        "colab_type": "text"
      },
      "cell_type": "markdown",
      "source": [
        "#### Inputs: Actual Images"
      ]
    },
    {
      "metadata": {
        "id": "nwiuaDrC4JxX",
        "colab_type": "code",
        "colab": {
          "base_uri": "https://localhost:8080/",
          "height": 241
        },
        "outputId": "27925908-3372-4fda-9cd0-ad96618a9ae9"
      },
      "cell_type": "code",
      "source": [
        "from PIL import Image \n",
        "f, ax = plt.subplots(1,5)\n",
        "f.set_size_inches(20, 10)\n",
        "for i in range(5):\n",
        "    ax[i].imshow(x_val[i].reshape(28, 28))\n",
        "plt.show()"
      ],
      "execution_count": 10,
      "outputs": [
        {
          "output_type": "display_data",
          "data": {
            "image/png": "[encoded data removed]",
            "text/plain": [
              "<Figure size 1440x720 with 5 Axes>"
            ]
          },
          "metadata": {
            "tags": []
          }
        }
      ]
    },
    {
      "metadata": {
        "id": "8SesHLw_4oSJ",
        "colab_type": "text"
      },
      "cell_type": "markdown",
      "source": [
        "#### Predicted : Autoencoder Output"
      ]
    },
    {
      "metadata": {
        "id": "j0UnC8PQ4ZTP",
        "colab_type": "code",
        "colab": {
          "base_uri": "https://localhost:8080/",
          "height": 241
        },
        "outputId": "c077133c-f953-4634-cfee-852370f55011"
      },
      "cell_type": "code",
      "source": [
        "f, ax = plt.subplots(1,5)\n",
        "f.set_size_inches(20, 10)\n",
        "for i in range(5):\n",
        "    ax[i].imshow(preds[i].reshape(28, 28))\n",
        "plt.show()"
      ],
      "execution_count": 11,
      "outputs": [
        {
          "output_type": "display_data",
          "data": {
            "image/png": "[encoded data removed]",
            "text/plain": [
              "<Figure size 1440x720 with 5 Axes>"
            ]
          },
          "metadata": {
            "tags": []
          }
        }
      ]
    },
    {
      "metadata": {
        "id": "GEoQOonk5Awm",
        "colab_type": "text"
      },
      "cell_type": "markdown",
      "source": [
        "So we can see that an autoencoder trained with 20 epoochs is able to reconstruct the input images very well. Lets look at other use-case of autoencoders - Image denoising or removal of noise from the image."
      ]
    }
  ]
}