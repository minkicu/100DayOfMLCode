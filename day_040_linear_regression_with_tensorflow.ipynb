{
  "nbformat": 4,
  "nbformat_minor": 0,
  "metadata": {
    "colab": {
      "name": "day_040_linear_regression_with_tensorflow.ipynb",
      "version": "0.3.2",
      "provenance": [],
      "collapsed_sections": [],
      "include_colab_link": true
    },
    "kernelspec": {
      "name": "python3",
      "display_name": "Python 3"
    }
  },
  "cells": [
    {
      "cell_type": "markdown",
      "metadata": {
        "id": "view-in-github",
        "colab_type": "text"
      },
      "source": [
        "<a href=\"https://colab.research.google.com/github/rkrissada/100DayOfMLCode/blob/master/day_040_linear_regression_with_tensorflow.ipynb\" target=\"_parent\"><img src=\"https://colab.research.google.com/assets/colab-badge.svg\" alt=\"Open In Colab\"/></a>"
      ]
    },
    {
      "metadata": {
        "id": "GD92V2PCTw7b",
        "colab_type": "code",
        "colab": {}
      },
      "cell_type": "code",
      "source": [
        "import numpy as np \n",
        "import tensorflow as tf \n",
        "import matplotlib.pyplot as plt "
      ],
      "execution_count": 0,
      "outputs": []
    },
    {
      "metadata": {
        "id": "1x4ylhPFT-US",
        "colab_type": "code",
        "colab": {}
      },
      "cell_type": "code",
      "source": [
        "np.random.seed(101) \n",
        "tf.set_random_seed(101) "
      ],
      "execution_count": 0,
      "outputs": []
    },
    {
      "metadata": {
        "id": "eWrc6RPNT0Ls",
        "colab_type": "code",
        "colab": {}
      },
      "cell_type": "code",
      "source": [
        "# Genrating random linear data \n",
        "# There will be 50 data points ranging from 0 to 50 \n",
        "x = np.linspace(0, 50, 50) \n",
        "y = np.linspace(0, 50, 50) \n",
        "  \n",
        "# Adding noise to the random linear data \n",
        "x += np.random.uniform(-4, 4, 50) \n",
        "y += np.random.uniform(-4, 4, 50) \n",
        "  \n",
        "n = len(x) # Number of data points "
      ],
      "execution_count": 0,
      "outputs": []
    },
    {
      "metadata": {
        "id": "UBl3bn_0VfIR",
        "colab_type": "code",
        "colab": {
          "base_uri": "https://localhost:8080/",
          "height": 376
        },
        "outputId": "7cae82ef-edf3-4a03-b7ac-616b7276582b"
      },
      "cell_type": "code",
      "source": [
        "# Plot of Training Data \n",
        "plt.scatter(x, y) \n",
        "plt.xlabel('x') \n",
        "plt.xlabel('y') \n",
        "plt.title(\"Training Data\") \n",
        "plt.show() "
      ],
      "execution_count": 4,
      "outputs": [
        {
          "output_type": "display_data",
          "data": {
            "image/png": "[encoded data removed]",
            "text/plain": [
              "<Figure size 576x396 with 1 Axes>"
            ]
          },
          "metadata": {
            "tags": []
          }
        }
      ]
    },
    {
      "metadata": {
        "id": "E4817pBQVmeJ",
        "colab_type": "code",
        "colab": {}
      },
      "cell_type": "code",
      "source": [
        "X = tf.placeholder(\"float\") \n",
        "Y = tf.placeholder(\"float\") "
      ],
      "execution_count": 0,
      "outputs": []
    },
    {
      "metadata": {
        "id": "dU47CqypWE3L",
        "colab_type": "code",
        "colab": {
          "base_uri": "https://localhost:8080/",
          "height": 88
        },
        "outputId": "9acee9e1-24ab-4c7e-bd87-feda02c4d8e7"
      },
      "cell_type": "code",
      "source": [
        "W = tf.Variable(np.random.randn(), name = \"W\") \n",
        "b = tf.Variable(np.random.randn(), name = \"b\") "
      ],
      "execution_count": 6,
      "outputs": [
        {
          "output_type": "stream",
          "text": [
            "WARNING:tensorflow:From /usr/local/lib/python3.6/dist-packages/tensorflow/python/framework/op_def_library.py:263: colocate_with (from tensorflow.python.framework.ops) is deprecated and will be removed in a future version.\n",
            "Instructions for updating:\n",
            "Colocations handled automatically by placer.\n"
          ],
          "name": "stdout"
        }
      ]
    },
    {
      "metadata": {
        "id": "Pc7pbBGdZcpz",
        "colab_type": "code",
        "colab": {}
      },
      "cell_type": "code",
      "source": [
        "learning_rate = 0.01\n",
        "training_epochs = 1000"
      ],
      "execution_count": 0,
      "outputs": []
    },
    {
      "metadata": {
        "id": "XnJT4L4JZd39",
        "colab_type": "code",
        "colab": {
          "base_uri": "https://localhost:8080/",
          "height": 88
        },
        "outputId": "dfe0f40c-af14-451f-a32e-7950c4b1fdc4"
      },
      "cell_type": "code",
      "source": [
        "# Hypothesis \n",
        "y_pred = tf.add(tf.multiply(X, W), b) \n",
        "  \n",
        "# Mean Squared Error Cost Function \n",
        "cost = tf.reduce_sum(tf.pow(y_pred-Y, 2)) / (2 * n) \n",
        "  \n",
        "# Gradient Descent Optimizer \n",
        "optimizer = tf.train.GradientDescentOptimizer(learning_rate).minimize(cost) \n",
        "  \n",
        "# Global Variables Initializer \n",
        "init = tf.global_variables_initializer() "
      ],
      "execution_count": 8,
      "outputs": [
        {
          "output_type": "stream",
          "text": [
            "WARNING:tensorflow:From /usr/local/lib/python3.6/dist-packages/tensorflow/python/ops/math_ops.py:3066: to_int32 (from tensorflow.python.ops.math_ops) is deprecated and will be removed in a future version.\n",
            "Instructions for updating:\n",
            "Use tf.cast instead.\n"
          ],
          "name": "stdout"
        }
      ]
    },
    {
      "metadata": {
        "id": "d_xomnx3Zhvr",
        "colab_type": "code",
        "colab": {
          "base_uri": "https://localhost:8080/",
          "height": 357
        },
        "outputId": "f332ee3f-ebc5-4960-9f65-e3451f4b289e"
      },
      "cell_type": "code",
      "source": [
        "# Starting the Tensorflow Session \n",
        "with tf.Session() as sess: \n",
        "      \n",
        "    # Initializing the Variables \n",
        "    sess.run(init) \n",
        "      \n",
        "    # Iterating through all the epochs \n",
        "    for epoch in range(training_epochs): \n",
        "          \n",
        "        # Feeding each data point into the optimizer using Feed Dictionary \n",
        "        for (_x, _y) in zip(x, y): \n",
        "            sess.run(optimizer, feed_dict = {X : _x, Y : _y}) \n",
        "          \n",
        "        # Displaying the result after every 50 epochs \n",
        "        if (epoch + 1) % 50 == 0: \n",
        "            # Calculating the cost a every epoch \n",
        "            c = sess.run(cost, feed_dict = {X : x, Y : y}) \n",
        "            print(\"Epoch\", (epoch + 1), \": cost =\", c, \"W =\", sess.run(W), \"b =\", sess.run(b)) \n",
        "      \n",
        "    # Storing necessary values to be used outside the Session \n",
        "    training_cost = sess.run(cost, feed_dict ={X: x, Y: y}) \n",
        "    weight = sess.run(W) \n",
        "    bias = sess.run(b) "
      ],
      "execution_count": 9,
      "outputs": [
        {
          "output_type": "stream",
          "text": [
            "Epoch 50 : cost = 5.886804 W = 0.9951241 b = 1.2381054\n",
            "Epoch 100 : cost = 5.7912707 W = 0.99812365 b = 1.0914398\n",
            "Epoch 150 : cost = 5.7119684 W = 1.0008028 b = 0.96044314\n",
            "Epoch 200 : cost = 5.6459413 W = 1.0031956 b = 0.8434396\n",
            "Epoch 250 : cost = 5.5907993 W = 1.0053328 b = 0.73893565\n",
            "Epoch 300 : cost = 5.544605 W = 1.0072418 b = 0.6455924\n",
            "Epoch 350 : cost = 5.5057893 W = 1.008947 b = 0.56222016\n",
            "Epoch 400 : cost = 5.473066 W = 1.01047 b = 0.48775372\n",
            "Epoch 450 : cost = 5.445385 W = 1.0118302 b = 0.42124188\n",
            "Epoch 500 : cost = 5.4219036 W = 1.0130452 b = 0.36183503\n",
            "Epoch 550 : cost = 5.4019217 W = 1.0141305 b = 0.3087744\n",
            "Epoch 600 : cost = 5.3848577 W = 1.0150996 b = 0.26138142\n",
            "Epoch 650 : cost = 5.370246 W = 1.0159653 b = 0.21905117\n",
            "Epoch 700 : cost = 5.3576994 W = 1.0167387 b = 0.18124233\n",
            "Epoch 750 : cost = 5.346891 W = 1.0174292 b = 0.14747268\n",
            "Epoch 800 : cost = 5.337558 W = 1.0180461 b = 0.11730959\n",
            "Epoch 850 : cost = 5.3294754 W = 1.0185971 b = 0.09036876\n",
            "Epoch 900 : cost = 5.322459 W = 1.0190892 b = 0.06630599\n",
            "Epoch 950 : cost = 5.3163586 W = 1.0195289 b = 0.044813465\n",
            "Epoch 1000 : cost = 5.3110337 W = 1.0199214 b = 0.02561676\n"
          ],
          "name": "stdout"
        }
      ]
    },
    {
      "metadata": {
        "id": "4GMRxoyaVygE",
        "colab_type": "code",
        "colab": {
          "base_uri": "https://localhost:8080/",
          "height": 51
        },
        "outputId": "a2cd4075-e87e-4ecc-a6f2-d69ab1cf6f4d"
      },
      "cell_type": "code",
      "source": [
        "# Calculating the predictions \n",
        "predictions = weight * x + bias \n",
        "print(\"Training cost =\", training_cost, \"Weight =\", weight, \"bias =\", bias, '\\n') \n"
      ],
      "execution_count": 10,
      "outputs": [
        {
          "output_type": "stream",
          "text": [
            "Training cost = 5.3110337 Weight = 1.0199214 bias = 0.02561676 \n",
            "\n"
          ],
          "name": "stdout"
        }
      ]
    },
    {
      "metadata": {
        "id": "qiIQrnu4WM8i",
        "colab_type": "code",
        "colab": {
          "base_uri": "https://localhost:8080/",
          "height": 362
        },
        "outputId": "685c1ed7-863b-4908-c3c7-9e9fa0054fea"
      },
      "cell_type": "code",
      "source": [
        "# Plotting the Results \n",
        "plt.plot(x, y, 'ro', label ='Original data') \n",
        "plt.plot(x, predictions, label ='Fitted line') \n",
        "plt.title('Linear Regression Result') \n",
        "plt.legend() \n",
        "plt.show() "
      ],
      "execution_count": 11,
      "outputs": [
        {
          "output_type": "display_data",
          "data": {
            "image/png": "[encoded data removed]",
            "text/plain": [
              "<Figure size 576x396 with 1 Axes>"
            ]
          },
          "metadata": {
            "tags": []
          }
        }
      ]
    }
  ]
}