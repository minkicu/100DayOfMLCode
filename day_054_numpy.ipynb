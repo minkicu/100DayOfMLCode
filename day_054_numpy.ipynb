{
  "nbformat": 4,
  "nbformat_minor": 0,
  "metadata": {
    "colab": {
      "name": "day_054_numpy.ipynb",
      "version": "0.3.2",
      "provenance": [],
      "include_colab_link": true
    },
    "kernelspec": {
      "display_name": "Python 3",
      "language": "python",
      "name": "python3"
    }
  },
  "cells": [
    {
      "cell_type": "markdown",
      "metadata": {
        "id": "view-in-github",
        "colab_type": "text"
      },
      "source": [
        "<a href=\"https://colab.research.google.com/github/rkrissada/100DayOfMLCode/blob/master/day_054_numpy.ipynb\" target=\"_parent\"><img src=\"https://colab.research.google.com/assets/colab-badge.svg\" alt=\"Open In Colab\"/></a>"
      ]
    },
    {
      "metadata": {
        "id": "cJum3PTX6W9X",
        "colab_type": "text"
      },
      "cell_type": "markdown",
      "source": [
        "<p style=\"font-family: Arial; font-size:3.75em;color:purple; font-style:bold\"><br>\n",
        "Introduction to numpy:\n",
        "</p><br>\n",
        "\n",
        "<p style=\"font-family: Arial; font-size:1.25em;color:#2462C0; font-style:bold\"><br>\n",
        "Package for scientific computing with Python\n",
        "</p><br>\n",
        "\n",
        "Numerical Python, or \"Numpy\" for short, is a foundational package on which many of the most common data science packages are built.  Numpy provides us with high performance multi-dimensional arrays which we can use as vectors or matrices.  \n",
        "\n",
        "The key features of numpy are:\n",
        "\n",
        "- ndarrays: n-dimensional arrays of the same data type which are fast and space-efficient.  There are a number of built-in methods for ndarrays which allow for rapid processing of data without using loops (e.g., compute the mean).\n",
        "- Broadcasting: a useful tool which defines implicit behavior between multi-dimensional arrays of different sizes.\n",
        "- Vectorization: enables numeric operations on ndarrays.\n",
        "- Input/Output: simplifies reading and writing of data from/to file.\n",
        "\n",
        "<b>Additional Recommended Resources:</b><br>\n",
        "<a href=\"https://docs.scipy.org/doc/numpy/reference/\">Numpy Documentation</a><br>\n",
        "<i>Python for Data Analysis</i> by Wes McKinney<br>\n",
        "<i>Python Data science Handbook</i> by Jake VanderPlas\n",
        "\n"
      ]
    },
    {
      "metadata": {
        "id": "eGTGM0fl6W9Z",
        "colab_type": "text"
      },
      "cell_type": "markdown",
      "source": [
        "<p style=\"font-family: Arial; font-size:2.75em;color:purple; font-style:bold\"><br>\n",
        "\n",
        "Getting started with ndarray<br><br></p>\n",
        "\n",
        "**ndarrays** are time and space-efficient multidimensional arrays at the core of numpy.  Like the data structures in Week 2, let's get started by creating ndarrays using the numpy package."
      ]
    },
    {
      "metadata": {
        "id": "e1ht118y6W9a",
        "colab_type": "text"
      },
      "cell_type": "markdown",
      "source": [
        "<p style=\"font-family: Arial; font-size:1.75em;color:#2462C0; font-style:bold\"><br>\n",
        "\n",
        "How to create Rank 1 numpy arrays:\n",
        "</p>"
      ]
    },
    {
      "metadata": {
        "id": "gI3f6IQ16W9a",
        "colab_type": "code",
        "colab": {
          "base_uri": "https://localhost:8080/",
          "height": 34
        },
        "outputId": "9b0517c0-da24-4b80-d578-d35523f90565"
      },
      "cell_type": "code",
      "source": [
        "import numpy as np\n",
        "\n",
        "an_array = np.array([3, 33, 333])  # Create a rank 1 array\n",
        "\n",
        "print(type(an_array))              # The type of an ndarray is: \"<class 'numpy.ndarray'>\""
      ],
      "execution_count": 1,
      "outputs": [
        {
          "output_type": "stream",
          "text": [
            "<class 'numpy.ndarray'>\n"
          ],
          "name": "stdout"
        }
      ]
    },
    {
      "metadata": {
        "id": "fv2zkGzD6W9g",
        "colab_type": "code",
        "colab": {
          "base_uri": "https://localhost:8080/",
          "height": 34
        },
        "outputId": "0f5d41cf-7cc7-4363-d4e7-db666d050fdd"
      },
      "cell_type": "code",
      "source": [
        "# test the shape of the array we just created, it should have just one dimension (Rank 1)\n",
        "print(an_array.shape)"
      ],
      "execution_count": 2,
      "outputs": [
        {
          "output_type": "stream",
          "text": [
            "(3,)\n"
          ],
          "name": "stdout"
        }
      ]
    },
    {
      "metadata": {
        "id": "Qa0qH33q6W9j",
        "colab_type": "code",
        "colab": {
          "base_uri": "https://localhost:8080/",
          "height": 34
        },
        "outputId": "d7801b5b-3fad-4777-9838-d02a693c80b5"
      },
      "cell_type": "code",
      "source": [
        "# because this is a 1-rank array, we need only one index to accesss each element\n",
        "print(an_array[0], an_array[1], an_array[2]) "
      ],
      "execution_count": 3,
      "outputs": [
        {
          "output_type": "stream",
          "text": [
            "3 33 333\n"
          ],
          "name": "stdout"
        }
      ]
    },
    {
      "metadata": {
        "id": "wY7NHtXZ6W9l",
        "colab_type": "code",
        "colab": {
          "base_uri": "https://localhost:8080/",
          "height": 34
        },
        "outputId": "503f3ee4-684f-4b8c-f70d-b97d93a1776c"
      },
      "cell_type": "code",
      "source": [
        "an_array[0] =888            # ndarrays are mutable, here we change an element of the array\n",
        "\n",
        "print(an_array)"
      ],
      "execution_count": 4,
      "outputs": [
        {
          "output_type": "stream",
          "text": [
            "[888  33 333]\n"
          ],
          "name": "stdout"
        }
      ]
    },
    {
      "metadata": {
        "id": "kld-U-IH6W9n",
        "colab_type": "text"
      },
      "cell_type": "markdown",
      "source": [
        "<p style=\"font-family: Arial; font-size:1.75em;color:#2462C0; font-style:bold\"><br>\n",
        "\n",
        "How to create a Rank 2 numpy array:</p>\n",
        "\n",
        "A rank 2 **ndarray** is one with two dimensions.  Notice the format below of [ [row] , [row] ].  2 dimensional arrays are great for representing matrices which are often useful in data science."
      ]
    },
    {
      "metadata": {
        "id": "E3I8euQs6W9o",
        "colab_type": "code",
        "colab": {
          "base_uri": "https://localhost:8080/",
          "height": 85
        },
        "outputId": "69e65981-d4e9-4cda-d819-b7d6a90ece41"
      },
      "cell_type": "code",
      "source": [
        "another = np.array([[11,12,13],[21,22,23]])   # Create a rank 2 array\n",
        "\n",
        "print(another)  # print the array\n",
        "\n",
        "print(\"The shape is 2 rows, 3 columns: \", another.shape)  # rows x columns                   \n",
        "\n",
        "print(\"Accessing elements [0,0], [0,1], and [1,0] of the ndarray: \", another[0, 0], \", \",another[0, 1],\", \", another[1, 0])"
      ],
      "execution_count": 5,
      "outputs": [
        {
          "output_type": "stream",
          "text": [
            "[[11 12 13]\n",
            " [21 22 23]]\n",
            "The shape is 2 rows, 3 columns:  (2, 3)\n",
            "Accessing elements [0,0], [0,1], and [1,0] of the ndarray:  11 ,  12 ,  21\n"
          ],
          "name": "stdout"
        }
      ]
    },
    {
      "metadata": {
        "id": "txQU3vMS6W9r",
        "colab_type": "text"
      },
      "cell_type": "markdown",
      "source": [
        "<p style=\"font-family: Arial; font-size:1.75em;color:#2462C0; font-style:bold\"><br>\n",
        "\n",
        "There are many way to create numpy arrays:\n",
        "</p>\n",
        "\n",
        "Here we create a number of different size arrays with different shapes and different pre-filled values.  numpy has a number of built in methods which help us quickly and easily create multidimensional arrays."
      ]
    },
    {
      "metadata": {
        "id": "e1phJctz6W9s",
        "colab_type": "code",
        "colab": {
          "base_uri": "https://localhost:8080/",
          "height": 51
        },
        "outputId": "1e86786a-a9b0-47d6-c664-90eb5023f745"
      },
      "cell_type": "code",
      "source": [
        "import numpy as np\n",
        "\n",
        "# create a 2x2 array of zeros\n",
        "ex1 = np.zeros((2,2))      \n",
        "print(ex1)                              "
      ],
      "execution_count": 6,
      "outputs": [
        {
          "output_type": "stream",
          "text": [
            "[[0. 0.]\n",
            " [0. 0.]]\n"
          ],
          "name": "stdout"
        }
      ]
    },
    {
      "metadata": {
        "id": "kHFhINj16W90",
        "colab_type": "code",
        "colab": {
          "base_uri": "https://localhost:8080/",
          "height": 51
        },
        "outputId": "ddedc810-7b49-459c-8f8b-08da5c4c648b"
      },
      "cell_type": "code",
      "source": [
        "# create a 2x2 array filled with 9.0\n",
        "ex2 = np.full((2,2), 9.0)  \n",
        "print(ex2)   "
      ],
      "execution_count": 7,
      "outputs": [
        {
          "output_type": "stream",
          "text": [
            "[[9. 9.]\n",
            " [9. 9.]]\n"
          ],
          "name": "stdout"
        }
      ]
    },
    {
      "metadata": {
        "id": "zFBOQN466W94",
        "colab_type": "code",
        "colab": {
          "base_uri": "https://localhost:8080/",
          "height": 51
        },
        "outputId": "40df2b60-aa7b-429d-b062-e64d8e38f46d"
      },
      "cell_type": "code",
      "source": [
        "# create a 2x2 matrix with the diagonal 1s and the others 0\n",
        "ex3 = np.eye(2,2)\n",
        "print(ex3)  "
      ],
      "execution_count": 8,
      "outputs": [
        {
          "output_type": "stream",
          "text": [
            "[[1. 0.]\n",
            " [0. 1.]]\n"
          ],
          "name": "stdout"
        }
      ]
    },
    {
      "metadata": {
        "id": "PrOoAqfq6W97",
        "colab_type": "code",
        "colab": {
          "base_uri": "https://localhost:8080/",
          "height": 34
        },
        "outputId": "86332385-194a-4e28-c486-e06f09775000"
      },
      "cell_type": "code",
      "source": [
        "# create an array of ones\n",
        "ex4 = np.ones((1,2))\n",
        "print(ex4)    "
      ],
      "execution_count": 9,
      "outputs": [
        {
          "output_type": "stream",
          "text": [
            "[[1. 1.]]\n"
          ],
          "name": "stdout"
        }
      ]
    },
    {
      "metadata": {
        "id": "TPSTCgdj6W99",
        "colab_type": "code",
        "colab": {
          "base_uri": "https://localhost:8080/",
          "height": 68
        },
        "outputId": "b4dc1f60-4245-4b8b-8ca5-9924c594f254"
      },
      "cell_type": "code",
      "source": [
        "# notice that the above ndarray (ex4) is actually rank 2, it is a 2x1 array\n",
        "print(ex4.shape)\n",
        "\n",
        "# which means we need to use two indexes to access an element\n",
        "print()\n",
        "print(ex4[0,1])"
      ],
      "execution_count": 10,
      "outputs": [
        {
          "output_type": "stream",
          "text": [
            "(1, 2)\n",
            "\n",
            "1.0\n"
          ],
          "name": "stdout"
        }
      ]
    },
    {
      "metadata": {
        "id": "BIZv3UGl6W9_",
        "colab_type": "code",
        "colab": {
          "base_uri": "https://localhost:8080/",
          "height": 51
        },
        "outputId": "50b6515a-f476-4bd8-e54a-df037cef0121"
      },
      "cell_type": "code",
      "source": [
        "# create an array of random floats between 0 and 1\n",
        "ex5 = np.random.random((2,2))\n",
        "print(ex5)    "
      ],
      "execution_count": 11,
      "outputs": [
        {
          "output_type": "stream",
          "text": [
            "[[0.3695195  0.32635636]\n",
            " [0.14416103 0.31021625]]\n"
          ],
          "name": "stdout"
        }
      ]
    },
    {
      "metadata": {
        "id": "lUUDQMhn6W-B",
        "colab_type": "text"
      },
      "cell_type": "markdown",
      "source": [
        "<p style=\"font-family: Arial; font-size:2.75em;color:purple; font-style:bold\"><br>\n",
        "\n",
        "Array Indexing\n",
        "<br><br></p>"
      ]
    },
    {
      "metadata": {
        "id": "VaGJTfqH6W-B",
        "colab_type": "text"
      },
      "cell_type": "markdown",
      "source": [
        "<p style=\"font-family: Arial; font-size:1.75em;color:#2462C0; font-style:bold\"><br>\n",
        "Slice indexing:\n",
        "</p>\n",
        "\n",
        "Similar to the use of slice indexing with lists and strings, we can use slice indexing to pull out sub-regions of ndarrays."
      ]
    },
    {
      "metadata": {
        "id": "88yyYaCC6W-C",
        "colab_type": "code",
        "colab": {
          "base_uri": "https://localhost:8080/",
          "height": 68
        },
        "outputId": "25a5213a-b2a9-42c6-9ad6-749fcba91d77"
      },
      "cell_type": "code",
      "source": [
        "import numpy as np\n",
        "\n",
        "# Rank 2 array of shape (3, 4)\n",
        "an_array = np.array([[11,12,13,14], [21,22,23,24], [31,32,33,34]])\n",
        "print(an_array)"
      ],
      "execution_count": 12,
      "outputs": [
        {
          "output_type": "stream",
          "text": [
            "[[11 12 13 14]\n",
            " [21 22 23 24]\n",
            " [31 32 33 34]]\n"
          ],
          "name": "stdout"
        }
      ]
    },
    {
      "metadata": {
        "id": "P3QKiGg16W-F",
        "colab_type": "text"
      },
      "cell_type": "markdown",
      "source": [
        "Use array slicing to get a subarray consisting of the first 2 rows x 2 columns."
      ]
    },
    {
      "metadata": {
        "id": "-pUJ6iJ86W-G",
        "colab_type": "code",
        "colab": {
          "base_uri": "https://localhost:8080/",
          "height": 51
        },
        "outputId": "30b029ed-2234-47df-e8ee-c8a4fbd195c9"
      },
      "cell_type": "code",
      "source": [
        "a_slice = an_array[:2, 1:3]\n",
        "print(a_slice)"
      ],
      "execution_count": 13,
      "outputs": [
        {
          "output_type": "stream",
          "text": [
            "[[12 13]\n",
            " [22 23]]\n"
          ],
          "name": "stdout"
        }
      ]
    },
    {
      "metadata": {
        "id": "_1POuaOp6W-I",
        "colab_type": "text"
      },
      "cell_type": "markdown",
      "source": [
        "When you modify a slice, you actually modify the underlying array."
      ]
    },
    {
      "metadata": {
        "id": "ndDqfhtg6W-J",
        "colab_type": "code",
        "colab": {
          "base_uri": "https://localhost:8080/",
          "height": 51
        },
        "outputId": "4fe8b533-60c6-409d-cf18-a70eb2703c73"
      },
      "cell_type": "code",
      "source": [
        "print(\"Before:\", an_array[0, 1])   #inspect the element at 0, 1  \n",
        "a_slice[0, 0] = 1000    # a_slice[0, 0] is the same piece of data as an_array[0, 1]\n",
        "print(\"After:\", an_array[0, 1])    "
      ],
      "execution_count": 14,
      "outputs": [
        {
          "output_type": "stream",
          "text": [
            "Before: 12\n",
            "After: 1000\n"
          ],
          "name": "stdout"
        }
      ]
    },
    {
      "metadata": {
        "id": "suLPzlUx6W-O",
        "colab_type": "text"
      },
      "cell_type": "markdown",
      "source": [
        "<p style=\"font-family: Arial; font-size:1.75em;color:#2462C0; font-style:bold\"><br>\n",
        "\n",
        "Use both integer indexing & slice indexing\n",
        "</p>\n",
        "\n",
        "We can use combinations of integer indexing and slice indexing to create different shaped matrices."
      ]
    },
    {
      "metadata": {
        "id": "cIF-zBKA6W-P",
        "colab_type": "code",
        "colab": {
          "base_uri": "https://localhost:8080/",
          "height": 68
        },
        "outputId": "ae50b94e-5b29-4197-e132-f74629000edd"
      },
      "cell_type": "code",
      "source": [
        "# Create a Rank 2 array of shape (3, 4)\n",
        "an_array = np.array([[11,12,13,14], [21,22,23,24], [31,32,33,34]])\n",
        "print(an_array)"
      ],
      "execution_count": 15,
      "outputs": [
        {
          "output_type": "stream",
          "text": [
            "[[11 12 13 14]\n",
            " [21 22 23 24]\n",
            " [31 32 33 34]]\n"
          ],
          "name": "stdout"
        }
      ]
    },
    {
      "metadata": {
        "id": "x5fg-k9x6W-U",
        "colab_type": "code",
        "colab": {
          "base_uri": "https://localhost:8080/",
          "height": 34
        },
        "outputId": "9677322b-e794-4963-f196-6cf7c13cf531"
      },
      "cell_type": "code",
      "source": [
        "# Using both integer indexing & slicing generates an array of lower rank\n",
        "row_rank1 = an_array[1, :]    # Rank 1 view \n",
        "\n",
        "print(row_rank1, row_rank1.shape)  # notice only a single []"
      ],
      "execution_count": 16,
      "outputs": [
        {
          "output_type": "stream",
          "text": [
            "[21 22 23 24] (4,)\n"
          ],
          "name": "stdout"
        }
      ]
    },
    {
      "metadata": {
        "id": "QrNAzgTV6W-W",
        "colab_type": "code",
        "colab": {
          "base_uri": "https://localhost:8080/",
          "height": 34
        },
        "outputId": "93cc7fb0-4d8d-4a00-c9ff-89cefb0150fa"
      },
      "cell_type": "code",
      "source": [
        "# Slicing alone: generates an array of the same rank as the an_array\n",
        "row_rank2 = an_array[1:2, :]  # Rank 2 view \n",
        "\n",
        "print(row_rank2, row_rank2.shape)   # Notice the [[ ]]"
      ],
      "execution_count": 17,
      "outputs": [
        {
          "output_type": "stream",
          "text": [
            "[[21 22 23 24]] (1, 4)\n"
          ],
          "name": "stdout"
        }
      ]
    },
    {
      "metadata": {
        "id": "JWNFisrT6W-Y",
        "colab_type": "code",
        "colab": {
          "base_uri": "https://localhost:8080/",
          "height": 119
        },
        "outputId": "4c4ce89e-f176-494b-b3bd-ca4327bd58fa"
      },
      "cell_type": "code",
      "source": [
        "#We can do the same thing for columns of an array:\n",
        "\n",
        "print()\n",
        "col_rank1 = an_array[:, 1]\n",
        "col_rank2 = an_array[:, 1:2]\n",
        "\n",
        "print(col_rank1, col_rank1.shape)  # Rank 1\n",
        "print()\n",
        "print(col_rank2, col_rank2.shape)  # Rank 2"
      ],
      "execution_count": 18,
      "outputs": [
        {
          "output_type": "stream",
          "text": [
            "\n",
            "[12 22 32] (3,)\n",
            "\n",
            "[[12]\n",
            " [22]\n",
            " [32]] (3, 1)\n"
          ],
          "name": "stdout"
        }
      ]
    },
    {
      "metadata": {
        "id": "RdxUcIPv6W-b",
        "colab_type": "text"
      },
      "cell_type": "markdown",
      "source": [
        "<p style=\"font-family: Arial; font-size:1.75em;color:#2462C0; font-style:bold\"><br>\n",
        "\n",
        "Array Indexing for changing elements:\n",
        "</p>"
      ]
    },
    {
      "metadata": {
        "id": "0xo76dEq6W-b",
        "colab_type": "text"
      },
      "cell_type": "markdown",
      "source": [
        "Sometimes it's useful to use an array of indexes to access or change elements."
      ]
    },
    {
      "metadata": {
        "id": "FmCayfW26W-d",
        "colab_type": "code",
        "colab": {
          "base_uri": "https://localhost:8080/",
          "height": 102
        },
        "outputId": "019f9f2a-62c2-49f4-f7cf-1a06cf285094"
      },
      "cell_type": "code",
      "source": [
        "# Create a new array\n",
        "an_array = np.array([[11,12,13], [21,22,23], [31,32,33], [41,42,43]])\n",
        "\n",
        "print('Original Array:')\n",
        "print(an_array)"
      ],
      "execution_count": 19,
      "outputs": [
        {
          "output_type": "stream",
          "text": [
            "Original Array:\n",
            "[[11 12 13]\n",
            " [21 22 23]\n",
            " [31 32 33]\n",
            " [41 42 43]]\n"
          ],
          "name": "stdout"
        }
      ]
    },
    {
      "metadata": {
        "id": "TvOEAUSS6W-f",
        "colab_type": "code",
        "colab": {
          "base_uri": "https://localhost:8080/",
          "height": 85
        },
        "outputId": "11e65356-4fbe-4c94-e23d-d585c7b789fe"
      },
      "cell_type": "code",
      "source": [
        "# Create an array of indices\n",
        "col_indices = np.array([0, 1, 2, 0])\n",
        "print('\\nCol indices picked : ', col_indices)\n",
        "\n",
        "row_indices = np.arange(4)\n",
        "print('\\nRows indices picked : ', row_indices)"
      ],
      "execution_count": 20,
      "outputs": [
        {
          "output_type": "stream",
          "text": [
            "\n",
            "Col indices picked :  [0 1 2 0]\n",
            "\n",
            "Rows indices picked :  [0 1 2 3]\n"
          ],
          "name": "stdout"
        }
      ]
    },
    {
      "metadata": {
        "id": "BzWyEb3i6W-h",
        "colab_type": "code",
        "colab": {
          "base_uri": "https://localhost:8080/",
          "height": 85
        },
        "outputId": "9f22d347-0fe8-4ba4-a71b-070ec8420f03"
      },
      "cell_type": "code",
      "source": [
        "# Examine the pairings of row_indices and col_indices.  These are the elements we'll change next.\n",
        "for row,col in zip(row_indices,col_indices):\n",
        "    print(row, \", \",col)"
      ],
      "execution_count": 21,
      "outputs": [
        {
          "output_type": "stream",
          "text": [
            "0 ,  0\n",
            "1 ,  1\n",
            "2 ,  2\n",
            "3 ,  0\n"
          ],
          "name": "stdout"
        }
      ]
    },
    {
      "metadata": {
        "id": "SgF7UMrD6W-j",
        "colab_type": "code",
        "colab": {
          "base_uri": "https://localhost:8080/",
          "height": 34
        },
        "outputId": "9211280d-21a6-44b8-a4c7-8e2cdc06833a"
      },
      "cell_type": "code",
      "source": [
        "# Select one element from each row\n",
        "print('Values in the array at those indices: ',an_array[row_indices, col_indices])"
      ],
      "execution_count": 22,
      "outputs": [
        {
          "output_type": "stream",
          "text": [
            "Values in the array at those indices:  [11 22 33 41]\n"
          ],
          "name": "stdout"
        }
      ]
    },
    {
      "metadata": {
        "id": "PmIEd3hA6W-m",
        "colab_type": "code",
        "colab": {
          "base_uri": "https://localhost:8080/",
          "height": 119
        },
        "outputId": "65ae4ec6-5cb4-46fc-eb89-3d9cc2dbff43"
      },
      "cell_type": "code",
      "source": [
        "# Change one element from each row using the indices selected\n",
        "an_array[row_indices, col_indices] += 100000\n",
        "\n",
        "print('\\nChanged Array:')\n",
        "print(an_array)"
      ],
      "execution_count": 23,
      "outputs": [
        {
          "output_type": "stream",
          "text": [
            "\n",
            "Changed Array:\n",
            "[[100011     12     13]\n",
            " [    21 100022     23]\n",
            " [    31     32 100033]\n",
            " [100041     42     43]]\n"
          ],
          "name": "stdout"
        }
      ]
    },
    {
      "metadata": {
        "id": "M12MInDg6W-p",
        "colab_type": "text"
      },
      "cell_type": "markdown",
      "source": [
        "<p style=\"font-family: Arial; font-size:2.75em;color:purple; font-style:bold\"><br>\n",
        "Boolean Indexing\n",
        "\n",
        "<br><br></p>\n",
        "<p style=\"font-family: Arial; font-size:1.75em;color:#2462C0; font-style:bold\"><br>\n",
        "\n",
        "Array Indexing for changing elements:\n",
        "</p>"
      ]
    },
    {
      "metadata": {
        "id": "v9GyOb4J6W-p",
        "colab_type": "code",
        "colab": {
          "base_uri": "https://localhost:8080/",
          "height": 68
        },
        "outputId": "fa668d58-3c9c-4398-aa43-8d0597eb6d95"
      },
      "cell_type": "code",
      "source": [
        "# create a 3x2 array\n",
        "an_array = np.array([[11,12], [21, 22], [31, 32]])\n",
        "print(an_array)"
      ],
      "execution_count": 24,
      "outputs": [
        {
          "output_type": "stream",
          "text": [
            "[[11 12]\n",
            " [21 22]\n",
            " [31 32]]\n"
          ],
          "name": "stdout"
        }
      ]
    },
    {
      "metadata": {
        "id": "plyqHzMi6W-r",
        "colab_type": "code",
        "colab": {
          "base_uri": "https://localhost:8080/",
          "height": 68
        },
        "outputId": "bd11af40-94c4-4386-eb6a-9dc700162e2b"
      },
      "cell_type": "code",
      "source": [
        "# create a filter which will be boolean values for whether each element meets this condition\n",
        "filter = (an_array > 15)\n",
        "filter"
      ],
      "execution_count": 25,
      "outputs": [
        {
          "output_type": "execute_result",
          "data": {
            "text/plain": [
              "array([[False, False],\n",
              "       [ True,  True],\n",
              "       [ True,  True]])"
            ]
          },
          "metadata": {
            "tags": []
          },
          "execution_count": 25
        }
      ]
    },
    {
      "metadata": {
        "id": "CyCznBx06W-t",
        "colab_type": "text"
      },
      "cell_type": "markdown",
      "source": [
        "Notice that the filter is a same size ndarray as an_array which is filled with True for each element whose corresponding element in an_array which is greater than 15 and False for those elements whose value is less than 15."
      ]
    },
    {
      "metadata": {
        "id": "ApTDIbtZ6W-u",
        "colab_type": "code",
        "colab": {
          "base_uri": "https://localhost:8080/",
          "height": 34
        },
        "outputId": "d3497553-3d3c-419c-89ae-677140869126"
      },
      "cell_type": "code",
      "source": [
        "# we can now select just those elements which meet that criteria\n",
        "print(an_array[filter])"
      ],
      "execution_count": 26,
      "outputs": [
        {
          "output_type": "stream",
          "text": [
            "[21 22 31 32]\n"
          ],
          "name": "stdout"
        }
      ]
    },
    {
      "metadata": {
        "id": "_4WpuMvL6W-v",
        "colab_type": "code",
        "colab": {
          "base_uri": "https://localhost:8080/",
          "height": 34
        },
        "outputId": "4c94df62-ec70-46cd-ea95-311177ac7997"
      },
      "cell_type": "code",
      "source": [
        "# For short, we could have just used the approach below without the need for the separate filter array.\n",
        "\n",
        "an_array[(an_array % 2 == 0)]"
      ],
      "execution_count": 27,
      "outputs": [
        {
          "output_type": "execute_result",
          "data": {
            "text/plain": [
              "array([12, 22, 32])"
            ]
          },
          "metadata": {
            "tags": []
          },
          "execution_count": 27
        }
      ]
    },
    {
      "metadata": {
        "id": "fd4KMIxb6W-y",
        "colab_type": "text"
      },
      "cell_type": "markdown",
      "source": [
        "What is particularly useful is that we can actually change elements in the array applying a similar logical filter.  Let's add 100 to all the even values."
      ]
    },
    {
      "metadata": {
        "id": "oyK4Dfqp6W-0",
        "colab_type": "code",
        "colab": {
          "base_uri": "https://localhost:8080/",
          "height": 68
        },
        "outputId": "cf53417d-4f25-42c5-ddf2-1e1710b52b6f"
      },
      "cell_type": "code",
      "source": [
        "an_array[an_array % 2 == 0] +=100\n",
        "print(an_array)"
      ],
      "execution_count": 28,
      "outputs": [
        {
          "output_type": "stream",
          "text": [
            "[[ 11 112]\n",
            " [ 21 122]\n",
            " [ 31 132]]\n"
          ],
          "name": "stdout"
        }
      ]
    },
    {
      "metadata": {
        "id": "hLAVf2zM6W-2",
        "colab_type": "text"
      },
      "cell_type": "markdown",
      "source": [
        "<p style=\"font-family: Arial; font-size:2.75em;color:purple; font-style:bold\"><br>\n",
        "\n",
        "Datatypes and Array Operations\n",
        "<br><br></p>"
      ]
    },
    {
      "metadata": {
        "id": "z_284fgx6W-2",
        "colab_type": "text"
      },
      "cell_type": "markdown",
      "source": [
        "<p style=\"font-family: Arial; font-size:1.75em;color:#2462C0; font-style:bold\"><br>\n",
        "\n",
        "Datatypes:\n",
        "</p>"
      ]
    },
    {
      "metadata": {
        "id": "_eJhNX2W6W-3",
        "colab_type": "code",
        "colab": {
          "base_uri": "https://localhost:8080/",
          "height": 34
        },
        "outputId": "1297279f-619f-4ba0-a90c-e8ad6fe37afb"
      },
      "cell_type": "code",
      "source": [
        "ex1 = np.array([11, 12]) # Python assigns the  data type\n",
        "print(ex1.dtype)"
      ],
      "execution_count": 29,
      "outputs": [
        {
          "output_type": "stream",
          "text": [
            "int64\n"
          ],
          "name": "stdout"
        }
      ]
    },
    {
      "metadata": {
        "id": "w9AaSBzd6W-5",
        "colab_type": "code",
        "colab": {
          "base_uri": "https://localhost:8080/",
          "height": 34
        },
        "outputId": "75ae7bf9-d9b3-414c-b7cb-bf2e1dc04c51"
      },
      "cell_type": "code",
      "source": [
        "ex2 = np.array([11.0, 12.0]) # Python assigns the  data type\n",
        "print(ex2.dtype)"
      ],
      "execution_count": 30,
      "outputs": [
        {
          "output_type": "stream",
          "text": [
            "float64\n"
          ],
          "name": "stdout"
        }
      ]
    },
    {
      "metadata": {
        "id": "9d7F9LQx6W-7",
        "colab_type": "code",
        "colab": {
          "base_uri": "https://localhost:8080/",
          "height": 34
        },
        "outputId": "1fd2f4d9-353b-4040-df38-975de4727ddf"
      },
      "cell_type": "code",
      "source": [
        "ex3 = np.array([11, 21], dtype=np.int64) #You can also tell Python the  data type\n",
        "print(ex3.dtype)"
      ],
      "execution_count": 31,
      "outputs": [
        {
          "output_type": "stream",
          "text": [
            "int64\n"
          ],
          "name": "stdout"
        }
      ]
    },
    {
      "metadata": {
        "id": "q8GH2qch6W-_",
        "colab_type": "code",
        "colab": {
          "base_uri": "https://localhost:8080/",
          "height": 68
        },
        "outputId": "6c3f21a4-efa8-48a7-cbd8-da156ad69188"
      },
      "cell_type": "code",
      "source": [
        "# you can use this to force floats into integers (using floor function)\n",
        "ex4 = np.array([11.1,12.7], dtype=np.int64)\n",
        "print(ex4.dtype)\n",
        "print()\n",
        "print(ex4)"
      ],
      "execution_count": 32,
      "outputs": [
        {
          "output_type": "stream",
          "text": [
            "int64\n",
            "\n",
            "[11 12]\n"
          ],
          "name": "stdout"
        }
      ]
    },
    {
      "metadata": {
        "id": "Vtbj64VT6W_B",
        "colab_type": "code",
        "colab": {
          "base_uri": "https://localhost:8080/",
          "height": 68
        },
        "outputId": "aa3aa7dd-28ce-4c7e-e682-75f004c589d9"
      },
      "cell_type": "code",
      "source": [
        "# you can use this to force integers into floats if you anticipate\n",
        "# the values may change to floats later\n",
        "ex5 = np.array([11, 21], dtype=np.float64)\n",
        "print(ex5.dtype)\n",
        "print()\n",
        "print(ex5)"
      ],
      "execution_count": 33,
      "outputs": [
        {
          "output_type": "stream",
          "text": [
            "float64\n",
            "\n",
            "[11. 21.]\n"
          ],
          "name": "stdout"
        }
      ]
    },
    {
      "metadata": {
        "id": "l2AnmaWt6W_D",
        "colab_type": "text"
      },
      "cell_type": "markdown",
      "source": [
        "<p style=\"font-family: Arial; font-size:1.75em;color:#2462C0; font-style:bold\"><br>\n",
        "\n",
        "Arithmetic Array Operations:\n",
        "\n",
        "</p>"
      ]
    },
    {
      "metadata": {
        "id": "tqRY6K9g6W_H",
        "colab_type": "code",
        "colab": {
          "base_uri": "https://localhost:8080/",
          "height": 102
        },
        "outputId": "ec29cac0-b529-46fb-afdf-c91480970456"
      },
      "cell_type": "code",
      "source": [
        "x = np.array([[111,112],[121,122]], dtype=np.int)\n",
        "y = np.array([[211.1,212.1],[221.1,222.1]], dtype=np.float64)\n",
        "\n",
        "print(x)\n",
        "print()\n",
        "print(y)"
      ],
      "execution_count": 34,
      "outputs": [
        {
          "output_type": "stream",
          "text": [
            "[[111 112]\n",
            " [121 122]]\n",
            "\n",
            "[[211.1 212.1]\n",
            " [221.1 222.1]]\n"
          ],
          "name": "stdout"
        }
      ]
    },
    {
      "metadata": {
        "id": "OQPDH2806W_L",
        "colab_type": "code",
        "colab": {
          "base_uri": "https://localhost:8080/",
          "height": 102
        },
        "outputId": "a9341e51-6913-43dc-fb39-b53eff264716"
      },
      "cell_type": "code",
      "source": [
        "# add\n",
        "print(x + y)         # The plus sign works\n",
        "print()\n",
        "print(np.add(x, y))  # so does the numpy function \"add\""
      ],
      "execution_count": 35,
      "outputs": [
        {
          "output_type": "stream",
          "text": [
            "[[322.1 324.1]\n",
            " [342.1 344.1]]\n",
            "\n",
            "[[322.1 324.1]\n",
            " [342.1 344.1]]\n"
          ],
          "name": "stdout"
        }
      ]
    },
    {
      "metadata": {
        "id": "HtETV7H86W_Q",
        "colab_type": "code",
        "colab": {
          "base_uri": "https://localhost:8080/",
          "height": 102
        },
        "outputId": "da6a66f6-02ed-4dea-ba56-74bba9fd79c2"
      },
      "cell_type": "code",
      "source": [
        "# subtract\n",
        "print(x - y)\n",
        "print()\n",
        "print(np.subtract(x, y))"
      ],
      "execution_count": 36,
      "outputs": [
        {
          "output_type": "stream",
          "text": [
            "[[-100.1 -100.1]\n",
            " [-100.1 -100.1]]\n",
            "\n",
            "[[-100.1 -100.1]\n",
            " [-100.1 -100.1]]\n"
          ],
          "name": "stdout"
        }
      ]
    },
    {
      "metadata": {
        "id": "YqGyU2o16W_T",
        "colab_type": "code",
        "colab": {
          "base_uri": "https://localhost:8080/",
          "height": 102
        },
        "outputId": "3c3963ab-7996-468a-8aef-e6b986ac9974"
      },
      "cell_type": "code",
      "source": [
        "# multiply\n",
        "print(x * y)\n",
        "print()\n",
        "print(np.multiply(x, y))"
      ],
      "execution_count": 37,
      "outputs": [
        {
          "output_type": "stream",
          "text": [
            "[[23432.1 23755.2]\n",
            " [26753.1 27096.2]]\n",
            "\n",
            "[[23432.1 23755.2]\n",
            " [26753.1 27096.2]]\n"
          ],
          "name": "stdout"
        }
      ]
    },
    {
      "metadata": {
        "id": "otgPngPS6W_V",
        "colab_type": "code",
        "colab": {
          "base_uri": "https://localhost:8080/",
          "height": 102
        },
        "outputId": "fbce68af-fc88-4d5a-d1e6-cf6b8db302a9"
      },
      "cell_type": "code",
      "source": [
        "# divide\n",
        "print(x / y)\n",
        "print()\n",
        "print(np.divide(x, y))"
      ],
      "execution_count": 38,
      "outputs": [
        {
          "output_type": "stream",
          "text": [
            "[[0.52581715 0.52805281]\n",
            " [0.54726368 0.54930212]]\n",
            "\n",
            "[[0.52581715 0.52805281]\n",
            " [0.54726368 0.54930212]]\n"
          ],
          "name": "stdout"
        }
      ]
    },
    {
      "metadata": {
        "id": "sQGhLU976W_X",
        "colab_type": "code",
        "colab": {
          "base_uri": "https://localhost:8080/",
          "height": 51
        },
        "outputId": "a2c04709-2fcd-4839-9d24-eeeff0ffd190"
      },
      "cell_type": "code",
      "source": [
        "# square root\n",
        "print(np.sqrt(x))"
      ],
      "execution_count": 39,
      "outputs": [
        {
          "output_type": "stream",
          "text": [
            "[[10.53565375 10.58300524]\n",
            " [11.         11.04536102]]\n"
          ],
          "name": "stdout"
        }
      ]
    },
    {
      "metadata": {
        "id": "wtRRvSPC6W_Z",
        "colab_type": "code",
        "colab": {
          "base_uri": "https://localhost:8080/",
          "height": 51
        },
        "outputId": "7a0c497e-5258-40f6-9b90-30b40b8d8360"
      },
      "cell_type": "code",
      "source": [
        "# exponent (e ** x)\n",
        "print(np.exp(x))"
      ],
      "execution_count": 40,
      "outputs": [
        {
          "output_type": "stream",
          "text": [
            "[[1.60948707e+48 4.37503945e+48]\n",
            " [3.54513118e+52 9.63666567e+52]]\n"
          ],
          "name": "stdout"
        }
      ]
    },
    {
      "metadata": {
        "id": "Ovtl4BKp6W_a",
        "colab_type": "text"
      },
      "cell_type": "markdown",
      "source": [
        "<p style=\"font-family: Arial; font-size:2.75em;color:purple; font-style:bold\"><br>\n",
        "\n",
        "Statistical Methods, Sorting, and <br> <br> Set Operations:\n",
        "<br><br>\n",
        "</p>"
      ]
    },
    {
      "metadata": {
        "id": "QTdQl6Mc6W_b",
        "colab_type": "text"
      },
      "cell_type": "markdown",
      "source": [
        "<p style=\"font-family: Arial; font-size:1.75em;color:#2462C0; font-style:bold\"><br>\n",
        "\n",
        "Basic Statistical Operations:\n",
        "</p>"
      ]
    },
    {
      "metadata": {
        "id": "ozMUzvRT6W_b",
        "colab_type": "code",
        "colab": {
          "base_uri": "https://localhost:8080/",
          "height": 51
        },
        "outputId": "f287735f-4702-4abf-8edc-885b7f1c3b1a"
      },
      "cell_type": "code",
      "source": [
        "# setup a random 2 x 4 matrix\n",
        "arr = 10 * np.random.randn(2,5)\n",
        "print(arr)"
      ],
      "execution_count": 41,
      "outputs": [
        {
          "output_type": "stream",
          "text": [
            "[[-12.06258328 -17.05533318  -4.63962028  -9.86133078  10.26795646]\n",
            " [-15.79578758  24.72861977  -0.5128992   -1.70096067  -3.78015685]]\n"
          ],
          "name": "stdout"
        }
      ]
    },
    {
      "metadata": {
        "id": "Ln4bSYbp6W_f",
        "colab_type": "code",
        "colab": {
          "base_uri": "https://localhost:8080/",
          "height": 34
        },
        "outputId": "019ab0bc-5ba8-472d-b3c4-6876b9487445"
      },
      "cell_type": "code",
      "source": [
        "# compute the mean for all elements\n",
        "print(arr.mean())"
      ],
      "execution_count": 42,
      "outputs": [
        {
          "output_type": "stream",
          "text": [
            "-3.0412095581955225\n"
          ],
          "name": "stdout"
        }
      ]
    },
    {
      "metadata": {
        "id": "x7rzIgF76W_h",
        "colab_type": "code",
        "colab": {
          "base_uri": "https://localhost:8080/",
          "height": 34
        },
        "outputId": "1647f742-a795-4e03-d639-040248d2e503"
      },
      "cell_type": "code",
      "source": [
        "# compute the means by row\n",
        "print(arr.mean(axis = 1))"
      ],
      "execution_count": 43,
      "outputs": [
        {
          "output_type": "stream",
          "text": [
            "[-6.67018221  0.58776309]\n"
          ],
          "name": "stdout"
        }
      ]
    },
    {
      "metadata": {
        "id": "93viqj-M6W_k",
        "colab_type": "code",
        "colab": {
          "base_uri": "https://localhost:8080/",
          "height": 34
        },
        "outputId": "42f13ec3-7524-4359-dd27-3dfabbbcec14"
      },
      "cell_type": "code",
      "source": [
        "# compute the means by column\n",
        "print(arr.mean(axis = 0))"
      ],
      "execution_count": 44,
      "outputs": [
        {
          "output_type": "stream",
          "text": [
            "[-13.92918543   3.8366433   -2.57625974  -5.78114573   3.24389981]\n"
          ],
          "name": "stdout"
        }
      ]
    },
    {
      "metadata": {
        "id": "nSHmBDfx6W_l",
        "colab_type": "code",
        "colab": {
          "base_uri": "https://localhost:8080/",
          "height": 34
        },
        "outputId": "403672c5-9895-4ab5-9ddd-a2b7c4d25ad0"
      },
      "cell_type": "code",
      "source": [
        "# sum all the elements\n",
        "print(arr.sum())"
      ],
      "execution_count": 45,
      "outputs": [
        {
          "output_type": "stream",
          "text": [
            "-30.412095581955224\n"
          ],
          "name": "stdout"
        }
      ]
    },
    {
      "metadata": {
        "id": "27Qz1DW86W_r",
        "colab_type": "code",
        "colab": {
          "base_uri": "https://localhost:8080/",
          "height": 34
        },
        "outputId": "c650c8d8-f809-47b6-e058-331caea86c77"
      },
      "cell_type": "code",
      "source": [
        "# compute the medians\n",
        "print(np.median(arr, axis = 1))"
      ],
      "execution_count": 46,
      "outputs": [
        {
          "output_type": "stream",
          "text": [
            "[-9.86133078 -1.70096067]\n"
          ],
          "name": "stdout"
        }
      ]
    },
    {
      "metadata": {
        "id": "9RwJWIDU6W_s",
        "colab_type": "text"
      },
      "cell_type": "markdown",
      "source": [
        "<p style=\"font-family: Arial; font-size:1.75em;color:#2462C0; font-style:bold\"><br>\n",
        "\n",
        "Sorting:\n",
        "</p>\n"
      ]
    },
    {
      "metadata": {
        "id": "GMf4j2TA6W_t",
        "colab_type": "code",
        "colab": {
          "base_uri": "https://localhost:8080/",
          "height": 51
        },
        "outputId": "339511e1-5161-4872-97c3-6cc54b6037d2"
      },
      "cell_type": "code",
      "source": [
        "# create a 10 element array of randoms\n",
        "unsorted = np.random.randn(10)\n",
        "\n",
        "print(unsorted)"
      ],
      "execution_count": 47,
      "outputs": [
        {
          "output_type": "stream",
          "text": [
            "[ 0.39728261 -0.34748766 -0.23877083 -0.28581184 -1.19462702  1.67299405\n",
            "  0.23141304  0.43983129  0.6708884   0.23270216]\n"
          ],
          "name": "stdout"
        }
      ]
    },
    {
      "metadata": {
        "id": "KdfNpaEF6W_w",
        "colab_type": "code",
        "colab": {
          "base_uri": "https://localhost:8080/",
          "height": 102
        },
        "outputId": "d961d1b7-2ba2-4f7f-814c-7b51a17dde53"
      },
      "cell_type": "code",
      "source": [
        "# create copy and sort\n",
        "sorted = np.array(unsorted)\n",
        "sorted.sort()\n",
        "\n",
        "print(sorted)\n",
        "print()\n",
        "print(unsorted)"
      ],
      "execution_count": 48,
      "outputs": [
        {
          "output_type": "stream",
          "text": [
            "[-1.19462702 -0.34748766 -0.28581184 -0.23877083  0.23141304  0.23270216\n",
            "  0.39728261  0.43983129  0.6708884   1.67299405]\n",
            "\n",
            "[ 0.39728261 -0.34748766 -0.23877083 -0.28581184 -1.19462702  1.67299405\n",
            "  0.23141304  0.43983129  0.6708884   0.23270216]\n"
          ],
          "name": "stdout"
        }
      ]
    },
    {
      "metadata": {
        "id": "Ju0lBmY36W_x",
        "colab_type": "code",
        "colab": {
          "base_uri": "https://localhost:8080/",
          "height": 51
        },
        "outputId": "ed7976d9-1071-4028-a100-7de04b3a75b4"
      },
      "cell_type": "code",
      "source": [
        "# inplace sorting\n",
        "unsorted.sort() \n",
        "\n",
        "print(unsorted)"
      ],
      "execution_count": 49,
      "outputs": [
        {
          "output_type": "stream",
          "text": [
            "[-1.19462702 -0.34748766 -0.28581184 -0.23877083  0.23141304  0.23270216\n",
            "  0.39728261  0.43983129  0.6708884   1.67299405]\n"
          ],
          "name": "stdout"
        }
      ]
    },
    {
      "metadata": {
        "id": "BZCUlwAx6W_y",
        "colab_type": "text"
      },
      "cell_type": "markdown",
      "source": [
        "<p style=\"font-family: Arial; font-size:1.75em;color:#2462C0; font-style:bold\"><br>\n",
        "\n",
        "Finding Unique elements:\n",
        "</p>"
      ]
    },
    {
      "metadata": {
        "id": "ACkDT8nG6W_z",
        "colab_type": "code",
        "colab": {
          "base_uri": "https://localhost:8080/",
          "height": 34
        },
        "outputId": "263c1bb1-eb72-4aaf-85dd-6e539f039c3e"
      },
      "cell_type": "code",
      "source": [
        "array = np.array([1,2,1,4,2,1,4,2])\n",
        "\n",
        "print(np.unique(array))"
      ],
      "execution_count": 50,
      "outputs": [
        {
          "output_type": "stream",
          "text": [
            "[1 2 4]\n"
          ],
          "name": "stdout"
        }
      ]
    },
    {
      "metadata": {
        "id": "qbIGeNFV6W_1",
        "colab_type": "text"
      },
      "cell_type": "markdown",
      "source": [
        "<p style=\"font-family: Arial; font-size:1.75em;color:#2462C0; font-style:bold\"><br>\n",
        "\n",
        "Set Operations with np.array data type:\n",
        "</p>"
      ]
    },
    {
      "metadata": {
        "id": "D4W3v9zq6W_1",
        "colab_type": "code",
        "colab": {
          "base_uri": "https://localhost:8080/",
          "height": 34
        },
        "outputId": "4e6272f5-a480-4e81-8a94-1b419e26e930"
      },
      "cell_type": "code",
      "source": [
        "s1 = np.array(['desk','chair','bulb'])\n",
        "s2 = np.array(['lamp','bulb','chair'])\n",
        "print(s1, s2)"
      ],
      "execution_count": 51,
      "outputs": [
        {
          "output_type": "stream",
          "text": [
            "['desk' 'chair' 'bulb'] ['lamp' 'bulb' 'chair']\n"
          ],
          "name": "stdout"
        }
      ]
    },
    {
      "metadata": {
        "id": "LZHQ0jti6W_3",
        "colab_type": "code",
        "colab": {
          "base_uri": "https://localhost:8080/",
          "height": 34
        },
        "outputId": "aa9958ff-a2a9-4495-ab3c-516a82eb8a46"
      },
      "cell_type": "code",
      "source": [
        "print( np.intersect1d(s1, s2) ) "
      ],
      "execution_count": 52,
      "outputs": [
        {
          "output_type": "stream",
          "text": [
            "['bulb' 'chair']\n"
          ],
          "name": "stdout"
        }
      ]
    },
    {
      "metadata": {
        "id": "rb89RiI26W_6",
        "colab_type": "code",
        "colab": {
          "base_uri": "https://localhost:8080/",
          "height": 34
        },
        "outputId": "448b815b-6adf-404d-be3f-a10ed6fd5e06"
      },
      "cell_type": "code",
      "source": [
        "print( np.union1d(s1, s2) )"
      ],
      "execution_count": 53,
      "outputs": [
        {
          "output_type": "stream",
          "text": [
            "['bulb' 'chair' 'desk' 'lamp']\n"
          ],
          "name": "stdout"
        }
      ]
    },
    {
      "metadata": {
        "id": "L-A4HzB06W_7",
        "colab_type": "code",
        "colab": {
          "base_uri": "https://localhost:8080/",
          "height": 34
        },
        "outputId": "a2a309c1-b7f8-4ee5-d848-4ce5a465a6a9"
      },
      "cell_type": "code",
      "source": [
        "print( np.setdiff1d(s1, s2) )# elements in s1 that are not in s2"
      ],
      "execution_count": 54,
      "outputs": [
        {
          "output_type": "stream",
          "text": [
            "['desk']\n"
          ],
          "name": "stdout"
        }
      ]
    },
    {
      "metadata": {
        "id": "wNjqwRLJ6W_9",
        "colab_type": "code",
        "colab": {
          "base_uri": "https://localhost:8080/",
          "height": 34
        },
        "outputId": "9c45e490-6549-4205-8611-d3e055dc5375"
      },
      "cell_type": "code",
      "source": [
        "print( np.in1d(s1, s2) )#which element of s1 is also in s2"
      ],
      "execution_count": 55,
      "outputs": [
        {
          "output_type": "stream",
          "text": [
            "[False  True  True]\n"
          ],
          "name": "stdout"
        }
      ]
    },
    {
      "metadata": {
        "id": "6hfLIovq6W__",
        "colab_type": "text"
      },
      "cell_type": "markdown",
      "source": [
        "<p style=\"font-family: Arial; font-size:2.75em;color:purple; font-style:bold\"><br>\n",
        "\n",
        "Broadcasting:\n",
        "<br><br>\n",
        "</p>"
      ]
    },
    {
      "metadata": {
        "id": "EqSShvwB6XAA",
        "colab_type": "text"
      },
      "cell_type": "markdown",
      "source": [
        "Introduction to broadcasting. <br>\n",
        "For more details, please see: <br>\n",
        "https://docs.scipy.org/doc/numpy-1.10.1/user/basics.broadcasting.html"
      ]
    },
    {
      "metadata": {
        "id": "1oNnlY4x6XAA",
        "colab_type": "code",
        "colab": {
          "base_uri": "https://localhost:8080/",
          "height": 85
        },
        "outputId": "f9472fbd-e952-46ae-e94b-dba4b81b1298"
      },
      "cell_type": "code",
      "source": [
        "import numpy as np\n",
        "\n",
        "start = np.zeros((4,3))\n",
        "print(start)"
      ],
      "execution_count": 56,
      "outputs": [
        {
          "output_type": "stream",
          "text": [
            "[[0. 0. 0.]\n",
            " [0. 0. 0.]\n",
            " [0. 0. 0.]\n",
            " [0. 0. 0.]]\n"
          ],
          "name": "stdout"
        }
      ]
    },
    {
      "metadata": {
        "id": "eSD11trQ6XAE",
        "colab_type": "code",
        "colab": {
          "base_uri": "https://localhost:8080/",
          "height": 34
        },
        "outputId": "dc8383f4-d2c1-4017-a333-78165fb36748"
      },
      "cell_type": "code",
      "source": [
        "# create a rank 1 ndarray with 3 values\n",
        "add_rows = np.array([1, 0, 2])\n",
        "print(add_rows)"
      ],
      "execution_count": 57,
      "outputs": [
        {
          "output_type": "stream",
          "text": [
            "[1 0 2]\n"
          ],
          "name": "stdout"
        }
      ]
    },
    {
      "metadata": {
        "id": "pHBt-IaD6XAF",
        "colab_type": "code",
        "colab": {
          "base_uri": "https://localhost:8080/",
          "height": 85
        },
        "outputId": "d10c0e1d-5fb9-4ef5-b34d-45aaee0b3998"
      },
      "cell_type": "code",
      "source": [
        "y = start + add_rows  # add to each row of 'start' using broadcasting\n",
        "print(y)"
      ],
      "execution_count": 58,
      "outputs": [
        {
          "output_type": "stream",
          "text": [
            "[[1. 0. 2.]\n",
            " [1. 0. 2.]\n",
            " [1. 0. 2.]\n",
            " [1. 0. 2.]]\n"
          ],
          "name": "stdout"
        }
      ]
    },
    {
      "metadata": {
        "id": "paQo_BCk6XAI",
        "colab_type": "code",
        "colab": {
          "base_uri": "https://localhost:8080/",
          "height": 85
        },
        "outputId": "65963e31-977a-4d9a-f726-665837f09b76"
      },
      "cell_type": "code",
      "source": [
        "# create an ndarray which is 4 x 1 to broadcast across columns\n",
        "add_cols = np.array([[0,1,2,3]])\n",
        "add_cols = add_cols.T\n",
        "\n",
        "print(add_cols)"
      ],
      "execution_count": 59,
      "outputs": [
        {
          "output_type": "stream",
          "text": [
            "[[0]\n",
            " [1]\n",
            " [2]\n",
            " [3]]\n"
          ],
          "name": "stdout"
        }
      ]
    },
    {
      "metadata": {
        "id": "U8lvE0386XAJ",
        "colab_type": "code",
        "colab": {
          "base_uri": "https://localhost:8080/",
          "height": 85
        },
        "outputId": "541d1c48-a2b2-4d04-e54c-13e4ff636157"
      },
      "cell_type": "code",
      "source": [
        "# add to each column of 'start' using broadcasting\n",
        "y = start + add_cols \n",
        "print(y)"
      ],
      "execution_count": 60,
      "outputs": [
        {
          "output_type": "stream",
          "text": [
            "[[0. 0. 0.]\n",
            " [1. 1. 1.]\n",
            " [2. 2. 2.]\n",
            " [3. 3. 3.]]\n"
          ],
          "name": "stdout"
        }
      ]
    },
    {
      "metadata": {
        "id": "O0YFFCSH6XAM",
        "colab_type": "code",
        "colab": {
          "base_uri": "https://localhost:8080/",
          "height": 85
        },
        "outputId": "3b9604fd-a659-44f3-907f-131df065adee"
      },
      "cell_type": "code",
      "source": [
        "# this will just broadcast in both dimensions\n",
        "add_scalar = np.array([1])  \n",
        "print(start+add_scalar)"
      ],
      "execution_count": 61,
      "outputs": [
        {
          "output_type": "stream",
          "text": [
            "[[1. 1. 1.]\n",
            " [1. 1. 1.]\n",
            " [1. 1. 1.]\n",
            " [1. 1. 1.]]\n"
          ],
          "name": "stdout"
        }
      ]
    },
    {
      "metadata": {
        "id": "EXxToJD36XAN",
        "colab_type": "text"
      },
      "cell_type": "markdown",
      "source": [
        "Example from the slides:"
      ]
    },
    {
      "metadata": {
        "id": "EwwOaRi06XAO",
        "colab_type": "code",
        "colab": {
          "base_uri": "https://localhost:8080/",
          "height": 68
        },
        "outputId": "437863b0-61a6-425b-e525-35b9a0f8d0fd"
      },
      "cell_type": "code",
      "source": [
        "# create our 3x4 matrix\n",
        "arrA = np.array([[1,2,3,4],[5,6,7,8],[9,10,11,12]])\n",
        "print(arrA)"
      ],
      "execution_count": 62,
      "outputs": [
        {
          "output_type": "stream",
          "text": [
            "[[ 1  2  3  4]\n",
            " [ 5  6  7  8]\n",
            " [ 9 10 11 12]]\n"
          ],
          "name": "stdout"
        }
      ]
    },
    {
      "metadata": {
        "id": "NeXrNjTa6XAQ",
        "colab_type": "code",
        "colab": {
          "base_uri": "https://localhost:8080/",
          "height": 34
        },
        "outputId": "e023b14c-9d62-4dc6-de83-f1ba783c2b76"
      },
      "cell_type": "code",
      "source": [
        "# create our 4x1 array\n",
        "arrB = [0,1,0,2]\n",
        "print(arrB)"
      ],
      "execution_count": 63,
      "outputs": [
        {
          "output_type": "stream",
          "text": [
            "[0, 1, 0, 2]\n"
          ],
          "name": "stdout"
        }
      ]
    },
    {
      "metadata": {
        "id": "EWcgyoXI6XAS",
        "colab_type": "code",
        "colab": {
          "base_uri": "https://localhost:8080/",
          "height": 68
        },
        "outputId": "ca101482-628a-474d-a589-4b72ce97e9ce"
      },
      "cell_type": "code",
      "source": [
        "# add the two together using broadcasting\n",
        "print(arrA + arrB)"
      ],
      "execution_count": 64,
      "outputs": [
        {
          "output_type": "stream",
          "text": [
            "[[ 1  3  3  6]\n",
            " [ 5  7  7 10]\n",
            " [ 9 11 11 14]]\n"
          ],
          "name": "stdout"
        }
      ]
    },
    {
      "metadata": {
        "id": "z27rIa276XAU",
        "colab_type": "text"
      },
      "cell_type": "markdown",
      "source": [
        "<p style=\"font-family: Arial; font-size:2.75em;color:purple; font-style:bold\"><br>\n",
        "\n",
        "Speedtest: ndarrays vs lists\n",
        "<br><br>\n",
        "</p>"
      ]
    },
    {
      "metadata": {
        "id": "Qq1Hh_a86XAW",
        "colab_type": "text"
      },
      "cell_type": "markdown",
      "source": [
        "First setup paramaters for the speed test. We'll be testing time to sum elements in an ndarray versus a list."
      ]
    },
    {
      "metadata": {
        "id": "n-sF8IXU6XAX",
        "colab_type": "code",
        "colab": {}
      },
      "cell_type": "code",
      "source": [
        "from numpy import arange\n",
        "from timeit import Timer\n",
        "\n",
        "size    = 1000000\n",
        "timeits = 1000"
      ],
      "execution_count": 0,
      "outputs": []
    },
    {
      "metadata": {
        "id": "QlRdoCFG6XAY",
        "colab_type": "code",
        "colab": {
          "base_uri": "https://localhost:8080/",
          "height": 34
        },
        "outputId": "86362a3c-58d1-4287-f02c-facdbbcd537a"
      },
      "cell_type": "code",
      "source": [
        "# create the ndarray with values 0,1,2...,size-1\n",
        "nd_array = arange(size)\n",
        "print( type(nd_array) )"
      ],
      "execution_count": 66,
      "outputs": [
        {
          "output_type": "stream",
          "text": [
            "<class 'numpy.ndarray'>\n"
          ],
          "name": "stdout"
        }
      ]
    },
    {
      "metadata": {
        "id": "LQvC3im_6XAZ",
        "colab_type": "code",
        "colab": {
          "base_uri": "https://localhost:8080/",
          "height": 34
        },
        "outputId": "8e6e7bfe-0e1f-420a-ecac-0d2b1f8e55a1"
      },
      "cell_type": "code",
      "source": [
        "# timer expects the operation as a parameter, \n",
        "# here we pass nd_array.sum()\n",
        "timer_numpy = Timer(\"nd_array.sum()\", \"from __main__ import nd_array\")\n",
        "\n",
        "print(\"Time taken by numpy ndarray: %f seconds\" % \n",
        "      (timer_numpy.timeit(timeits)/timeits))"
      ],
      "execution_count": 67,
      "outputs": [
        {
          "output_type": "stream",
          "text": [
            "Time taken by numpy ndarray: 0.000727 seconds\n"
          ],
          "name": "stdout"
        }
      ]
    },
    {
      "metadata": {
        "id": "kMNqWn6J6XAa",
        "colab_type": "code",
        "colab": {
          "base_uri": "https://localhost:8080/",
          "height": 34
        },
        "outputId": "940f1768-b97a-4f20-f46c-e4afdac1829f"
      },
      "cell_type": "code",
      "source": [
        "# create the list with values 0,1,2...,size-1\n",
        "a_list = list(range(size))\n",
        "print (type(a_list) )"
      ],
      "execution_count": 68,
      "outputs": [
        {
          "output_type": "stream",
          "text": [
            "<class 'list'>\n"
          ],
          "name": "stdout"
        }
      ]
    },
    {
      "metadata": {
        "id": "IY0rNnzL6XAc",
        "colab_type": "code",
        "colab": {
          "base_uri": "https://localhost:8080/",
          "height": 34
        },
        "outputId": "b26cfc4f-5d0e-4850-efbe-ea676ce42e95"
      },
      "cell_type": "code",
      "source": [
        "# timer expects the operation as a parameter, here we pass sum(a_list)\n",
        "timer_list = Timer(\"sum(a_list)\", \"from __main__ import a_list\")\n",
        "\n",
        "print(\"Time taken by list:  %f seconds\" % \n",
        "      (timer_list.timeit(timeits)/timeits))"
      ],
      "execution_count": 69,
      "outputs": [
        {
          "output_type": "stream",
          "text": [
            "Time taken by list:  0.008375 seconds\n"
          ],
          "name": "stdout"
        }
      ]
    },
    {
      "metadata": {
        "id": "7a6qgiPB6XAd",
        "colab_type": "text"
      },
      "cell_type": "markdown",
      "source": [
        "<p style=\"font-family: Arial; font-size:2.75em;color:purple; font-style:bold\"><br>\n",
        "\n",
        "Read or Write to Disk:\n",
        "<br><br>\n",
        "</p>"
      ]
    },
    {
      "metadata": {
        "id": "VS3Bdw6j6XAe",
        "colab_type": "text"
      },
      "cell_type": "markdown",
      "source": [
        "<p style=\"font-family: Arial; font-size:1.3em;color:#2462C0; font-style:bold\"><br>\n",
        "\n",
        "Binary Format:</p>"
      ]
    },
    {
      "metadata": {
        "id": "TX4t-Osf6XAe",
        "colab_type": "code",
        "colab": {}
      },
      "cell_type": "code",
      "source": [
        "x = np.array([ 23.23, 24.24] )"
      ],
      "execution_count": 0,
      "outputs": []
    },
    {
      "metadata": {
        "id": "QyzcHd796XAf",
        "colab_type": "code",
        "colab": {}
      },
      "cell_type": "code",
      "source": [
        "np.save('an_array', x)"
      ],
      "execution_count": 0,
      "outputs": []
    },
    {
      "metadata": {
        "id": "ozSNsSIG6XAl",
        "colab_type": "code",
        "colab": {
          "base_uri": "https://localhost:8080/",
          "height": 34
        },
        "outputId": "5903fcf4-4e51-47c9-badb-d0482279e505"
      },
      "cell_type": "code",
      "source": [
        "np.load('an_array.npy')"
      ],
      "execution_count": 72,
      "outputs": [
        {
          "output_type": "execute_result",
          "data": {
            "text/plain": [
              "array([23.23, 24.24])"
            ]
          },
          "metadata": {
            "tags": []
          },
          "execution_count": 72
        }
      ]
    },
    {
      "metadata": {
        "id": "cJdMyeDd6XAo",
        "colab_type": "text"
      },
      "cell_type": "markdown",
      "source": [
        "<p style=\"font-family: Arial; font-size:1.3em;color:#2462C0; font-style:bold\"><br>\n",
        "\n",
        "Text Format:</p>"
      ]
    },
    {
      "metadata": {
        "id": "5O65BVD86XAo",
        "colab_type": "code",
        "colab": {}
      },
      "cell_type": "code",
      "source": [
        "np.savetxt('array.txt', X=x, delimiter=',')"
      ],
      "execution_count": 0,
      "outputs": []
    },
    {
      "metadata": {
        "id": "WErPSLsH6XAq",
        "colab_type": "code",
        "colab": {
          "base_uri": "https://localhost:8080/",
          "height": 51
        },
        "outputId": "9c05d4a3-bb3f-436a-c22f-81305320b62b"
      },
      "cell_type": "code",
      "source": [
        "!cat array.txt"
      ],
      "execution_count": 74,
      "outputs": [
        {
          "output_type": "stream",
          "text": [
            "2.323000000000000043e+01\n",
            "2.423999999999999844e+01\n"
          ],
          "name": "stdout"
        }
      ]
    },
    {
      "metadata": {
        "scrolled": true,
        "id": "PLvGgMIC6XAr",
        "colab_type": "code",
        "colab": {
          "base_uri": "https://localhost:8080/",
          "height": 34
        },
        "outputId": "27f42a78-9963-4b05-c56e-ef81c6594d1f"
      },
      "cell_type": "code",
      "source": [
        "np.loadtxt('array.txt', delimiter=',')"
      ],
      "execution_count": 75,
      "outputs": [
        {
          "output_type": "execute_result",
          "data": {
            "text/plain": [
              "array([23.23, 24.24])"
            ]
          },
          "metadata": {
            "tags": []
          },
          "execution_count": 75
        }
      ]
    },
    {
      "metadata": {
        "id": "-36AFNKH6XAs",
        "colab_type": "text"
      },
      "cell_type": "markdown",
      "source": [
        "<p style=\"font-family: Arial; font-size:2.75em;color:purple; font-style:bold\"><br>\n",
        "\n",
        "Additional Common ndarray Operations\n",
        "<br><br></p>"
      ]
    },
    {
      "metadata": {
        "id": "ofBkK_VW6XAu",
        "colab_type": "text"
      },
      "cell_type": "markdown",
      "source": [
        "<p style=\"font-family: Arial; font-size:1.75em;color:#2462C0; font-style:bold\"><br>\n",
        "\n",
        "Dot Product on Matrices and Inner Product on Vectors:\n",
        "\n",
        "</p>"
      ]
    },
    {
      "metadata": {
        "id": "VYqJsIqv6XAu",
        "colab_type": "code",
        "colab": {
          "base_uri": "https://localhost:8080/",
          "height": 102
        },
        "outputId": "f7a976a2-7f0d-43ee-8df7-e70270c6f055"
      },
      "cell_type": "code",
      "source": [
        "# determine the dot product of two matrices\n",
        "x2d = np.array([[1,1],[1,1]])\n",
        "y2d = np.array([[2,2],[2,2]])\n",
        "\n",
        "print(x2d.dot(y2d))\n",
        "print()\n",
        "print(np.dot(x2d, y2d))"
      ],
      "execution_count": 76,
      "outputs": [
        {
          "output_type": "stream",
          "text": [
            "[[4 4]\n",
            " [4 4]]\n",
            "\n",
            "[[4 4]\n",
            " [4 4]]\n"
          ],
          "name": "stdout"
        }
      ]
    },
    {
      "metadata": {
        "id": "vB9Rk7lF6XAv",
        "colab_type": "code",
        "colab": {
          "base_uri": "https://localhost:8080/",
          "height": 68
        },
        "outputId": "7cec3c98-994c-4219-a845-5b00955c4d1c"
      },
      "cell_type": "code",
      "source": [
        "# determine the inner product of two vectors\n",
        "a1d = np.array([9 , 9 ])\n",
        "b1d = np.array([10, 10])\n",
        "\n",
        "print(a1d.dot(b1d))\n",
        "print()\n",
        "print(np.dot(a1d, b1d))"
      ],
      "execution_count": 77,
      "outputs": [
        {
          "output_type": "stream",
          "text": [
            "180\n",
            "\n",
            "180\n"
          ],
          "name": "stdout"
        }
      ]
    },
    {
      "metadata": {
        "id": "xflq_Gfz6XAw",
        "colab_type": "code",
        "colab": {
          "base_uri": "https://localhost:8080/",
          "height": 68
        },
        "outputId": "4155619d-5482-4dad-b926-bc6170a44967"
      },
      "cell_type": "code",
      "source": [
        "# dot produce on an array and vector\n",
        "print(x2d.dot(a1d))\n",
        "print()\n",
        "print(np.dot(x2d, a1d))"
      ],
      "execution_count": 78,
      "outputs": [
        {
          "output_type": "stream",
          "text": [
            "[18 18]\n",
            "\n",
            "[18 18]\n"
          ],
          "name": "stdout"
        }
      ]
    },
    {
      "metadata": {
        "id": "J7HcbNNT6XAx",
        "colab_type": "text"
      },
      "cell_type": "markdown",
      "source": [
        "<p style=\"font-family: Arial; font-size:1.75em;color:#2462C0; font-style:bold\"><br>\n",
        "\n",
        "Sum:\n",
        "</p>"
      ]
    },
    {
      "metadata": {
        "id": "DWxqkEbk6XAy",
        "colab_type": "code",
        "colab": {
          "base_uri": "https://localhost:8080/",
          "height": 34
        },
        "outputId": "69d0cbc5-afb2-4136-a102-8d6b54822c21"
      },
      "cell_type": "code",
      "source": [
        "# sum elements in the array\n",
        "ex1 = np.array([[11,12],[21,22]])\n",
        "\n",
        "print(np.sum(ex1))          # add all members"
      ],
      "execution_count": 79,
      "outputs": [
        {
          "output_type": "stream",
          "text": [
            "66\n"
          ],
          "name": "stdout"
        }
      ]
    },
    {
      "metadata": {
        "id": "v21hP0Qk6XA1",
        "colab_type": "code",
        "colab": {
          "base_uri": "https://localhost:8080/",
          "height": 34
        },
        "outputId": "11fedd63-5a85-4602-8be0-1079429c8a51"
      },
      "cell_type": "code",
      "source": [
        "print(np.sum(ex1, axis=0))  # columnwise sum"
      ],
      "execution_count": 80,
      "outputs": [
        {
          "output_type": "stream",
          "text": [
            "[32 34]\n"
          ],
          "name": "stdout"
        }
      ]
    },
    {
      "metadata": {
        "id": "XAMQpEb36XA2",
        "colab_type": "code",
        "colab": {
          "base_uri": "https://localhost:8080/",
          "height": 34
        },
        "outputId": "c5bed26f-2d8e-44c3-9a56-4c6df9ae54d9"
      },
      "cell_type": "code",
      "source": [
        "print(np.sum(ex1, axis=1))  # rowwise sum"
      ],
      "execution_count": 81,
      "outputs": [
        {
          "output_type": "stream",
          "text": [
            "[23 43]\n"
          ],
          "name": "stdout"
        }
      ]
    },
    {
      "metadata": {
        "id": "j34nblO86XA4",
        "colab_type": "text"
      },
      "cell_type": "markdown",
      "source": [
        "<p style=\"font-family: Arial; font-size:1.75em;color:#2462C0; font-style:bold\"><br>\n",
        "\n",
        "Element-wise Functions: </p>\n",
        "\n",
        "For example, let's compare two arrays values to get the maximum of each."
      ]
    },
    {
      "metadata": {
        "id": "wyfB-jYD6XA4",
        "colab_type": "code",
        "colab": {
          "base_uri": "https://localhost:8080/",
          "height": 51
        },
        "outputId": "730aa1ad-aa3a-4cc4-e53c-d7d0f66caea4"
      },
      "cell_type": "code",
      "source": [
        "# random array\n",
        "x = np.random.randn(8)\n",
        "x"
      ],
      "execution_count": 82,
      "outputs": [
        {
          "output_type": "execute_result",
          "data": {
            "text/plain": [
              "array([ 0.6092436 , -0.41688484,  0.03629596, -1.64391669,  1.40667211,\n",
              "        0.91139085, -0.39630328, -0.5672752 ])"
            ]
          },
          "metadata": {
            "tags": []
          },
          "execution_count": 82
        }
      ]
    },
    {
      "metadata": {
        "id": "aVShqOu96XA5",
        "colab_type": "code",
        "colab": {
          "base_uri": "https://localhost:8080/",
          "height": 51
        },
        "outputId": "d911940e-10e4-4606-ed50-5301c726fbb0"
      },
      "cell_type": "code",
      "source": [
        "# another random array\n",
        "y = np.random.randn(8)\n",
        "y"
      ],
      "execution_count": 83,
      "outputs": [
        {
          "output_type": "execute_result",
          "data": {
            "text/plain": [
              "array([-0.02065095,  0.60341941,  1.46265716, -0.45487206,  0.92294257,\n",
              "        0.4070728 ,  0.24503475,  1.25677668])"
            ]
          },
          "metadata": {
            "tags": []
          },
          "execution_count": 83
        }
      ]
    },
    {
      "metadata": {
        "id": "MSAB3vQP6XA7",
        "colab_type": "code",
        "colab": {
          "base_uri": "https://localhost:8080/",
          "height": 51
        },
        "outputId": "585b1cb9-db50-41a8-b576-2937d9e881ca"
      },
      "cell_type": "code",
      "source": [
        "# returns element wise maximum between two arrays\n",
        "\n",
        "np.maximum(x, y)"
      ],
      "execution_count": 84,
      "outputs": [
        {
          "output_type": "execute_result",
          "data": {
            "text/plain": [
              "array([ 0.6092436 ,  0.60341941,  1.46265716, -0.45487206,  1.40667211,\n",
              "        0.91139085,  0.24503475,  1.25677668])"
            ]
          },
          "metadata": {
            "tags": []
          },
          "execution_count": 84
        }
      ]
    },
    {
      "metadata": {
        "id": "-QGcCWx16XA9",
        "colab_type": "text"
      },
      "cell_type": "markdown",
      "source": [
        "<p style=\"font-family: Arial; font-size:1.75em;color:#2462C0; font-style:bold\"><br>\n",
        "\n",
        "Reshaping array:\n",
        "</p>"
      ]
    },
    {
      "metadata": {
        "id": "p04FrQ6K6XA-",
        "colab_type": "code",
        "colab": {
          "base_uri": "https://localhost:8080/",
          "height": 34
        },
        "outputId": "563838b2-9a1b-49ce-db0b-863b7334b982"
      },
      "cell_type": "code",
      "source": [
        "# grab values from 0 through 19 in an array\n",
        "arr = np.arange(20)\n",
        "print(arr)"
      ],
      "execution_count": 85,
      "outputs": [
        {
          "output_type": "stream",
          "text": [
            "[ 0  1  2  3  4  5  6  7  8  9 10 11 12 13 14 15 16 17 18 19]\n"
          ],
          "name": "stdout"
        }
      ]
    },
    {
      "metadata": {
        "id": "BVdLpfuh6XBA",
        "colab_type": "code",
        "colab": {
          "base_uri": "https://localhost:8080/",
          "height": 85
        },
        "outputId": "c5e089e5-f243-4b73-b739-98c1c12de772"
      },
      "cell_type": "code",
      "source": [
        "# reshape to be a 4 x 5 matrix\n",
        "arr.reshape(4,5)"
      ],
      "execution_count": 86,
      "outputs": [
        {
          "output_type": "execute_result",
          "data": {
            "text/plain": [
              "array([[ 0,  1,  2,  3,  4],\n",
              "       [ 5,  6,  7,  8,  9],\n",
              "       [10, 11, 12, 13, 14],\n",
              "       [15, 16, 17, 18, 19]])"
            ]
          },
          "metadata": {
            "tags": []
          },
          "execution_count": 86
        }
      ]
    },
    {
      "metadata": {
        "id": "KwkyAst06XBB",
        "colab_type": "text"
      },
      "cell_type": "markdown",
      "source": [
        "<p style=\"font-family: Arial; font-size:1.75em;color:#2462C0; font-style:bold\"><br>\n",
        "\n",
        "Transpose:\n",
        "\n",
        "</p>"
      ]
    },
    {
      "metadata": {
        "id": "jzZxotFZ6XBC",
        "colab_type": "code",
        "colab": {
          "base_uri": "https://localhost:8080/",
          "height": 51
        },
        "outputId": "daad3794-8191-4869-90a0-f20c5833a3ec"
      },
      "cell_type": "code",
      "source": [
        "# transpose\n",
        "ex1 = np.array([[11,12],[21,22]])\n",
        "\n",
        "ex1.T"
      ],
      "execution_count": 87,
      "outputs": [
        {
          "output_type": "execute_result",
          "data": {
            "text/plain": [
              "array([[11, 21],\n",
              "       [12, 22]])"
            ]
          },
          "metadata": {
            "tags": []
          },
          "execution_count": 87
        }
      ]
    },
    {
      "metadata": {
        "id": "FqWW9Ar96XBD",
        "colab_type": "text"
      },
      "cell_type": "markdown",
      "source": [
        "<p style=\"font-family: Arial; font-size:1.75em;color:#2462C0; font-style:bold\"><br>\n",
        "\n",
        "Indexing using where():</p>"
      ]
    },
    {
      "metadata": {
        "id": "Yc2kPuDT6XBD",
        "colab_type": "code",
        "colab": {}
      },
      "cell_type": "code",
      "source": [
        "x_1 = np.array([1,2,3,4,5])\n",
        "\n",
        "y_1 = np.array([11,22,33,44,55])\n",
        "\n",
        "filter = np.array([True, False, True, False, True])"
      ],
      "execution_count": 0,
      "outputs": []
    },
    {
      "metadata": {
        "id": "9R-N9ula6XBE",
        "colab_type": "code",
        "colab": {
          "base_uri": "https://localhost:8080/",
          "height": 34
        },
        "outputId": "80202cda-7394-4745-a732-ef1269272744"
      },
      "cell_type": "code",
      "source": [
        "out = np.where(filter, x_1, y_1)\n",
        "print(out)"
      ],
      "execution_count": 89,
      "outputs": [
        {
          "output_type": "stream",
          "text": [
            "[ 1 22  3 44  5]\n"
          ],
          "name": "stdout"
        }
      ]
    },
    {
      "metadata": {
        "id": "lXOYpwrx6XBE",
        "colab_type": "code",
        "colab": {
          "base_uri": "https://localhost:8080/",
          "height": 102
        },
        "outputId": "29edb36f-e15e-44e2-e3d6-7510840352dd"
      },
      "cell_type": "code",
      "source": [
        "mat = np.random.rand(5,5)\n",
        "mat"
      ],
      "execution_count": 90,
      "outputs": [
        {
          "output_type": "execute_result",
          "data": {
            "text/plain": [
              "array([[0.0998831 , 0.84511739, 0.28375247, 0.28111927, 0.62984663],\n",
              "       [0.7443991 , 0.71678183, 0.97425984, 0.81212475, 0.94280447],\n",
              "       [0.62533968, 0.79123078, 0.18964328, 0.53289472, 0.52697385],\n",
              "       [0.97055481, 0.52770191, 0.9960613 , 0.54955136, 0.20373328],\n",
              "       [0.89675825, 0.91883091, 0.34344092, 0.58935224, 0.45859657]])"
            ]
          },
          "metadata": {
            "tags": []
          },
          "execution_count": 90
        }
      ]
    },
    {
      "metadata": {
        "id": "oA2WOGRG6XBG",
        "colab_type": "code",
        "colab": {
          "base_uri": "https://localhost:8080/",
          "height": 102
        },
        "outputId": "c3f169d1-9377-4a7b-d332-79b60ae68cac"
      },
      "cell_type": "code",
      "source": [
        "np.where( mat > 0.5, 1000, -1)"
      ],
      "execution_count": 91,
      "outputs": [
        {
          "output_type": "execute_result",
          "data": {
            "text/plain": [
              "array([[  -1, 1000,   -1,   -1, 1000],\n",
              "       [1000, 1000, 1000, 1000, 1000],\n",
              "       [1000, 1000,   -1, 1000, 1000],\n",
              "       [1000, 1000, 1000, 1000,   -1],\n",
              "       [1000, 1000,   -1, 1000,   -1]])"
            ]
          },
          "metadata": {
            "tags": []
          },
          "execution_count": 91
        }
      ]
    },
    {
      "metadata": {
        "id": "gNoZXBKB6XBH",
        "colab_type": "text"
      },
      "cell_type": "markdown",
      "source": [
        "<p style=\"font-family: Arial; font-size:1.75em;color:#2462C0; font-style:bold\"><br>\n",
        "\n",
        "\"any\" or \"all\" conditionals:</p>"
      ]
    },
    {
      "metadata": {
        "id": "108a1lnF6XBH",
        "colab_type": "code",
        "colab": {}
      },
      "cell_type": "code",
      "source": [
        "arr_bools = np.array([ True, False, True, True, False ])"
      ],
      "execution_count": 0,
      "outputs": []
    },
    {
      "metadata": {
        "id": "MWc8CSyK6XBJ",
        "colab_type": "code",
        "colab": {
          "base_uri": "https://localhost:8080/",
          "height": 34
        },
        "outputId": "aa52561f-6176-4e71-8440-0ee53f9c9a49"
      },
      "cell_type": "code",
      "source": [
        "arr_bools.any()"
      ],
      "execution_count": 93,
      "outputs": [
        {
          "output_type": "execute_result",
          "data": {
            "text/plain": [
              "True"
            ]
          },
          "metadata": {
            "tags": []
          },
          "execution_count": 93
        }
      ]
    },
    {
      "metadata": {
        "scrolled": true,
        "id": "CI9xPkyn6XBK",
        "colab_type": "code",
        "colab": {
          "base_uri": "https://localhost:8080/",
          "height": 34
        },
        "outputId": "6b127330-fc77-4bb1-c64c-60b565936fb3"
      },
      "cell_type": "code",
      "source": [
        "arr_bools.all()"
      ],
      "execution_count": 94,
      "outputs": [
        {
          "output_type": "execute_result",
          "data": {
            "text/plain": [
              "False"
            ]
          },
          "metadata": {
            "tags": []
          },
          "execution_count": 94
        }
      ]
    },
    {
      "metadata": {
        "id": "1-_z-nN06XBK",
        "colab_type": "text"
      },
      "cell_type": "markdown",
      "source": [
        "<p style=\"font-family: Arial; font-size:1.75em;color:#2462C0; font-style:bold\"><br>\n",
        "\n",
        "Random Number Generation:\n",
        "</p>"
      ]
    },
    {
      "metadata": {
        "id": "sBkmwpUA6XBL",
        "colab_type": "code",
        "colab": {
          "base_uri": "https://localhost:8080/",
          "height": 34
        },
        "outputId": "ca95e28f-a079-4291-ffb3-1f965bef6512"
      },
      "cell_type": "code",
      "source": [
        "Y = np.random.normal(size = (1,5))[0]\n",
        "print(Y)"
      ],
      "execution_count": 95,
      "outputs": [
        {
          "output_type": "stream",
          "text": [
            "[ 0.89127748 -1.94821911 -0.20978492 -1.03418734  0.27774098]\n"
          ],
          "name": "stdout"
        }
      ]
    },
    {
      "metadata": {
        "id": "DPkK48uS6XBM",
        "colab_type": "code",
        "colab": {
          "base_uri": "https://localhost:8080/",
          "height": 34
        },
        "outputId": "471c511b-feb7-44e3-d1b4-c4a0428d7d31"
      },
      "cell_type": "code",
      "source": [
        "Z = np.random.randint(low=2,high=50,size=4)\n",
        "print(Z)"
      ],
      "execution_count": 96,
      "outputs": [
        {
          "output_type": "stream",
          "text": [
            "[39 11  5 40]\n"
          ],
          "name": "stdout"
        }
      ]
    },
    {
      "metadata": {
        "id": "MR3CPcSr6XBN",
        "colab_type": "code",
        "colab": {
          "base_uri": "https://localhost:8080/",
          "height": 34
        },
        "outputId": "ab24c8ad-c704-4a92-d315-4ef552d1f555"
      },
      "cell_type": "code",
      "source": [
        "np.random.permutation(Z) #return a new ordering of elements in Z"
      ],
      "execution_count": 97,
      "outputs": [
        {
          "output_type": "execute_result",
          "data": {
            "text/plain": [
              "array([39, 11, 40,  5])"
            ]
          },
          "metadata": {
            "tags": []
          },
          "execution_count": 97
        }
      ]
    },
    {
      "metadata": {
        "id": "agLGIl0G6XBN",
        "colab_type": "code",
        "colab": {
          "base_uri": "https://localhost:8080/",
          "height": 34
        },
        "outputId": "f241ca13-3a24-4f2f-9217-579f5bc3fd1c"
      },
      "cell_type": "code",
      "source": [
        "np.random.uniform(size=4) #uniform distribution"
      ],
      "execution_count": 98,
      "outputs": [
        {
          "output_type": "execute_result",
          "data": {
            "text/plain": [
              "array([0.58836214, 0.86851306, 0.42301711, 0.96993286])"
            ]
          },
          "metadata": {
            "tags": []
          },
          "execution_count": 98
        }
      ]
    },
    {
      "metadata": {
        "id": "bTrUVF4L6XBO",
        "colab_type": "code",
        "colab": {
          "base_uri": "https://localhost:8080/",
          "height": 34
        },
        "outputId": "c25941c5-bb9f-426c-88fc-7e9141e68dcf"
      },
      "cell_type": "code",
      "source": [
        "np.random.normal(size=4) #normal distribution"
      ],
      "execution_count": 99,
      "outputs": [
        {
          "output_type": "execute_result",
          "data": {
            "text/plain": [
              "array([-0.808005  ,  0.08993737, -1.22676263,  1.48557633])"
            ]
          },
          "metadata": {
            "tags": []
          },
          "execution_count": 99
        }
      ]
    },
    {
      "metadata": {
        "id": "FVxmMA2Y6XBP",
        "colab_type": "text"
      },
      "cell_type": "markdown",
      "source": [
        "<p style=\"font-family: Arial; font-size:1.75em;color:#2462C0; font-style:bold\"><br>\n",
        "\n",
        "Merging data sets:\n",
        "</p>"
      ]
    },
    {
      "metadata": {
        "id": "X1CzhTP_6XBQ",
        "colab_type": "code",
        "colab": {
          "base_uri": "https://localhost:8080/",
          "height": 102
        },
        "outputId": "f373d394-063d-4500-bb6e-b97a19742a9b"
      },
      "cell_type": "code",
      "source": [
        "K = np.random.randint(low=2,high=50,size=(2,2))\n",
        "print(K)\n",
        "\n",
        "print()\n",
        "M = np.random.randint(low=2,high=50,size=(2,2))\n",
        "print(M)"
      ],
      "execution_count": 100,
      "outputs": [
        {
          "output_type": "stream",
          "text": [
            "[[16 15]\n",
            " [27  6]]\n",
            "\n",
            "[[43 28]\n",
            " [29 33]]\n"
          ],
          "name": "stdout"
        }
      ]
    },
    {
      "metadata": {
        "id": "55BiloYg6XBR",
        "colab_type": "code",
        "colab": {
          "base_uri": "https://localhost:8080/",
          "height": 85
        },
        "outputId": "aeea5c79-f7c7-472a-9df1-b98797bd428d"
      },
      "cell_type": "code",
      "source": [
        "np.vstack((K,M))"
      ],
      "execution_count": 101,
      "outputs": [
        {
          "output_type": "execute_result",
          "data": {
            "text/plain": [
              "array([[16, 15],\n",
              "       [27,  6],\n",
              "       [43, 28],\n",
              "       [29, 33]])"
            ]
          },
          "metadata": {
            "tags": []
          },
          "execution_count": 101
        }
      ]
    },
    {
      "metadata": {
        "id": "-lBrj4uI6XBS",
        "colab_type": "code",
        "colab": {
          "base_uri": "https://localhost:8080/",
          "height": 51
        },
        "outputId": "ec036cda-ed43-4eb2-c7c9-95f31280ea4f"
      },
      "cell_type": "code",
      "source": [
        "np.hstack((K,M))"
      ],
      "execution_count": 102,
      "outputs": [
        {
          "output_type": "execute_result",
          "data": {
            "text/plain": [
              "array([[16, 15, 43, 28],\n",
              "       [27,  6, 29, 33]])"
            ]
          },
          "metadata": {
            "tags": []
          },
          "execution_count": 102
        }
      ]
    },
    {
      "metadata": {
        "id": "OhyakYOM6XBU",
        "colab_type": "code",
        "colab": {
          "base_uri": "https://localhost:8080/",
          "height": 85
        },
        "outputId": "1ef5164a-7816-412e-caab-6615efa1cc9c"
      },
      "cell_type": "code",
      "source": [
        "np.concatenate([K, M], axis = 0)"
      ],
      "execution_count": 103,
      "outputs": [
        {
          "output_type": "execute_result",
          "data": {
            "text/plain": [
              "array([[16, 15],\n",
              "       [27,  6],\n",
              "       [43, 28],\n",
              "       [29, 33]])"
            ]
          },
          "metadata": {
            "tags": []
          },
          "execution_count": 103
        }
      ]
    },
    {
      "metadata": {
        "id": "G_LDh_ld6XBV",
        "colab_type": "code",
        "colab": {
          "base_uri": "https://localhost:8080/",
          "height": 51
        },
        "outputId": "45fc0a00-f942-406d-fd48-ab0e5cd0e3b4"
      },
      "cell_type": "code",
      "source": [
        "np.concatenate([K, M.T], axis = 1)"
      ],
      "execution_count": 104,
      "outputs": [
        {
          "output_type": "execute_result",
          "data": {
            "text/plain": [
              "array([[16, 15, 43, 29],\n",
              "       [27,  6, 28, 33]])"
            ]
          },
          "metadata": {
            "tags": []
          },
          "execution_count": 104
        }
      ]
    }
  ]
}