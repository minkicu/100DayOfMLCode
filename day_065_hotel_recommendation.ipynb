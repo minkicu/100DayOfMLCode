{
  "nbformat": 4,
  "nbformat_minor": 0,
  "metadata": {
    "colab": {
      "name": "day_065_hotel_recommendation.ipynb",
      "version": "0.3.2",
      "provenance": [],
      "collapsed_sections": [],
      "include_colab_link": true
    },
    "kernelspec": {
      "name": "python3",
      "display_name": "Python 3"
    }
  },
  "cells": [
    {
      "cell_type": "markdown",
      "metadata": {
        "id": "view-in-github",
        "colab_type": "text"
      },
      "source": [
        "<a href=\"https://colab.research.google.com/github/rkrissada/100DayOfMLCode/blob/master/day_065_hotel_recommendation.ipynb\" target=\"_parent\"><img src=\"https://colab.research.google.com/assets/colab-badge.svg\" alt=\"Open In Colab\"/></a>"
      ]
    },
    {
      "metadata": {
        "id": "cCAM8mLOIGd-",
        "colab_type": "text"
      },
      "cell_type": "markdown",
      "source": [
        "# Building a Hotel Recommendation"
      ]
    },
    {
      "metadata": {
        "id": "yDKyT77VJpvb",
        "colab_type": "text"
      },
      "cell_type": "markdown",
      "source": [
        "We aim to create the optimal hotel recommendations for Expedia's users that are searching for a hotel book. We will model this problem as a multi-class classification problem."
      ]
    },
    {
      "metadata": {
        "id": "lLEPhQLwJN-Q",
        "colab_type": "text"
      },
      "cell_type": "markdown",
      "source": [
        "## Data\n",
        "\n",
        "The data set can bee found at [Kaggle](https://www.kaggle.com/c/expedia-hotel-recommendations/data), we will use train.csv which captured the logs of user behavior, and destinations.csv which contains information related to hotel reviews made by users."
      ]
    },
    {
      "metadata": {
        "id": "P2dev1eAI3aB",
        "colab_type": "code",
        "colab": {}
      },
      "cell_type": "code",
      "source": [
        ""
      ],
      "execution_count": 0,
      "outputs": []
    }
  ]
}