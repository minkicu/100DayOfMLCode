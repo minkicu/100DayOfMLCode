{
  "nbformat": 4,
  "nbformat_minor": 0,
  "metadata": {
    "colab": {
      "name": "day_053_permutations_and_combinations.ipynb",
      "version": "0.3.2",
      "provenance": [],
      "collapsed_sections": [],
      "include_colab_link": true
    },
    "kernelspec": {
      "display_name": "Python 3",
      "language": "python",
      "name": "python3"
    }
  },
  "cells": [
    {
      "cell_type": "markdown",
      "metadata": {
        "id": "view-in-github",
        "colab_type": "text"
      },
      "source": [
        "<a href=\"https://colab.research.google.com/github/rkrissada/100DayOfMLCode/blob/master/day_053_permutations_and_combinations.ipynb\" target=\"_parent\"><img src=\"https://colab.research.google.com/assets/colab-badge.svg\" alt=\"Open In Colab\"/></a>"
      ]
    },
    {
      "metadata": {
        "id": "aqKufsCQhB6S",
        "colab_type": "text"
      },
      "cell_type": "markdown",
      "source": [
        "# Permutations and Combinations\n",
        "\n",
        "## Permutations\n",
        "\n",
        "In mathematics, the notion of permutation relates to the act of arranging all the members of a set into some sequence or order, or if the set is already ordered, rearranging (reordering) its elements, a process called __permuting__. The study of permutations of finite sets is a topic in the field of [combinatorics](https://en.wikipedia.org/wiki/Combinatorics). \n",
        "\n",
        "We find the number of $k$-permutations of $A$, first by determining the set of permutations and then by calculating $\\frac{|A|!}{(|A|-k)!}$. We first consider the special case of $k=|A|$, which is equivalent to finding the number of ways of ordering the elements of $A$. First we import the  **itertools** library."
      ]
    },
    {
      "metadata": {
        "id": "gGOI5aE5hB6X",
        "colab_type": "text"
      },
      "cell_type": "markdown",
      "source": [
        "![rubiks_cube](https://upload.wikimedia.org/wikipedia/commons/a/a6/Rubik%27s_cube.svg)\n",
        "\n",
        "### In the popular puzzle Rubik's cube invented in 1974 by Ernő Rubik, each turn of the puzzle faces creates a permutation of the surface colors."
      ]
    },
    {
      "metadata": {
        "id": "I54q6zg1hB6a",
        "colab_type": "code",
        "colab": {}
      },
      "cell_type": "code",
      "source": [
        "import itertools"
      ],
      "execution_count": 0,
      "outputs": []
    },
    {
      "metadata": {
        "id": "EH-RygYThB6i",
        "colab_type": "code",
        "colab": {}
      },
      "cell_type": "code",
      "source": [
        "A = {1, 2, 3}"
      ],
      "execution_count": 0,
      "outputs": []
    },
    {
      "metadata": {
        "id": "NPOdQ5_YhB6m",
        "colab_type": "text"
      },
      "cell_type": "markdown",
      "source": [
        "### All permutations of A and |A!|"
      ]
    },
    {
      "metadata": {
        "id": "lVkQNbqrhB6n",
        "colab_type": "code",
        "colab": {
          "base_uri": "https://localhost:8080/",
          "height": 153
        },
        "outputId": "9938d10f-dabd-463f-eb2d-b1b0d3cd3bfd"
      },
      "cell_type": "code",
      "source": [
        "# Find all permutations of A and |A!|\n",
        "permute_all = set(itertools.permutations(A))\n",
        "print(\"Permutations of %s:  \" %A)\n",
        "for i in permute_all:\n",
        "    print(i)\n",
        "print;print (\"Number of permutations: \", len(permute_all))"
      ],
      "execution_count": 3,
      "outputs": [
        {
          "output_type": "stream",
          "text": [
            "Permutations of {1, 2, 3}:  \n",
            "(3, 1, 2)\n",
            "(1, 3, 2)\n",
            "(3, 2, 1)\n",
            "(2, 3, 1)\n",
            "(1, 2, 3)\n",
            "(2, 1, 3)\n",
            "Number of permutations:  6\n"
          ],
          "name": "stdout"
        }
      ]
    },
    {
      "metadata": {
        "id": "ItELaLI8hB6u",
        "colab_type": "code",
        "colab": {
          "base_uri": "https://localhost:8080/",
          "height": 34
        },
        "outputId": "1b552d42-c727-4d20-bb03-f2ebdf7bcbb3"
      },
      "cell_type": "code",
      "source": [
        "# Find |A|! directly\n",
        "from math import factorial\n",
        "print(factorial(len(A)))"
      ],
      "execution_count": 4,
      "outputs": [
        {
          "output_type": "stream",
          "text": [
            "6\n"
          ],
          "name": "stdout"
        }
      ]
    },
    {
      "metadata": {
        "id": "kFNcAwvMhB6z",
        "colab_type": "code",
        "colab": {}
      },
      "cell_type": "code",
      "source": [
        "A = {1, 2, 3, 4}\n",
        "k = 3"
      ],
      "execution_count": 0,
      "outputs": []
    },
    {
      "metadata": {
        "id": "By2DCBLahB62",
        "colab_type": "code",
        "colab": {
          "base_uri": "https://localhost:8080/",
          "height": 459
        },
        "outputId": "0f863a9b-d7c2-45e4-c325-8a4caf05b6a8"
      },
      "cell_type": "code",
      "source": [
        "# Print all the k-permutations of A\n",
        "n = len(A)\n",
        "permute_k = list(itertools.permutations(A, k))\n",
        "print(\"%i-permutations of %s:  \" %(k,A))\n",
        "for i in permute_k:\n",
        "    print(i)\n",
        "print;\n",
        "print (\"Size = {}!/({}-{})! = {}\".format(n,n,k, len(permute_k)))"
      ],
      "execution_count": 6,
      "outputs": [
        {
          "output_type": "stream",
          "text": [
            "3-permutations of {1, 2, 3, 4}:  \n",
            "(1, 2, 3)\n",
            "(1, 2, 4)\n",
            "(1, 3, 2)\n",
            "(1, 3, 4)\n",
            "(1, 4, 2)\n",
            "(1, 4, 3)\n",
            "(2, 1, 3)\n",
            "(2, 1, 4)\n",
            "(2, 3, 1)\n",
            "(2, 3, 4)\n",
            "(2, 4, 1)\n",
            "(2, 4, 3)\n",
            "(3, 1, 2)\n",
            "(3, 1, 4)\n",
            "(3, 2, 1)\n",
            "(3, 2, 4)\n",
            "(3, 4, 1)\n",
            "(3, 4, 2)\n",
            "(4, 1, 2)\n",
            "(4, 1, 3)\n",
            "(4, 2, 1)\n",
            "(4, 2, 3)\n",
            "(4, 3, 1)\n",
            "(4, 3, 2)\n",
            "Size = 4!/(4-3)! = 24\n"
          ],
          "name": "stdout"
        }
      ]
    },
    {
      "metadata": {
        "id": "nvWK4UiihB66",
        "colab_type": "code",
        "colab": {
          "base_uri": "https://localhost:8080/",
          "height": 34
        },
        "outputId": "d0d55a55-2431-4437-8039-c60cefef9a42"
      },
      "cell_type": "code",
      "source": [
        "# Print |A|!/(|A|-k)! directly\n",
        "print(int(factorial(len(A))/factorial(len(A)-k)))"
      ],
      "execution_count": 7,
      "outputs": [
        {
          "output_type": "stream",
          "text": [
            "24\n"
          ],
          "name": "stdout"
        }
      ]
    },
    {
      "metadata": {
        "id": "DPJmZIFohB6-",
        "colab_type": "text"
      },
      "cell_type": "markdown",
      "source": [
        "## Combinations\n",
        "\n",
        "Combinatorics is an area of mathematics primarily concerned with counting, both as a means and an end in obtaining results, and certain properties of finite structures. It is closely related to many other areas of mathematics and has many applications ranging from logic to statistical physics, from evolutionary biology to computer science, etc.\n",
        "\n",
        "Combinatorics is well known for the breadth of the problems it tackles. Combinatorial problems arise in many areas of pure mathematics, notably in algebra, [probability theory](https://en.wikipedia.org/wiki/Probability_theory), [topology](https://en.wikipedia.org/wiki/Topology), and geometry, as well as in its many application areas. Many combinatorial questions have historically been considered in isolation, giving an _ad hoc_ solution to a problem arising in some mathematical context. In the later twentieth century, however, powerful and general theoretical methods were developed, making combinatorics into an independent branch of mathematics in its own right. One of the oldest and most accessible parts of combinatorics is [graph theory](https://en.wikipedia.org/wiki/Graph_theory), which by itself has numerous natural connections to other areas. Combinatorics is used frequently in computer science to obtain formulas and estimates in the [analysis of algorithms](https://en.wikipedia.org/wiki/Analysis_of_algorithms).\n",
        "\n",
        "We find the number of $k$-combinations of $A$, first by determining the set of combinations and then by simply calculating ${|A|}\\choose{k}$."
      ]
    },
    {
      "metadata": {
        "id": "EDs0Ac6ohB6_",
        "colab_type": "code",
        "colab": {}
      },
      "cell_type": "code",
      "source": [
        "from scipy.special import binom          # to calculate the binomial coefficients |A| choose k"
      ],
      "execution_count": 0,
      "outputs": []
    },
    {
      "metadata": {
        "id": "yOybG1-nhB7C",
        "colab_type": "code",
        "colab": {}
      },
      "cell_type": "code",
      "source": [
        "A = {1, 2, 3, 4}\n",
        "k = 2"
      ],
      "execution_count": 0,
      "outputs": []
    },
    {
      "metadata": {
        "scrolled": true,
        "id": "HshZ2zSihB7N",
        "colab_type": "code",
        "colab": {
          "base_uri": "https://localhost:8080/",
          "height": 153
        },
        "outputId": "bf4e4515-439b-47cc-c5cf-2289a4f7b7db"
      },
      "cell_type": "code",
      "source": [
        "# Print all the k-combinations of A\n",
        "choose_k = list(itertools.combinations(A,k))\n",
        "print(\"%i-combinations of %s:  \" %(k,A))\n",
        "for i in choose_k:\n",
        "    print(i)\n",
        "print;print(\"Number of combinations = %i!/(%i!(%i-%i)!) = %i\" %(n,k,n,k,len(choose_k)  ))"
      ],
      "execution_count": 10,
      "outputs": [
        {
          "output_type": "stream",
          "text": [
            "2-combinations of {1, 2, 3, 4}:  \n",
            "(1, 2)\n",
            "(1, 3)\n",
            "(1, 4)\n",
            "(2, 3)\n",
            "(2, 4)\n",
            "(3, 4)\n",
            "Number of combinations = 4!/(2!(4-2)!) = 6\n"
          ],
          "name": "stdout"
        }
      ]
    },
    {
      "metadata": {
        "id": "zJ4U-vKqhB7X",
        "colab_type": "code",
        "colab": {
          "base_uri": "https://localhost:8080/",
          "height": 34
        },
        "outputId": "c53c0238-cc51-49fe-b28a-e842a2734c16"
      },
      "cell_type": "code",
      "source": [
        "# Print |A|!/(k!(|A|-k)!) directly\n",
        "print(int(factorial(len(A))/(factorial(k)*factorial(len(A)-k))))"
      ],
      "execution_count": 11,
      "outputs": [
        {
          "output_type": "stream",
          "text": [
            "6\n"
          ],
          "name": "stdout"
        }
      ]
    },
    {
      "metadata": {
        "id": "JcCcFiGBhB7f",
        "colab_type": "text"
      },
      "cell_type": "markdown",
      "source": [
        "#### If you want to concatenate characters such as letters of the English alphabet and print them as strings, you can use the _join()_ function."
      ]
    },
    {
      "metadata": {
        "id": "QwvqnARVhB7i",
        "colab_type": "code",
        "colab": {
          "base_uri": "https://localhost:8080/",
          "height": 119
        },
        "outputId": "d4432250-7b5b-434c-862b-5b8854ab278e"
      },
      "cell_type": "code",
      "source": [
        "A = {'m','a','t','h'}\n",
        "k = 3\n",
        "# Print all the k-permutations of S\n",
        "n = len(A)\n",
        "permute_k = list(itertools.permutations(A, k))\n",
        "print(\"%i-permutations of %s:\" %(k,A))\n",
        "for i in range(0, len(permute_k)):\n",
        "    print(''.join(permute_k[i]),end=',')\n",
        "print;print (\"Size =  %i!/(%i-%i)! = \" %(n,n,k), len(permute_k))\n",
        "\n",
        "print(\"\\n\")\n",
        "\n",
        "n = len(A)\n",
        "k=4\n",
        "permute_k = list(itertools.permutations(A, 4))\n",
        "print(\"%i-permutations of %s:\" %(k,A))\n",
        "for i in range(0, len(permute_k)):\n",
        "    print(''.join(permute_k[i]),end=',')\n",
        "print;print (\"Size =  %i!/(%i-%i)! = \" %(n,n,k), len(permute_k))"
      ],
      "execution_count": 12,
      "outputs": [
        {
          "output_type": "stream",
          "text": [
            "3-permutations of {'a', 'm', 'h', 't'}:\n",
            "amh,amt,ahm,aht,atm,ath,mah,mat,mha,mht,mta,mth,ham,hat,hma,hmt,hta,htm,tam,tah,tma,tmh,tha,thm,Size =  4!/(4-3)! =  24\n",
            "\n",
            "\n",
            "4-permutations of {'a', 'm', 'h', 't'}:\n",
            "amht,amth,ahmt,ahtm,atmh,athm,maht,math,mhat,mhta,mtah,mtha,hamt,hatm,hmat,hmta,htam,htma,tamh,tahm,tmah,tmha,tham,thma,Size =  4!/(4-4)! =  24\n"
          ],
          "name": "stdout"
        }
      ]
    },
    {
      "metadata": {
        "id": "hxVz1zPdhB7v",
        "colab_type": "code",
        "colab": {
          "base_uri": "https://localhost:8080/",
          "height": 34
        },
        "outputId": "09a49a80-8576-474a-c350-b3d580e5e2f7"
      },
      "cell_type": "code",
      "source": [
        "# Print |A|!/(|A|-k)! directly\n",
        "print(int(factorial(len(A))/factorial(len(A)-k)))"
      ],
      "execution_count": 13,
      "outputs": [
        {
          "output_type": "stream",
          "text": [
            "24\n"
          ],
          "name": "stdout"
        }
      ]
    },
    {
      "metadata": {
        "id": "rBAAiMbMhB76",
        "colab_type": "code",
        "colab": {}
      },
      "cell_type": "code",
      "source": [
        "A = {'a', 'b', 'c', 'd'}\n",
        "k = 2"
      ],
      "execution_count": 0,
      "outputs": []
    },
    {
      "metadata": {
        "scrolled": true,
        "id": "eUBlkbRghB8O",
        "colab_type": "code",
        "colab": {
          "base_uri": "https://localhost:8080/",
          "height": 170
        },
        "outputId": "a9fca78f-0ba2-4458-fd22-c61b80277d09"
      },
      "cell_type": "code",
      "source": [
        "# Print all the k-combinations of A\n",
        "choose_k = list(itertools.combinations(A,k))\n",
        "print(\"%i-combinations of %s:\\n\" %(k,A))\n",
        "for i in range(0, len(choose_k)):\n",
        "    print(''.join(choose_k[i]) )\n",
        "print;print (\"Size = %i!/(%i!(%i-%i)!) = \" %(n,k,n,k), len(choose_k))"
      ],
      "execution_count": 15,
      "outputs": [
        {
          "output_type": "stream",
          "text": [
            "2-combinations of {'a', 'd', 'b', 'c'}:\n",
            "\n",
            "ad\n",
            "ab\n",
            "ac\n",
            "db\n",
            "dc\n",
            "bc\n",
            "Size = 4!/(2!(4-2)!) =  6\n"
          ],
          "name": "stdout"
        }
      ]
    },
    {
      "metadata": {
        "id": "K5R-VWPEhB8U",
        "colab_type": "code",
        "colab": {
          "base_uri": "https://localhost:8080/",
          "height": 34
        },
        "outputId": "53463e87-7d73-4776-d483-4d372d99c511"
      },
      "cell_type": "code",
      "source": [
        "# Print |A|!/(k!(|A|-k)!) directly\n",
        "print(int(factorial(len(A))/(factorial(k)*factorial(len(A)-k))))"
      ],
      "execution_count": 16,
      "outputs": [
        {
          "output_type": "stream",
          "text": [
            "6\n"
          ],
          "name": "stdout"
        }
      ]
    }
  ]
}