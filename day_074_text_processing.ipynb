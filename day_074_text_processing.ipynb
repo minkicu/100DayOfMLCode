{
  "nbformat": 4,
  "nbformat_minor": 0,
  "metadata": {
    "colab": {
      "name": "day_074_text_processing.ipynb",
      "version": "0.3.2",
      "provenance": [],
      "collapsed_sections": [],
      "include_colab_link": true
    },
    "kernelspec": {
      "name": "python3",
      "display_name": "Python 3"
    }
  },
  "cells": [
    {
      "cell_type": "markdown",
      "metadata": {
        "id": "view-in-github",
        "colab_type": "text"
      },
      "source": [
        "<a href=\"https://colab.research.google.com/github/rkrissada/100DayOfMLCode/blob/master/day_074_text_processing.ipynb\" target=\"_parent\"><img src=\"https://colab.research.google.com/assets/colab-badge.svg\" alt=\"Open In Colab\"/></a>"
      ]
    },
    {
      "cell_type": "code",
      "metadata": {
        "id": "UJWJOzqVQ3OJ",
        "colab_type": "code",
        "colab": {}
      },
      "source": [
        "import requests\n",
        "import json\n",
        "\n",
        "r = requests.get(\"https://quotes.rest/qod.json\")\n",
        "res = r.json()"
      ],
      "execution_count": 0,
      "outputs": []
    },
    {
      "cell_type": "code",
      "metadata": {
        "id": "s3Dlpv_lRCdH",
        "colab_type": "code",
        "colab": {
          "base_uri": "https://localhost:8080/",
          "height": 54
        },
        "outputId": "36ae0dcc-38d2-4475-97bd-57c2cd7c8e4e"
      },
      "source": [
        "print(json.dumps(res))"
      ],
      "execution_count": 8,
      "outputs": [
        {
          "output_type": "stream",
          "text": [
            "{\"success\": {\"total\": 1}, \"contents\": {\"quotes\": [{\"quote\": \"Successful people appear to be traveling along one continual, successful road. What is not apparent is the perseverance it takes following each defeat to keep you on that road. No one I know of has ever experienced one success after another without defeats, failures, disappointments, and frustrations galore along the way. Learning to overcome those times of agony is what separates the winners from the losers.\", \"author\": \"G. Kingsley Ward\", \"length\": \"412\", \"tags\": [\"failure\", \"inspire\", \"perseverance\", \"success\", \"winning\"], \"category\": \"inspire\", \"title\": \"Inspiring Quote of the day\", \"date\": \"2019-05-26\", \"id\": null}], \"copyright\": \"2017-19 theysaidso.com\"}}\n"
          ],
          "name": "stdout"
        }
      ]
    },
    {
      "cell_type": "code",
      "metadata": {
        "id": "W7WNaqu0RSpR",
        "colab_type": "code",
        "colab": {
          "base_uri": "https://localhost:8080/",
          "height": 479
        },
        "outputId": "f55c0547-21c5-45de-97aa-7daf49d49a84"
      },
      "source": [
        "print(json.dumps(res, indent = 4))"
      ],
      "execution_count": 9,
      "outputs": [
        {
          "output_type": "stream",
          "text": [
            "{\n",
            "    \"success\": {\n",
            "        \"total\": 1\n",
            "    },\n",
            "    \"contents\": {\n",
            "        \"quotes\": [\n",
            "            {\n",
            "                \"quote\": \"Successful people appear to be traveling along one continual, successful road. What is not apparent is the perseverance it takes following each defeat to keep you on that road. No one I know of has ever experienced one success after another without defeats, failures, disappointments, and frustrations galore along the way. Learning to overcome those times of agony is what separates the winners from the losers.\",\n",
            "                \"author\": \"G. Kingsley Ward\",\n",
            "                \"length\": \"412\",\n",
            "                \"tags\": [\n",
            "                    \"failure\",\n",
            "                    \"inspire\",\n",
            "                    \"perseverance\",\n",
            "                    \"success\",\n",
            "                    \"winning\"\n",
            "                ],\n",
            "                \"category\": \"inspire\",\n",
            "                \"title\": \"Inspiring Quote of the day\",\n",
            "                \"date\": \"2019-05-26\",\n",
            "                \"id\": null\n",
            "            }\n",
            "        ],\n",
            "        \"copyright\": \"2017-19 theysaidso.com\"\n",
            "    }\n",
            "}\n"
          ],
          "name": "stdout"
        }
      ]
    },
    {
      "cell_type": "code",
      "metadata": {
        "id": "rm8zDzk8Q-YM",
        "colab_type": "code",
        "colab": {
          "base_uri": "https://localhost:8080/",
          "height": 173
        },
        "outputId": "164e7767-55a7-4de7-d340-b8fd4be16907"
      },
      "source": [
        "res['contents']['quotes']"
      ],
      "execution_count": 14,
      "outputs": [
        {
          "output_type": "execute_result",
          "data": {
            "text/plain": [
              "[{'author': 'G. Kingsley Ward',\n",
              "  'category': 'inspire',\n",
              "  'date': '2019-05-26',\n",
              "  'id': None,\n",
              "  'length': '412',\n",
              "  'quote': 'Successful people appear to be traveling along one continual, successful road. What is not apparent is the perseverance it takes following each defeat to keep you on that road. No one I know of has ever experienced one success after another without defeats, failures, disappointments, and frustrations galore along the way. Learning to overcome those times of agony is what separates the winners from the losers.',\n",
              "  'tags': ['failure', 'inspire', 'perseverance', 'success', 'winning'],\n",
              "  'title': 'Inspiring Quote of the day'}]"
            ]
          },
          "metadata": {
            "tags": []
          },
          "execution_count": 14
        }
      ]
    },
    {
      "cell_type": "code",
      "metadata": {
        "id": "Z8B1n9CdRd3f",
        "colab_type": "code",
        "colab": {
          "base_uri": "https://localhost:8080/",
          "height": 173
        },
        "outputId": "8537e930-3ca1-4559-bea9-08cfcab36f4b"
      },
      "source": [
        "res['contents']['quotes'][0]"
      ],
      "execution_count": 15,
      "outputs": [
        {
          "output_type": "execute_result",
          "data": {
            "text/plain": [
              "{'author': 'G. Kingsley Ward',\n",
              " 'category': 'inspire',\n",
              " 'date': '2019-05-26',\n",
              " 'id': None,\n",
              " 'length': '412',\n",
              " 'quote': 'Successful people appear to be traveling along one continual, successful road. What is not apparent is the perseverance it takes following each defeat to keep you on that road. No one I know of has ever experienced one success after another without defeats, failures, disappointments, and frustrations galore along the way. Learning to overcome those times of agony is what separates the winners from the losers.',\n",
              " 'tags': ['failure', 'inspire', 'perseverance', 'success', 'winning'],\n",
              " 'title': 'Inspiring Quote of the day'}"
            ]
          },
          "metadata": {
            "tags": []
          },
          "execution_count": 15
        }
      ]
    },
    {
      "cell_type": "code",
      "metadata": {
        "id": "trCsLsziRmdU",
        "colab_type": "code",
        "colab": {
          "base_uri": "https://localhost:8080/",
          "height": 71
        },
        "outputId": "2ada8db4-216f-4a5e-fabb-c7aeffad8234"
      },
      "source": [
        "q = res['contents']['quotes'][0]\n",
        "print(q['quote'], '\\n--', q['author'])"
      ],
      "execution_count": 16,
      "outputs": [
        {
          "output_type": "stream",
          "text": [
            "Successful people appear to be traveling along one continual, successful road. What is not apparent is the perseverance it takes following each defeat to keep you on that road. No one I know of has ever experienced one success after another without defeats, failures, disappointments, and frustrations galore along the way. Learning to overcome those times of agony is what separates the winners from the losers. \n",
            "-- G. Kingsley Ward\n"
          ],
          "name": "stdout"
        }
      ]
    },
    {
      "cell_type": "markdown",
      "metadata": {
        "id": "duofRMXxRwXF",
        "colab_type": "text"
      },
      "source": [
        "**Normalization**\n",
        "\n",
        "Case Normalization"
      ]
    },
    {
      "cell_type": "code",
      "metadata": {
        "id": "E1m1bvUgRtHd",
        "colab_type": "code",
        "colab": {
          "base_uri": "https://localhost:8080/",
          "height": 54
        },
        "outputId": "0d0c6faf-bc9e-44b8-a93a-8fe13d808145"
      },
      "source": [
        "text = q['quote'].lower()\n",
        "print(text)"
      ],
      "execution_count": 26,
      "outputs": [
        {
          "output_type": "stream",
          "text": [
            "successful people appear to be traveling along one continual, successful road. what is not apparent is the perseverance it takes following each defeat to keep you on that road. no one i know of has ever experienced one success after another without defeats, failures, disappointments, and frustrations galore along the way. learning to overcome those times of agony is what separates the winners from the losers.\n"
          ],
          "name": "stdout"
        }
      ]
    },
    {
      "cell_type": "markdown",
      "metadata": {
        "id": "2T63RQMuSHBR",
        "colab_type": "text"
      },
      "source": [
        "Punctuation Removal"
      ]
    },
    {
      "cell_type": "code",
      "metadata": {
        "id": "JRepeovBSHVI",
        "colab_type": "code",
        "colab": {
          "base_uri": "https://localhost:8080/",
          "height": 54
        },
        "outputId": "c9d1edfc-3f30-4486-fa0c-6e45d19efcea"
      },
      "source": [
        "import re\n",
        "\n",
        "text = re.sub(r'[^a-zA-Z0-9]', ' ', text)\n",
        "print(text)"
      ],
      "execution_count": 27,
      "outputs": [
        {
          "output_type": "stream",
          "text": [
            "successful people appear to be traveling along one continual  successful road  what is not apparent is the perseverance it takes following each defeat to keep you on that road  no one i know of has ever experienced one success after another without defeats  failures  disappointments  and frustrations galore along the way  learning to overcome those times of agony is what separates the winners from the losers \n"
          ],
          "name": "stdout"
        }
      ]
    },
    {
      "cell_type": "markdown",
      "metadata": {
        "id": "LcE3PJ9KSmGb",
        "colab_type": "text"
      },
      "source": [
        "Tokenization"
      ]
    },
    {
      "cell_type": "code",
      "metadata": {
        "id": "rZtTiLZ6SmU_",
        "colab_type": "code",
        "colab": {
          "base_uri": "https://localhost:8080/",
          "height": 54
        },
        "outputId": "c7a4033b-f7d5-4cbe-f2df-5d7d59df0725"
      },
      "source": [
        "words = text.split()\n",
        "print(words)"
      ],
      "execution_count": 37,
      "outputs": [
        {
          "output_type": "stream",
          "text": [
            "['successful', 'people', 'appear', 'to', 'be', 'traveling', 'along', 'one', 'continual', 'successful', 'road', 'what', 'is', 'not', 'apparent', 'is', 'the', 'perseverance', 'it', 'takes', 'following', 'each', 'defeat', 'to', 'keep', 'you', 'on', 'that', 'road', 'no', 'one', 'i', 'know', 'of', 'has', 'ever', 'experienced', 'one', 'success', 'after', 'another', 'without', 'defeats', 'failures', 'disappointments', 'and', 'frustrations', 'galore', 'along', 'the', 'way', 'learning', 'to', 'overcome', 'those', 'times', 'of', 'agony', 'is', 'what', 'separates', 'the', 'winners', 'from', 'the', 'losers']\n"
          ],
          "name": "stdout"
        }
      ]
    },
    {
      "cell_type": "code",
      "metadata": {
        "id": "xR-qvGVXS73q",
        "colab_type": "code",
        "colab": {
          "base_uri": "https://localhost:8080/",
          "height": 34
        },
        "outputId": "b0b642e1-a4b1-427c-ec99-0348377dbf75"
      },
      "source": [
        "print(len(words))"
      ],
      "execution_count": 38,
      "outputs": [
        {
          "output_type": "stream",
          "text": [
            "66\n"
          ],
          "name": "stdout"
        }
      ]
    },
    {
      "cell_type": "markdown",
      "metadata": {
        "id": "v4fUhkzmSqrc",
        "colab_type": "text"
      },
      "source": [
        "\n",
        "NLTK: Natural Language ToolKit"
      ]
    },
    {
      "cell_type": "code",
      "metadata": {
        "id": "_FJkAKSBS24x",
        "colab_type": "code",
        "colab": {
          "base_uri": "https://localhost:8080/",
          "height": 204
        },
        "outputId": "f83ca76a-d779-48e2-d821-c6534ad33e07"
      },
      "source": [
        "import nltk\n",
        "nltk.download('punkt')\n",
        "nltk.download('stopwords')\n",
        "nltk.download('averaged_perceptron_tagger')\n",
        "nltk.download('wordnet')"
      ],
      "execution_count": 61,
      "outputs": [
        {
          "output_type": "stream",
          "text": [
            "[nltk_data] Downloading package punkt to /root/nltk_data...\n",
            "[nltk_data]   Package punkt is already up-to-date!\n",
            "[nltk_data] Downloading package stopwords to /root/nltk_data...\n",
            "[nltk_data]   Package stopwords is already up-to-date!\n",
            "[nltk_data] Downloading package averaged_perceptron_tagger to\n",
            "[nltk_data]     /root/nltk_data...\n",
            "[nltk_data]   Package averaged_perceptron_tagger is already up-to-\n",
            "[nltk_data]       date!\n",
            "[nltk_data] Downloading package wordnet to /root/nltk_data...\n",
            "[nltk_data]   Unzipping corpora/wordnet.zip.\n"
          ],
          "name": "stdout"
        },
        {
          "output_type": "execute_result",
          "data": {
            "text/plain": [
              "True"
            ]
          },
          "metadata": {
            "tags": []
          },
          "execution_count": 61
        }
      ]
    },
    {
      "cell_type": "code",
      "metadata": {
        "id": "FeSe9tfzSq6i",
        "colab_type": "code",
        "colab": {
          "base_uri": "https://localhost:8080/",
          "height": 54
        },
        "outputId": "ba0491c1-75d6-41ca-e3d5-5aa80a2dcc02"
      },
      "source": [
        "from nltk.tokenize import word_tokenize\n",
        "\n",
        "words_2 = word_tokenize(text)\n",
        "print(words_2)"
      ],
      "execution_count": 41,
      "outputs": [
        {
          "output_type": "stream",
          "text": [
            "['successful', 'people', 'appear', 'to', 'be', 'traveling', 'along', 'one', 'continual', 'successful', 'road', 'what', 'is', 'not', 'apparent', 'is', 'the', 'perseverance', 'it', 'takes', 'following', 'each', 'defeat', 'to', 'keep', 'you', 'on', 'that', 'road', 'no', 'one', 'i', 'know', 'of', 'has', 'ever', 'experienced', 'one', 'success', 'after', 'another', 'without', 'defeats', 'failures', 'disappointments', 'and', 'frustrations', 'galore', 'along', 'the', 'way', 'learning', 'to', 'overcome', 'those', 'times', 'of', 'agony', 'is', 'what', 'separates', 'the', 'winners', 'from', 'the', 'losers']\n"
          ],
          "name": "stdout"
        }
      ]
    },
    {
      "cell_type": "code",
      "metadata": {
        "id": "sdmU1mgETIgv",
        "colab_type": "code",
        "colab": {
          "base_uri": "https://localhost:8080/",
          "height": 34
        },
        "outputId": "177576aa-e84e-4046-af18-5f630b021715"
      },
      "source": [
        "print(len(words_2))"
      ],
      "execution_count": 42,
      "outputs": [
        {
          "output_type": "stream",
          "text": [
            "66\n"
          ],
          "name": "stdout"
        }
      ]
    },
    {
      "cell_type": "markdown",
      "metadata": {
        "id": "ZBREP3kRTyfe",
        "colab_type": "text"
      },
      "source": [
        "Split text into sentences"
      ]
    },
    {
      "cell_type": "code",
      "metadata": {
        "id": "7V6odNnVTVSR",
        "colab_type": "code",
        "colab": {
          "base_uri": "https://localhost:8080/",
          "height": 54
        },
        "outputId": "c62881c6-a9e8-4920-a90d-c5531cbd07d2"
      },
      "source": [
        "from nltk.tokenize import sent_tokenize\n",
        "\n",
        "sentence = sent_tokenize(q['quote'])\n",
        "print(sentence)"
      ],
      "execution_count": 44,
      "outputs": [
        {
          "output_type": "stream",
          "text": [
            "['Successful people appear to be traveling along one continual, successful road.', 'What is not apparent is the perseverance it takes following each defeat to keep you on that road.', 'No one I know of has ever experienced one success after another without defeats, failures, disappointments, and frustrations galore along the way.', 'Learning to overcome those times of agony is what separates the winners from the losers.']\n"
          ],
          "name": "stdout"
        }
      ]
    },
    {
      "cell_type": "markdown",
      "metadata": {
        "id": "TxAh-ExiTuco",
        "colab_type": "text"
      },
      "source": [
        "List stopwords"
      ]
    },
    {
      "cell_type": "code",
      "metadata": {
        "id": "sckZ0FK6Tc9R",
        "colab_type": "code",
        "colab": {
          "base_uri": "https://localhost:8080/",
          "height": 54
        },
        "outputId": "3d078600-cf29-460a-c5c7-24b95cbf7dd8"
      },
      "source": [
        "from nltk.corpus import stopwords\n",
        "print(stopwords.words('english'))"
      ],
      "execution_count": 47,
      "outputs": [
        {
          "output_type": "stream",
          "text": [
            "['i', 'me', 'my', 'myself', 'we', 'our', 'ours', 'ourselves', 'you', \"you're\", \"you've\", \"you'll\", \"you'd\", 'your', 'yours', 'yourself', 'yourselves', 'he', 'him', 'his', 'himself', 'she', \"she's\", 'her', 'hers', 'herself', 'it', \"it's\", 'its', 'itself', 'they', 'them', 'their', 'theirs', 'themselves', 'what', 'which', 'who', 'whom', 'this', 'that', \"that'll\", 'these', 'those', 'am', 'is', 'are', 'was', 'were', 'be', 'been', 'being', 'have', 'has', 'had', 'having', 'do', 'does', 'did', 'doing', 'a', 'an', 'the', 'and', 'but', 'if', 'or', 'because', 'as', 'until', 'while', 'of', 'at', 'by', 'for', 'with', 'about', 'against', 'between', 'into', 'through', 'during', 'before', 'after', 'above', 'below', 'to', 'from', 'up', 'down', 'in', 'out', 'on', 'off', 'over', 'under', 'again', 'further', 'then', 'once', 'here', 'there', 'when', 'where', 'why', 'how', 'all', 'any', 'both', 'each', 'few', 'more', 'most', 'other', 'some', 'such', 'no', 'nor', 'not', 'only', 'own', 'same', 'so', 'than', 'too', 'very', 's', 't', 'can', 'will', 'just', 'don', \"don't\", 'should', \"should've\", 'now', 'd', 'll', 'm', 'o', 're', 've', 'y', 'ain', 'aren', \"aren't\", 'couldn', \"couldn't\", 'didn', \"didn't\", 'doesn', \"doesn't\", 'hadn', \"hadn't\", 'hasn', \"hasn't\", 'haven', \"haven't\", 'isn', \"isn't\", 'ma', 'mightn', \"mightn't\", 'mustn', \"mustn't\", 'needn', \"needn't\", 'shan', \"shan't\", 'shouldn', \"shouldn't\", 'wasn', \"wasn't\", 'weren', \"weren't\", 'won', \"won't\", 'wouldn', \"wouldn't\"]\n"
          ],
          "name": "stdout"
        }
      ]
    },
    {
      "cell_type": "markdown",
      "metadata": {
        "id": "M2TdBUahTrx0",
        "colab_type": "text"
      },
      "source": [
        "Remove stop words"
      ]
    },
    {
      "cell_type": "code",
      "metadata": {
        "id": "6Gl2SqKOTq4q",
        "colab_type": "code",
        "colab": {
          "base_uri": "https://localhost:8080/",
          "height": 54
        },
        "outputId": "cc830458-ca3e-45e2-8ab2-52c4cd95aba9"
      },
      "source": [
        "words_2 = [w for w in words_2 if w not in stopwords.words('english')]\n",
        "print(words_2)"
      ],
      "execution_count": 48,
      "outputs": [
        {
          "output_type": "stream",
          "text": [
            "['successful', 'people', 'appear', 'traveling', 'along', 'one', 'continual', 'successful', 'road', 'apparent', 'perseverance', 'takes', 'following', 'defeat', 'keep', 'road', 'one', 'know', 'ever', 'experienced', 'one', 'success', 'another', 'without', 'defeats', 'failures', 'disappointments', 'frustrations', 'galore', 'along', 'way', 'learning', 'overcome', 'times', 'agony', 'separates', 'winners', 'losers']\n"
          ],
          "name": "stdout"
        }
      ]
    },
    {
      "cell_type": "markdown",
      "metadata": {
        "id": "SEbXN_OaUBUq",
        "colab_type": "text"
      },
      "source": [
        "\n",
        "Part-of-Speech Tagging"
      ]
    },
    {
      "cell_type": "code",
      "metadata": {
        "id": "X_8Z4OkjUBe9",
        "colab_type": "code",
        "colab": {
          "base_uri": "https://localhost:8080/",
          "height": 663
        },
        "outputId": "ba5404c8-8684-42da-e4cf-8da422824998"
      },
      "source": [
        "from nltk import pos_tag\n",
        "\n",
        "pos_tag(words_2)"
      ],
      "execution_count": 51,
      "outputs": [
        {
          "output_type": "execute_result",
          "data": {
            "text/plain": [
              "[('successful', 'JJ'),\n",
              " ('people', 'NNS'),\n",
              " ('appear', 'VBP'),\n",
              " ('traveling', 'VBG'),\n",
              " ('along', 'RB'),\n",
              " ('one', 'CD'),\n",
              " ('continual', 'JJ'),\n",
              " ('successful', 'JJ'),\n",
              " ('road', 'NN'),\n",
              " ('apparent', 'JJ'),\n",
              " ('perseverance', 'NN'),\n",
              " ('takes', 'VBZ'),\n",
              " ('following', 'VBG'),\n",
              " ('defeat', 'NN'),\n",
              " ('keep', 'VB'),\n",
              " ('road', 'NN'),\n",
              " ('one', 'CD'),\n",
              " ('know', 'NN'),\n",
              " ('ever', 'RB'),\n",
              " ('experienced', 'VBD'),\n",
              " ('one', 'CD'),\n",
              " ('success', 'NN'),\n",
              " ('another', 'DT'),\n",
              " ('without', 'IN'),\n",
              " ('defeats', 'NNS'),\n",
              " ('failures', 'NNS'),\n",
              " ('disappointments', 'NNS'),\n",
              " ('frustrations', 'NNS'),\n",
              " ('galore', 'RB'),\n",
              " ('along', 'IN'),\n",
              " ('way', 'NN'),\n",
              " ('learning', 'VBG'),\n",
              " ('overcome', 'JJ'),\n",
              " ('times', 'NNS'),\n",
              " ('agony', 'JJ'),\n",
              " ('separates', 'NNS'),\n",
              " ('winners', 'NNS'),\n",
              " ('losers', 'NNS')]"
            ]
          },
          "metadata": {
            "tags": []
          },
          "execution_count": 51
        }
      ]
    },
    {
      "cell_type": "markdown",
      "metadata": {
        "id": "Sn5-PByvUY7N",
        "colab_type": "text"
      },
      "source": [
        "\n",
        "Sentence Parsing"
      ]
    },
    {
      "cell_type": "code",
      "metadata": {
        "id": "Wi8oayB0UZOA",
        "colab_type": "code",
        "colab": {
          "base_uri": "https://localhost:8080/",
          "height": 187
        },
        "outputId": "58b511bd-2b61-4d2e-fb74-62e277dc4a75"
      },
      "source": [
        "import nltk\n",
        "\n",
        "# Define a custom grammar\n",
        "my_grammar = nltk.CFG.fromstring(\"\"\"\n",
        "S -> NP VP\n",
        "PP -> P NP\n",
        "NP -> Det N | Det N PP | 'I'\n",
        "VP -> V NP | VP PP\n",
        "Det -> 'an' | 'my'\n",
        "N -> 'elephant' | 'pajamas'\n",
        "V -> 'shot'\n",
        "P -> 'in'\n",
        "\"\"\")\n",
        "\n",
        "parser = nltk.ChartParser(my_grammar)\n",
        "\n",
        "# Parse a sentence\n",
        "sentence = word_tokenize(\"I shot an elephant in my pajamas\")\n",
        "for tree in parser.parse(sentence):\n",
        "    print(tree)"
      ],
      "execution_count": 52,
      "outputs": [
        {
          "output_type": "stream",
          "text": [
            "(S\n",
            "  (NP I)\n",
            "  (VP\n",
            "    (VP (V shot) (NP (Det an) (N elephant)))\n",
            "    (PP (P in) (NP (Det my) (N pajamas)))))\n",
            "(S\n",
            "  (NP I)\n",
            "  (VP\n",
            "    (V shot)\n",
            "    (NP (Det an) (N elephant) (PP (P in) (NP (Det my) (N pajamas))))))\n"
          ],
          "name": "stdout"
        }
      ]
    },
    {
      "cell_type": "markdown",
      "metadata": {
        "id": "ueCeK-o1V8gp",
        "colab_type": "text"
      },
      "source": [
        "Stemming"
      ]
    },
    {
      "cell_type": "code",
      "metadata": {
        "id": "_krubvAmV8r3",
        "colab_type": "code",
        "colab": {
          "base_uri": "https://localhost:8080/",
          "height": 71
        },
        "outputId": "f564365c-3328-46fc-c854-9ad92c3ffc07"
      },
      "source": [
        "from nltk.stem.porter import PorterStemmer\n",
        "\n",
        "# Reduce words to their stems\n",
        "stemmed = [PorterStemmer().stem(w) for w in words_2]\n",
        "print(words_2)\n",
        "print(stemmed)"
      ],
      "execution_count": 59,
      "outputs": [
        {
          "output_type": "stream",
          "text": [
            "['successful', 'people', 'appear', 'traveling', 'along', 'one', 'continual', 'successful', 'road', 'apparent', 'perseverance', 'takes', 'following', 'defeat', 'keep', 'road', 'one', 'know', 'ever', 'experienced', 'one', 'success', 'another', 'without', 'defeats', 'failures', 'disappointments', 'frustrations', 'galore', 'along', 'way', 'learning', 'overcome', 'times', 'agony', 'separates', 'winners', 'losers']\n",
            "['success', 'peopl', 'appear', 'travel', 'along', 'one', 'continu', 'success', 'road', 'appar', 'persever', 'take', 'follow', 'defeat', 'keep', 'road', 'one', 'know', 'ever', 'experienc', 'one', 'success', 'anoth', 'without', 'defeat', 'failur', 'disappoint', 'frustrat', 'galor', 'along', 'way', 'learn', 'overcom', 'time', 'agoni', 'separ', 'winner', 'loser']\n"
          ],
          "name": "stdout"
        }
      ]
    },
    {
      "cell_type": "markdown",
      "metadata": {
        "id": "JjimLw_cWMFN",
        "colab_type": "text"
      },
      "source": [
        "Lemmatization"
      ]
    },
    {
      "cell_type": "code",
      "metadata": {
        "id": "tLmKHcZ5WMOE",
        "colab_type": "code",
        "colab": {
          "base_uri": "https://localhost:8080/",
          "height": 71
        },
        "outputId": "db46284d-4e41-4fbd-cd92-0b4a1d982c4c"
      },
      "source": [
        "from nltk.stem.wordnet import WordNetLemmatizer\n",
        "\n",
        "# Reduce words to their root form\n",
        "\n",
        "lemmed = [WordNetLemmatizer().lemmatize(w) for w in words_2]\n",
        "print(words_2)\n",
        "print(lemmed)"
      ],
      "execution_count": 65,
      "outputs": [
        {
          "output_type": "stream",
          "text": [
            "['successful', 'people', 'appear', 'traveling', 'along', 'one', 'continual', 'successful', 'road', 'apparent', 'perseverance', 'takes', 'following', 'defeat', 'keep', 'road', 'one', 'know', 'ever', 'experienced', 'one', 'success', 'another', 'without', 'defeats', 'failures', 'disappointments', 'frustrations', 'galore', 'along', 'way', 'learning', 'overcome', 'times', 'agony', 'separates', 'winners', 'losers']\n",
            "['successful', 'people', 'appear', 'traveling', 'along', 'one', 'continual', 'successful', 'road', 'apparent', 'perseverance', 'take', 'following', 'defeat', 'keep', 'road', 'one', 'know', 'ever', 'experienced', 'one', 'success', 'another', 'without', 'defeat', 'failure', 'disappointment', 'frustration', 'galore', 'along', 'way', 'learning', 'overcome', 'time', 'agony', 'separate', 'winner', 'loser']\n"
          ],
          "name": "stdout"
        }
      ]
    },
    {
      "cell_type": "code",
      "metadata": {
        "id": "I49OifQ5WhL7",
        "colab_type": "code",
        "colab": {
          "base_uri": "https://localhost:8080/",
          "height": 71
        },
        "outputId": "b7c702f1-7d25-4634-fe03-3d7740b594f7"
      },
      "source": [
        "# Lemmatize verbs by specifying pos\n",
        "print(lemmed)\n",
        "lemmed = [WordNetLemmatizer().lemmatize(w, pos='v') for w in lemmed]\n",
        "print(lemmed)"
      ],
      "execution_count": 66,
      "outputs": [
        {
          "output_type": "stream",
          "text": [
            "['successful', 'people', 'appear', 'traveling', 'along', 'one', 'continual', 'successful', 'road', 'apparent', 'perseverance', 'take', 'following', 'defeat', 'keep', 'road', 'one', 'know', 'ever', 'experienced', 'one', 'success', 'another', 'without', 'defeat', 'failure', 'disappointment', 'frustration', 'galore', 'along', 'way', 'learning', 'overcome', 'time', 'agony', 'separate', 'winner', 'loser']\n",
            "['successful', 'people', 'appear', 'travel', 'along', 'one', 'continual', 'successful', 'road', 'apparent', 'perseverance', 'take', 'follow', 'defeat', 'keep', 'road', 'one', 'know', 'ever', 'experience', 'one', 'success', 'another', 'without', 'defeat', 'failure', 'disappointment', 'frustration', 'galore', 'along', 'way', 'learn', 'overcome', 'time', 'agony', 'separate', 'winner', 'loser']\n"
          ],
          "name": "stdout"
        }
      ]
    }
  ]
}