{
  "nbformat": 4,
  "nbformat_minor": 0,
  "metadata": {
    "colab": {
      "name": "day_052_set_algebra.ipynb",
      "version": "0.3.2",
      "provenance": [],
      "include_colab_link": true
    },
    "kernelspec": {
      "display_name": "Python 3",
      "language": "python",
      "name": "python3"
    }
  },
  "cells": [
    {
      "cell_type": "markdown",
      "metadata": {
        "id": "view-in-github",
        "colab_type": "text"
      },
      "source": [
        "<a href=\"https://colab.research.google.com/github/rkrissada/100DayOfMLCode/blob/master/day_052_set_algebra.ipynb\" target=\"_parent\"><img src=\"https://colab.research.google.com/assets/colab-badge.svg\" alt=\"Open In Colab\"/></a>"
      ]
    },
    {
      "metadata": {
        "id": "E8o0XzticWp4",
        "colab_type": "code",
        "colab": {}
      },
      "cell_type": "code",
      "source": [
        "import IPython.display as disp"
      ],
      "execution_count": 0,
      "outputs": []
    },
    {
      "metadata": {
        "id": "S-rfPl5lcWp6",
        "colab_type": "text"
      },
      "cell_type": "markdown",
      "source": [
        "## Various ways to create a 'set' object in Python"
      ]
    },
    {
      "metadata": {
        "scrolled": true,
        "id": "76VrOzYFcWp7",
        "colab_type": "code",
        "colab": {
          "base_uri": "https://localhost:8080/",
          "height": 34
        },
        "outputId": "9987cc7e-6542-43da-f5c6-eddf7ae7df88"
      },
      "cell_type": "code",
      "source": [
        "# Directly with curly braces\n",
        "Set1 = {1,2}\n",
        "print (Set1)"
      ],
      "execution_count": 2,
      "outputs": [
        {
          "output_type": "stream",
          "text": [
            "{1, 2}\n"
          ],
          "name": "stdout"
        }
      ]
    },
    {
      "metadata": {
        "id": "05ez7nmUcWp-",
        "colab_type": "code",
        "colab": {
          "base_uri": "https://localhost:8080/",
          "height": 34
        },
        "outputId": "2f4136b9-4530-4f38-f4db-39d88c7c85be"
      },
      "cell_type": "code",
      "source": [
        "type(Set1)"
      ],
      "execution_count": 3,
      "outputs": [
        {
          "output_type": "execute_result",
          "data": {
            "text/plain": [
              "set"
            ]
          },
          "metadata": {
            "tags": []
          },
          "execution_count": 3
        }
      ]
    },
    {
      "metadata": {
        "id": "DsrBHhUKcWqA",
        "colab_type": "code",
        "colab": {
          "base_uri": "https://localhost:8080/",
          "height": 34
        },
        "outputId": "037870fd-55e0-460a-ba13-c5ab26e84cb5"
      },
      "cell_type": "code",
      "source": [
        "# By calling the 'set' function i.e. typecasting\n",
        "Set2 = set({2,3})\n",
        "print(Set2)"
      ],
      "execution_count": 4,
      "outputs": [
        {
          "output_type": "stream",
          "text": [
            "{2, 3}\n"
          ],
          "name": "stdout"
        }
      ]
    },
    {
      "metadata": {
        "id": "yE2G03z4cWqC",
        "colab_type": "code",
        "colab": {
          "base_uri": "https://localhost:8080/",
          "height": 34
        },
        "outputId": "b63bcab3-de0c-4de0-cbcb-2363ddf83d0d"
      },
      "cell_type": "code",
      "source": [
        "my_list=[1,2,3,4]\n",
        "my_set_from_list = set(my_list)\n",
        "print(my_set_from_list)"
      ],
      "execution_count": 5,
      "outputs": [
        {
          "output_type": "stream",
          "text": [
            "{1, 2, 3, 4}\n"
          ],
          "name": "stdout"
        }
      ]
    },
    {
      "metadata": {
        "id": "a5ePMGvgcWqI",
        "colab_type": "text"
      },
      "cell_type": "markdown",
      "source": [
        "** Empty (Null) set is a special set **\n",
        "$$ \\forall x, x \\notin \\varnothing $$ \n",
        "#### Do not try to create the empty set by declaring an empty {}. That denotes an empty dictionary object "
      ]
    },
    {
      "metadata": {
        "id": "UQmcQ0H_cWqK",
        "colab_type": "code",
        "colab": {
          "base_uri": "https://localhost:8080/",
          "height": 34
        },
        "outputId": "0ed16651-6dab-4f04-ebe6-2095a51828f8"
      },
      "cell_type": "code",
      "source": [
        "my_set = {}\n",
        "print(type(my_set))"
      ],
      "execution_count": 6,
      "outputs": [
        {
          "output_type": "stream",
          "text": [
            "<class 'dict'>\n"
          ],
          "name": "stdout"
        }
      ]
    },
    {
      "metadata": {
        "id": "PiaXPXulcWqY",
        "colab_type": "text"
      },
      "cell_type": "markdown",
      "source": [
        "#### Instead, use the set() function to create the empty (null) set from any empty data type e.g. dictionary or list"
      ]
    },
    {
      "metadata": {
        "id": "AApYYczncWqb",
        "colab_type": "code",
        "colab": {
          "base_uri": "https://localhost:8080/",
          "height": 51
        },
        "outputId": "02f22979-e1bb-41bf-bf0f-c71e2078345b"
      },
      "cell_type": "code",
      "source": [
        "my_set = set({})\n",
        "print(type(my_set))\n",
        "my_set_2 = set([])\n",
        "print(type(my_set_2))"
      ],
      "execution_count": 7,
      "outputs": [
        {
          "output_type": "stream",
          "text": [
            "<class 'set'>\n",
            "<class 'set'>\n"
          ],
          "name": "stdout"
        }
      ]
    },
    {
      "metadata": {
        "id": "7O2UmKp7cWqi",
        "colab_type": "text"
      },
      "cell_type": "markdown",
      "source": [
        "## Membership and size testing"
      ]
    },
    {
      "metadata": {
        "id": "Yrn_rNficWqk",
        "colab_type": "text"
      },
      "cell_type": "markdown",
      "source": [
        "### Membership testing by '*in*' and '*not in*' keywords"
      ]
    },
    {
      "metadata": {
        "id": "jLbbeY-qcWqm",
        "colab_type": "code",
        "colab": {
          "base_uri": "https://localhost:8080/",
          "height": 85
        },
        "outputId": "a5935e85-8546-45ab-a46b-f1d143c52ca9"
      },
      "cell_type": "code",
      "source": [
        "my_set = set([1,3,5])\n",
        "print(\"Here is my set:\",my_set)\n",
        "print(\"1 is in the set:\",1 in my_set)\n",
        "print(\"2 is in the set:\",2 in my_set)\n",
        "print(\"4 is NOT in the set:\",4 not in my_set)"
      ],
      "execution_count": 8,
      "outputs": [
        {
          "output_type": "stream",
          "text": [
            "Here is my set: {1, 3, 5}\n",
            "1 is in the set: True\n",
            "2 is in the set: False\n",
            "4 is NOT in the set: True\n"
          ],
          "name": "stdout"
        }
      ]
    },
    {
      "metadata": {
        "id": "FuFfNDJecWqu",
        "colab_type": "text"
      },
      "cell_type": "markdown",
      "source": [
        "### Size checking by '*len*' or '*not*'"
      ]
    },
    {
      "metadata": {
        "id": "N_4PZ2TvcWqw",
        "colab_type": "code",
        "colab": {
          "base_uri": "https://localhost:8080/",
          "height": 54
        },
        "outputId": "fe165d2c-60cd-4005-b2ed-308d883b10b4"
      },
      "cell_type": "code",
      "source": [
        "S = {1,2}\n",
        "not S"
      ],
      "execution_count": 9,
      "outputs": [
        {
          "output_type": "execute_result",
          "data": {
            "text/plain": [
              "False"
            ]
          },
          "metadata": {
            "tags": []
          },
          "execution_count": 9
        }
      ]
    },
    {
      "metadata": {
        "id": "Z1WCbGvccWq3",
        "colab_type": "code",
        "colab": {
          "base_uri": "https://localhost:8080/",
          "height": 54
        },
        "outputId": "f9488837-aa8a-4cf0-b650-f2c3d9f821d2"
      },
      "cell_type": "code",
      "source": [
        "T = set()\n",
        "not T"
      ],
      "execution_count": 10,
      "outputs": [
        {
          "output_type": "execute_result",
          "data": {
            "text/plain": [
              "True"
            ]
          },
          "metadata": {
            "tags": []
          },
          "execution_count": 10
        }
      ]
    },
    {
      "metadata": {
        "id": "YH7HvA35cWrE",
        "colab_type": "code",
        "colab": {
          "base_uri": "https://localhost:8080/",
          "height": 71
        },
        "outputId": "901b5a91-70b5-461f-bc5f-8fd1b7d9a88d"
      },
      "cell_type": "code",
      "source": [
        "print(\"Size of S:\", len(S))\n",
        "print(\"Size of T:\", len(T))"
      ],
      "execution_count": 11,
      "outputs": [
        {
          "output_type": "stream",
          "text": [
            "Size of S: 2\n",
            "Size of T: 0\n"
          ],
          "name": "stdout"
        }
      ]
    },
    {
      "metadata": {
        "id": "2hO1yR51cWrJ",
        "colab_type": "text"
      },
      "cell_type": "markdown",
      "source": [
        "## Venn diagrams"
      ]
    },
    {
      "metadata": {
        "id": "ymR3MzFucWrK",
        "colab_type": "code",
        "colab": {
          "base_uri": "https://localhost:8080/",
          "height": 330
        },
        "outputId": "8058ad2e-e518-482e-f8de-a18e1e4b457f"
      },
      "cell_type": "code",
      "source": [
        "import matplotlib.pyplot as plt\n",
        "import matplotlib_venn as venn\n",
        "S = {1, 2, 3}\n",
        "T = {0, 2, -1, 5}\n",
        "venn.venn2([S, T], set_labels=('S','T'))\n",
        "plt.show()"
      ],
      "execution_count": 12,
      "outputs": [
        {
          "output_type": "display_data",
          "data": {
            "image/png": "[encoded data removed]",
            "text/plain": [
              "<Figure size 576x396 with 1 Axes>"
            ]
          },
          "metadata": {
            "tags": []
          }
        }
      ]
    },
    {
      "metadata": {
        "id": "zhI8Yb5HcWrS",
        "colab_type": "code",
        "colab": {
          "base_uri": "https://localhost:8080/",
          "height": 332
        },
        "outputId": "c6db1b21-0a17-4277-987e-a4368ca9c699"
      },
      "cell_type": "code",
      "source": [
        "venn.venn3(subsets = (1, 1, 1, 2, 1, 2, 2), set_labels = ('Set1', 'Set2', 'Set3'))\n",
        "plt.show()"
      ],
      "execution_count": 13,
      "outputs": [
        {
          "output_type": "display_data",
          "data": {
            "image/png": "[encoded data removed]",
            "text/plain": [
              "<Figure size 576x396 with 1 Axes>"
            ]
          },
          "metadata": {
            "tags": []
          }
        }
      ]
    },
    {
      "metadata": {
        "id": "sRdU9DRycWrW",
        "colab_type": "text"
      },
      "cell_type": "markdown",
      "source": [
        "## Set relations\n",
        "* **Subset**\n",
        "* **Superset**\n",
        "* **Disjoint**\n",
        "* **Universal set**\n",
        "* **Null set**"
      ]
    },
    {
      "metadata": {
        "id": "9VdgjFp4cWrW",
        "colab_type": "code",
        "colab": {}
      },
      "cell_type": "code",
      "source": [
        "Univ = set([x for x in range(11)])\n",
        "Super = set([x for x in range(11) if x%2==0])\n",
        "disj = set([x for x in range(11) if x%2==1])\n",
        "Sub = set([4,6])\n",
        "Null = set([x for x in range(11) if x>10])"
      ],
      "execution_count": 0,
      "outputs": []
    },
    {
      "metadata": {
        "id": "M-DRNEAucWrb",
        "colab_type": "code",
        "colab": {
          "base_uri": "https://localhost:8080/",
          "height": 102
        },
        "outputId": "1fe9ec16-092c-414e-8993-0e7d6a4df9ca"
      },
      "cell_type": "code",
      "source": [
        "print(\"Universal set (all the positive integers up to 10):\",Univ)\n",
        "print(\"All the even positive integers up to 10:\",Super)\n",
        "print(\"All the odd positive integers up to 10:\",disj)\n",
        "print(\"Set of 2 elements, 4 and 6:\",Sub)\n",
        "print(\"A null set:\", Null)"
      ],
      "execution_count": 15,
      "outputs": [
        {
          "output_type": "stream",
          "text": [
            "Universal set (all the positive integers up to 10): {0, 1, 2, 3, 4, 5, 6, 7, 8, 9, 10}\n",
            "All the even positive integers up to 10: {0, 2, 4, 6, 8, 10}\n",
            "All the odd positive integers up to 10: {1, 3, 5, 7, 9}\n",
            "Set of 2 elements, 4 and 6: {4, 6}\n",
            "A null set: set()\n"
          ],
          "name": "stdout"
        }
      ]
    },
    {
      "metadata": {
        "id": "AZGRa4ABcWrf",
        "colab_type": "code",
        "colab": {
          "base_uri": "https://localhost:8080/",
          "height": 34
        },
        "outputId": "1b798d75-a841-43c1-87f4-53f79a89c3bd"
      },
      "cell_type": "code",
      "source": [
        "Super.issuperset(Sub)"
      ],
      "execution_count": 16,
      "outputs": [
        {
          "output_type": "execute_result",
          "data": {
            "text/plain": [
              "True"
            ]
          },
          "metadata": {
            "tags": []
          },
          "execution_count": 16
        }
      ]
    },
    {
      "metadata": {
        "id": "RtXit2FAcWrj",
        "colab_type": "code",
        "colab": {
          "base_uri": "https://localhost:8080/",
          "height": 34
        },
        "outputId": "85aa6012-d8af-48e5-dc39-387ff9eff93d"
      },
      "cell_type": "code",
      "source": [
        "Super.issubset(Univ)"
      ],
      "execution_count": 17,
      "outputs": [
        {
          "output_type": "execute_result",
          "data": {
            "text/plain": [
              "True"
            ]
          },
          "metadata": {
            "tags": []
          },
          "execution_count": 17
        }
      ]
    },
    {
      "metadata": {
        "id": "PqaV35NKcWrm",
        "colab_type": "code",
        "colab": {
          "base_uri": "https://localhost:8080/",
          "height": 34
        },
        "outputId": "7090411f-1fc5-42a1-85bb-0971e9dd26d0"
      },
      "cell_type": "code",
      "source": [
        "Sub.issubset(Super)"
      ],
      "execution_count": 18,
      "outputs": [
        {
          "output_type": "execute_result",
          "data": {
            "text/plain": [
              "True"
            ]
          },
          "metadata": {
            "tags": []
          },
          "execution_count": 18
        }
      ]
    },
    {
      "metadata": {
        "id": "2U8arCv7cWrp",
        "colab_type": "code",
        "colab": {
          "base_uri": "https://localhost:8080/",
          "height": 34
        },
        "outputId": "bf4dd378-e2c1-41ac-b65b-6a8506d4f3c8"
      },
      "cell_type": "code",
      "source": [
        "Sub.issuperset(Super)"
      ],
      "execution_count": 19,
      "outputs": [
        {
          "output_type": "execute_result",
          "data": {
            "text/plain": [
              "False"
            ]
          },
          "metadata": {
            "tags": []
          },
          "execution_count": 19
        }
      ]
    },
    {
      "metadata": {
        "id": "aSodZRd3cWrr",
        "colab_type": "code",
        "colab": {
          "base_uri": "https://localhost:8080/",
          "height": 34
        },
        "outputId": "be7f4963-e13e-4fc0-c05a-be70b040105d"
      },
      "cell_type": "code",
      "source": [
        "Super.isdisjoint(disj)"
      ],
      "execution_count": 20,
      "outputs": [
        {
          "output_type": "execute_result",
          "data": {
            "text/plain": [
              "True"
            ]
          },
          "metadata": {
            "tags": []
          },
          "execution_count": 20
        }
      ]
    },
    {
      "metadata": {
        "id": "L7JaFcSocWru",
        "colab_type": "text"
      },
      "cell_type": "markdown",
      "source": [
        "**Alternatively, operators like '<=' or '>' can be used to check relations**"
      ]
    },
    {
      "metadata": {
        "id": "b37XrDRLcWru",
        "colab_type": "code",
        "colab": {
          "base_uri": "https://localhost:8080/",
          "height": 34
        },
        "outputId": "3049e91f-489e-4a16-a5a8-ab71e66dc250"
      },
      "cell_type": "code",
      "source": [
        "Super > Sub"
      ],
      "execution_count": 21,
      "outputs": [
        {
          "output_type": "execute_result",
          "data": {
            "text/plain": [
              "True"
            ]
          },
          "metadata": {
            "tags": []
          },
          "execution_count": 21
        }
      ]
    },
    {
      "metadata": {
        "id": "nVL5dbHBcWry",
        "colab_type": "code",
        "colab": {
          "base_uri": "https://localhost:8080/",
          "height": 34
        },
        "outputId": "4e0b8dbf-b464-4d22-86a4-057aee88be87"
      },
      "cell_type": "code",
      "source": [
        "Sub <= Super"
      ],
      "execution_count": 22,
      "outputs": [
        {
          "output_type": "execute_result",
          "data": {
            "text/plain": [
              "True"
            ]
          },
          "metadata": {
            "tags": []
          },
          "execution_count": 22
        }
      ]
    },
    {
      "metadata": {
        "id": "VbW4MKfDcWr1",
        "colab_type": "text"
      },
      "cell_type": "markdown",
      "source": [
        "### Algebra of inclusion"
      ]
    },
    {
      "metadata": {
        "id": "WCCenbAFcWr1",
        "colab_type": "text"
      },
      "cell_type": "markdown",
      "source": [
        "If A, B and C are sets then the following hold:\n",
        "\n",
        "**Reflexivity:**\n",
        "\n",
        "$$ {\\displaystyle A\\subseteq A} $$\n",
        "\n",
        "**Antisymmetry:**\n",
        "\n",
        "$$ A\\subseteq B\\ \\ and\\ B\\subseteq A\\ \\text if\\ and\\ only\\ if\\ A=B $$\n",
        "\n",
        "**Transitivity:**\n",
        "\n",
        "$$If\\ {\\displaystyle A\\subseteq B}\\ and \\ {\\displaystyle B\\subseteq C}, then\\ A ⊆ C $$"
      ]
    },
    {
      "metadata": {
        "id": "LSRXDlTXcWr2",
        "colab_type": "text"
      },
      "cell_type": "markdown",
      "source": [
        "## Set algebra/Operations\n",
        "* **Equality**\n",
        "* **Intersection**\n",
        "* **Union**\n",
        "* **Complement**\n",
        "* **Difference**\n",
        "* **Cartesian product**"
      ]
    },
    {
      "metadata": {
        "id": "qkZrwAQpcWr3",
        "colab_type": "text"
      },
      "cell_type": "markdown",
      "source": [
        "### Equality/Non-equality of sets"
      ]
    },
    {
      "metadata": {
        "id": "8SYjk0JFcWr3",
        "colab_type": "code",
        "colab": {
          "base_uri": "https://localhost:8080/",
          "height": 51
        },
        "outputId": "01b89362-1786-4f22-c66c-1e12743a9f7c"
      },
      "cell_type": "code",
      "source": [
        "S1 = {1,2}\n",
        "S2 = {2,2,1,1,2}\n",
        "print (\"S1 and S2 are equal because order or repetition of elements do not matter for sets\\nS1==S2:\", S1==S2)"
      ],
      "execution_count": 23,
      "outputs": [
        {
          "output_type": "stream",
          "text": [
            "S1 and S2 are equal because order or repetition of elements do not matter for sets\n",
            "S1==S2: True\n"
          ],
          "name": "stdout"
        }
      ]
    },
    {
      "metadata": {
        "id": "FZqM5y6McWr6",
        "colab_type": "code",
        "colab": {
          "base_uri": "https://localhost:8080/",
          "height": 51
        },
        "outputId": "226d16a2-8dfd-4b3a-8ef0-94a35f405263"
      },
      "cell_type": "code",
      "source": [
        "S1 = {1,2,3,4,5,6}\n",
        "S2 = {1,2,3,4,0,6}\n",
        "print (\"S1 and S2 are NOT equal because at least one element is different\\nS1==S2:\", S1==S2)"
      ],
      "execution_count": 24,
      "outputs": [
        {
          "output_type": "stream",
          "text": [
            "S1 and S2 are NOT equal because at least one element is different\n",
            "S1==S2: False\n"
          ],
          "name": "stdout"
        }
      ]
    },
    {
      "metadata": {
        "collapsed": true,
        "id": "s8dT-BhYcWr9",
        "colab_type": "text"
      },
      "cell_type": "markdown",
      "source": [
        "### Intersection between sets"
      ]
    },
    {
      "metadata": {
        "id": "9r1qUT3zcWr9",
        "colab_type": "text"
      },
      "cell_type": "markdown",
      "source": [
        "In mathematics, the intersection A ∩ B of two sets A and B is the set that contains all elements of A that also belong to B (or equivalently, all elements of B that also belong to A), but no other elements. Formally,\n",
        "\n",
        "$$  {\\displaystyle A\\cap B=\\{x:x\\in A{\\text{ and }}x\\in B\\}.} $$\n",
        "\n",
        "![Set intersection](https://upload.wikimedia.org/wikipedia/commons/5/5a/PolygonsSetIntersection.svg)"
      ]
    },
    {
      "metadata": {
        "id": "vqfRwA2zcWr-",
        "colab_type": "code",
        "colab": {
          "base_uri": "https://localhost:8080/",
          "height": 34
        },
        "outputId": "9bbc50e6-9e3c-444e-db2c-1b92df77d422"
      },
      "cell_type": "code",
      "source": [
        "# Define a set using list comprehension\n",
        "S1 = set([x for x in range(1,11) if x%3==0])\n",
        "print(\"S1:\", S1)"
      ],
      "execution_count": 25,
      "outputs": [
        {
          "output_type": "stream",
          "text": [
            "S1: {9, 3, 6}\n"
          ],
          "name": "stdout"
        }
      ]
    },
    {
      "metadata": {
        "id": "NJllzwfBcWsA",
        "colab_type": "code",
        "colab": {
          "base_uri": "https://localhost:8080/",
          "height": 34
        },
        "outputId": "5a1d58c1-894e-45c7-d1f4-096dcc9220e2"
      },
      "cell_type": "code",
      "source": [
        "S2 = set([x for x in range(1,5)])\n",
        "print(\"S2:\", S2)"
      ],
      "execution_count": 26,
      "outputs": [
        {
          "output_type": "stream",
          "text": [
            "S2: {1, 2, 3, 4}\n"
          ],
          "name": "stdout"
        }
      ]
    },
    {
      "metadata": {
        "id": "Tr7XjICVcWsC",
        "colab_type": "code",
        "colab": {
          "base_uri": "https://localhost:8080/",
          "height": 51
        },
        "outputId": "96975860-bfd0-40a4-bc60-bffae40dd98d"
      },
      "cell_type": "code",
      "source": [
        "# Both intersection method or & can be used\n",
        "S_intersection = S1.intersection(S2)\n",
        "print(\"Intersection of S1 and S2:\", S_intersection)\n",
        "\n",
        "S_intersection = S1 & S2\n",
        "print(\"Intersection of S1 and S2:\", S_intersection)"
      ],
      "execution_count": 27,
      "outputs": [
        {
          "output_type": "stream",
          "text": [
            "Intersection of S1 and S2: {3}\n",
            "Intersection of S1 and S2: {3}\n"
          ],
          "name": "stdout"
        }
      ]
    },
    {
      "metadata": {
        "id": "ab7hgESlcWsD",
        "colab_type": "text"
      },
      "cell_type": "markdown",
      "source": [
        "** One can chain the methods to get intersection with more than 2 sets **"
      ]
    },
    {
      "metadata": {
        "id": "fA15g3zncWsE",
        "colab_type": "code",
        "colab": {
          "base_uri": "https://localhost:8080/",
          "height": 34
        },
        "outputId": "24b6140a-d7a5-4b74-f390-09a3b1c83726"
      },
      "cell_type": "code",
      "source": [
        "S3 = set([x for x in range(4,10)])\n",
        "print(\"S3:\", S3)"
      ],
      "execution_count": 28,
      "outputs": [
        {
          "output_type": "stream",
          "text": [
            "S3: {4, 5, 6, 7, 8, 9}\n"
          ],
          "name": "stdout"
        }
      ]
    },
    {
      "metadata": {
        "id": "xaGvo7CrcWsI",
        "colab_type": "code",
        "colab": {
          "base_uri": "https://localhost:8080/",
          "height": 34
        },
        "outputId": "c838f8fa-5409-4086-9711-a65c91f78b77"
      },
      "cell_type": "code",
      "source": [
        "S1_S2_S3 = S1.intersection(S2).intersection(S3)\n",
        "print(\"Intersection of S1, S2, and S3:\", S1_S2_S3)"
      ],
      "execution_count": 29,
      "outputs": [
        {
          "output_type": "stream",
          "text": [
            "Intersection of S1, S2, and S3: set()\n"
          ],
          "name": "stdout"
        }
      ]
    },
    {
      "metadata": {
        "id": "j2Vz0aKlcWsM",
        "colab_type": "text"
      },
      "cell_type": "markdown",
      "source": [
        "** Now change the S3 to contain 3**"
      ]
    },
    {
      "metadata": {
        "id": "XQQqc-WscWsO",
        "colab_type": "code",
        "colab": {
          "base_uri": "https://localhost:8080/",
          "height": 51
        },
        "outputId": "7cd199e5-d8cb-4c31-9f74-274e987f1dee"
      },
      "cell_type": "code",
      "source": [
        "S3 = set([x for x in range(3,10)])\n",
        "print(\"S3:\", S3)\n",
        "S1_S2_S3 = S1.intersection(S2).intersection(S3)\n",
        "print(\"Intersection of S1, S2, and S3:\", S1_S2_S3)"
      ],
      "execution_count": 30,
      "outputs": [
        {
          "output_type": "stream",
          "text": [
            "S3: {3, 4, 5, 6, 7, 8, 9}\n",
            "Intersection of S1, S2, and S3: {3}\n"
          ],
          "name": "stdout"
        }
      ]
    },
    {
      "metadata": {
        "id": "WsrhoosicWsR",
        "colab_type": "text"
      },
      "cell_type": "markdown",
      "source": [
        "#### The symbol '&' can be used for intersection"
      ]
    },
    {
      "metadata": {
        "id": "LFPBtrw3cWsR",
        "colab_type": "code",
        "colab": {
          "base_uri": "https://localhost:8080/",
          "height": 34
        },
        "outputId": "1ddbbff0-704f-4ec0-a1cd-c62aa4bb0b4d"
      },
      "cell_type": "code",
      "source": [
        "A = {1, 2, 3}\n",
        "B = {5,3,1}\n",
        "print(\"Intersection of {} and {} is: {} with size {}\".format(A,B,A&B,len(A&B)))"
      ],
      "execution_count": 31,
      "outputs": [
        {
          "output_type": "stream",
          "text": [
            "Intersection of {1, 2, 3} and {1, 3, 5} is: {1, 3} with size 2\n"
          ],
          "name": "stdout"
        }
      ]
    },
    {
      "metadata": {
        "id": "9nni6QmncWsV",
        "colab_type": "text"
      },
      "cell_type": "markdown",
      "source": [
        "![3 sets intersection](https://upload.wikimedia.org/wikipedia/commons/3/3e/Venn_0000_0001.svg)"
      ]
    },
    {
      "metadata": {
        "id": "vdKdhbRkcWsV",
        "colab_type": "text"
      },
      "cell_type": "markdown",
      "source": [
        "**Commutative law:** \n",
        "$$ {\\displaystyle A\\cap B=B\\cap A} $$\n",
        "\n",
        "**Associative law:**\n",
        "$$ {\\displaystyle (A\\cap B)\\cap C=A\\cap (B\\cap C)} $$\n",
        "\n",
        "** Distributive law:**\n",
        "$$ {\\displaystyle A\\cap (B\\cup C)=(A\\cap B)\\cup (A\\cap C)} $$\n",
        "\n",
        "\n",
        "\n"
      ]
    },
    {
      "metadata": {
        "id": "8qfbzIF9cWsW",
        "colab_type": "text"
      },
      "cell_type": "markdown",
      "source": [
        "### Union of sets"
      ]
    },
    {
      "metadata": {
        "id": "w3yxirbZcWsX",
        "colab_type": "text"
      },
      "cell_type": "markdown",
      "source": [
        "In set theory, the union (denoted by ∪) of a collection of sets is the set of all elements in the collection. It is one of the fundamental operations through which sets can be combined and related to each other. Formally,\n",
        "\n",
        "$$ {\\displaystyle A\\cup B=\\{x:x\\in A{\\text{ or }}x\\in B\\}}$$"
      ]
    },
    {
      "metadata": {
        "id": "8ZqnMI7ScWsX",
        "colab_type": "code",
        "colab": {
          "base_uri": "https://localhost:8080/",
          "height": 85
        },
        "outputId": "73525c86-12bf-4366-d833-f8cc026fb3a6"
      },
      "cell_type": "code",
      "source": [
        "# Both union method or | can be used\n",
        "S1 = set([x for x in range(1,11) if x%3==0])\n",
        "print(\"S1:\", S1)\n",
        "S2 = set([x for x in range(1,5)])\n",
        "print(\"S2:\", S2)\n",
        "\n",
        "S_union = S1.union(S2)\n",
        "print(\"Union of S1 and S2:\", S_union)\n",
        "S_union = S1 | S2\n",
        "print(\"Union of S1 and S2:\", S_union)"
      ],
      "execution_count": 32,
      "outputs": [
        {
          "output_type": "stream",
          "text": [
            "S1: {9, 3, 6}\n",
            "S2: {1, 2, 3, 4}\n",
            "Union of S1 and S2: {1, 2, 3, 4, 6, 9}\n",
            "Union of S1 and S2: {1, 2, 3, 4, 6, 9}\n"
          ],
          "name": "stdout"
        }
      ]
    },
    {
      "metadata": {
        "id": "10cHRLXmcWsa",
        "colab_type": "code",
        "colab": {
          "base_uri": "https://localhost:8080/",
          "height": 68
        },
        "outputId": "a071b037-afaa-4963-c21d-832118f4af4b"
      },
      "cell_type": "code",
      "source": [
        "S3 = set([5*x for x in range(1,3)])\n",
        "print(\"S3:\", S3)\n",
        "S4 = set ([7,8])\n",
        "print(\"S4:\", S4)\n",
        "S1_S2_S3_S4 = S1.union(S2).union(S3).union(S4)\n",
        "print(\"Union of S1, S2, S3, and S4:\", S1_S2_S3_S4)"
      ],
      "execution_count": 33,
      "outputs": [
        {
          "output_type": "stream",
          "text": [
            "S3: {10, 5}\n",
            "S4: {8, 7}\n",
            "Union of S1, S2, S3, and S4: {1, 2, 3, 4, 5, 6, 7, 8, 9, 10}\n"
          ],
          "name": "stdout"
        }
      ]
    },
    {
      "metadata": {
        "id": "IlDELpVJcWsd",
        "colab_type": "text"
      },
      "cell_type": "markdown",
      "source": [
        "#### The symbol '|' can be used for union"
      ]
    },
    {
      "metadata": {
        "id": "8wxlZvIkcWsf",
        "colab_type": "code",
        "colab": {
          "base_uri": "https://localhost:8080/",
          "height": 34
        },
        "outputId": "1e8975b8-3c16-4aa8-ce33-70c56152a517"
      },
      "cell_type": "code",
      "source": [
        "A = {1, 2, 3}\n",
        "B = {5,3,4}\n",
        "print(\"Union of {} and {} is: {} with size {}\".format(A,B,A|B,len(A|B)))"
      ],
      "execution_count": 34,
      "outputs": [
        {
          "output_type": "stream",
          "text": [
            "Union of {1, 2, 3} and {3, 4, 5} is: {1, 2, 3, 4, 5} with size 5\n"
          ],
          "name": "stdout"
        }
      ]
    },
    {
      "metadata": {
        "id": "SA1pnJHPcWsj",
        "colab_type": "text"
      },
      "cell_type": "markdown",
      "source": [
        "![Union of sets](https://upload.wikimedia.org/wikipedia/commons/e/ee/Venn_0111_1111.svg)"
      ]
    },
    {
      "metadata": {
        "id": "yBWH9JTEcWsj",
        "colab_type": "text"
      },
      "cell_type": "markdown",
      "source": [
        "** We can prove the following identities (associative and distributive properties) **\n",
        "\n",
        "$$ {\\displaystyle A\\cup (B\\cup C)=(A\\cup B)\\cup C} $$\n",
        "$$ {\\displaystyle A\\cap (B\\cup C)=(A\\cap B)\\cup (A\\cap C)} $$\n",
        "$$ {\\displaystyle A\\cup (B\\cap C)=(A\\cup B)\\cap (A\\cup C)} $$ "
      ]
    },
    {
      "metadata": {
        "id": "pkDz4_YJcWsk",
        "colab_type": "text"
      },
      "cell_type": "markdown",
      "source": [
        "### More algebra of inclusion involving union and intersection"
      ]
    },
    {
      "metadata": {
        "id": "2apuzgY3cWsk",
        "colab_type": "text"
      },
      "cell_type": "markdown",
      "source": [
        "If A, B and C are subsets of a set S then the following hold:\n",
        "\n",
        "**Existence of a least element and a greatest element:**\n",
        "\n",
        "$$ {\\displaystyle \\varnothing \\subseteq A\\subseteq S} $$\n",
        "\n",
        "**Existence of joins:**\n",
        "\n",
        "$$ {\\displaystyle A\\subseteq A\\cup B} $$\n",
        "            \n",
        "$$ If\\ {\\displaystyle A\\subseteq C}\\ and\\ {\\displaystyle B\\subseteq C,}\\ then\\ {\\displaystyle A\\cup B\\subseteq C} $$\n",
        "\n",
        "**Existence of meets:**\n",
        "$$ {\\displaystyle A\\cap B\\subseteq A} $$\n",
        "\n",
        "$$ If\\ {\\displaystyle C\\subseteq A}\\ and\\ {\\displaystyle C\\subseteq B,}\\ then\\ {\\displaystyle C\\subseteq A\\cap B} $$\n"
      ]
    },
    {
      "metadata": {
        "id": "War-ERsgcWsl",
        "colab_type": "text"
      },
      "cell_type": "markdown",
      "source": [
        "### Complement of set"
      ]
    },
    {
      "metadata": {
        "id": "naUl1V5VcWsl",
        "colab_type": "code",
        "colab": {
          "base_uri": "https://localhost:8080/",
          "height": 34
        },
        "outputId": "51442561-fc97-42df-da7f-4159e9637795"
      },
      "cell_type": "code",
      "source": [
        "disp.Image(\"A-complement.PNG\")"
      ],
      "execution_count": 35,
      "outputs": [
        {
          "output_type": "execute_result",
          "data": {
            "image/png": "A-complement.PNG",
            "text/plain": [
              "<IPython.core.display.Image object>"
            ]
          },
          "metadata": {
            "tags": []
          },
          "execution_count": 35
        }
      ]
    },
    {
      "metadata": {
        "id": "egvfCTZecWsn",
        "colab_type": "text"
      },
      "cell_type": "markdown",
      "source": [
        "If A is a set, then the absolute complement of A (or simply the complement of A) is the set of elements not in A. In other words, if U is the universe that contains all the elements under study, and there is no need to mention it because it is obvious and unique, then the absolute complement of A is the relative complement of A in U. Formally,\n",
        "\n",
        "$$ {\\displaystyle A^{\\complement }=\\{x\\in U\\mid x\\notin A\\}.} $$"
      ]
    },
    {
      "metadata": {
        "id": "YwChaQlWcWso",
        "colab_type": "code",
        "colab": {
          "base_uri": "https://localhost:8080/",
          "height": 54
        },
        "outputId": "d20833c9-b93d-4d86-e250-328550fd74d1"
      },
      "cell_type": "code",
      "source": [
        "S=set([x for x in range (101) if x%2==0])\n",
        "print (\"S is the set of even numbers between 0 and 100:\", S)"
      ],
      "execution_count": 36,
      "outputs": [
        {
          "output_type": "stream",
          "text": [
            "S is the set of even numbers between 0 and 100: {0, 2, 4, 6, 8, 10, 12, 14, 16, 18, 20, 22, 24, 26, 28, 30, 32, 34, 36, 38, 40, 42, 44, 46, 48, 50, 52, 54, 56, 58, 60, 62, 64, 66, 68, 70, 72, 74, 76, 78, 80, 82, 84, 86, 88, 90, 92, 94, 96, 98, 100}\n"
          ],
          "name": "stdout"
        }
      ]
    },
    {
      "metadata": {
        "id": "YAiIWEsUcWsq",
        "colab_type": "code",
        "colab": {
          "base_uri": "https://localhost:8080/",
          "height": 54
        },
        "outputId": "c4168441-b48a-42a4-e58d-8420f21bc6fc"
      },
      "cell_type": "code",
      "source": [
        "S_complement = set([x for x in range (101) if x%2!=0])\n",
        "print (\"S_complement is the set of odd numbers between 0 and 100:\", S_complement)"
      ],
      "execution_count": 37,
      "outputs": [
        {
          "output_type": "stream",
          "text": [
            "S_complement is the set of odd numbers between 0 and 100: {1, 3, 5, 7, 9, 11, 13, 15, 17, 19, 21, 23, 25, 27, 29, 31, 33, 35, 37, 39, 41, 43, 45, 47, 49, 51, 53, 55, 57, 59, 61, 63, 65, 67, 69, 71, 73, 75, 77, 79, 81, 83, 85, 87, 89, 91, 93, 95, 97, 99}\n"
          ],
          "name": "stdout"
        }
      ]
    },
    {
      "metadata": {
        "id": "HCoL5Ym1cWss",
        "colab_type": "text"
      },
      "cell_type": "markdown",
      "source": [
        "** You can take the union of two sets and if that is equal to the universal set (in the context of your problem), then you have found the right complement **"
      ]
    },
    {
      "metadata": {
        "id": "qP8FD4tNcWst",
        "colab_type": "code",
        "colab": {
          "base_uri": "https://localhost:8080/",
          "height": 34
        },
        "outputId": "1afd9bf5-923b-461f-8a24-c17c56777fa4"
      },
      "cell_type": "code",
      "source": [
        "print (\"Is the union of S and S_complement equal to all numbers between 0 and 100?\", \n",
        "       S.union(S_complement)==set([x for x in range (101)]))"
      ],
      "execution_count": 38,
      "outputs": [
        {
          "output_type": "stream",
          "text": [
            "Is the union of S and S_complement equal to all numbers between 0 and 100? True\n"
          ],
          "name": "stdout"
        }
      ]
    },
    {
      "metadata": {
        "id": "leVW7Ko9cWsu",
        "colab_type": "text"
      },
      "cell_type": "markdown",
      "source": [
        "** De Morgan's laws:**\n",
        "\n",
        "$$ {\\displaystyle \\left(A\\cup B\\right)^{\\complement }=A^{\\complement }\\cap B^{\\complement }.} $$\n",
        "$$ {\\displaystyle \\left(A\\cap B\\right)^{\\complement }=A^{\\complement }\\cup B^{\\complement }.} $$\n",
        "\n",
        "** Complement laws **\n",
        "\n",
        "$$ {\\displaystyle A\\cup A^{\\complement }=U.} $$\n",
        "$$ {\\displaystyle A\\cap A^{\\complement }=\\varnothing .} $$\n",
        "$$ {\\displaystyle \\varnothing ^{\\complement }=U.} $$\n",
        "$$ {\\displaystyle U^{\\complement }=\\varnothing .} $$\n",
        "$$ {\\displaystyle {\\text{If }}A\\subset B{\\text{, then }}B^{\\complement }\\subset A^{\\complement }.} $$"
      ]
    },
    {
      "metadata": {
        "id": "7drcTVHlcWsv",
        "colab_type": "text"
      },
      "cell_type": "markdown",
      "source": [
        "### Just an example of De Morgan's laws"
      ]
    },
    {
      "metadata": {
        "id": "bS4ZdFtxcWsv",
        "colab_type": "code",
        "colab": {
          "base_uri": "https://localhost:8080/",
          "height": 34
        },
        "outputId": "fa0ba51e-de31-422c-b92f-c841c2dd7c8e"
      },
      "cell_type": "code",
      "source": [
        "A={-6,3,4,5}\n",
        "B={-6,5,13}\n",
        "U=A|B|{12,-2,-4}\n",
        "print(\"U:\",U)"
      ],
      "execution_count": 39,
      "outputs": [
        {
          "output_type": "stream",
          "text": [
            "U: {-4, 3, 4, 5, -6, 12, 13, -2}\n"
          ],
          "name": "stdout"
        }
      ]
    },
    {
      "metadata": {
        "id": "pOTusWzrcWsx",
        "colab_type": "code",
        "colab": {}
      },
      "cell_type": "code",
      "source": [
        "def complement_of_union(S1,S2,S3):\n",
        "    Su = S1|S2\n",
        "    S4 = set()\n",
        "    for item in S3:\n",
        "        if item not in Su:\n",
        "            S4.add(item)\n",
        "    return S4\n",
        "\n",
        "def intersection_of_complement(S1,S2,S3):\n",
        "    S1C = set()\n",
        "    S2C = set()\n",
        "    for item in S3:\n",
        "        if item not in S1:\n",
        "            S1C.add(item)\n",
        "    for item in S3:\n",
        "        if item not in S2:\n",
        "            S2C.add(item)\n",
        "    return (S1C & S2C)"
      ],
      "execution_count": 0,
      "outputs": []
    },
    {
      "metadata": {
        "id": "ZSnC0neGcWsy",
        "colab_type": "code",
        "colab": {
          "base_uri": "https://localhost:8080/",
          "height": 34
        },
        "outputId": "9c5b4b27-fc3b-4ddd-8402-445f4be9ee16"
      },
      "cell_type": "code",
      "source": [
        "complement_of_union(A,B,U) == intersection_of_complement(A,B,U)"
      ],
      "execution_count": 41,
      "outputs": [
        {
          "output_type": "execute_result",
          "data": {
            "text/plain": [
              "True"
            ]
          },
          "metadata": {
            "tags": []
          },
          "execution_count": 41
        }
      ]
    },
    {
      "metadata": {
        "id": "LbI-YaaccWs0",
        "colab_type": "code",
        "colab": {
          "base_uri": "https://localhost:8080/",
          "height": 34
        },
        "outputId": "e004c7af-b88d-4ac2-c4b1-817abad7fe95"
      },
      "cell_type": "code",
      "source": [
        "complement_of_union(A,B,U)"
      ],
      "execution_count": 42,
      "outputs": [
        {
          "output_type": "execute_result",
          "data": {
            "text/plain": [
              "{-4, -2, 12}"
            ]
          },
          "metadata": {
            "tags": []
          },
          "execution_count": 42
        }
      ]
    },
    {
      "metadata": {
        "id": "VQTqKK-XcWs1",
        "colab_type": "code",
        "colab": {
          "base_uri": "https://localhost:8080/",
          "height": 34
        },
        "outputId": "8d5af213-5052-4d7d-f3ff-411384695d54"
      },
      "cell_type": "code",
      "source": [
        "intersection_of_complement(A,B,U)"
      ],
      "execution_count": 43,
      "outputs": [
        {
          "output_type": "execute_result",
          "data": {
            "text/plain": [
              "{-4, -2, 12}"
            ]
          },
          "metadata": {
            "tags": []
          },
          "execution_count": 43
        }
      ]
    },
    {
      "metadata": {
        "id": "Z80pNm59cWs5",
        "colab_type": "text"
      },
      "cell_type": "markdown",
      "source": [
        "### Difference between sets"
      ]
    },
    {
      "metadata": {
        "id": "9n0jFJQ_cWs5",
        "colab_type": "text"
      },
      "cell_type": "markdown",
      "source": [
        "If A and B are sets, then the relative complement of A in B, also termed the set-theoretic difference of B and A, is the **set of elements in B but not in A**.\n",
        "\n",
        "$$ {\\displaystyle B\\setminus A=\\{x\\in B\\mid x\\notin A\\}.} $$\n",
        "\n",
        "![Set difference](https://upload.wikimedia.org/wikipedia/commons/5/5a/Venn0010.svg)"
      ]
    },
    {
      "metadata": {
        "id": "CmstLCyicWs6",
        "colab_type": "code",
        "colab": {
          "base_uri": "https://localhost:8080/",
          "height": 34
        },
        "outputId": "7f658d38-31b2-4559-b372-563f5a94e319"
      },
      "cell_type": "code",
      "source": [
        "S1 = set([x for x in range(31) if x%3==0])\n",
        "print (\"Set S1:\", S1)"
      ],
      "execution_count": 44,
      "outputs": [
        {
          "output_type": "stream",
          "text": [
            "Set S1: {0, 3, 6, 9, 12, 15, 18, 21, 24, 27, 30}\n"
          ],
          "name": "stdout"
        }
      ]
    },
    {
      "metadata": {
        "id": "xdG6J58lcWs8",
        "colab_type": "code",
        "colab": {
          "base_uri": "https://localhost:8080/",
          "height": 34
        },
        "outputId": "dada5016-6ce9-444a-a29d-f827309e2069"
      },
      "cell_type": "code",
      "source": [
        "S2 = set([x for x in range(31) if x%5==0])\n",
        "print (\"Set S2:\", S2)"
      ],
      "execution_count": 45,
      "outputs": [
        {
          "output_type": "stream",
          "text": [
            "Set S2: {0, 5, 10, 15, 20, 25, 30}\n"
          ],
          "name": "stdout"
        }
      ]
    },
    {
      "metadata": {
        "id": "QvAlzEB3cWs_",
        "colab_type": "code",
        "colab": {
          "base_uri": "https://localhost:8080/",
          "height": 51
        },
        "outputId": "40f582a1-7cdd-4364-c44e-6a4c42e9b8c1"
      },
      "cell_type": "code",
      "source": [
        "S_difference = S2-S1\n",
        "print(\"Difference of S1 and S2 i.e. S2\\S1:\", S_difference)\n",
        "\n",
        "S_difference = S1.difference(S2)\n",
        "print(\"Difference of S2 and S1 i.e. S1\\S2:\", S_difference)"
      ],
      "execution_count": 46,
      "outputs": [
        {
          "output_type": "stream",
          "text": [
            "Difference of S1 and S2 i.e. S2\\S1: {25, 10, 20, 5}\n",
            "Difference of S2 and S1 i.e. S1\\S2: {3, 6, 9, 12, 18, 21, 24, 27}\n"
          ],
          "name": "stdout"
        }
      ]
    },
    {
      "metadata": {
        "id": "WLABUg6HcWtC",
        "colab_type": "text"
      },
      "cell_type": "markdown",
      "source": [
        "** Following identities can be obtained with algebraic manipulation: **\n",
        "\n",
        "$$ {\\displaystyle C\\setminus (A\\cap B)=(C\\setminus A)\\cup (C\\setminus B)} $$\n",
        "$$ {\\displaystyle C\\setminus (A\\cup B)=(C\\setminus A)\\cap (C\\setminus B)} $$\n",
        "$$ {\\displaystyle C\\setminus (B\\setminus A)=(C\\cap A)\\cup (C\\setminus B)} $$\n",
        "$$ {\\displaystyle C\\setminus (C\\setminus A)=(C\\cap A)} $$\n",
        "$$ {\\displaystyle (B\\setminus A)\\cap C=(B\\cap C)\\setminus A=B\\cap (C\\setminus A)} $$\n",
        "$$ {\\displaystyle (B\\setminus A)\\cup C=(B\\cup C)\\setminus (A\\setminus C)} $$      \n",
        "$$ {\\displaystyle A\\setminus A=\\emptyset} $$\n",
        "$$ {\\displaystyle \\emptyset \\setminus A=\\emptyset } $$\n",
        "$$ {\\displaystyle A\\setminus \\emptyset =A} $$\n",
        "$$ {\\displaystyle A\\setminus U=\\emptyset } $$"
      ]
    },
    {
      "metadata": {
        "collapsed": true,
        "id": "arWgFhH_cWtD",
        "colab_type": "text"
      },
      "cell_type": "markdown",
      "source": [
        "### Symmetric difference"
      ]
    },
    {
      "metadata": {
        "id": "K4s8CdnVcWtF",
        "colab_type": "text"
      },
      "cell_type": "markdown",
      "source": [
        "In set theory, the ***symmetric difference***, also known as the ***disjunctive union***, of two sets is the set of elements which are in either of the sets and not in their intersection.\n",
        "$$ {\\displaystyle A\\,\\triangle \\,B=\\{x:(x\\in A)\\oplus (x\\in B)\\}}$$ \n",
        "\n",
        "$$ {\\displaystyle A\\,\\triangle \\,B=(A\\smallsetminus B)\\cup (B\\smallsetminus A)} $$\n",
        "\n",
        "$${\\displaystyle A\\,\\triangle \\,B=(A\\cup B)\\smallsetminus (A\\cap B)} $$"
      ]
    },
    {
      "metadata": {
        "id": "dN7lFKqdcWtG",
        "colab_type": "text"
      },
      "cell_type": "markdown",
      "source": [
        "![Symmetric difference](https://upload.wikimedia.org/wikipedia/commons/4/46/Venn0110.svg)"
      ]
    },
    {
      "metadata": {
        "id": "PbFj6n_9cWtH",
        "colab_type": "text"
      },
      "cell_type": "markdown",
      "source": [
        "**Some properties,**\n",
        "\n",
        "$$ {\\displaystyle A\\,\\triangle \\,B=B\\,\\triangle \\,A,} $$\n",
        "$$ {\\displaystyle (A\\,\\triangle \\,B)\\,\\triangle \\,C=A\\,\\triangle \\,(B\\,\\triangle \\,C).} $$\n",
        "\n",
        "**The empty set is neutral, and every set is its own inverse:**\n",
        "\n",
        "$$ {\\displaystyle A\\,\\triangle \\,\\varnothing =A,} $$\n",
        "$$ {\\displaystyle A\\,\\triangle \\,A=\\varnothing .} $$"
      ]
    },
    {
      "metadata": {
        "id": "NVGTXfmLcWtI",
        "colab_type": "code",
        "colab": {
          "base_uri": "https://localhost:8080/",
          "height": 85
        },
        "outputId": "3f58e30d-ed92-450a-d10b-d7d1b025c338"
      },
      "cell_type": "code",
      "source": [
        "print(\"S1\",S1)\n",
        "print(\"S2\",S2)\n",
        "print(\"Symmetric difference\", S1^S2)\n",
        "print(\"Symmetric difference\", S2.symmetric_difference(S1))"
      ],
      "execution_count": 47,
      "outputs": [
        {
          "output_type": "stream",
          "text": [
            "S1 {0, 3, 6, 9, 12, 15, 18, 21, 24, 27, 30}\n",
            "S2 {0, 5, 10, 15, 20, 25, 30}\n",
            "Symmetric difference {3, 5, 6, 9, 10, 12, 18, 20, 21, 24, 25, 27}\n",
            "Symmetric difference {3, 5, 6, 9, 10, 12, 18, 20, 21, 24, 25, 27}\n"
          ],
          "name": "stdout"
        }
      ]
    },
    {
      "metadata": {
        "collapsed": true,
        "id": "QS6jooCQcWtK",
        "colab_type": "text"
      },
      "cell_type": "markdown",
      "source": [
        "### Cartesian Product"
      ]
    },
    {
      "metadata": {
        "id": "b7vg2HMJcWtL",
        "colab_type": "text"
      },
      "cell_type": "markdown",
      "source": [
        "In set theory (and, usually, in other parts of mathematics), a Cartesian product is a mathematical operation that returns a set (or product set or simply product) from multiple sets. That is, for sets A and B, the Cartesian product A × B is the set of all ordered pairs (a, b) where a ∈ A and b ∈ B.\n",
        "\n",
        "$$ {\\displaystyle A\\times B=\\{\\,(a,b)\\mid a\\in A\\ {\\mbox{ and }}\\ b\\in B\\,\\}.} $$\n",
        "\n",
        "More generally, a Cartesian product of n sets, also known as an n-fold Cartesian product, can be represented by an array of n dimensions, where each element is an *n-tuple*. An ordered pair is a *2-tuple* or couple. The Cartesian product is named after [René Descartes](https://en.wikipedia.org/wiki/Ren%C3%A9_Descartes) whose formulation of analytic geometry gave rise to the concept"
      ]
    },
    {
      "metadata": {
        "id": "jH3OVtA-cWtL",
        "colab_type": "code",
        "colab": {}
      },
      "cell_type": "code",
      "source": [
        "A = set(['a','b','c'])\n",
        "S = {1,2,3}"
      ],
      "execution_count": 0,
      "outputs": []
    },
    {
      "metadata": {
        "id": "hz_aKm6JcWtN",
        "colab_type": "code",
        "colab": {
          "base_uri": "https://localhost:8080/",
          "height": 51
        },
        "outputId": "722198ad-42d0-47bd-e6dd-36172936ae56"
      },
      "cell_type": "code",
      "source": [
        "def cartesian_product(S1,S2):\n",
        "    result = set()\n",
        "    for i in S1:\n",
        "        for j in S2:\n",
        "            result.add(tuple([i,j]))\n",
        "    return (result)\n",
        "\n",
        "C = cartesian_product(A,S)\n",
        "print(\"Cartesian product of A and S\\n{} X {}:{}\".format(A,S,C))"
      ],
      "execution_count": 49,
      "outputs": [
        {
          "output_type": "stream",
          "text": [
            "Cartesian product of A and S\n",
            "{'a', 'b', 'c'} X {1, 2, 3}:{('b', 1), ('c', 1), ('b', 3), ('c', 3), ('b', 2), ('c', 2), ('a', 3), ('a', 2), ('a', 1)}\n"
          ],
          "name": "stdout"
        }
      ]
    },
    {
      "metadata": {
        "id": "eOJvSbSgcWtO",
        "colab_type": "code",
        "colab": {
          "base_uri": "https://localhost:8080/",
          "height": 34
        },
        "outputId": "da928ac7-d09b-4cf1-991c-b7bfe15eb981"
      },
      "cell_type": "code",
      "source": [
        "print(\"Length of the Cartesian product set:\",len(C))"
      ],
      "execution_count": 50,
      "outputs": [
        {
          "output_type": "stream",
          "text": [
            "Length of the Cartesian product set: 9\n"
          ],
          "name": "stdout"
        }
      ]
    },
    {
      "metadata": {
        "id": "Elh2-Z-kcWtQ",
        "colab_type": "text"
      },
      "cell_type": "markdown",
      "source": [
        "** Note that because these are ordered pairs, same element can be repeated inside the pair i.e. even if two sets contain some identical elements, they can be paired up in the Cartesian product **"
      ]
    },
    {
      "metadata": {
        "id": "0XIkDmI2cWtQ",
        "colab_type": "code",
        "colab": {
          "base_uri": "https://localhost:8080/",
          "height": 51
        },
        "outputId": "e20f46a0-1177-40a7-c82a-65325651b872"
      },
      "cell_type": "code",
      "source": [
        "A = {1,2,3,4}\n",
        "B = {2,3,4}\n",
        "\n",
        "print (\"Cartesian product of {} and {} is:\\n{}\".format(A,B,cartesian_product(A,B)))"
      ],
      "execution_count": 51,
      "outputs": [
        {
          "output_type": "stream",
          "text": [
            "Cartesian product of {1, 2, 3, 4} and {2, 3, 4} is:\n",
            "{(1, 2), (3, 2), (1, 3), (3, 3), (4, 4), (1, 4), (2, 3), (4, 3), (2, 2), (4, 2), (3, 4), (2, 4)}\n"
          ],
          "name": "stdout"
        }
      ]
    },
    {
      "metadata": {
        "collapsed": true,
        "id": "tgy2IlPgcWtT",
        "colab_type": "text"
      },
      "cell_type": "markdown",
      "source": [
        "** Instead of writing functions ourselves, we could use the *itertools* library of Python. Remember to turn the resulting product object into a list for viewing and subsequent processing **"
      ]
    },
    {
      "metadata": {
        "id": "TfMVkX77cWtU",
        "colab_type": "code",
        "colab": {}
      },
      "cell_type": "code",
      "source": [
        "from itertools import product as prod"
      ],
      "execution_count": 0,
      "outputs": []
    },
    {
      "metadata": {
        "id": "FF7dPrK7cWtY",
        "colab_type": "code",
        "colab": {
          "base_uri": "https://localhost:8080/",
          "height": 34
        },
        "outputId": "e9f3a044-eb0b-4501-cc12-b801c27580d0"
      },
      "cell_type": "code",
      "source": [
        "A = {1,2,3,4}\n",
        "B = {2,3,4}\n",
        "p=list(prod(A,B))\n",
        "print (p)"
      ],
      "execution_count": 53,
      "outputs": [
        {
          "output_type": "stream",
          "text": [
            "[(1, 2), (1, 3), (1, 4), (2, 2), (2, 3), (2, 4), (3, 2), (3, 3), (3, 4), (4, 2), (4, 3), (4, 4)]\n"
          ],
          "name": "stdout"
        }
      ]
    },
    {
      "metadata": {
        "id": "eTnltHvucWta",
        "colab_type": "text"
      },
      "cell_type": "markdown",
      "source": [
        "### Cartesian Power\n",
        "\n",
        "The Cartesian square (or binary Cartesian product) of a set X is the Cartesian product $X^2 = X × X$. An example is the 2-dimensional plane $R^2 = R × R$ where _R_ is the set of real numbers: $R^2$ is the set of all points (_x_,_y_) where _x_ and _y_ are real numbers (see the [Cartesian coordinate system](https://en.wikipedia.org/wiki/Cartesian_coordinate_system)).\n",
        "\n",
        "The cartesian power of a set X can be defined as:\n",
        "\n",
        "${\\displaystyle X^{n}=\\underbrace {X\\times X\\times \\cdots \\times X} _{n}=\\{(x_{1},\\ldots ,x_{n})\\ |\\ x_{i}\\in X{\\text{ for all }}i=1,\\ldots ,n\\}.} $\n",
        "\n",
        "The [cardinality of a set](https://en.wikipedia.org/wiki/Cardinality) is the number of elements of the set. Cardinality of a Cartesian power set is $|S|^{n}$ where |S| is the cardinality of the set _S_ and _n_ is the power.\n",
        "\n",
        "__We can easily use itertools again for calculating Cartesian power__. The _repeat_ parameter is used as power."
      ]
    },
    {
      "metadata": {
        "id": "XSXptL1-cWtb",
        "colab_type": "code",
        "colab": {
          "base_uri": "https://localhost:8080/",
          "height": 105
        },
        "outputId": "ae6033db-e19e-4333-d2d2-b7e8559232ff"
      },
      "cell_type": "code",
      "source": [
        "A = {1,2,3} # 3 element set\n",
        "p2=list(prod(A,repeat=2)) # Power set of power 2\n",
        "print(\"Cartesian power 2 with length {}: {}\".format(len(p2),p2))\n",
        "print(\"\\n\")\n",
        "p3=list(prod(A,repeat=3)) # Power set of power 3\n",
        "print(\"Cartesian power 3 with length {}: {}\".format(len(p3),p3))"
      ],
      "execution_count": 54,
      "outputs": [
        {
          "output_type": "stream",
          "text": [
            "Cartesian power 2 with length 9: [(1, 1), (1, 2), (1, 3), (2, 1), (2, 2), (2, 3), (3, 1), (3, 2), (3, 3)]\n",
            "\n",
            "\n",
            "Cartesian power 3 with length 27: [(1, 1, 1), (1, 1, 2), (1, 1, 3), (1, 2, 1), (1, 2, 2), (1, 2, 3), (1, 3, 1), (1, 3, 2), (1, 3, 3), (2, 1, 1), (2, 1, 2), (2, 1, 3), (2, 2, 1), (2, 2, 2), (2, 2, 3), (2, 3, 1), (2, 3, 2), (2, 3, 3), (3, 1, 1), (3, 1, 2), (3, 1, 3), (3, 2, 1), (3, 2, 2), (3, 2, 3), (3, 3, 1), (3, 3, 2), (3, 3, 3)]\n"
          ],
          "name": "stdout"
        }
      ]
    },
    {
      "metadata": {
        "id": "8y42i1VtcWtd",
        "colab_type": "code",
        "colab": {
          "base_uri": "https://localhost:8080/",
          "height": 204
        },
        "outputId": "4f76c9d1-bdd9-4117-926a-813e9d824b90"
      },
      "cell_type": "code",
      "source": [
        "A = {1, 2, 3}\n",
        "k = 2\n",
        "cartesian_power = set([i for i in prod(A, repeat = k)])\n",
        "print(\"Tuples in %s^%i: \" %(A,k))\n",
        "for i in cartesian_power:\n",
        "    print(i)\n",
        "print;\n",
        "print(\"Size = \", len(cartesian_power))"
      ],
      "execution_count": 55,
      "outputs": [
        {
          "output_type": "stream",
          "text": [
            "Tuples in {1, 2, 3}^2: \n",
            "(1, 2)\n",
            "(3, 2)\n",
            "(1, 3)\n",
            "(3, 3)\n",
            "(3, 1)\n",
            "(2, 1)\n",
            "(2, 3)\n",
            "(2, 2)\n",
            "(1, 1)\n",
            "Size =  9\n"
          ],
          "name": "stdout"
        }
      ]
    }
  ]
}