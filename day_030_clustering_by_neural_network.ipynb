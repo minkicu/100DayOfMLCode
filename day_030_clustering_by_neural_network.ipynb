{
 "cells": [
  {
   "cell_type": "code",
   "execution_count": null,
   "metadata": {},
   "outputs": [],
   "source": [
    "import numpy as np\n",
    "import pandas as pd"
   ]
  },
  {
   "cell_type": "code",
   "execution_count": null,
   "metadata": {},
   "outputs": [],
   "source": [
    "url = \"https://archive.ics.uci.edu/ml/machine-learning-databases/iris/iris.data\"\n",
    "names = ['sepal length', 'sepal width', 'petal length', 'petal width', 'class']\n",
    "ds = pd.read_csv(url, names=names)"
   ]
  },
  {
   "cell_type": "code",
   "execution_count": null,
   "metadata": {},
   "outputs": [],
   "source": [
    "ds.head()"
   ]
  },
  {
   "cell_type": "code",
   "execution_count": null,
   "metadata": {},
   "outputs": [],
   "source": [
    "#normalization\n",
    "\n",
    "list_sl=[]\n",
    "list_sw=[]\n",
    "list_pl=[]\n",
    "list_pw=[]\n",
    "for sl in ds['sepal length']:\n",
    "    sl = (sl-min(ds['sepal length']))/(max(ds['sepal length'])-min(ds['sepal length']))\n",
    "    list_sl.append(sl)\n",
    "for sw in ds['sepal width']:\n",
    "    sw = (sw-min(ds['sepal width']))/(max(ds['sepal width'])-min(ds['sepal width']))\n",
    "    list_sw.append(sw)    \n",
    "for pl in ds['petal length']:\n",
    "    pl = (pl-min(ds['petal length']))/(max(ds['petal length'])-min(ds['petal length']))\n",
    "    list_pl.append(pl)\n",
    "for pw in ds['petal width']:\n",
    "    pw = (pw-min(ds['petal width']))/(max(ds['petal width'])-min(ds['petal width']))\n",
    "    list_pw.append(pw) \n",
    "\n",
    "X = np.array( list(zip(list_sl,list_sw, list_pl, list_pw)) )"
   ]
  },
  {
   "cell_type": "code",
   "execution_count": null,
   "metadata": {},
   "outputs": [],
   "source": [
    "nc = 4       # number of classes\n",
    "W = []         # list for w vectors\n",
    "M = len(X)     # number of x vectors\n",
    "N = len(X[0])  # dimensionality of x vectors"
   ]
  },
  {
   "cell_type": "code",
   "execution_count": null,
   "metadata": {},
   "outputs": [],
   "source": [
    "def get_weights():\n",
    "    y = np.random.random() * (2.0 / np.sqrt(M))\n",
    "    return 0.5 - (1 / np.sqrt(M)) + y"
   ]
  },
  {
   "cell_type": "code",
   "execution_count": null,
   "metadata": {},
   "outputs": [],
   "source": [
    "for i in range(nc):\n",
    "    W.append(list())\n",
    "    for j in range(N):\n",
    "        W[i].append(get_weights() * 0.5)"
   ]
  },
  {
   "cell_type": "code",
   "execution_count": null,
   "metadata": {},
   "outputs": [],
   "source": [
    "def distance(w, x):\n",
    "    r = 0\n",
    "    for i in range(len(w)):\n",
    "        r = r + (w[i] - x[i])*(w[i] - x[i])\n",
    "    \n",
    "    r = np.sqrt(r)\n",
    "    return r"
   ]
  },
  {
   "cell_type": "code",
   "execution_count": null,
   "metadata": {},
   "outputs": [],
   "source": [
    "def Findclosest(W, x):\n",
    "    wm = W[0]\n",
    "    r = distance(wm, x)\n",
    "    \n",
    "    i = 0\n",
    "    i_n = i\n",
    "    \n",
    "    for w in W:\n",
    "        if distance(w, x) < r:\n",
    "            r = distance(w, x)\n",
    "            wm = w\n",
    "            i_n = i\n",
    "        i = i + 1\n",
    "    \n",
    "    return (wm, i_n)"
   ]
  },
  {
   "cell_type": "code",
   "execution_count": null,
   "metadata": {},
   "outputs": [],
   "source": [
    "print(W)"
   ]
  },
  {
   "cell_type": "code",
   "execution_count": null,
   "metadata": {},
   "outputs": [],
   "source": [
    "la = 0.3    # λ coefficient\n",
    "dla = 0.05  # Δλ\n",
    "\n",
    "while la >= 0:\n",
    "    for k in range(10):\n",
    "        for x in X:\n",
    "            wm = Findclosest(W, x)[0]\n",
    "            for i in range(len(wm)):\n",
    "                wm[i] = wm[i] + la * (x[i] - wm[i]) \n",
    "\n",
    "    la = la - dla"
   ]
  },
  {
   "cell_type": "code",
   "execution_count": null,
   "metadata": {},
   "outputs": [],
   "source": [
    "Data = list() \n",
    "\n",
    "for i in range(len(W)):\n",
    "    Data.append(list())\n",
    "\n",
    "dfList = ds['class'].as_matrix()"
   ]
  },
  {
   "cell_type": "code",
   "execution_count": null,
   "metadata": {},
   "outputs": [],
   "source": [
    "DS = list()\n",
    "i = 0\n",
    "for x in X:\n",
    "    i_n = Findclosest(W, x)[1]\n",
    "    Data[i_n].append(x)\n",
    "    DS.append([i_n, dfList[i]])\n",
    "    i = i + 1\n",
    "\n",
    "print (DS)"
   ]
  }
 ],
 "metadata": {
  "kernelspec": {
   "display_name": "Python 3",
   "language": "python",
   "name": "python3"
  },
  "language_info": {
   "codemirror_mode": {
    "name": "ipython",
    "version": 3
   },
   "file_extension": ".py",
   "mimetype": "text/x-python",
   "name": "python",
   "nbconvert_exporter": "python",
   "pygments_lexer": "ipython3",
   "version": "3.7.0"
  }
 },
 "nbformat": 4,
 "nbformat_minor": 2
}
