{
  "nbformat": 4,
  "nbformat_minor": 0,
  "metadata": {
    "colab": {
      "name": "day_057_getting_started_with_tensorflow.ipynb",
      "version": "0.3.2",
      "provenance": [],
      "include_colab_link": true
    },
    "kernelspec": {
      "name": "python3",
      "display_name": "Python 3"
    }
  },
  "cells": [
    {
      "cell_type": "markdown",
      "metadata": {
        "id": "view-in-github",
        "colab_type": "text"
      },
      "source": [
        "<a href=\"https://colab.research.google.com/github/rkrissada/100DayOfMLCode/blob/master/day_057_getting_started_with_tensorflow.ipynb\" target=\"_parent\"><img src=\"https://colab.research.google.com/assets/colab-badge.svg\" alt=\"Open In Colab\"/></a>"
      ]
    },
    {
      "metadata": {
        "id": "wlGwADxF59EQ",
        "colab_type": "text"
      },
      "cell_type": "markdown",
      "source": [
        "# Getting started with TensorFlow"
      ]
    },
    {
      "metadata": {
        "id": "0380SPKi58SL",
        "colab_type": "code",
        "colab": {
          "base_uri": "https://localhost:8080/",
          "height": 34
        },
        "outputId": "f3f7eecd-48f6-441b-94b0-13cca1ce7871"
      },
      "cell_type": "code",
      "source": [
        "import tensorflow as tf\n",
        "import numpy as np\n",
        "\n",
        "print(tf.__version__)"
      ],
      "execution_count": 1,
      "outputs": [
        {
          "output_type": "stream",
          "text": [
            "1.13.1\n"
          ],
          "name": "stdout"
        }
      ]
    },
    {
      "metadata": {
        "id": "uViD8pQO61sM",
        "colab_type": "text"
      },
      "cell_type": "markdown",
      "source": [
        "## Adding two tensors\n",
        "\n",
        "First, let's try doing this umsing numpy, the Python numneric package. numpy code is immediately eveluated."
      ]
    },
    {
      "metadata": {
        "id": "oTPm-uN77N9s",
        "colab_type": "code",
        "colab": {
          "base_uri": "https://localhost:8080/",
          "height": 34
        },
        "outputId": "7b61c21b-2021-44e3-fee2-a2aa8a8bc675"
      },
      "cell_type": "code",
      "source": [
        "a = np.array([5, 3, 8])\n",
        "b = np.array([3, -1, 2])\n",
        "c = np.add(a,b)\n",
        "\n",
        "# 5+3, 3-1, 8+2\n",
        "\n",
        "print(c)"
      ],
      "execution_count": 2,
      "outputs": [
        {
          "output_type": "stream",
          "text": [
            "[ 8  2 10]\n"
          ],
          "name": "stdout"
        }
      ]
    },
    {
      "metadata": {
        "id": "AKfzpPe37r8t",
        "colab_type": "text"
      },
      "cell_type": "markdown",
      "source": [
        "The equivalent code in TensorFlow consists of two steps:\n",
        "\n",
        "### Step 1: Build the graph"
      ]
    },
    {
      "metadata": {
        "id": "8C1zdAh67zET",
        "colab_type": "code",
        "colab": {
          "base_uri": "https://localhost:8080/",
          "height": 34
        },
        "outputId": "e0385f2a-43ea-476b-a80b-6861751864bc"
      },
      "cell_type": "code",
      "source": [
        "a = tf.constant([5, 3, 8])\n",
        "b = tf.constant([3, -1, 2])\n",
        "c = tf.add(a, b)\n",
        "\n",
        "print(c)"
      ],
      "execution_count": 7,
      "outputs": [
        {
          "output_type": "stream",
          "text": [
            "Tensor(\"Add_4:0\", shape=(3,), dtype=int32)\n"
          ],
          "name": "stdout"
        }
      ]
    },
    {
      "metadata": {
        "id": "CbzLhvWy8Pi0",
        "colab_type": "text"
      },
      "cell_type": "markdown",
      "source": [
        "c is an Op (\"Add\") that returns a tensor of shape (3,) and holds int32. The shape is inferred from the computation graph."
      ]
    },
    {
      "metadata": {
        "id": "bbv16N6j8U0Q",
        "colab_type": "text"
      },
      "cell_type": "markdown",
      "source": [
        "Try the following in the cell above:\n",
        "\n",
        "1. Change the 5 to 5.0, and similarly the other five numbers. What happens when you run this cell?\n",
        "2. Add an extra number to a, but leave b at the original (3,) shape. What happens when you run this cell?\n",
        "3. Change the code back to a version that works"
      ]
    },
    {
      "metadata": {
        "id": "VGdD2eS681p9",
        "colab_type": "text"
      },
      "cell_type": "markdown",
      "source": [
        "### Step 2: Run the graph"
      ]
    },
    {
      "metadata": {
        "id": "Oz_dk5LP8UAb",
        "colab_type": "code",
        "colab": {
          "base_uri": "https://localhost:8080/",
          "height": 34
        },
        "outputId": "a26dc84f-0e96-4e20-98f0-688df7f12a4d"
      },
      "cell_type": "code",
      "source": [
        "with tf.Session() as sess:\n",
        "  result = sess.run(c)\n",
        "  print(result)"
      ],
      "execution_count": 9,
      "outputs": [
        {
          "output_type": "stream",
          "text": [
            "[ 8  2 10]\n"
          ],
          "name": "stdout"
        }
      ]
    },
    {
      "metadata": {
        "id": "CuKObOdR9YpM",
        "colab_type": "text"
      },
      "cell_type": "markdown",
      "source": [
        "## Using a feed_dict\n",
        "\n",
        "Same graph, but without hardcoding inputs at build stage"
      ]
    },
    {
      "metadata": {
        "id": "VTHOdnDz9wpk",
        "colab_type": "code",
        "colab": {
          "base_uri": "https://localhost:8080/",
          "height": 34
        },
        "outputId": "7bf23336-6ac7-4c00-843b-c64b1d1eab9b"
      },
      "cell_type": "code",
      "source": [
        "a = tf.placeholder(dtype=tf.int32, shape=(None,))\n",
        "b = tf.placeholder(dtype=tf.int32, shape=(None,))\n",
        "c = tf.add(a,b)\n",
        "\n",
        "with tf.Session() as sess:\n",
        "  result = sess.run(c, feed_dict={\n",
        "      a: [5, 3, 8],\n",
        "      b: [3, -1, 2]\n",
        "  })\n",
        "  print(result)"
      ],
      "execution_count": 10,
      "outputs": [
        {
          "output_type": "stream",
          "text": [
            "[ 8  2 10]\n"
          ],
          "name": "stdout"
        }
      ]
    }
  ]
}