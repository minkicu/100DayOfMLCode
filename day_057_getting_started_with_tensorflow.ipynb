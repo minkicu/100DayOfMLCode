{
  "nbformat": 4,
  "nbformat_minor": 0,
  "metadata": {
    "colab": {
      "name": "day_057_getting_started_with_tensorflow.ipynb",
      "version": "0.3.2",
      "provenance": [],
      "collapsed_sections": [],
      "include_colab_link": true
    },
    "kernelspec": {
      "name": "python3",
      "display_name": "Python 3"
    }
  },
  "cells": [
    {
      "cell_type": "markdown",
      "metadata": {
        "id": "view-in-github",
        "colab_type": "text"
      },
      "source": [
        "<a href=\"https://colab.research.google.com/github/rkrissada/100DayOfMLCode/blob/master/day_057_getting_started_with_tensorflow.ipynb\" target=\"_parent\"><img src=\"https://colab.research.google.com/assets/colab-badge.svg\" alt=\"Open In Colab\"/></a>"
      ]
    },
    {
      "metadata": {
        "id": "wlGwADxF59EQ",
        "colab_type": "text"
      },
      "cell_type": "markdown",
      "source": [
        "# Getting started with TensorFlow"
      ]
    },
    {
      "metadata": {
        "id": "0380SPKi58SL",
        "colab_type": "code",
        "colab": {
          "base_uri": "https://localhost:8080/",
          "height": 34
        },
        "outputId": "f3f7eecd-48f6-441b-94b0-13cca1ce7871"
      },
      "cell_type": "code",
      "source": [
        "import tensorflow as tf\n",
        "import numpy as np\n",
        "\n",
        "print(tf.__version__)"
      ],
      "execution_count": 1,
      "outputs": [
        {
          "output_type": "stream",
          "text": [
            "1.13.1\n"
          ],
          "name": "stdout"
        }
      ]
    },
    {
      "metadata": {
        "id": "uViD8pQO61sM",
        "colab_type": "text"
      },
      "cell_type": "markdown",
      "source": [
        "## Adding two tensors\n",
        "\n",
        "First, let's try doing this umsing numpy, the Python numneric package. numpy code is immediately eveluated."
      ]
    },
    {
      "metadata": {
        "id": "oTPm-uN77N9s",
        "colab_type": "code",
        "colab": {
          "base_uri": "https://localhost:8080/",
          "height": 34
        },
        "outputId": "7b61c21b-2021-44e3-fee2-a2aa8a8bc675"
      },
      "cell_type": "code",
      "source": [
        "a = np.array([5, 3, 8])\n",
        "b = np.array([3, -1, 2])\n",
        "c = np.add(a,b)\n",
        "\n",
        "# 5+3, 3-1, 8+2\n",
        "\n",
        "print(c)"
      ],
      "execution_count": 2,
      "outputs": [
        {
          "output_type": "stream",
          "text": [
            "[ 8  2 10]\n"
          ],
          "name": "stdout"
        }
      ]
    },
    {
      "metadata": {
        "id": "AKfzpPe37r8t",
        "colab_type": "text"
      },
      "cell_type": "markdown",
      "source": [
        "The equivalent code in TensorFlow consists of two steps:\n",
        "\n",
        "### Step 1: Build the graph"
      ]
    },
    {
      "metadata": {
        "id": "8C1zdAh67zET",
        "colab_type": "code",
        "colab": {
          "base_uri": "https://localhost:8080/",
          "height": 34
        },
        "outputId": "e0385f2a-43ea-476b-a80b-6861751864bc"
      },
      "cell_type": "code",
      "source": [
        "a = tf.constant([5, 3, 8])\n",
        "b = tf.constant([3, -1, 2])\n",
        "c = tf.add(a, b)\n",
        "\n",
        "print(c)"
      ],
      "execution_count": 7,
      "outputs": [
        {
          "output_type": "stream",
          "text": [
            "Tensor(\"Add_4:0\", shape=(3,), dtype=int32)\n"
          ],
          "name": "stdout"
        }
      ]
    },
    {
      "metadata": {
        "id": "CbzLhvWy8Pi0",
        "colab_type": "text"
      },
      "cell_type": "markdown",
      "source": [
        "c is an Op (\"Add\") that returns a tensor of shape (3,) and holds int32. The shape is inferred from the computation graph."
      ]
    },
    {
      "metadata": {
        "id": "bbv16N6j8U0Q",
        "colab_type": "text"
      },
      "cell_type": "markdown",
      "source": [
        "Try the following in the cell above:\n",
        "\n",
        "1. Change the 5 to 5.0, and similarly the other five numbers. What happens when you run this cell?\n",
        "2. Add an extra number to a, but leave b at the original (3,) shape. What happens when you run this cell?\n",
        "3. Change the code back to a version that works"
      ]
    },
    {
      "metadata": {
        "id": "VGdD2eS681p9",
        "colab_type": "text"
      },
      "cell_type": "markdown",
      "source": [
        "### Step 2: Run the graph"
      ]
    },
    {
      "metadata": {
        "id": "Oz_dk5LP8UAb",
        "colab_type": "code",
        "colab": {
          "base_uri": "https://localhost:8080/",
          "height": 34
        },
        "outputId": "a26dc84f-0e96-4e20-98f0-688df7f12a4d"
      },
      "cell_type": "code",
      "source": [
        "with tf.Session() as sess:\n",
        "  result = sess.run(c)\n",
        "  print(result)"
      ],
      "execution_count": 9,
      "outputs": [
        {
          "output_type": "stream",
          "text": [
            "[ 8  2 10]\n"
          ],
          "name": "stdout"
        }
      ]
    },
    {
      "metadata": {
        "id": "CuKObOdR9YpM",
        "colab_type": "text"
      },
      "cell_type": "markdown",
      "source": [
        "## Using a feed_dict\n",
        "\n",
        "Same graph, but without hardcoding inputs at build stage"
      ]
    },
    {
      "metadata": {
        "id": "VTHOdnDz9wpk",
        "colab_type": "code",
        "colab": {
          "base_uri": "https://localhost:8080/",
          "height": 34
        },
        "outputId": "7bf23336-6ac7-4c00-843b-c64b1d1eab9b"
      },
      "cell_type": "code",
      "source": [
        "a = tf.placeholder(dtype=tf.int32, shape=(None,))\n",
        "b = tf.placeholder(dtype=tf.int32, shape=(None,))\n",
        "c = tf.add(a,b)\n",
        "\n",
        "with tf.Session() as sess:\n",
        "  result = sess.run(c, feed_dict={\n",
        "      a: [5, 3, 8],\n",
        "      b: [3, -1, 2]\n",
        "  })\n",
        "  print(result)"
      ],
      "execution_count": 10,
      "outputs": [
        {
          "output_type": "stream",
          "text": [
            "[ 8  2 10]\n"
          ],
          "name": "stdout"
        }
      ]
    },
    {
      "metadata": {
        "id": "Z9OcKD6X-rp_",
        "colab_type": "text"
      },
      "cell_type": "markdown",
      "source": [
        "## Heron's Formula in TensorFlow\n",
        "\n",
        "![heron](https://drive.google.com/open?id=12RS0Gh72BfSOGRClg2XJq_75TXHNnBaP)\n",
        "\n",
        "The area of triangle whose three sides are $(a, b, c)$ is $\\sqrt{s(s-a)(s-b)(s-c)}$ where $s=\\frac{a+b+c}{2}$\n",
        "\n",
        "Look up the available operations at https://www.tensorflow.org/api_docs/python/tf"
      ]
    },
    {
      "metadata": {
        "id": "5gWceFvnAZfZ",
        "colab_type": "code",
        "colab": {
          "base_uri": "https://localhost:8080/",
          "height": 34
        },
        "outputId": "9532a80b-f630-46df-e863-36f0ad00e5c7"
      },
      "cell_type": "code",
      "source": [
        "def compute_area(sides):\n",
        "  # slice the input to get the sides\n",
        "  a = sides[:,0] # 5.0, 2.3\n",
        "  b = sides[:,1] # 3.0, 4.1\n",
        "  c = sides[:,2] # 7.1, 4.8\n",
        "  \n",
        "  # Heron's formula\n",
        "  s = (a + b + c) * 0.5 # (a + b) is a short-cut to tf.add(a, b)\n",
        "  areasq = s * (s - a) * (s - b) * (s - c) # (a * b) is a short-cut to tf.multiply(a, b), not tf.matmul(a, b)\n",
        "  return tf.sqrt(areasq)\n",
        "\n",
        "with tf.Session() as sess:\n",
        "  # pass in two triangles\n",
        "  area = compute_area(tf.constant([\n",
        "      [5.0, 3.0, 7.1],\n",
        "      [2.3, 4.1, 4.8]\n",
        "  ]))\n",
        "  result = sess.run(area)\n",
        "  print(result)"
      ],
      "execution_count": 13,
      "outputs": [
        {
          "output_type": "stream",
          "text": [
            "[6.278497 4.709139]\n"
          ],
          "name": "stdout"
        }
      ]
    },
    {
      "metadata": {
        "id": "tEiGplqvCgy1",
        "colab_type": "text"
      },
      "cell_type": "markdown",
      "source": [
        "## Placeholder and feed_dict\n",
        "\n",
        "More common is to define the input to a program as a placeholder and then to feed in the inputs. The difference between the code below and the code above is whether the \"area\" graph is coded up with the input values or whether the \"area\" graph is coded up with a placeholder through which inputs will be passed in at run-time."
      ]
    },
    {
      "metadata": {
        "id": "mRr4IHpaCqZM",
        "colab_type": "code",
        "colab": {
          "base_uri": "https://localhost:8080/",
          "height": 34
        },
        "outputId": "cdadd8e3-d4d5-4a6c-eb35-b3be1dc3c821"
      },
      "cell_type": "code",
      "source": [
        "with tf.Session() as sess:\n",
        "  sides = tf.placeholder(tf.float32, shape=(None, 3))\n",
        "  ares = compute_area(sides)\n",
        "  result = sess.run(area, feed_dict = {\n",
        "      sides: [\n",
        "          [5.0, 3.0, 7.1],\n",
        "          [2.3, 4.1, 4.8]\n",
        "      ]\n",
        "  })\n",
        "  print(result)"
      ],
      "execution_count": 14,
      "outputs": [
        {
          "output_type": "stream",
          "text": [
            "[6.278497 4.709139]\n"
          ],
          "name": "stdout"
        }
      ]
    },
    {
      "metadata": {
        "id": "6qdaAvxaFaM9",
        "colab_type": "text"
      },
      "cell_type": "markdown",
      "source": [
        "## tf.eager\n",
        "\n",
        "tf.eager allows you to avoid the build-then-run stages. However, most production code will follow the lazy evaluation paradigm because the lazy evaluation paradigm is what allows for multi-device support and distribution.\n",
        "\n",
        "One thing you could do is to develop using tf.eager and then comment out the eager execution and add in the session management code."
      ]
    },
    {
      "metadata": {
        "id": "Ou6v6QSuGKB_",
        "colab_type": "text"
      },
      "cell_type": "markdown",
      "source": [
        "**To run this block, you must first reset the notebook using Reset on the menu bar, then run this block only.**"
      ]
    },
    {
      "metadata": {
        "id": "wuB-jNl5GNUD",
        "colab_type": "code",
        "colab": {
          "base_uri": "https://localhost:8080/",
          "height": 34
        },
        "outputId": "e39aa992-c7c9-4ef4-802c-ff7209cd989b"
      },
      "cell_type": "code",
      "source": [
        "import tensorflow as tf\n",
        "from tensorflow.contrib.eager.python import tfe\n",
        "\n",
        "tfe.enable_eager_execution()\n",
        "\n",
        "def compute_area(sides):\n",
        "  # slice the input to get the sides\n",
        "  a = sides[:,0] # 5.0, 2.3\n",
        "  b = sides[:,1] # 3.0, 4.1\n",
        "  c = sides[:,2] # 7.1, 4.8\n",
        "  \n",
        "  # Heron's formula\n",
        "  s = (a + b + c) * 0.5 # (a + b) is a short-cut to tf.add(a, b)\n",
        "  areasq = s * (s - a) * (s - b) * (s - c) # (a * b) is a short-cut to tf.multiply(a, b), not tf.matmul(a, b)\n",
        "  return tf.sqrt(areasq)\n",
        "\n",
        "area = compute_area(tf.constant([\n",
        "    [5.0, 3.0, 7.1],\n",
        "    [2.3, 4.1, 4.8]\n",
        "]))\n",
        "\n",
        "print(area)"
      ],
      "execution_count": 2,
      "outputs": [
        {
          "output_type": "stream",
          "text": [
            "tf.Tensor([6.278497 4.709139], shape=(2,), dtype=float32)\n"
          ],
          "name": "stdout"
        }
      ]
    }
  ]
}