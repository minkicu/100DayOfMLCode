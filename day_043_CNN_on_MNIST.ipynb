{
  "nbformat": 4,
  "nbformat_minor": 0,
  "metadata": {
    "colab": {
      "name": "day_043_CNN_on_MNIST.ipynb",
      "version": "0.3.2",
      "provenance": [],
      "collapsed_sections": [],
      "include_colab_link": true
    },
    "kernelspec": {
      "name": "python3",
      "display_name": "Python 3"
    },
    "accelerator": "GPU"
  },
  "cells": [
    {
      "cell_type": "markdown",
      "metadata": {
        "id": "view-in-github",
        "colab_type": "text"
      },
      "source": [
        "<a href=\"https://colab.research.google.com/github/rkrissada/100DayOfMLCode/blob/master/day_043_CNN_on_MNIST.ipynb\" target=\"_parent\"><img src=\"https://colab.research.google.com/assets/colab-badge.svg\" alt=\"Open In Colab\"/></a>"
      ]
    },
    {
      "metadata": {
        "id": "SGbIvJqVKWpb",
        "colab_type": "code",
        "colab": {
          "base_uri": "https://localhost:8080/",
          "height": 34
        },
        "outputId": "5a9e6014-47f5-4af2-931a-c83b642fd8b6"
      },
      "cell_type": "code",
      "source": [
        "import numpy as np \n",
        "import keras  \n",
        "from keras.datasets import mnist \n",
        "from keras.models import Model \n",
        "from keras.layers import Dense, Input\n",
        "from keras.layers import Conv2D, MaxPooling2D, Dropout, Flatten \n",
        "from keras import backend as k "
      ],
      "execution_count": 1,
      "outputs": [
        {
          "output_type": "stream",
          "text": [
            "Using TensorFlow backend.\n"
          ],
          "name": "stderr"
        }
      ]
    },
    {
      "metadata": {
        "id": "b72eEMWVKnDT",
        "colab_type": "code",
        "colab": {
          "base_uri": "https://localhost:8080/",
          "height": 51
        },
        "outputId": "666d4c70-8879-496c-c845-c01aacb0b1ca"
      },
      "cell_type": "code",
      "source": [
        "(x_train, y_train), (x_test, y_test) = mnist.load_data() "
      ],
      "execution_count": 2,
      "outputs": [
        {
          "output_type": "stream",
          "text": [
            "Downloading data from https://s3.amazonaws.com/img-datasets/mnist.npz\n",
            "11493376/11490434 [==============================] - 2s 0us/step\n"
          ],
          "name": "stdout"
        }
      ]
    },
    {
      "metadata": {
        "id": "Ndg2gy-scD87",
        "colab_type": "text"
      },
      "cell_type": "markdown",
      "source": [
        "While proceeding further, img_rows and img_cols are used as the image dimensions. In mnist dataset, it is 28 and 28. We also need to check the data format i.e. ‘channels_first’ or ‘channels_last’. In CNN, we can normalize data before hands such that large terms of the calculations can be reduced to smaller terms. Like, we can normalize the x_train and x_test data by dividing it with 255."
      ]
    },
    {
      "metadata": {
        "id": "2mSBbTe5KxMR",
        "colab_type": "code",
        "colab": {}
      },
      "cell_type": "code",
      "source": [
        "img_rows, img_cols=28, 28\n",
        "\n",
        "if k.image_data_format() == 'channels_first': \n",
        "  x_train = x_train.reshape(x_train.shape[0], 1, img_rows, img_cols) \n",
        "  x_test = x_test.reshape(x_test.shape[0], 1, img_rows, img_cols) \n",
        "  inpx = (1, img_rows, img_cols) \n",
        "\n",
        "else: \n",
        "  x_train = x_train.reshape(x_train.shape[0], img_rows, img_cols, 1) \n",
        "  x_test = x_test.reshape(x_test.shape[0], img_rows, img_cols, 1) \n",
        "  inpx = (img_rows, img_cols, 1) \n",
        "\n",
        "x_train = x_train.astype('float32') \n",
        "x_test = x_test.astype('float32') \n",
        "x_train /= 255\n",
        "x_test /= 255"
      ],
      "execution_count": 0,
      "outputs": []
    },
    {
      "metadata": {
        "id": "UIpC7OOpPPnQ",
        "colab_type": "code",
        "colab": {}
      },
      "cell_type": "code",
      "source": [
        "y_train = keras.utils.to_categorical(y_train) \n",
        "y_test = keras.utils.to_categorical(y_test) "
      ],
      "execution_count": 0,
      "outputs": []
    },
    {
      "metadata": {
        "id": "ny-9wOO1Pb3G",
        "colab_type": "code",
        "colab": {
          "base_uri": "https://localhost:8080/",
          "height": 139
        },
        "outputId": "8ce0d62a-2480-4a39-9771-66af107c4091"
      },
      "cell_type": "code",
      "source": [
        "inpx = Input(shape=inpx) \n",
        "layer1 = Conv2D(32, kernel_size=(3, 3), activation='relu')(inpx) \n",
        "layer2 = Conv2D(64, (3, 3), activation='relu')(layer1) \n",
        "layer3 = MaxPooling2D(pool_size=(3, 3))(layer2) \n",
        "layer4 = Dropout(0.5)(layer3) \n",
        "layer5 = Flatten()(layer4) \n",
        "layer6 = Dense(250, activation='sigmoid')(layer5) \n",
        "layer7 = Dense(10, activation='softmax')(layer6) "
      ],
      "execution_count": 5,
      "outputs": [
        {
          "output_type": "stream",
          "text": [
            "WARNING:tensorflow:From /usr/local/lib/python3.6/dist-packages/tensorflow/python/framework/op_def_library.py:263: colocate_with (from tensorflow.python.framework.ops) is deprecated and will be removed in a future version.\n",
            "Instructions for updating:\n",
            "Colocations handled automatically by placer.\n",
            "WARNING:tensorflow:From /usr/local/lib/python3.6/dist-packages/keras/backend/tensorflow_backend.py:3445: calling dropout (from tensorflow.python.ops.nn_ops) with keep_prob is deprecated and will be removed in a future version.\n",
            "Instructions for updating:\n",
            "Please use `rate` instead of `keep_prob`. Rate should be set to `rate = 1 - keep_prob`.\n"
          ],
          "name": "stdout"
        }
      ]
    },
    {
      "metadata": {
        "id": "rGPzusyscb7D",
        "colab_type": "code",
        "outputId": "f5698228-e2d7-4784-fe03-b42fbd7f4a61",
        "colab": {
          "base_uri": "https://localhost:8080/",
          "height": 445
        }
      },
      "cell_type": "code",
      "source": [
        "model = Model([inpx], layer7) \n",
        "model.compile(optimizer=keras.optimizers.Adadelta(), \n",
        "              loss=keras.losses.categorical_crossentropy, \n",
        "              metrics=['accuracy']) \n",
        "\n",
        "#model_log = model.fit(x_train, y_train, epochs=12, batch_size=500) \n",
        "\n",
        "batch_size = 128\n",
        "num_epoch = 10\n",
        "#model training\n",
        "model_log = model.fit(x_train, y_train,\n",
        "          batch_size=batch_size,\n",
        "          epochs=num_epoch,\n",
        "          verbose=1,\n",
        "          validation_data=(x_test, y_test))"
      ],
      "execution_count": 7,
      "outputs": [
        {
          "output_type": "stream",
          "text": [
            "WARNING:tensorflow:From /usr/local/lib/python3.6/dist-packages/tensorflow/python/ops/math_ops.py:3066: to_int32 (from tensorflow.python.ops.math_ops) is deprecated and will be removed in a future version.\n",
            "Instructions for updating:\n",
            "Use tf.cast instead.\n",
            "Train on 60000 samples, validate on 10000 samples\n",
            "Epoch 1/10\n",
            "60000/60000 [==============================] - 14s 235us/step - loss: 0.3240 - acc: 0.9027 - val_loss: 0.0794 - val_acc: 0.9764\n",
            "Epoch 2/10\n",
            "60000/60000 [==============================] - 9s 157us/step - loss: 0.0862 - acc: 0.9744 - val_loss: 0.0476 - val_acc: 0.9842\n",
            "Epoch 3/10\n",
            "60000/60000 [==============================] - 9s 158us/step - loss: 0.0611 - acc: 0.9809 - val_loss: 0.0366 - val_acc: 0.9875\n",
            "Epoch 4/10\n",
            "60000/60000 [==============================] - 9s 155us/step - loss: 0.0485 - acc: 0.9852 - val_loss: 0.0303 - val_acc: 0.9901\n",
            "Epoch 5/10\n",
            "60000/60000 [==============================] - 10s 159us/step - loss: 0.0403 - acc: 0.9877 - val_loss: 0.0292 - val_acc: 0.9898\n",
            "Epoch 6/10\n",
            "60000/60000 [==============================] - 9s 157us/step - loss: 0.0360 - acc: 0.9896 - val_loss: 0.0266 - val_acc: 0.9910\n",
            "Epoch 7/10\n",
            "60000/60000 [==============================] - 9s 156us/step - loss: 0.0320 - acc: 0.9904 - val_loss: 0.0281 - val_acc: 0.9910\n",
            "Epoch 8/10\n",
            "60000/60000 [==============================] - 9s 155us/step - loss: 0.0282 - acc: 0.9915 - val_loss: 0.0276 - val_acc: 0.9901\n",
            "Epoch 9/10\n",
            "60000/60000 [==============================] - 9s 154us/step - loss: 0.0252 - acc: 0.9923 - val_loss: 0.0255 - val_acc: 0.9915\n",
            "Epoch 10/10\n",
            "60000/60000 [==============================] - 9s 155us/step - loss: 0.0248 - acc: 0.9922 - val_loss: 0.0238 - val_acc: 0.9922\n"
          ],
          "name": "stdout"
        }
      ]
    },
    {
      "metadata": {
        "id": "xdqM22hscdMT",
        "colab_type": "code",
        "outputId": "aaa1d83a-0a04-4a5d-84e0-fe4a8d6705c3",
        "colab": {
          "base_uri": "https://localhost:8080/",
          "height": 51
        }
      },
      "cell_type": "code",
      "source": [
        "score = model.evaluate(x_test, y_test, verbose=0) \n",
        "print('loss=', score[0]) \n",
        "print('accuracy=', score[1]) "
      ],
      "execution_count": 8,
      "outputs": [
        {
          "output_type": "stream",
          "text": [
            "loss= 0.023832524134521374\n",
            "accuracy= 0.9922\n"
          ],
          "name": "stdout"
        }
      ]
    },
    {
      "metadata": {
        "id": "r6Ru-mcGMVuf",
        "colab_type": "code",
        "colab": {
          "base_uri": "https://localhost:8080/",
          "height": 34
        },
        "outputId": "eeb9ebd1-a516-4d28-ab74-e0cf09eaa505"
      },
      "cell_type": "code",
      "source": [
        "history_dict = model_log.history\n",
        "history_dict.keys()"
      ],
      "execution_count": 9,
      "outputs": [
        {
          "output_type": "execute_result",
          "data": {
            "text/plain": [
              "dict_keys(['val_loss', 'val_acc', 'loss', 'acc'])"
            ]
          },
          "metadata": {
            "tags": []
          },
          "execution_count": 9
        }
      ]
    },
    {
      "metadata": {
        "id": "MJiieW7ogXMV",
        "colab_type": "code",
        "colab": {
          "base_uri": "https://localhost:8080/",
          "height": 577
        },
        "outputId": "d2cd4e14-2fb2-430e-9b18-21aa45eedbed"
      },
      "cell_type": "code",
      "source": [
        "%matplotlib inline\n",
        "import matplotlib.pyplot as plt\n",
        "# plotting the metrics\n",
        "\n",
        "\n",
        "acc = model_log.history['acc']\n",
        "val_acc = model_log.history['val_acc']\n",
        "loss = model_log.history['loss']\n",
        "val_loss = model_log.history['val_loss']\n",
        "\n",
        "fig = plt.figure()\n",
        "plt.subplot(2,1,1)\n",
        "plt.plot(acc)\n",
        "plt.plot(val_acc)\n",
        "plt.title('model accuracy')\n",
        "plt.ylabel('accuracy')\n",
        "plt.xlabel('epoch')\n",
        "plt.legend(['train', 'test'], loc='lower right')\n",
        "plt.subplot(2,1,2)\n",
        "plt.plot(loss)\n",
        "plt.plot(val_loss)\n",
        "plt.title('model loss')\n",
        "plt.ylabel('loss')\n",
        "plt.xlabel('epoch')\n",
        "plt.legend(['train', 'test'], loc='upper right')\n",
        "plt.tight_layout()\n",
        "fig\n"
      ],
      "execution_count": 10,
      "outputs": [
        {
          "output_type": "execute_result",
          "data": {
            "image/png": "[encoded data removed]",
            "text/plain": [
              "<Figure size 432x288 with 2 Axes>"
            ]
          },
          "metadata": {
            "tags": []
          },
          "execution_count": 10
        },
        {
          "output_type": "display_data",
          "data": {
            "image/png": "[encoded data removed]",
            "text/plain": [
              "<Figure size 432x288 with 2 Axes>"
            ]
          },
          "metadata": {
            "tags": []
          }
        }
      ]
    },
    {
      "metadata": {
        "id": "5ydsJUE8f4EO",
        "colab_type": "code",
        "outputId": "b50adb55-bc31-47a6-ad5a-00eac991542e",
        "colab": {
          "base_uri": "https://localhost:8080/",
          "height": 34
        }
      },
      "cell_type": "code",
      "source": [
        "#Save the model\n",
        "# serialize model to JSON\n",
        "model_digit_json = model.to_json()\n",
        "with open(\"model_digit.json\", \"w\") as json_file:\n",
        "    json_file.write(model_digit_json)\n",
        "# serialize weights to HDF5\n",
        "model.save_weights(\"model_digit.h5\")\n",
        "print(\"Saved model to disk\")"
      ],
      "execution_count": 11,
      "outputs": [
        {
          "output_type": "stream",
          "text": [
            "Saved model to disk\n"
          ],
          "name": "stdout"
        }
      ]
    },
    {
      "metadata": {
        "id": "VR6TMM2LmTcW",
        "colab_type": "code",
        "outputId": "27e492db-9964-4c57-ac5c-7b31324345bc",
        "colab": {
          "base_uri": "https://localhost:8080/",
          "height": 34
        }
      },
      "cell_type": "code",
      "source": [
        "!pwd"
      ],
      "execution_count": 0,
      "outputs": [
        {
          "output_type": "stream",
          "text": [
            "/content\n"
          ],
          "name": "stdout"
        }
      ]
    }
  ]
}