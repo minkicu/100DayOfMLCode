{
  "nbformat": 4,
  "nbformat_minor": 0,
  "metadata": {
    "colab": {
      "name": "day_042_sampled_softmax_loss.ipynb",
      "version": "0.3.2",
      "provenance": [],
      "include_colab_link": true
    },
    "kernelspec": {
      "name": "python3",
      "display_name": "Python 3"
    }
  },
  "cells": [
    {
      "cell_type": "markdown",
      "metadata": {
        "id": "view-in-github",
        "colab_type": "text"
      },
      "source": [
        "<a href=\"https://colab.research.google.com/github/rkrissada/100DayOfMLCode/blob/master/day_042_sampled_softmax_loss.ipynb\" target=\"_parent\"><img src=\"https://colab.research.google.com/assets/colab-badge.svg\" alt=\"Open In Colab\"/></a>"
      ]
    },
    {
      "metadata": {
        "id": "qYB6CsG1liI1",
        "colab_type": "code",
        "colab": {
          "base_uri": "https://localhost:8080/",
          "height": 530
        },
        "outputId": "dc79fe61-de22-48c4-bbe7-a83eb9695ef7"
      },
      "cell_type": "code",
      "source": [
        "# Import MINST data\n",
        "import numpy as np\n",
        "from tensorflow.examples.tutorials.mnist import input_data\n",
        "mnist = input_data.read_data_sets(\"MNIST_data/\", one_hot=True)\n",
        "\n",
        "# Parameters\n",
        "learning_rate = 0.001\n",
        "training_epochs = 6\n",
        "batch_size = 100\n",
        "display_step = 1"
      ],
      "execution_count": 3,
      "outputs": [
        {
          "output_type": "stream",
          "text": [
            "WARNING:tensorflow:From <ipython-input-3-bdcb06064fdb>:3: read_data_sets (from tensorflow.contrib.learn.python.learn.datasets.mnist) is deprecated and will be removed in a future version.\n",
            "Instructions for updating:\n",
            "Please use alternatives such as official/mnist/dataset.py from tensorflow/models.\n",
            "WARNING:tensorflow:From /usr/local/lib/python3.6/dist-packages/tensorflow/contrib/learn/python/learn/datasets/mnist.py:260: maybe_download (from tensorflow.contrib.learn.python.learn.datasets.base) is deprecated and will be removed in a future version.\n",
            "Instructions for updating:\n",
            "Please write your own downloading logic.\n",
            "WARNING:tensorflow:From /usr/local/lib/python3.6/dist-packages/tensorflow/contrib/learn/python/learn/datasets/base.py:252: _internal_retry.<locals>.wrap.<locals>.wrapped_fn (from tensorflow.contrib.learn.python.learn.datasets.base) is deprecated and will be removed in a future version.\n",
            "Instructions for updating:\n",
            "Please use urllib or similar directly.\n",
            "Successfully downloaded train-images-idx3-ubyte.gz 9912422 bytes.\n",
            "WARNING:tensorflow:From /usr/local/lib/python3.6/dist-packages/tensorflow/contrib/learn/python/learn/datasets/mnist.py:262: extract_images (from tensorflow.contrib.learn.python.learn.datasets.mnist) is deprecated and will be removed in a future version.\n",
            "Instructions for updating:\n",
            "Please use tf.data to implement this functionality.\n",
            "Extracting MNIST_data/train-images-idx3-ubyte.gz\n",
            "Successfully downloaded train-labels-idx1-ubyte.gz 28881 bytes.\n",
            "WARNING:tensorflow:From /usr/local/lib/python3.6/dist-packages/tensorflow/contrib/learn/python/learn/datasets/mnist.py:267: extract_labels (from tensorflow.contrib.learn.python.learn.datasets.mnist) is deprecated and will be removed in a future version.\n",
            "Instructions for updating:\n",
            "Please use tf.data to implement this functionality.\n",
            "Extracting MNIST_data/train-labels-idx1-ubyte.gz\n",
            "WARNING:tensorflow:From /usr/local/lib/python3.6/dist-packages/tensorflow/contrib/learn/python/learn/datasets/mnist.py:110: dense_to_one_hot (from tensorflow.contrib.learn.python.learn.datasets.mnist) is deprecated and will be removed in a future version.\n",
            "Instructions for updating:\n",
            "Please use tf.one_hot on tensors.\n",
            "Successfully downloaded t10k-images-idx3-ubyte.gz 1648877 bytes.\n",
            "Extracting MNIST_data/t10k-images-idx3-ubyte.gz\n",
            "Successfully downloaded t10k-labels-idx1-ubyte.gz 4542 bytes.\n",
            "Extracting MNIST_data/t10k-labels-idx1-ubyte.gz\n",
            "WARNING:tensorflow:From /usr/local/lib/python3.6/dist-packages/tensorflow/contrib/learn/python/learn/datasets/mnist.py:290: DataSet.__init__ (from tensorflow.contrib.learn.python.learn.datasets.mnist) is deprecated and will be removed in a future version.\n",
            "Instructions for updating:\n",
            "Please use alternatives such as official/mnist/dataset.py from tensorflow/models.\n"
          ],
          "name": "stdout"
        }
      ]
    },
    {
      "metadata": {
        "id": "USC6qGEMmIsm",
        "colab_type": "code",
        "colab": {}
      },
      "cell_type": "code",
      "source": [
        "import tensorflow as tf\n",
        "\n",
        "# Network Parameters\n",
        "n_hidden_1 = 256  # 1st layer number of features\n",
        "n_input = 784     # MNIST data input (img shape: 28*28)\n",
        "n_classes = 10    # MNIST total classes (0-9 digits)    \n",
        "\n",
        "# Dependent & Independent Variable Placeholders\n",
        "x = tf.placeholder(\"float\", [None, n_input])\n",
        "y = tf.placeholder(\"float\", [None, n_classes])\n",
        "\n",
        "# Weights and Biases\n",
        "weights = {\n",
        "    'h1': tf.Variable(tf.random_normal([n_input, n_hidden_1])),\n",
        "    'out': tf.Variable(tf.random_normal([n_hidden_1, n_classes]))\n",
        "}\n",
        "biases = {\n",
        "    'b1': tf.Variable(tf.random_normal([n_hidden_1])),\n",
        "    'out': tf.Variable(tf.random_normal([n_classes]))\n",
        "}\n",
        "\n",
        "# Super simple model builder\n",
        "def tiny_perceptron(x, weights, biases):\n",
        "    layer_1 = tf.add(tf.matmul(x, weights['h1']), biases['b1'])\n",
        "    layer_1 = tf.nn.relu(layer_1)\n",
        "    out_layer = tf.matmul(layer_1, weights['out']) + biases['out']\n",
        "    return out_layer   \n",
        "\n",
        "# Create the model\n",
        "pred = tiny_perceptron(x, weights, biases)"
      ],
      "execution_count": 0,
      "outputs": []
    },
    {
      "metadata": {
        "id": "6le-fTjHmQFn",
        "colab_type": "code",
        "colab": {
          "base_uri": "https://localhost:8080/",
          "height": 88
        },
        "outputId": "179ea16d-eacd-4d72-c3cc-15cd1dea79a8"
      },
      "cell_type": "code",
      "source": [
        "# Training cycle\n",
        "mode = \"train\"\n",
        "\n",
        "def get_loss_func(mode):\n",
        "    \n",
        "    # Set up loss function inputs and inspect their shapes\n",
        "    \n",
        "    w = tf.transpose(weights['out'])\n",
        "    b = biases['out']\n",
        "    inputs = pred\n",
        "    num_sampled = 3\n",
        "    num_true = 1\n",
        "    num_classes = n_classes\n",
        "    \n",
        "    #\n",
        "    if mode == \"train\":\n",
        "        # Convert one-hot to index\n",
        "        labels = tf.reshape(tf.argmax(y, 1), [-1,1])\n",
        "        \n",
        "        loss = tf.nn.sampled_softmax_loss(\n",
        "                         weights=weights['out'],\n",
        "                         biases=b,\n",
        "                         labels=labels,\n",
        "                         inputs=inputs,\n",
        "                         num_sampled=num_sampled,\n",
        "                         num_true=num_true,\n",
        "                         num_classes=num_classes,\n",
        "                         partition_strategy=\"div\")\n",
        "\n",
        "    # Evaluation Mode\n",
        "    elif mode == \"eval\":\n",
        "        labels_one_hot = y\n",
        "        \n",
        "        logits = tf.matmul(inputs, tf.transpose(weights['out']), name='Eval_Logits') # ERROR HERE!!!!\n",
        "        logits = tf.nn.bias_add(logits, biases['out'])\n",
        "        loss = tf.nn.softmax_cross_entropy_with_logits(\n",
        "            labels=labels_one_hot,\n",
        "            logits=logits)\n",
        "    \n",
        "    return loss\n",
        "\n",
        "# Training Loss\n",
        "loss = get_loss_func(mode)\n",
        "\n",
        "# Optimizer\n",
        "optimizer = tf.train.AdamOptimizer(learning_rate=learning_rate).minimize(loss)\n",
        "\n",
        "# Initializing the variables\n",
        "init = tf.global_variables_initializer()\n",
        "# Launch the graph\n",
        "sess = tf.InteractiveSession()\n",
        "sess.run(init)"
      ],
      "execution_count": 5,
      "outputs": [
        {
          "output_type": "stream",
          "text": [
            "WARNING:tensorflow:From /usr/local/lib/python3.6/dist-packages/tensorflow/python/ops/array_grad.py:425: to_int32 (from tensorflow.python.ops.math_ops) is deprecated and will be removed in a future version.\n",
            "Instructions for updating:\n",
            "Use tf.cast instead.\n"
          ],
          "name": "stdout"
        }
      ]
    },
    {
      "metadata": {
        "id": "K84eMM71mVf4",
        "colab_type": "code",
        "colab": {
          "base_uri": "https://localhost:8080/",
          "height": 136
        },
        "outputId": "5c31c54a-3851-48eb-e695-5cb4ab67a8f9"
      },
      "cell_type": "code",
      "source": [
        "for epoch in range(training_epochs):\n",
        "    avg_cost = 0.\n",
        "    total_batch = int(mnist.train.num_examples/batch_size)\n",
        "    # Loop over all batches\n",
        "    for i in range(total_batch):\n",
        "        batch_x, batch_y = mnist.train.next_batch(batch_size)\n",
        "        \n",
        "        # Run optimization op (backprop) and cost op (to get loss value)\n",
        "        _, c = sess.run([optimizer, loss], feed_dict={x: batch_x,\n",
        "                                                      y: batch_y})\n",
        "        \n",
        "        # Compute average loss\n",
        "        avg_cost += c / total_batch\n",
        "    # Display logs per epoch step\n",
        "    if epoch % display_step == 0:\n",
        "        print(\"Epoch:\", '%04d' % (epoch+1), \"cost=\", \"{:.9f}\".format(np.mean(avg_cost)))\n",
        "print(\"Optimization Finished!\")\n",
        "\n",
        "# Test model\n",
        "#correct_prediction = tf.equal(tf.argmax(pred, 1), tf.argmax(y, 1))\n",
        "#correct_prediction = tf.equal(tf.nn.softmax(tf.matmul(pred, weights['out']) + biases['out']), tf.argmax(y,1))\n",
        "# Calculate accuracy\n",
        "#accuracy = tf.reduce_mean(tf.cast(correct_prediction, \"float\"))\n",
        "\n",
        "#print(\"Accuracy:\", accuracy.eval({x: mnist.test.images, y: mnist.test.labels}))"
      ],
      "execution_count": 6,
      "outputs": [
        {
          "output_type": "stream",
          "text": [
            "Epoch: 0001 cost= 38.124340057\n",
            "Epoch: 0002 cost= 9.415617943\n",
            "Epoch: 0003 cost= 5.918379307\n",
            "Epoch: 0004 cost= 4.357186794\n",
            "Epoch: 0005 cost= 3.291755676\n",
            "Epoch: 0006 cost= 2.615612507\n",
            "Optimization Finished!\n"
          ],
          "name": "stdout"
        }
      ]
    }
  ]
}