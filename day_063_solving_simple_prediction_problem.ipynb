{
  "nbformat": 4,
  "nbformat_minor": 0,
  "metadata": {
    "colab": {
      "name": "day_063_solving_simple_prediction_problem.ipynb",
      "version": "0.3.2",
      "provenance": [],
      "collapsed_sections": [],
      "toc_visible": true,
      "include_colab_link": true
    },
    "kernelspec": {
      "name": "python3",
      "display_name": "Python 3"
    }
  },
  "cells": [
    {
      "cell_type": "markdown",
      "metadata": {
        "id": "view-in-github",
        "colab_type": "text"
      },
      "source": [
        "<a href=\"https://colab.research.google.com/github/rkrissada/100DayOfMLCode/blob/master/day_063_solving_simple_prediction_problem.ipynb\" target=\"_parent\"><img src=\"https://colab.research.google.com/assets/colab-badge.svg\" alt=\"Open In Colab\"/></a>"
      ]
    },
    {
      "metadata": {
        "id": "IhKHIgqKStJe",
        "colab_type": "text"
      },
      "cell_type": "markdown",
      "source": [
        "# Solving Simple Prediction Problem\n",
        "\n",
        "About one in seven U.S. adults has diabetes now, according to the Centers for Disease Control and Prevention. But by 2050, that rate could skyrocket to as many as one in three. \n",
        "\n",
        "We are going to do: Learning how to use Machine Learning to help us predict Diabetes."
      ]
    },
    {
      "metadata": {
        "id": "8Ll9CmrBUSHN",
        "colab_type": "text"
      },
      "cell_type": "markdown",
      "source": [
        "## Data\n",
        "\n",
        "The diabetes data set was originated from UCI Machine Learning Repository"
      ]
    },
    {
      "metadata": {
        "id": "RmhLHi3LStp8",
        "colab_type": "code",
        "colab": {}
      },
      "cell_type": "code",
      "source": [
        "import pandas as pd\n",
        "import numpy as np\n",
        "import matplotlib.pyplot as plt\n",
        "\n",
        "%matplotlib inline\n",
        "\n",
        "diabetes = pd.read_csv('diabetes.csv')"
      ],
      "execution_count": 0,
      "outputs": []
    },
    {
      "metadata": {
        "id": "MnR-7_qGVj_V",
        "colab_type": "code",
        "outputId": "3102408b-7739-4925-ca49-100f591a313a",
        "colab": {
          "base_uri": "https://localhost:8080/",
          "height": 68
        }
      },
      "cell_type": "code",
      "source": [
        "diabetes.columns"
      ],
      "execution_count": 2,
      "outputs": [
        {
          "output_type": "execute_result",
          "data": {
            "text/plain": [
              "Index(['Pregnancies', 'Glucose', 'BloodPressure', 'SkinThickness', 'Insulin',\n",
              "       'BMI', 'DiabetesPedigreeFunction', 'Age', 'Outcome'],\n",
              "      dtype='object')"
            ]
          },
          "metadata": {
            "tags": []
          },
          "execution_count": 2
        }
      ]
    },
    {
      "metadata": {
        "id": "YQIhY8srVrQe",
        "colab_type": "code",
        "outputId": "18b691e7-ebf6-4a28-d0ea-cf7ecf029d08",
        "colab": {
          "base_uri": "https://localhost:8080/",
          "height": 224
        }
      },
      "cell_type": "code",
      "source": [
        "diabetes.head()"
      ],
      "execution_count": 3,
      "outputs": [
        {
          "output_type": "execute_result",
          "data": {
            "text/html": [
              "<div>\n",
              "<style scoped>\n",
              "    .dataframe tbody tr th:only-of-type {\n",
              "        vertical-align: middle;\n",
              "    }\n",
              "\n",
              "    .dataframe tbody tr th {\n",
              "        vertical-align: top;\n",
              "    }\n",
              "\n",
              "    .dataframe thead th {\n",
              "        text-align: right;\n",
              "    }\n",
              "</style>\n",
              "<table border=\"1\" class=\"dataframe\">\n",
              "  <thead>\n",
              "    <tr style=\"text-align: right;\">\n",
              "      <th></th>\n",
              "      <th>Pregnancies</th>\n",
              "      <th>Glucose</th>\n",
              "      <th>BloodPressure</th>\n",
              "      <th>SkinThickness</th>\n",
              "      <th>Insulin</th>\n",
              "      <th>BMI</th>\n",
              "      <th>DiabetesPedigreeFunction</th>\n",
              "      <th>Age</th>\n",
              "      <th>Outcome</th>\n",
              "    </tr>\n",
              "  </thead>\n",
              "  <tbody>\n",
              "    <tr>\n",
              "      <th>0</th>\n",
              "      <td>6</td>\n",
              "      <td>148</td>\n",
              "      <td>72</td>\n",
              "      <td>35</td>\n",
              "      <td>0</td>\n",
              "      <td>33.6</td>\n",
              "      <td>0.627</td>\n",
              "      <td>50</td>\n",
              "      <td>1</td>\n",
              "    </tr>\n",
              "    <tr>\n",
              "      <th>1</th>\n",
              "      <td>1</td>\n",
              "      <td>85</td>\n",
              "      <td>66</td>\n",
              "      <td>29</td>\n",
              "      <td>0</td>\n",
              "      <td>26.6</td>\n",
              "      <td>0.351</td>\n",
              "      <td>31</td>\n",
              "      <td>0</td>\n",
              "    </tr>\n",
              "    <tr>\n",
              "      <th>2</th>\n",
              "      <td>8</td>\n",
              "      <td>183</td>\n",
              "      <td>64</td>\n",
              "      <td>0</td>\n",
              "      <td>0</td>\n",
              "      <td>23.3</td>\n",
              "      <td>0.672</td>\n",
              "      <td>32</td>\n",
              "      <td>1</td>\n",
              "    </tr>\n",
              "    <tr>\n",
              "      <th>3</th>\n",
              "      <td>1</td>\n",
              "      <td>89</td>\n",
              "      <td>66</td>\n",
              "      <td>23</td>\n",
              "      <td>94</td>\n",
              "      <td>28.1</td>\n",
              "      <td>0.167</td>\n",
              "      <td>21</td>\n",
              "      <td>0</td>\n",
              "    </tr>\n",
              "    <tr>\n",
              "      <th>4</th>\n",
              "      <td>0</td>\n",
              "      <td>137</td>\n",
              "      <td>40</td>\n",
              "      <td>35</td>\n",
              "      <td>168</td>\n",
              "      <td>43.1</td>\n",
              "      <td>2.288</td>\n",
              "      <td>33</td>\n",
              "      <td>1</td>\n",
              "    </tr>\n",
              "  </tbody>\n",
              "</table>\n",
              "</div>"
            ],
            "text/plain": [
              "   Pregnancies  Glucose  BloodPressure  SkinThickness  Insulin   BMI  \\\n",
              "0            6      148             72             35        0  33.6   \n",
              "1            1       85             66             29        0  26.6   \n",
              "2            8      183             64              0        0  23.3   \n",
              "3            1       89             66             23       94  28.1   \n",
              "4            0      137             40             35      168  43.1   \n",
              "\n",
              "   DiabetesPedigreeFunction  Age  Outcome  \n",
              "0                     0.627   50        1  \n",
              "1                     0.351   31        0  \n",
              "2                     0.672   32        1  \n",
              "3                     0.167   21        0  \n",
              "4                     2.288   33        1  "
            ]
          },
          "metadata": {
            "tags": []
          },
          "execution_count": 3
        }
      ]
    },
    {
      "metadata": {
        "id": "-7SgXIz2VxN6",
        "colab_type": "code",
        "outputId": "2e7f31f6-19e1-423c-d979-a7ab55dc2e89",
        "colab": {
          "base_uri": "https://localhost:8080/",
          "height": 34
        }
      },
      "cell_type": "code",
      "source": [
        "print(\"dimension of diabetes data: {}\".format(diabetes.shape))"
      ],
      "execution_count": 4,
      "outputs": [
        {
          "output_type": "stream",
          "text": [
            "dimension of diabetes data: (768, 9)\n"
          ],
          "name": "stdout"
        }
      ]
    },
    {
      "metadata": {
        "id": "WXGXY2IXVvTC",
        "colab_type": "text"
      },
      "cell_type": "markdown",
      "source": [
        "The dianetes data set consists of 768 data points, with 9 features each:\n",
        "\n",
        "**\"Outcome\"** is the feature we are going to predict, 0 mean no diabetes, 1 means diabetes."
      ]
    },
    {
      "metadata": {
        "id": "5FFg5newW-ix",
        "colab_type": "code",
        "outputId": "d4c375d0-45f6-48f0-f865-1a7935a6fdd4",
        "colab": {
          "base_uri": "https://localhost:8080/",
          "height": 85
        }
      },
      "cell_type": "code",
      "source": [
        "diabetes.groupby('Outcome').size()"
      ],
      "execution_count": 5,
      "outputs": [
        {
          "output_type": "execute_result",
          "data": {
            "text/plain": [
              "Outcome\n",
              "0    500\n",
              "1    268\n",
              "dtype: int64"
            ]
          },
          "metadata": {
            "tags": []
          },
          "execution_count": 5
        }
      ]
    },
    {
      "metadata": {
        "id": "IQAxNQ9VXIMq",
        "colab_type": "text"
      },
      "cell_type": "markdown",
      "source": [
        "Of these 768 data points, 500 are labled as 0 and 268 as 1:"
      ]
    },
    {
      "metadata": {
        "id": "we1A0_flXqYN",
        "colab_type": "code",
        "outputId": "335577a0-056c-4255-fe86-4d842f50469a",
        "colab": {
          "base_uri": "https://localhost:8080/",
          "height": 432
        }
      },
      "cell_type": "code",
      "source": [
        "import seaborn as sns\n",
        "\n",
        "sns.countplot(diabetes['Outcome'],label=\"count\")"
      ],
      "execution_count": 6,
      "outputs": [
        {
          "output_type": "stream",
          "text": [
            "/usr/local/lib/python3.6/dist-packages/seaborn/categorical.py:1428: FutureWarning: remove_na is deprecated and is a private function. Do not use.\n",
            "  stat_data = remove_na(group_data)\n"
          ],
          "name": "stderr"
        },
        {
          "output_type": "execute_result",
          "data": {
            "text/plain": [
              "<matplotlib.axes._subplots.AxesSubplot at 0x7f305379ebe0>"
            ]
          },
          "metadata": {
            "tags": []
          },
          "execution_count": 6
        },
        {
          "output_type": "display_data",
          "data": {
            "image/png": "[encoded data removed]",
            "text/plain": [
              "<Figure size 576x396 with 1 Axes>"
            ]
          },
          "metadata": {
            "tags": []
          }
        }
      ]
    },
    {
      "metadata": {
        "id": "X6pZQBfzYIfU",
        "colab_type": "code",
        "outputId": "3b056c14-36d5-4b33-e44b-1a986c8da6e1",
        "colab": {
          "base_uri": "https://localhost:8080/",
          "height": 255
        }
      },
      "cell_type": "code",
      "source": [
        "diabetes.info()"
      ],
      "execution_count": 7,
      "outputs": [
        {
          "output_type": "stream",
          "text": [
            "<class 'pandas.core.frame.DataFrame'>\n",
            "RangeIndex: 768 entries, 0 to 767\n",
            "Data columns (total 9 columns):\n",
            "Pregnancies                 768 non-null int64\n",
            "Glucose                     768 non-null int64\n",
            "BloodPressure               768 non-null int64\n",
            "SkinThickness               768 non-null int64\n",
            "Insulin                     768 non-null int64\n",
            "BMI                         768 non-null float64\n",
            "DiabetesPedigreeFunction    768 non-null float64\n",
            "Age                         768 non-null int64\n",
            "Outcome                     768 non-null int64\n",
            "dtypes: float64(2), int64(7)\n",
            "memory usage: 54.1 KB\n"
          ],
          "name": "stdout"
        }
      ]
    },
    {
      "metadata": {
        "id": "XeRsfjYrYR0v",
        "colab_type": "text"
      },
      "cell_type": "markdown",
      "source": [
        "## Model\n",
        "\n",
        "### k-Nearest Neighbors\n",
        "\n",
        "The K-NN algorithm is arguably the simplest machine learning algorithm. Building the model consists only of storing the training data set. To make a prediction for a new data point, the algorithm finds the closest data points in the training data set - its \"nearest neighbors\"\n",
        "\n",
        "\n",
        "First, Let's investigate whether we can confrim the connection between nodel complexity and accuracy:"
      ]
    },
    {
      "metadata": {
        "id": "ozmBb-3oYQsc",
        "colab_type": "code",
        "colab": {}
      },
      "cell_type": "code",
      "source": [
        "from sklearn.model_selection import train_test_split\n",
        "\n",
        "X_train, X_test, y_train, y_test = train_test_split(diabetes.loc[:, diabetes.columns != 'Outcome'], diabetes['Outcome'], stratify=diabetes['Outcome'], random_state=66)"
      ],
      "execution_count": 0,
      "outputs": []
    },
    {
      "metadata": {
        "id": "4D4JFVEza9zg",
        "colab_type": "text"
      },
      "cell_type": "markdown",
      "source": [
        "This ***stratify*** parameter makes a split so that the proportion of values in the sample produced will be the same as the proportion of values provided to parameter stratify.\n",
        "\n",
        "For example, if variable *y* is a binary categorical variable with values 0 and 1 and there are 25% of zeros and 75% of ones, *stratify=y* will make sure that your random split has 25% of 0's and 75% of 1's."
      ]
    },
    {
      "metadata": {
        "id": "FozNGf6QcGGF",
        "colab_type": "code",
        "outputId": "a4d878dd-84a7-4d0b-e113-bcf68424c531",
        "colab": {
          "base_uri": "https://localhost:8080/",
          "height": 361
        }
      },
      "cell_type": "code",
      "source": [
        "from sklearn.neighbors import KNeighborsClassifier\n",
        "\n",
        "training_accuracy = []\n",
        "test_accuracy = []\n",
        "\n",
        "# try n_neighbors from 1 to 10\n",
        "neighbors_settings = range(1, 11)\n",
        "\n",
        "for n_neighbors in neighbors_settings:\n",
        "  # build the model\n",
        "  knn = KNeighborsClassifier(n_neighbors=n_neighbors)\n",
        "  knn.fit(X_train, y_train)\n",
        "  # record trainning set accuracy\n",
        "  training_accuracy.append(knn.score(X_train, y_train))\n",
        "  # record test set accuracy\n",
        "  test_accuracy.append(knn.score(X_test, y_test))\n",
        "  \n",
        "plt.plot(neighbors_settings, training_accuracy, label=\"training accuracy\")\n",
        "plt.plot(neighbors_settings, test_accuracy, label=\"test accuracy\")\n",
        "plt.ylabel(\"Accuracy\")\n",
        "plt.xlabel(\"n_neighbors\")\n",
        "plt.legend()\n",
        "#plt.savefig('knn_compare_model')\n",
        "plt.show()"
      ],
      "execution_count": 9,
      "outputs": [
        {
          "output_type": "display_data",
          "data": {
            "image/png": "[encoded data removed]",
            "text/plain": [
              "<Figure size 576x396 with 1 Axes>"
            ]
          },
          "metadata": {
            "tags": []
          }
        }
      ]
    },
    {
      "metadata": {
        "id": "md8nP1yleQPx",
        "colab_type": "text"
      },
      "cell_type": "markdown",
      "source": [
        "The above plot shows the training and test set accuracy on the y-axis against the setting of n_neighbors on the x-axis. Considering if we chosse one single nearest neighbor, the prediction on the trainning set is perfect. But when more neighbors are considered, the training accuracy drops, indication that using the single nearest neighbor leads to a model that is too complex. The best performance is somewhere around 9 neighbors.\n",
        "\n",
        "The plot suggests that we should choose n_neighbors=9."
      ]
    },
    {
      "metadata": {
        "id": "3ZmD_DxSffhK",
        "colab_type": "code",
        "outputId": "c7fa9900-e129-4a92-ae65-1a6d5c7eada5",
        "colab": {
          "base_uri": "https://localhost:8080/",
          "height": 51
        }
      },
      "cell_type": "code",
      "source": [
        "knn = KNeighborsClassifier(n_neighbors=9)\n",
        "knn.fit(X_train, y_train)\n",
        "print('Accuracy of K-NN classifier on training set: {:.2f}'.format(knn.score(X_train, y_train)))\n",
        "print('Accuracy of K-NN classifier on test set: {:.2f}'.format(knn.score(X_test, y_test)))"
      ],
      "execution_count": 10,
      "outputs": [
        {
          "output_type": "stream",
          "text": [
            "Accuracy of K-NN classifier on training set: 0.79\n",
            "Accuracy of K-NN classifier on test set: 0.78\n"
          ],
          "name": "stdout"
        }
      ]
    },
    {
      "metadata": {
        "id": "Pal1bw_ff0zT",
        "colab_type": "text"
      },
      "cell_type": "markdown",
      "source": [
        "### Logistic regression\n",
        "\n",
        "Logistic Regrssion is one of the most common classification algorithms."
      ]
    },
    {
      "metadata": {
        "id": "YdVLBxWygJcA",
        "colab_type": "code",
        "outputId": "1a2a6cf1-03e0-4a52-cbfe-ffe7e4e2d924",
        "colab": {
          "base_uri": "https://localhost:8080/",
          "height": 105
        }
      },
      "cell_type": "code",
      "source": [
        "from sklearn.linear_model import LogisticRegression\n",
        "\n",
        "logreg = LogisticRegression().fit(X_train, y_train)\n",
        "print(\"Training set score: {:.3f}\".format(logreg.score(X_train, y_train)))\n",
        "print(\"Test set score: {:.3f}\".format(logreg.score(X_test, y_test)))"
      ],
      "execution_count": 11,
      "outputs": [
        {
          "output_type": "stream",
          "text": [
            "Training set score: 0.781\n",
            "Test set score: 0.771\n"
          ],
          "name": "stdout"
        },
        {
          "output_type": "stream",
          "text": [
            "/usr/local/lib/python3.6/dist-packages/sklearn/linear_model/logistic.py:433: FutureWarning: Default solver will be changed to 'lbfgs' in 0.22. Specify a solver to silence this warning.\n",
            "  FutureWarning)\n"
          ],
          "name": "stderr"
        }
      ]
    },
    {
      "metadata": {
        "id": "H_5cgJBYgf0w",
        "colab_type": "text"
      },
      "cell_type": "markdown",
      "source": [
        "The default value of C=1 provides with 78% accuracy on the training and 77% accuracy on the test set."
      ]
    },
    {
      "metadata": {
        "id": "X7cBLM48gtCp",
        "colab_type": "code",
        "outputId": "a6f8f169-b2f7-46ae-aee3-c2ab21a61fde",
        "colab": {
          "base_uri": "https://localhost:8080/",
          "height": 105
        }
      },
      "cell_type": "code",
      "source": [
        "logreg001 = LogisticRegression(C=0.01).fit(X_train, y_train)\n",
        "print(\"Training set accuracy: {:.3f}\".format(logreg001.score(X_train, y_train)))\n",
        "print(\"Test set accuracy: {:.3f}\".format(logreg001.score(X_test, y_test)))"
      ],
      "execution_count": 12,
      "outputs": [
        {
          "output_type": "stream",
          "text": [
            "Training set accuracy: 0.700\n",
            "Test set accuracy: 0.703\n"
          ],
          "name": "stdout"
        },
        {
          "output_type": "stream",
          "text": [
            "/usr/local/lib/python3.6/dist-packages/sklearn/linear_model/logistic.py:433: FutureWarning: Default solver will be changed to 'lbfgs' in 0.22. Specify a solver to silence this warning.\n",
            "  FutureWarning)\n"
          ],
          "name": "stderr"
        }
      ]
    },
    {
      "metadata": {
        "id": "56j2r30UgzJC",
        "colab_type": "text"
      },
      "cell_type": "markdown",
      "source": [
        "Using C=0.01 results in lower accuracy on both the training and test sets."
      ]
    },
    {
      "metadata": {
        "id": "e3rmvHnohAAb",
        "colab_type": "code",
        "outputId": "34528290-515c-4b0a-8bc3-828bc0524473",
        "colab": {
          "base_uri": "https://localhost:8080/",
          "height": 105
        }
      },
      "cell_type": "code",
      "source": [
        "logreg100 = LogisticRegression(C=100).fit(X_train, y_train)\n",
        "print(\"Training set accuracy: {:.3f}\".format(logreg100.score(X_train, y_train)))\n",
        "print(\"Test set accuracy: {:.3f}\".format(logreg100.score(X_test, y_test)))"
      ],
      "execution_count": 13,
      "outputs": [
        {
          "output_type": "stream",
          "text": [
            "Training set accuracy: 0.785\n",
            "Test set accuracy: 0.766\n"
          ],
          "name": "stdout"
        },
        {
          "output_type": "stream",
          "text": [
            "/usr/local/lib/python3.6/dist-packages/sklearn/linear_model/logistic.py:433: FutureWarning: Default solver will be changed to 'lbfgs' in 0.22. Specify a solver to silence this warning.\n",
            "  FutureWarning)\n"
          ],
          "name": "stderr"
        }
      ]
    },
    {
      "metadata": {
        "id": "oo55w-iDhC0Y",
        "colab_type": "text"
      },
      "cell_type": "markdown",
      "source": [
        "Using C=100 results in a litle bit higher accuracy on the training set and little bit lower accuracy on the test set, confirming that less regularization and a more complex model may not generalize better than default setting.\n",
        "\n",
        "Therefore, we should choose default value C=1\n",
        "\n",
        "Let's visualize the coefficients learned by the models with the three different settings of the regularization parameter C.\n",
        "\n",
        "Stronger regularization (C=0.001) pushes coefficients more and more toward zero. Inspecting the plot more closely, we can also see that feature \"DiabetesPedigreeFunction\", for C=100, C=1 and C=0.001, the coefficients is positive. This indicates that high \"DiabetesPedigreeFunction\" feature is related to a sample begin \"diabetes\", regardless which model we look at."
      ]
    },
    {
      "metadata": {
        "id": "jZYsGbH5iyxS",
        "colab_type": "code",
        "outputId": "ceaae0ce-0265-4f24-ce8c-0260a07a7dfa",
        "colab": {
          "base_uri": "https://localhost:8080/",
          "height": 496
        }
      },
      "cell_type": "code",
      "source": [
        "diabetes_features = [x for i, x in enumerate(diabetes.columns) if i!=8]\n",
        "\n",
        "plt.figure(figsize=(8,6))\n",
        "plt.plot(logreg.coef_.T, 'o', label=\"C=1\")\n",
        "plt.plot(logreg100.coef_.T, '^', label=\"C=100\")\n",
        "plt.plot(logreg001.coef_.T, 'v', label=\"C=0.001\")\n",
        "plt.xticks(range(diabetes.shape[1]), diabetes_features, rotation=90)\n",
        "plt.hlines(0, 0, diabetes.shape[1])\n",
        "plt.ylim(-5, 5)\n",
        "plt.xlabel(\"Feature\")\n",
        "plt.ylabel(\"Coefficient magnitude\")\n",
        "plt.legend()\n",
        "plt.savefig('log_coef')\n",
        "plt.show()"
      ],
      "execution_count": 14,
      "outputs": [
        {
          "output_type": "display_data",
          "data": {
            "image/png": "[encoded data removed]",
            "text/plain": [
              "<Figure size 576x432 with 1 Axes>"
            ]
          },
          "metadata": {
            "tags": []
          }
        }
      ]
    },
    {
      "metadata": {
        "id": "3KQWbyL7FnHP",
        "colab_type": "text"
      },
      "cell_type": "markdown",
      "source": [
        "### Decision Tree"
      ]
    },
    {
      "metadata": {
        "id": "R8On_acOFqgC",
        "colab_type": "code",
        "colab": {
          "base_uri": "https://localhost:8080/",
          "height": 51
        },
        "outputId": "111af630-6206-46cf-eef3-9f44cf2297c2"
      },
      "cell_type": "code",
      "source": [
        "from sklearn.tree import DecisionTreeClassifier\n",
        "\n",
        "tree = DecisionTreeClassifier(random_state=0)\n",
        "tree.fit(X_train, y_train)\n",
        "print(\"Accuracy on training set:{:.3f}\".format(tree.score(X_train, y_train)))\n",
        "print(\"Accuracy on test set:{:.3f}\".format(tree.score(X_test, y_test)))"
      ],
      "execution_count": 15,
      "outputs": [
        {
          "output_type": "stream",
          "text": [
            "Accuracy on training set:1.000\n",
            "Accuracy on test set:0.714\n"
          ],
          "name": "stdout"
        }
      ]
    },
    {
      "metadata": {
        "id": "s1WNtIEjGTEr",
        "colab_type": "text"
      },
      "cell_type": "markdown",
      "source": [
        "The accuracy on the training set is 100%, while the test set accuracy is much worse. This is an indicative that the tree is overfitting and not generalizing well to new data. Therefore, we need to apply pre-pruning to the tree.\n",
        "\n",
        "We set max_depth=3, limiting the depth of the tree decreases overfitting. This leads to lower accuracy on the training set, but an improvement on the test set."
      ]
    },
    {
      "metadata": {
        "id": "yuDK6qkrHYDj",
        "colab_type": "code",
        "colab": {
          "base_uri": "https://localhost:8080/",
          "height": 51
        },
        "outputId": "e12e4bb1-f4a0-402a-e532-4af51ee2d27a"
      },
      "cell_type": "code",
      "source": [
        "tree = DecisionTreeClassifier(max_depth=3, random_state=0)\n",
        "tree.fit(X_train, y_train)\n",
        "print(\"Accuracy on training set:{:.3f}\".format(tree.score(X_train, y_train)))\n",
        "print(\"Accuracy on test set:{:.3f}\".format(tree.score(X_test, y_test)))"
      ],
      "execution_count": 17,
      "outputs": [
        {
          "output_type": "stream",
          "text": [
            "Accuracy on training set:0.773\n",
            "Accuracy on test set:0.740\n"
          ],
          "name": "stdout"
        }
      ]
    },
    {
      "metadata": {
        "id": "4XPDtx2pHy-g",
        "colab_type": "text"
      },
      "cell_type": "markdown",
      "source": [
        "#### Feture Importance in Decsion Trees\n",
        "\n",
        "Feature importance rates how important each feature is for the decision a tree makes. It is a number between 0 and 1 for each feature, where 0 means \"not used at all\" and 1 mean \"perfectly predicts the target\". The feature importances always sum to 1:"
      ]
    },
    {
      "metadata": {
        "id": "RVsX3mSRHdUe",
        "colab_type": "code",
        "colab": {
          "base_uri": "https://localhost:8080/",
          "height": 68
        },
        "outputId": "b8b7ba02-2970-45a7-91c3-37a3523ba395"
      },
      "cell_type": "code",
      "source": [
        " print(\"Feature importances:\\n{}\".format(tree.feature_importances_))"
      ],
      "execution_count": 20,
      "outputs": [
        {
          "output_type": "stream",
          "text": [
            "Feature importances:\n",
            "[0.04554275 0.6830362  0.         0.         0.         0.27142106\n",
            " 0.         0.        ]\n"
          ],
          "name": "stdout"
        }
      ]
    },
    {
      "metadata": {
        "id": "P8k_3j6hJT67",
        "colab_type": "text"
      },
      "cell_type": "markdown",
      "source": [
        "Then we can visualize the feature importances:"
      ]
    },
    {
      "metadata": {
        "id": "Di3Hs-O5JdYA",
        "colab_type": "code",
        "colab": {}
      },
      "cell_type": "code",
      "source": [
        "def plot_feature_importances_diabetes(model):\n",
        "  plt.figure(figsize=(8,6))\n",
        "  n_features = 8\n",
        "  plt.barh(range(n_features), model.feature_importances_, align='center')\n",
        "  plt.yticks(np.arange(n_features), diabetes_features)\n",
        "  plt.xlabel(\"Feature importance\")\n",
        "  plt.ylabel(\"Feature\")\n",
        "  plt.ylim(-1, n_features)"
      ],
      "execution_count": 0,
      "outputs": []
    },
    {
      "metadata": {
        "id": "3wAAf27KKcnT",
        "colab_type": "code",
        "colab": {
          "base_uri": "https://localhost:8080/",
          "height": 388
        },
        "outputId": "2470fb3f-0d6f-4948-8f6b-0f9da86eeae9"
      },
      "cell_type": "code",
      "source": [
        "plot_feature_importances_diabetes(tree)\n",
        "plt.savefig('feature_importance')\n",
        "plt.show()"
      ],
      "execution_count": 25,
      "outputs": [
        {
          "output_type": "display_data",
          "data": {
            "image/png": "[encoded data removed]",
            "text/plain": [
              "<Figure size 576x432 with 1 Axes>"
            ]
          },
          "metadata": {
            "tags": []
          }
        }
      ]
    },
    {
      "metadata": {
        "id": "P0vZVu5EKy9U",
        "colab_type": "text"
      },
      "cell_type": "markdown",
      "source": [
        "Feature \"Glucose\" is by far the most important feature"
      ]
    },
    {
      "metadata": {
        "id": "KCT1WG0MLN-7",
        "colab_type": "text"
      },
      "cell_type": "markdown",
      "source": [
        "### Random Forest\n",
        "\n",
        "Let's apply a random forest consisting of 100 trees on the diabetes data set"
      ]
    },
    {
      "metadata": {
        "id": "PuO1bilQLxvi",
        "colab_type": "code",
        "colab": {
          "base_uri": "https://localhost:8080/",
          "height": 51
        },
        "outputId": "868ffb29-b8d4-4c10-b992-c38a4caa414e"
      },
      "cell_type": "code",
      "source": [
        "from sklearn.ensemble import RandomForestClassifier\n",
        "\n",
        "rf = RandomForestClassifier(n_estimators=100, random_state=0)\n",
        "rf.fit(X_train, y_train)\n",
        "print(\"Accuracy on training set:{:.3f}\".format(rf.score(X_train, y_train)))\n",
        "print(\"Accuracy on test set: {:.3f}\".format(rf.score(X_test,y_test)))"
      ],
      "execution_count": 26,
      "outputs": [
        {
          "output_type": "stream",
          "text": [
            "Accuracy on training set:1.000\n",
            "Accuracy on test set: 0.786\n"
          ],
          "name": "stdout"
        }
      ]
    },
    {
      "metadata": {
        "id": "vMWdWU4FMbMd",
        "colab_type": "text"
      },
      "cell_type": "markdown",
      "source": [
        "The random forest gives us an accuracy of 78.6%, better than the logistic regression model or a single decision tree, without tuning any parameters. However, we can adjust the max_features setting, to see whether the result can be improved."
      ]
    },
    {
      "metadata": {
        "id": "GxLCzDCMNU2J",
        "colab_type": "code",
        "colab": {
          "base_uri": "https://localhost:8080/",
          "height": 51
        },
        "outputId": "882b7fef-e668-4cc9-f0e2-19fa51a7f64a"
      },
      "cell_type": "code",
      "source": [
        "rf1 = RandomForestClassifier(max_depth=3, n_estimators=100, random_state=0)\n",
        "rf1.fit(X_train, y_train)\n",
        "print(\"Accuracy on training set:{:.3f}\".format(rf1.score(X_train, y_train)))\n",
        "print(\"Accuracy on test set:{:.3f}\".format(rf1.score(X_test, y_test)))"
      ],
      "execution_count": 27,
      "outputs": [
        {
          "output_type": "stream",
          "text": [
            "Accuracy on training set:0.800\n",
            "Accuracy on test set:0.755\n"
          ],
          "name": "stdout"
        }
      ]
    },
    {
      "metadata": {
        "id": "YoKa6Dn-N5Vt",
        "colab_type": "text"
      },
      "cell_type": "markdown",
      "source": [
        "It did not, this indicates that the default parameters of the random forest work well.\n",
        "\n",
        "\n",
        "#### Feature importance in Random Forest"
      ]
    },
    {
      "metadata": {
        "id": "WdmxVAQtON6W",
        "colab_type": "code",
        "colab": {
          "base_uri": "https://localhost:8080/",
          "height": 388
        },
        "outputId": "83fa5178-987c-430c-a193-c08623fd3503"
      },
      "cell_type": "code",
      "source": [
        "plot_feature_importances_diabetes(rf)"
      ],
      "execution_count": 28,
      "outputs": [
        {
          "output_type": "display_data",
          "data": {
            "image/png": "[encoded data removed]",
            "text/plain": [
              "<Figure size 576x432 with 1 Axes>"
            ]
          },
          "metadata": {
            "tags": []
          }
        }
      ]
    },
    {
      "metadata": {
        "id": "edb-tD3IP2b-",
        "colab_type": "text"
      },
      "cell_type": "markdown",
      "source": [
        "Similarly to the single decision tree, the random forest also gives a lot of importance to the \"Clucose\" feature, but it also chooses \"BMI\" to be the 2nd most informative feature overall. The randomness in building the random forest forces the algorithm to consider many possible explanations, the result being that the random forest captures a much broader picture of the data than a single tree."
      ]
    },
    {
      "metadata": {
        "id": "d9dGSZlRRfxM",
        "colab_type": "text"
      },
      "cell_type": "markdown",
      "source": [
        "### Gradient Boosting"
      ]
    },
    {
      "metadata": {
        "id": "-UG51rmJR6bb",
        "colab_type": "code",
        "colab": {
          "base_uri": "https://localhost:8080/",
          "height": 51
        },
        "outputId": "6969bdc0-3b44-4b21-e7e4-0a81c0766f43"
      },
      "cell_type": "code",
      "source": [
        "from sklearn.ensemble import GradientBoostingClassifier\n",
        "\n",
        "gb = GradientBoostingClassifier(random_state=0)\n",
        "gb.fit(X_train, y_train)\n",
        "print(\"Accuracy on training set:{:.3f}\".format(gb.score(X_train, y_train)))\n",
        "print(\"Accuracy on test set: {:.3f}\".format(gb.score(X_test,y_test)))"
      ],
      "execution_count": 29,
      "outputs": [
        {
          "output_type": "stream",
          "text": [
            "Accuracy on training set:0.917\n",
            "Accuracy on test set: 0.792\n"
          ],
          "name": "stdout"
        }
      ]
    },
    {
      "metadata": {
        "id": "Ybd1fN85T_YT",
        "colab_type": "text"
      },
      "cell_type": "markdown",
      "source": [
        "We are likely to be overfitting. To reduce overfitting, we cloud either apply stronger pre-pruning by limiting the maximum depth or lower the learning rate:"
      ]
    },
    {
      "metadata": {
        "id": "gBxvI5SMUdGS",
        "colab_type": "code",
        "colab": {
          "base_uri": "https://localhost:8080/",
          "height": 51
        },
        "outputId": "1fb402d9-d60c-40f4-97a3-5c27c4d80514"
      },
      "cell_type": "code",
      "source": [
        "gb1 = GradientBoostingClassifier(random_state=0,max_depth=1)\n",
        "gb1.fit(X_train, y_train)\n",
        "print(\"Accuracy on training set:{:.3f}\".format(gb1.score(X_train, y_train)))\n",
        "print(\"Accuracy on test set:{:.3f}\".format(gb1.score(X_test, y_test)))"
      ],
      "execution_count": 31,
      "outputs": [
        {
          "output_type": "stream",
          "text": [
            "Accuracy on training set:0.804\n",
            "Accuracy on test set:0.781\n"
          ],
          "name": "stdout"
        }
      ]
    },
    {
      "metadata": {
        "id": "9GtAQr9NU8W0",
        "colab_type": "code",
        "colab": {
          "base_uri": "https://localhost:8080/",
          "height": 51
        },
        "outputId": "b73fd021-8461-4cfc-d115-5196ffab0a45"
      },
      "cell_type": "code",
      "source": [
        "gb2 = GradientBoostingClassifier(random_state=0,learning_rate=0.01)\n",
        "gb2.fit(X_train, y_train)\n",
        "print(\"Accuracy on training set:{:.3f}\".format(gb2.score(X_train, y_train)))\n",
        "print(\"Accuracy on test set:{:.3f}\".format(gb2.score(X_test, y_test)))"
      ],
      "execution_count": 32,
      "outputs": [
        {
          "output_type": "stream",
          "text": [
            "Accuracy on training set:0.802\n",
            "Accuracy on test set:0.776\n"
          ],
          "name": "stdout"
        }
      ]
    },
    {
      "metadata": {
        "id": "WrV822IZVWoA",
        "colab_type": "text"
      },
      "cell_type": "markdown",
      "source": [
        "Both methods of decreasing the model complexity reduced the training set accuracy, as expected. However, in this case, none of these methods increased the generalization performance of the test set.\n",
        "We can visualize the feature importances to get more insight into our model even though we are not really happy with the model:"
      ]
    },
    {
      "metadata": {
        "id": "9zdgjCZGVZMl",
        "colab_type": "code",
        "colab": {
          "base_uri": "https://localhost:8080/",
          "height": 388
        },
        "outputId": "5b58bb5f-5765-4e45-edee-66dc5029e0bc"
      },
      "cell_type": "code",
      "source": [
        " plot_feature_importances_diabetes(gb1)"
      ],
      "execution_count": 35,
      "outputs": [
        {
          "output_type": "display_data",
          "data": {
            "image/png": "[encoded data removed]",
            "text/plain": [
              "<Figure size 576x432 with 1 Axes>"
            ]
          },
          "metadata": {
            "tags": []
          }
        }
      ]
    },
    {
      "metadata": {
        "id": "20POpBD9Vs1H",
        "colab_type": "text"
      },
      "cell_type": "markdown",
      "source": [
        "We can see that the feature importances of the gradient boosted trees are somewhat similar to the feature importances of the random forests, it gives weight to all of the features in this case."
      ]
    },
    {
      "metadata": {
        "id": "eYYoYBJ1WOZ-",
        "colab_type": "text"
      },
      "cell_type": "markdown",
      "source": [
        "### Support Vector Machine"
      ]
    },
    {
      "metadata": {
        "id": "zMnzmXHyWcbH",
        "colab_type": "code",
        "colab": {
          "base_uri": "https://localhost:8080/",
          "height": 105
        },
        "outputId": "928de0f3-8f90-424a-a2cf-442fd2ed95a6"
      },
      "cell_type": "code",
      "source": [
        "from sklearn.svm import SVC\n",
        "\n",
        "svc = SVC()\n",
        "svc.fit(X_train, y_train)\n",
        "print(\"Accuracy on training set:{:.2f}\".format(svc.score(X_train, y_train)))\n",
        "print(\"Accuracy on test set:{:.2f}\".format(svc.score(X_test, y_test)))"
      ],
      "execution_count": 36,
      "outputs": [
        {
          "output_type": "stream",
          "text": [
            "Accuracy on training set:1.00\n",
            "Accuracy on test set:0.65\n"
          ],
          "name": "stdout"
        },
        {
          "output_type": "stream",
          "text": [
            "/usr/local/lib/python3.6/dist-packages/sklearn/svm/base.py:196: FutureWarning: The default value of gamma will change from 'auto' to 'scale' in version 0.22 to account better for unscaled features. Set gamma explicitly to 'auto' or 'scale' to avoid this warning.\n",
            "  \"avoid this warning.\", FutureWarning)\n"
          ],
          "name": "stderr"
        }
      ]
    },
    {
      "metadata": {
        "id": "NraFKL_xWuTx",
        "colab_type": "text"
      },
      "cell_type": "markdown",
      "source": [
        "The model overfits quite substantially, with a perfect score on the training set and only 65% accuracy on the test set.\n",
        "\n",
        "SVM requires all the features to very on similar scale. We will need to re-scale our data that all the features are approximately on the same scale:"
      ]
    },
    {
      "metadata": {
        "id": "9viB8CpWXQIz",
        "colab_type": "code",
        "colab": {
          "base_uri": "https://localhost:8080/",
          "height": 173
        },
        "outputId": "3e3271f4-4086-4aee-a4c7-435693e41740"
      },
      "cell_type": "code",
      "source": [
        "from sklearn.preprocessing import MinMaxScaler\n",
        "\n",
        "scaler = MinMaxScaler()\n",
        "X_train_scaled = scaler.fit_transform(X_train)\n",
        "X_test_scaled = scaler.fit_transform(X_test)\n",
        "\n",
        "svc = SVC()\n",
        "svc.fit(X_train_scaled, y_train)\n",
        "print(\"Accuracy on training set:{:.3f}\".format(svc.score(X_train_scaled, y_train)))\n",
        "print(\"Accuracy on test set:{:.3f}\".format(svc.score(X_test_scaled, y_test)))"
      ],
      "execution_count": 43,
      "outputs": [
        {
          "output_type": "stream",
          "text": [
            "Accuracy on training set:0.769\n",
            "Accuracy on test set:0.771\n"
          ],
          "name": "stdout"
        },
        {
          "output_type": "stream",
          "text": [
            "/usr/local/lib/python3.6/dist-packages/sklearn/preprocessing/data.py:334: DataConversionWarning: Data with input dtype int64, float64 were all converted to float64 by MinMaxScaler.\n",
            "  return self.partial_fit(X, y)\n",
            "/usr/local/lib/python3.6/dist-packages/sklearn/preprocessing/data.py:334: DataConversionWarning: Data with input dtype int64, float64 were all converted to float64 by MinMaxScaler.\n",
            "  return self.partial_fit(X, y)\n",
            "/usr/local/lib/python3.6/dist-packages/sklearn/svm/base.py:196: FutureWarning: The default value of gamma will change from 'auto' to 'scale' in version 0.22 to account better for unscaled features. Set gamma explicitly to 'auto' or 'scale' to avoid this warning.\n",
            "  \"avoid this warning.\", FutureWarning)\n"
          ],
          "name": "stderr"
        }
      ]
    },
    {
      "metadata": {
        "id": "MuOIlaLzX_Am",
        "colab_type": "text"
      },
      "cell_type": "markdown",
      "source": [
        "Scaling the data made a huge difference. Now we are actually underfitting, where training and test set performance are quite similar but less close too 100% accuracy. From here, we can try increasing either C or gamma to fit a more complex model."
      ]
    },
    {
      "metadata": {
        "id": "4cu-5d-PYe0n",
        "colab_type": "code",
        "colab": {
          "base_uri": "https://localhost:8080/",
          "height": 105
        },
        "outputId": "e3966632-21c8-4589-d84c-f438d7372acb"
      },
      "cell_type": "code",
      "source": [
        "svc = SVC(C=1000)\n",
        "svc.fit(X_train_scaled, y_train)\n",
        "print(\"Accuracy on training set: {:.3f}\".format(svc.score(X_train_scaled, y_train)))\n",
        "print(\"Accuracy on test set:{:.3f}\".format(svc.score(X_test_scaled, y_test)))"
      ],
      "execution_count": 44,
      "outputs": [
        {
          "output_type": "stream",
          "text": [
            "Accuracy on training set: 0.790\n",
            "Accuracy on test set:0.797\n"
          ],
          "name": "stdout"
        },
        {
          "output_type": "stream",
          "text": [
            "/usr/local/lib/python3.6/dist-packages/sklearn/svm/base.py:196: FutureWarning: The default value of gamma will change from 'auto' to 'scale' in version 0.22 to account better for unscaled features. Set gamma explicitly to 'auto' or 'scale' to avoid this warning.\n",
            "  \"avoid this warning.\", FutureWarning)\n"
          ],
          "name": "stderr"
        }
      ]
    },
    {
      "metadata": {
        "id": "D5ZrG-TKYzpq",
        "colab_type": "text"
      },
      "cell_type": "markdown",
      "source": [
        "Here, increasing C allows us to improve the model, resulting in 79.7% test set accuracy"
      ]
    },
    {
      "metadata": {
        "id": "sKPdX969ZBxu",
        "colab_type": "text"
      },
      "cell_type": "markdown",
      "source": [
        "### Deep Learning"
      ]
    },
    {
      "metadata": {
        "id": "hlDjTOcUZIC4",
        "colab_type": "code",
        "colab": {
          "base_uri": "https://localhost:8080/",
          "height": 51
        },
        "outputId": "6d02655b-eb24-410d-c71b-c2478f520796"
      },
      "cell_type": "code",
      "source": [
        "from sklearn.neural_network import MLPClassifier\n",
        "\n",
        "mlp = MLPClassifier(random_state=42)\n",
        "mlp.fit(X_train, y_train)\n",
        "print(\"Accuracy on training set:{:.3f}\".format(mlp.score(X_train, y_train)))\n",
        "print(\"Accuracy on test set:{:.3f}\".format(mlp.score(X_test, y_test)))"
      ],
      "execution_count": 45,
      "outputs": [
        {
          "output_type": "stream",
          "text": [
            "Accuracy on training set:0.731\n",
            "Accuracy on test set:0.724\n"
          ],
          "name": "stdout"
        }
      ]
    },
    {
      "metadata": {
        "id": "eLpNKuOYZiR4",
        "colab_type": "text"
      },
      "cell_type": "markdown",
      "source": [
        "The accuracy of the Multilayer perceptrons (MLP) is not as good as the other models at all, this is likely due to scaling of the data. deep learning algorithms also expect all input features to very in a similar way, and ideally to have a mean of 0, and a variance of 1. We must re-scale our data so that it fulfills these requirements."
      ]
    },
    {
      "metadata": {
        "id": "Ms7MjBogaPaY",
        "colab_type": "code",
        "colab": {
          "base_uri": "https://localhost:8080/",
          "height": 241
        },
        "outputId": "852b3a94-e16b-4f7f-d09b-4868692c4259"
      },
      "cell_type": "code",
      "source": [
        "from sklearn.preprocessing import StandardScaler\n",
        "\n",
        "scaler = StandardScaler()\n",
        "X_train_scaled = scaler.fit_transform(X_train)\n",
        "X_test_scaled = scaler.fit_transform(X_test)\n",
        "\n",
        "mlp = MLPClassifier(random_state=0)\n",
        "mlp.fit(X_train_scaled, y_train)\n",
        "print(\"Accuracy on training set:{:.3f}\".format(mlp.score(X_train_scaled, y_train)))\n",
        "print(\"Accuracy on test set:{:.3f}\".format(mlp.score(X_test_scaled, y_test)))"
      ],
      "execution_count": 46,
      "outputs": [
        {
          "output_type": "stream",
          "text": [
            "/usr/local/lib/python3.6/dist-packages/sklearn/preprocessing/data.py:645: DataConversionWarning: Data with input dtype int64, float64 were all converted to float64 by StandardScaler.\n",
            "  return self.partial_fit(X, y)\n",
            "/usr/local/lib/python3.6/dist-packages/sklearn/base.py:464: DataConversionWarning: Data with input dtype int64, float64 were all converted to float64 by StandardScaler.\n",
            "  return self.fit(X, **fit_params).transform(X)\n",
            "/usr/local/lib/python3.6/dist-packages/sklearn/preprocessing/data.py:645: DataConversionWarning: Data with input dtype int64, float64 were all converted to float64 by StandardScaler.\n",
            "  return self.partial_fit(X, y)\n",
            "/usr/local/lib/python3.6/dist-packages/sklearn/base.py:464: DataConversionWarning: Data with input dtype int64, float64 were all converted to float64 by StandardScaler.\n",
            "  return self.fit(X, **fit_params).transform(X)\n"
          ],
          "name": "stderr"
        },
        {
          "output_type": "stream",
          "text": [
            "Accuracy on training set:0.823\n",
            "Accuracy on test set:0.802\n"
          ],
          "name": "stdout"
        },
        {
          "output_type": "stream",
          "text": [
            "/usr/local/lib/python3.6/dist-packages/sklearn/neural_network/multilayer_perceptron.py:562: ConvergenceWarning: Stochastic Optimizer: Maximum iterations (200) reached and the optimization hasn't converged yet.\n",
            "  % self.max_iter, ConvergenceWarning)\n"
          ],
          "name": "stderr"
        }
      ]
    },
    {
      "metadata": {
        "id": "yMj9FirAa2_J",
        "colab_type": "text"
      },
      "cell_type": "markdown",
      "source": [
        "Let's increse the number of iterations"
      ]
    },
    {
      "metadata": {
        "id": "YoVcac2ma7zZ",
        "colab_type": "code",
        "colab": {
          "base_uri": "https://localhost:8080/",
          "height": 105
        },
        "outputId": "b1001184-47e6-48a1-e9d0-dbf6d621a931"
      },
      "cell_type": "code",
      "source": [
        "mlp = MLPClassifier(max_iter=1000, random_state=0)\n",
        "mlp.fit(X_train_scaled, y_train)\n",
        "print(\"Accuracy on training set: {:.3f}\".format(mlp.score(X_train_scaled, y_train)))\n",
        "print(\"Accuracy on test set:{:.3f}\".format(mlp.score(X_test_scaled, y_test)))"
      ],
      "execution_count": 47,
      "outputs": [
        {
          "output_type": "stream",
          "text": [
            "Accuracy on training set: 0.908\n",
            "Accuracy on test set:0.792\n"
          ],
          "name": "stdout"
        },
        {
          "output_type": "stream",
          "text": [
            "/usr/local/lib/python3.6/dist-packages/sklearn/neural_network/multilayer_perceptron.py:562: ConvergenceWarning: Stochastic Optimizer: Maximum iterations (1000) reached and the optimization hasn't converged yet.\n",
            "  % self.max_iter, ConvergenceWarning)\n"
          ],
          "name": "stderr"
        }
      ]
    },
    {
      "metadata": {
        "id": "gCpEKQhObK1F",
        "colab_type": "text"
      },
      "cell_type": "markdown",
      "source": [
        "Increasing the number of iterations only increased the training set performace, not the test set performance.\n",
        "\n",
        "Let's increase the alpha parameter and add stronger regularization of the weights:"
      ]
    },
    {
      "metadata": {
        "id": "-KQe9Hirb4cD",
        "colab_type": "code",
        "colab": {
          "base_uri": "https://localhost:8080/",
          "height": 51
        },
        "outputId": "647a2f96-e95e-41ce-a789-3350488d1bad"
      },
      "cell_type": "code",
      "source": [
        "mlp = MLPClassifier(max_iter=1000, alpha=1, random_state=0)\n",
        "mlp.fit(X_train_scaled, y_train)\n",
        "\n",
        "print(\"Accuracy on training set: {:.3f}\".format(mlp.score(X_train_scaled, y_train)))\n",
        "print(\"Accuracy on test set:{:.3f}\".format(mlp.score(X_test_scaled, y_test)))"
      ],
      "execution_count": 48,
      "outputs": [
        {
          "output_type": "stream",
          "text": [
            "Accuracy on training set: 0.806\n",
            "Accuracy on test set:0.797\n"
          ],
          "name": "stdout"
        }
      ]
    },
    {
      "metadata": {
        "id": "HTFoyXv8cMl_",
        "colab_type": "text"
      },
      "cell_type": "markdown",
      "source": [
        "The result is good, but we are not able to increase the test accuracy further.\n",
        "\n",
        "Therefore, our best model so far is default deep learning model after scaling.\n",
        "\n",
        "Finally, we plot a heat map of the first layer weights in a neural network learned on the diabetes data set."
      ]
    },
    {
      "metadata": {
        "id": "nASRbDeZccus",
        "colab_type": "code",
        "colab": {
          "base_uri": "https://localhost:8080/",
          "height": 349
        },
        "outputId": "c3feba6e-8d1f-4341-e21c-70cf1db13c63"
      },
      "cell_type": "code",
      "source": [
        "plt.figure(figsize=(20,5))\n",
        "plt.imshow(mlp.coefs_[0], interpolation='none',cmap='viridis')\n",
        "plt.yticks(range(8), diabetes_features)\n",
        "plt.xlabel(\"Columns in weight matrix\")\n",
        "plt.ylabel(\"Input feature\")\n",
        "plt.colorbar()"
      ],
      "execution_count": 53,
      "outputs": [
        {
          "output_type": "execute_result",
          "data": {
            "text/plain": [
              "<matplotlib.colorbar.Colorbar at 0x7f304c4601d0>"
            ]
          },
          "metadata": {
            "tags": []
          },
          "execution_count": 53
        },
        {
          "output_type": "display_data",
          "data": {
            "image/png": "[encoded data removed]",
            "text/plain": [
              "<Figure size 1440x360 with 2 Axes>"
            ]
          },
          "metadata": {
            "tags": []
          }
        }
      ]
    },
    {
      "metadata": {
        "id": "PvCU1lVXcbgW",
        "colab_type": "text"
      },
      "cell_type": "markdown",
      "source": [
        "From the heat map, it is not easy to point out quickly that which feature (features) have relatively low weights compared to the other features."
      ]
    }
  ]
}