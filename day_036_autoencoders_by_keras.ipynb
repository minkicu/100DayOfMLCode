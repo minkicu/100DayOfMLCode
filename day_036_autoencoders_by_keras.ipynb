{
  "nbformat": 4,
  "nbformat_minor": 0,
  "metadata": {
    "colab": {
      "name": "day_036_autoencoders_by_keras.ipynb",
      "version": "0.3.2",
      "provenance": [],
      "collapsed_sections": [],
      "include_colab_link": true
    },
    "kernelspec": {
      "name": "python3",
      "display_name": "Python 3"
    }
  },
  "cells": [
    {
      "cell_type": "markdown",
      "metadata": {
        "id": "view-in-github",
        "colab_type": "text"
      },
      "source": [
        "<a href=\"https://colab.research.google.com/github/rkrissada/100DayOfMLCode/blob/master/day_036_autoencoders_by_keras.ipynb\" target=\"_parent\"><img src=\"https://colab.research.google.com/assets/colab-badge.svg\" alt=\"Open In Colab\"/></a>"
      ]
    },
    {
      "metadata": {
        "id": "3vLhDKiuO04a",
        "colab_type": "code",
        "colab": {
          "base_uri": "https://localhost:8080/",
          "height": 105
        },
        "outputId": "717fe09f-d322-4a58-e90d-79dd9e19073d"
      },
      "cell_type": "code",
      "source": [
        "from keras.layers import Input, Dense\n",
        "from keras.models import Model\n",
        "\n",
        "# this is the size of our encoded representations\n",
        "encoding_dim = 32  # 32 floats -> compression of factor 24.5, assuming the input is 784 floats\n",
        "\n",
        "# this is our input placeholder\n",
        "input_img = Input(shape=(784,))\n",
        "# \"encoded\" is the encoded representation of the input\n",
        "encoded = Dense(encoding_dim, activation='relu')(input_img)\n",
        "# \"decoded\" is the lossy reconstruction of the input\n",
        "decoded = Dense(784, activation='sigmoid')(encoded)\n",
        "\n",
        "# this model maps an input to its reconstruction\n",
        "autoencoder = Model(input_img, decoded)"
      ],
      "execution_count": 1,
      "outputs": [
        {
          "output_type": "stream",
          "text": [
            "Using TensorFlow backend.\n"
          ],
          "name": "stderr"
        },
        {
          "output_type": "stream",
          "text": [
            "WARNING:tensorflow:From /usr/local/lib/python3.6/dist-packages/tensorflow/python/framework/op_def_library.py:263: colocate_with (from tensorflow.python.framework.ops) is deprecated and will be removed in a future version.\n",
            "Instructions for updating:\n",
            "Colocations handled automatically by placer.\n"
          ],
          "name": "stdout"
        }
      ]
    },
    {
      "metadata": {
        "id": "WiJ5To2_O26W",
        "colab_type": "code",
        "colab": {}
      },
      "cell_type": "code",
      "source": [
        "# this model maps an input to its encoded representation\n",
        "encoder = Model(input_img, encoded)"
      ],
      "execution_count": 0,
      "outputs": []
    },
    {
      "metadata": {
        "id": "n8uhYxTRO8q1",
        "colab_type": "code",
        "colab": {}
      },
      "cell_type": "code",
      "source": [
        "# create a placeholder for an encoded (32-dimensional) input\n",
        "encoded_input = Input(shape=(encoding_dim,))\n",
        "# retrieve the last layer of the autoencoder model\n",
        "decoder_layer = autoencoder.layers[-1]\n",
        "# create the decoder model\n",
        "decoder = Model(encoded_input, decoder_layer(encoded_input))"
      ],
      "execution_count": 0,
      "outputs": []
    },
    {
      "metadata": {
        "id": "ehjwspH4PAgU",
        "colab_type": "code",
        "colab": {}
      },
      "cell_type": "code",
      "source": [
        "autoencoder.compile(optimizer='adadelta', loss='binary_crossentropy')"
      ],
      "execution_count": 0,
      "outputs": []
    },
    {
      "metadata": {
        "id": "FnapkBLIPGEt",
        "colab_type": "code",
        "colab": {
          "base_uri": "https://localhost:8080/",
          "height": 51
        },
        "outputId": "1c6d0199-5ae1-49b9-f6dc-6f2d38f6bbf8"
      },
      "cell_type": "code",
      "source": [
        "from keras.datasets import mnist\n",
        "import numpy as np\n",
        "(x_train, _), (x_test, _) = mnist.load_data()"
      ],
      "execution_count": 5,
      "outputs": [
        {
          "output_type": "stream",
          "text": [
            "Downloading data from https://s3.amazonaws.com/img-datasets/mnist.npz\n",
            "11493376/11490434 [==============================] - 0s 0us/step\n"
          ],
          "name": "stdout"
        }
      ]
    },
    {
      "metadata": {
        "id": "iUAmlqDYPJRd",
        "colab_type": "code",
        "colab": {
          "base_uri": "https://localhost:8080/",
          "height": 51
        },
        "outputId": "4eded8e3-405f-437f-f521-7b0298b0a775"
      },
      "cell_type": "code",
      "source": [
        "x_train = x_train.astype('float32') / 255.\n",
        "x_test = x_test.astype('float32') / 255.\n",
        "x_train = x_train.reshape((len(x_train), np.prod(x_train.shape[1:])))\n",
        "x_test = x_test.reshape((len(x_test), np.prod(x_test.shape[1:])))\n",
        "print(x_train.shape)\n",
        "print(x_test.shape)"
      ],
      "execution_count": 7,
      "outputs": [
        {
          "output_type": "stream",
          "text": [
            "(60000, 784)\n",
            "(10000, 784)\n"
          ],
          "name": "stdout"
        }
      ]
    },
    {
      "metadata": {
        "id": "_erIyQPOPaw1",
        "colab_type": "code",
        "colab": {
          "base_uri": "https://localhost:8080/",
          "height": 1822
        },
        "outputId": "60d321a0-a7f5-406e-d838-06ffe8af3f17"
      },
      "cell_type": "code",
      "source": [
        "autoencoder.fit(x_train, x_train,\n",
        "                epochs=50,\n",
        "                batch_size=256,\n",
        "                shuffle=True,\n",
        "                validation_data=(x_test, x_test))"
      ],
      "execution_count": 8,
      "outputs": [
        {
          "output_type": "stream",
          "text": [
            "WARNING:tensorflow:From /usr/local/lib/python3.6/dist-packages/tensorflow/python/ops/math_ops.py:3066: to_int32 (from tensorflow.python.ops.math_ops) is deprecated and will be removed in a future version.\n",
            "Instructions for updating:\n",
            "Use tf.cast instead.\n",
            "Train on 60000 samples, validate on 10000 samples\n",
            "Epoch 1/50\n",
            "60000/60000 [==============================] - 5s 79us/step - loss: 0.3579 - val_loss: 0.2702\n",
            "Epoch 2/50\n",
            "60000/60000 [==============================] - 4s 73us/step - loss: 0.2620 - val_loss: 0.2496\n",
            "Epoch 3/50\n",
            "60000/60000 [==============================] - 4s 74us/step - loss: 0.2393 - val_loss: 0.2271\n",
            "Epoch 4/50\n",
            "60000/60000 [==============================] - 4s 73us/step - loss: 0.2199 - val_loss: 0.2101\n",
            "Epoch 5/50\n",
            "60000/60000 [==============================] - 4s 73us/step - loss: 0.2053 - val_loss: 0.1979\n",
            "Epoch 6/50\n",
            "60000/60000 [==============================] - 4s 73us/step - loss: 0.1947 - val_loss: 0.1887\n",
            "Epoch 7/50\n",
            "60000/60000 [==============================] - 4s 74us/step - loss: 0.1866 - val_loss: 0.1815\n",
            "Epoch 8/50\n",
            "60000/60000 [==============================] - 4s 73us/step - loss: 0.1800 - val_loss: 0.1755\n",
            "Epoch 9/50\n",
            "60000/60000 [==============================] - 4s 73us/step - loss: 0.1744 - val_loss: 0.1703\n",
            "Epoch 10/50\n",
            "60000/60000 [==============================] - 4s 72us/step - loss: 0.1695 - val_loss: 0.1656\n",
            "Epoch 11/50\n",
            "60000/60000 [==============================] - 4s 73us/step - loss: 0.1650 - val_loss: 0.1614\n",
            "Epoch 12/50\n",
            "60000/60000 [==============================] - 4s 73us/step - loss: 0.1610 - val_loss: 0.1576\n",
            "Epoch 13/50\n",
            "60000/60000 [==============================] - 5s 76us/step - loss: 0.1573 - val_loss: 0.1540\n",
            "Epoch 14/50\n",
            "60000/60000 [==============================] - 5s 78us/step - loss: 0.1539 - val_loss: 0.1507\n",
            "Epoch 15/50\n",
            "60000/60000 [==============================] - 5s 77us/step - loss: 0.1508 - val_loss: 0.1477\n",
            "Epoch 16/50\n",
            "60000/60000 [==============================] - 4s 72us/step - loss: 0.1478 - val_loss: 0.1449\n",
            "Epoch 17/50\n",
            "60000/60000 [==============================] - 4s 72us/step - loss: 0.1451 - val_loss: 0.1421\n",
            "Epoch 18/50\n",
            "60000/60000 [==============================] - 4s 73us/step - loss: 0.1425 - val_loss: 0.1396\n",
            "Epoch 19/50\n",
            "60000/60000 [==============================] - 4s 73us/step - loss: 0.1400 - val_loss: 0.1371\n",
            "Epoch 20/50\n",
            "60000/60000 [==============================] - 4s 73us/step - loss: 0.1377 - val_loss: 0.1351\n",
            "Epoch 21/50\n",
            "60000/60000 [==============================] - 4s 73us/step - loss: 0.1355 - val_loss: 0.1328\n",
            "Epoch 22/50\n",
            "60000/60000 [==============================] - 4s 73us/step - loss: 0.1334 - val_loss: 0.1308\n",
            "Epoch 23/50\n",
            "60000/60000 [==============================] - 4s 73us/step - loss: 0.1314 - val_loss: 0.1289\n",
            "Epoch 24/50\n",
            "60000/60000 [==============================] - 4s 73us/step - loss: 0.1296 - val_loss: 0.1271\n",
            "Epoch 25/50\n",
            "60000/60000 [==============================] - 4s 72us/step - loss: 0.1278 - val_loss: 0.1254\n",
            "Epoch 26/50\n",
            "60000/60000 [==============================] - 4s 74us/step - loss: 0.1261 - val_loss: 0.1237\n",
            "Epoch 27/50\n",
            "60000/60000 [==============================] - 4s 73us/step - loss: 0.1245 - val_loss: 0.1221\n",
            "Epoch 28/50\n",
            "60000/60000 [==============================] - 4s 73us/step - loss: 0.1229 - val_loss: 0.1207\n",
            "Epoch 29/50\n",
            "60000/60000 [==============================] - 4s 73us/step - loss: 0.1214 - val_loss: 0.1192\n",
            "Epoch 30/50\n",
            "60000/60000 [==============================] - 4s 72us/step - loss: 0.1200 - val_loss: 0.1178\n",
            "Epoch 31/50\n",
            "60000/60000 [==============================] - 4s 72us/step - loss: 0.1187 - val_loss: 0.1165\n",
            "Epoch 32/50\n",
            "60000/60000 [==============================] - 4s 73us/step - loss: 0.1174 - val_loss: 0.1152\n",
            "Epoch 33/50\n",
            "60000/60000 [==============================] - 4s 72us/step - loss: 0.1163 - val_loss: 0.1141\n",
            "Epoch 34/50\n",
            "60000/60000 [==============================] - 4s 72us/step - loss: 0.1151 - val_loss: 0.1130\n",
            "Epoch 35/50\n",
            "60000/60000 [==============================] - 4s 72us/step - loss: 0.1141 - val_loss: 0.1120\n",
            "Epoch 36/50\n",
            "60000/60000 [==============================] - 4s 72us/step - loss: 0.1131 - val_loss: 0.1111\n",
            "Epoch 37/50\n",
            "60000/60000 [==============================] - 4s 71us/step - loss: 0.1122 - val_loss: 0.1101\n",
            "Epoch 38/50\n",
            "60000/60000 [==============================] - 4s 72us/step - loss: 0.1114 - val_loss: 0.1093\n",
            "Epoch 39/50\n",
            "60000/60000 [==============================] - 4s 71us/step - loss: 0.1106 - val_loss: 0.1086\n",
            "Epoch 40/50\n",
            "60000/60000 [==============================] - 4s 72us/step - loss: 0.1098 - val_loss: 0.1079\n",
            "Epoch 41/50\n",
            "60000/60000 [==============================] - 4s 73us/step - loss: 0.1092 - val_loss: 0.1072\n",
            "Epoch 42/50\n",
            "60000/60000 [==============================] - 4s 72us/step - loss: 0.1085 - val_loss: 0.1066\n",
            "Epoch 43/50\n",
            "60000/60000 [==============================] - 4s 71us/step - loss: 0.1080 - val_loss: 0.1061\n",
            "Epoch 44/50\n",
            "60000/60000 [==============================] - 4s 72us/step - loss: 0.1074 - val_loss: 0.1055\n",
            "Epoch 45/50\n",
            "60000/60000 [==============================] - 4s 72us/step - loss: 0.1069 - val_loss: 0.1050\n",
            "Epoch 46/50\n",
            "60000/60000 [==============================] - 4s 72us/step - loss: 0.1064 - val_loss: 0.1046\n",
            "Epoch 47/50\n",
            "60000/60000 [==============================] - 4s 70us/step - loss: 0.1060 - val_loss: 0.1042\n",
            "Epoch 48/50\n",
            "60000/60000 [==============================] - 4s 71us/step - loss: 0.1056 - val_loss: 0.1038\n",
            "Epoch 49/50\n",
            "60000/60000 [==============================] - 4s 70us/step - loss: 0.1052 - val_loss: 0.1034\n",
            "Epoch 50/50\n",
            "60000/60000 [==============================] - 4s 71us/step - loss: 0.1048 - val_loss: 0.1030\n"
          ],
          "name": "stdout"
        },
        {
          "output_type": "execute_result",
          "data": {
            "text/plain": [
              "<keras.callbacks.History at 0x7ff1eb46a358>"
            ]
          },
          "metadata": {
            "tags": []
          },
          "execution_count": 8
        }
      ]
    },
    {
      "metadata": {
        "id": "4xtXHpjCPe1n",
        "colab_type": "code",
        "colab": {}
      },
      "cell_type": "code",
      "source": [
        "# encode and decode some digits\n",
        "# note that we take them from the *test* set\n",
        "encoded_imgs = encoder.predict(x_test)\n",
        "decoded_imgs = decoder.predict(encoded_imgs)"
      ],
      "execution_count": 0,
      "outputs": []
    },
    {
      "metadata": {
        "id": "4oVuvNsSRkOc",
        "colab_type": "code",
        "colab": {
          "base_uri": "https://localhost:8080/",
          "height": 244
        },
        "outputId": "ae4881a4-bf25-467a-f3d8-3253bfe51d01"
      },
      "cell_type": "code",
      "source": [
        "# use Matplotlib (don't ask)\n",
        "import matplotlib.pyplot as plt\n",
        "\n",
        "n = 10  # how many digits we will display\n",
        "plt.figure(figsize=(20, 4))\n",
        "for i in range(n):\n",
        "    # display original\n",
        "    ax = plt.subplot(2, n, i + 1)\n",
        "    plt.imshow(x_test[i].reshape(28, 28))\n",
        "    plt.gray()\n",
        "    ax.get_xaxis().set_visible(False)\n",
        "    ax.get_yaxis().set_visible(False)\n",
        "\n",
        "    # display reconstruction\n",
        "    ax = plt.subplot(2, n, i + 1 + n)\n",
        "    plt.imshow(decoded_imgs[i].reshape(28, 28))\n",
        "    plt.gray()\n",
        "    ax.get_xaxis().set_visible(False)\n",
        "    ax.get_yaxis().set_visible(False)\n",
        "plt.show()"
      ],
      "execution_count": 10,
      "outputs": [
        {
          "output_type": "display_data",
          "data": {
            "image/png": "[encoded data removed]",
            "text/plain": [
              "<Figure size 1440x288 with 20 Axes>"
            ]
          },
          "metadata": {
            "tags": []
          }
        }
      ]
    }
  ]
}