{
  "nbformat": 4,
  "nbformat_minor": 0,
  "metadata": {
    "colab": {
      "name": "day_041_gradient_descent_with_tensorflow.ipynb",
      "version": "0.3.2",
      "provenance": [],
      "collapsed_sections": [],
      "include_colab_link": true
    },
    "kernelspec": {
      "name": "python3",
      "display_name": "Python 3"
    }
  },
  "cells": [
    {
      "cell_type": "markdown",
      "metadata": {
        "id": "view-in-github",
        "colab_type": "text"
      },
      "source": [
        "<a href=\"https://colab.research.google.com/github/rkrissada/100DayOfMLCode/blob/master/day_041_gradient_descent_with_tensorflow.ipynb\" target=\"_parent\"><img src=\"https://colab.research.google.com/assets/colab-badge.svg\" alt=\"Open In Colab\"/></a>"
      ]
    },
    {
      "metadata": {
        "id": "jTE3dS7wTox0",
        "colab_type": "code",
        "colab": {
          "base_uri": "https://localhost:8080/",
          "height": 326
        },
        "outputId": "3a9ad8d6-a884-44ff-e55c-391eb06331c4"
      },
      "cell_type": "code",
      "source": [
        "import tensorflow as tf\n",
        "\n",
        "x = tf.Variable(2, name='x', dtype=tf.float32)\n",
        "log_x = tf.log(x)\n",
        "log_x_squared = tf.square(log_x)\n",
        "\n",
        "optimizer = tf.train.GradientDescentOptimizer(0.5)\n",
        "train = optimizer.minimize(log_x_squared)\n",
        "\n",
        "init = tf.initialize_all_variables()\n",
        "\n",
        "def optimize():\n",
        "  with tf.Session() as session:\n",
        "    session.run(init)\n",
        "    print(\"starting at\", \"x:\", session.run(x), \"log(x)^2:\", session.run(log_x_squared))\n",
        "    for step in range(10):  \n",
        "      session.run(train)\n",
        "      print(\"step\", step, \"x:\", session.run(x), \"log(x)^2:\", session.run(log_x_squared))\n",
        "        \n",
        "\n",
        "optimize()"
      ],
      "execution_count": 1,
      "outputs": [
        {
          "output_type": "stream",
          "text": [
            "WARNING:tensorflow:From /usr/local/lib/python3.6/dist-packages/tensorflow/python/framework/op_def_library.py:263: colocate_with (from tensorflow.python.framework.ops) is deprecated and will be removed in a future version.\n",
            "Instructions for updating:\n",
            "Colocations handled automatically by placer.\n",
            "WARNING:tensorflow:From /usr/local/lib/python3.6/dist-packages/tensorflow/python/util/tf_should_use.py:193: initialize_all_variables (from tensorflow.python.ops.variables) is deprecated and will be removed after 2017-03-02.\n",
            "Instructions for updating:\n",
            "Use `tf.global_variables_initializer` instead.\n",
            "starting at x: 2.0 log(x)^2: 0.480453\n",
            "step 0 x: 1.6534264 log(x)^2: 0.25285786\n",
            "step 1 x: 1.3493005 log(x)^2: 0.08975197\n",
            "step 2 x: 1.1272696 log(x)^2: 0.014351669\n",
            "step 3 x: 1.0209966 log(x)^2: 0.0004317744\n",
            "step 4 x: 1.0006447 log(x)^2: 4.1534943e-07\n",
            "step 5 x: 1.0000006 log(x)^2: 3.5527118e-13\n",
            "step 6 x: 1.0 log(x)^2: 0.0\n",
            "step 7 x: 1.0 log(x)^2: 0.0\n",
            "step 8 x: 1.0 log(x)^2: 0.0\n",
            "step 9 x: 1.0 log(x)^2: 0.0\n"
          ],
          "name": "stdout"
        }
      ]
    }
  ]
}