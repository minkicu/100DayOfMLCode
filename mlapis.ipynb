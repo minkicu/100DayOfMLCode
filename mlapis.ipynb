{
  "nbformat": 4,
  "nbformat_minor": 0,
  "metadata": {
    "colab": {
      "name": "mlapis.ipynb",
      "version": "0.3.2",
      "provenance": [],
      "include_colab_link": true
    },
    "language_info": {
      "codemirror_mode": {
        "name": "ipython",
        "version": 3
      },
      "file_extension": ".py",
      "mimetype": "text/x-python",
      "name": "python",
      "nbconvert_exporter": "python",
      "pygments_lexer": "ipython3",
      "version": "3.5.6"
    },
    "kernelspec": {
      "display_name": "Python 3",
      "language": "python",
      "name": "python3"
    }
  },
  "cells": [
    {
      "cell_type": "markdown",
      "metadata": {
        "id": "view-in-github",
        "colab_type": "text"
      },
      "source": [
        "<a href=\"https://colab.research.google.com/github/rkrissada/100DayOfMLCode/blob/master/mlapis.ipynb\" target=\"_parent\"><img src=\"https://colab.research.google.com/assets/colab-badge.svg\" alt=\"Open In Colab\"/></a>"
      ]
    },
    {
      "metadata": {
        "id": "yK1R4D9CEP-e",
        "colab_type": "text"
      },
      "cell_type": "markdown",
      "source": [
        "<h1> Using Machine Learning APIs </h1>\n",
        "\n",
        "First, visit <a href=\"http://console.cloud.google.com/apis\">API console</a>, choose \"Credentials\" on the left-hand menu.  Choose \"Create Credentials\" and generate an API key for your application. You should probably restrict it by IP address to prevent abuse, but for now, just  leave that field blank and delete the API key after trying out this demo.\n",
        "\n",
        "Copy-paste your API Key here:"
      ]
    },
    {
      "metadata": {
        "id": "lFhVcN6EEP-f",
        "colab_type": "code",
        "colab": {}
      },
      "cell_type": "code",
      "source": [
        "APIKEY=\"API Key\"  # Replace with your API key"
      ],
      "execution_count": 0,
      "outputs": []
    },
    {
      "metadata": {
        "id": "TbCMcTrfEP-i",
        "colab_type": "text"
      },
      "cell_type": "markdown",
      "source": [
        "<b> Note: Make sure you generate an API Key and replace the value above. The sample key will not work.</b>\n",
        "\n",
        "From the same API console, choose \"Dashboard\" on the left-hand menu and \"Enable API\".\n",
        "\n",
        "Enable the following APIs for your project (search for them) if they are not already enabled:\n",
        "<ol>\n",
        "<li> Google Translate API </li>\n",
        "<li> Google Cloud Vision API </li>\n",
        "<li> Google Natural Language API </li>\n",
        "<li> Google Cloud Speech API </li>\n",
        "</ol>\n",
        "\n",
        "Finally, because we are calling the APIs from Python (clients in many other languages are available), let's install the Python package (it's not installed by default on Datalab)"
      ]
    },
    {
      "metadata": {
        "id": "l9EW6Pv1EP-j",
        "colab_type": "code",
        "colab": {},
        "outputId": "23740bde-ce3c-4dd1-d70a-eb95ae7d2596"
      },
      "cell_type": "code",
      "source": [
        "!pip install --upgrade google-api-python-client"
      ],
      "execution_count": 0,
      "outputs": [
        {
          "output_type": "stream",
          "text": [
            "Requirement already up-to-date: google-api-python-client in /usr/local/envs/py3env/lib/python3.5/site-packages (1.7.8)\r\n",
            "Requirement already satisfied, skipping upgrade: uritemplate<4dev,>=3.0.0 in /usr/local/envs/py3env/lib/python3.5/site-packages (from google-api-python-client) (3.0.0)\r\n",
            "Requirement already satisfied, skipping upgrade: six<2dev,>=1.6.1 in /usr/local/envs/py3env/lib/python3.5/site-packages (from google-api-python-client) (1.10.0)\r\n",
            "Requirement already satisfied, skipping upgrade: google-auth-httplib2>=0.0.3 in /usr/local/envs/py3env/lib/python3.5/site-packages (from google-api-python-client) (0.0.3)\r\n",
            "Requirement already satisfied, skipping upgrade: google-auth>=1.4.1 in /usr/local/envs/py3env/lib/python3.5/site-packages (from google-api-python-client) (1.6.2)\r\n",
            "Requirement already satisfied, skipping upgrade: httplib2<1dev,>=0.9.2 in /usr/local/envs/py3env/lib/python3.5/site-packages (from google-api-python-client) (0.10.3)\r\n",
            "Requirement already satisfied, skipping upgrade: cachetools>=2.0.0 in /usr/local/envs/py3env/lib/python3.5/site-packages (from google-auth>=1.4.1->google-api-python-client) (2.1.0)\r\n",
            "Requirement already satisfied, skipping upgrade: rsa>=3.1.4 in /usr/local/envs/py3env/lib/python3.5/site-packages (from google-auth>=1.4.1->google-api-python-client) (3.4.2)\r\n",
            "Requirement already satisfied, skipping upgrade: pyasn1-modules>=0.2.1 in /usr/local/envs/py3env/lib/python3.5/site-packages (from google-auth>=1.4.1->google-api-python-client) (0.2.2)\r\n",
            "Requirement already satisfied, skipping upgrade: pyasn1>=0.1.3 in /usr/local/envs/py3env/lib/python3.5/site-packages (from rsa>=3.1.4->google-auth>=1.4.1->google-api-python-client) (0.4.4)\r\n"
          ],
          "name": "stdout"
        }
      ]
    },
    {
      "metadata": {
        "id": "Lkq-dGliEP-n",
        "colab_type": "text"
      },
      "cell_type": "markdown",
      "source": [
        "<h2> Invoke Translate API </h2>"
      ]
    },
    {
      "metadata": {
        "id": "BbF-3l8BEP-o",
        "colab_type": "code",
        "colab": {},
        "outputId": "56f3c054-c285-43cd-d0c9-3a1488c74718"
      },
      "cell_type": "code",
      "source": [
        "# running Translate API\n",
        "from googleapiclient.discovery import build\n",
        "service = build('translate', 'v2', developerKey=APIKEY)\n",
        "\n",
        "# use the service\n",
        "inputs = ['is it really this easy?', 'amazing technology', 'wow']\n",
        "outputs = service.translations().list(source='en', target='fr', q=inputs).execute()\n",
        "# print outputs\n",
        "for input, output in zip(inputs, outputs['translations']):\n",
        "  print(\"{0} -> {1}\".format(input, output['translatedText']))"
      ],
      "execution_count": 0,
      "outputs": [
        {
          "output_type": "stream",
          "text": [
            "is it really this easy? -> est-ce vraiment si facile?\n",
            "amazing technology -> technologie incroyable\n",
            "wow -> sensationnel\n"
          ],
          "name": "stdout"
        }
      ]
    },
    {
      "metadata": {
        "id": "c-14vsOFEP-r",
        "colab_type": "text"
      },
      "cell_type": "markdown",
      "source": [
        "<h2> Invoke Vision API </h2>\n",
        "\n",
        "The Vision API can work off an image in Cloud Storage or embedded directly into a POST message. I'll use Cloud Storage and do OCR on this image: <img src=\"https://storage.googleapis.com/cloud-training-demos/vision/sign2.jpg\" width=\"200\" />.  That photograph is from http://www.publicdomainpictures.net/view-image.php?image=15842\n"
      ]
    },
    {
      "metadata": {
        "id": "7f4wl_S-EP-s",
        "colab_type": "code",
        "colab": {},
        "outputId": "4f6adfc3-b495-4370-d72a-f7d770cd1178"
      },
      "cell_type": "code",
      "source": [
        "# Running Vision API\n",
        "import base64\n",
        "IMAGE=\"gs://cloud-training-demos/vision/sign2.jpg\"\n",
        "vservice = build('vision', 'v1', developerKey=APIKEY)\n",
        "request = vservice.images().annotate(body={\n",
        "        'requests': [{\n",
        "                'image': {\n",
        "                    'source': {\n",
        "                        'gcs_image_uri': IMAGE\n",
        "                    }\n",
        "                },\n",
        "                'features': [{\n",
        "                    'type': 'TEXT_DETECTION',\n",
        "                    'maxResults': 3,\n",
        "                }]\n",
        "            }],\n",
        "        })\n",
        "responses = request.execute(num_retries=3)\n",
        "print(responses)"
      ],
      "execution_count": 0,
      "outputs": [
        {
          "output_type": "stream",
          "text": [
            "{'responses': [{'textAnnotations': [{'boundingPoly': {'vertices': [{'y': 104, 'x': 152}, {'y': 104, 'x': 1082}, {'y': 658, 'x': 1082}, {'y': 658, 'x': 152}]}, 'locale': 'zh', 'description': '请您爱护和保\\n护卫生创建优\\n美水环境\\n'}, {'boundingPoly': {'vertices': [{'y': 104, 'x': 179}, {'y': 104, 'x': 321}, {'y': 243, 'x': 321}, {'y': 243, 'x': 179}]}, 'description': '请'}, {'boundingPoly': {'vertices': [{'y': 108, 'x': 329}, {'y': 108, 'x': 471}, {'y': 243, 'x': 471}, {'y': 243, 'x': 329}]}, 'description': '您'}, {'boundingPoly': {'vertices': [{'y': 108, 'x': 479}, {'y': 108, 'x': 775}, {'y': 243, 'x': 775}, {'y': 243, 'x': 479}]}, 'description': '爱护'}, {'boundingPoly': {'vertices': [{'y': 111, 'x': 786}, {'y': 111, 'x': 925}, {'y': 243, 'x': 925}, {'y': 243, 'x': 786}]}, 'description': '和'}, {'boundingPoly': {'vertices': [{'y': 104, 'x': 933}, {'y': 104, 'x': 1079}, {'y': 239, 'x': 1079}, {'y': 239, 'x': 933}]}, 'description': '保'}, {'boundingPoly': {'vertices': [{'y': 300, 'x': 165}, {'y': 300, 'x': 312}, {'y': 440, 'x': 312}, {'y': 440, 'x': 165}]}, 'description': '护'}, {'boundingPoly': {'vertices': [{'y': 304, 'x': 316}, {'y': 304, 'x': 619}, {'y': 440, 'x': 619}, {'y': 440, 'x': 316}]}, 'description': '卫生'}, {'boundingPoly': {'vertices': [{'y': 304, 'x': 631}, {'y': 304, 'x': 930}, {'y': 444, 'x': 930}, {'y': 444, 'x': 631}]}, 'description': '创建'}, {'boundingPoly': {'vertices': [{'y': 300, 'x': 938}, {'y': 300, 'x': 1082}, {'y': 440, 'x': 1082}, {'y': 440, 'x': 938}]}, 'description': '优'}, {'boundingPoly': {'vertices': [{'y': 503, 'x': 158}, {'y': 509, 'x': 304}, {'y': 655, 'x': 297}, {'y': 649, 'x': 152}]}, 'description': '美'}, {'boundingPoly': {'vertices': [{'y': 501, 'x': 313}, {'y': 508, 'x': 464}, {'y': 653, 'x': 457}, {'y': 647, 'x': 307}]}, 'description': '水'}, {'boundingPoly': {'vertices': [{'y': 499, 'x': 466}, {'y': 512, 'x': 772}, {'y': 658, 'x': 765}, {'y': 645, 'x': 460}]}, 'description': '环境'}], 'fullTextAnnotation': {'pages': [{'property': {'detectedLanguages': [{'languageCode': 'zh-Hans'}]}, 'blocks': [{'property': {'detectedLanguages': [{'languageCode': 'zh-Hans'}]}, 'blockType': 'TEXT', 'paragraphs': [{'property': {'detectedLanguages': [{'languageCode': 'zh-Hans'}]}, 'words': [{'property': {'detectedLanguages': [{'languageCode': 'zh-Hans'}]}, 'symbols': [{'property': {'detectedLanguages': [{'languageCode': 'zh-Hans'}]}, 'text': '请', 'boundingBox': {'vertices': [{'y': 104, 'x': 179}, {'y': 104, 'x': 321}, {'y': 243, 'x': 321}, {'y': 243, 'x': 179}]}}], 'boundingBox': {'vertices': [{'y': 104, 'x': 179}, {'y': 104, 'x': 321}, {'y': 243, 'x': 321}, {'y': 243, 'x': 179}]}}, {'property': {'detectedLanguages': [{'languageCode': 'zh-Hans'}]}, 'symbols': [{'property': {'detectedLanguages': [{'languageCode': 'zh-Hans'}]}, 'text': '您', 'boundingBox': {'vertices': [{'y': 108, 'x': 329}, {'y': 108, 'x': 471}, {'y': 243, 'x': 471}, {'y': 243, 'x': 329}]}}], 'boundingBox': {'vertices': [{'y': 108, 'x': 329}, {'y': 108, 'x': 471}, {'y': 243, 'x': 471}, {'y': 243, 'x': 329}]}}, {'property': {'detectedLanguages': [{'languageCode': 'zh-Hans'}]}, 'symbols': [{'property': {'detectedLanguages': [{'languageCode': 'zh-Hans'}]}, 'text': '爱', 'boundingBox': {'vertices': [{'y': 108, 'x': 479}, {'y': 108, 'x': 621}, {'y': 243, 'x': 621}, {'y': 243, 'x': 479}]}}, {'property': {'detectedLanguages': [{'languageCode': 'zh-Hans'}]}, 'text': '护', 'boundingBox': {'vertices': [{'y': 108, 'x': 633}, {'y': 108, 'x': 775}, {'y': 243, 'x': 775}, {'y': 243, 'x': 633}]}}], 'boundingBox': {'vertices': [{'y': 108, 'x': 479}, {'y': 108, 'x': 775}, {'y': 243, 'x': 775}, {'y': 243, 'x': 479}]}}, {'property': {'detectedLanguages': [{'languageCode': 'zh-Hans'}]}, 'symbols': [{'property': {'detectedLanguages': [{'languageCode': 'zh-Hans'}]}, 'text': '和', 'boundingBox': {'vertices': [{'y': 111, 'x': 786}, {'y': 111, 'x': 925}, {'y': 243, 'x': 925}, {'y': 243, 'x': 786}]}}], 'boundingBox': {'vertices': [{'y': 111, 'x': 786}, {'y': 111, 'x': 925}, {'y': 243, 'x': 925}, {'y': 243, 'x': 786}]}}, {'property': {'detectedLanguages': [{'languageCode': 'ja'}]}, 'symbols': [{'property': {'detectedBreak': {'type': 'EOL_SURE_SPACE'}, 'detectedLanguages': [{'languageCode': 'zh-Hans'}]}, 'text': '保', 'boundingBox': {'vertices': [{'y': 104, 'x': 933}, {'y': 104, 'x': 1079}, {'y': 239, 'x': 1079}, {'y': 239, 'x': 933}]}}], 'boundingBox': {'vertices': [{'y': 104, 'x': 933}, {'y': 104, 'x': 1079}, {'y': 239, 'x': 1079}, {'y': 239, 'x': 933}]}}, {'property': {'detectedLanguages': [{'languageCode': 'zh-Hans'}]}, 'symbols': [{'property': {'detectedLanguages': [{'languageCode': 'zh-Hans'}]}, 'text': '护', 'boundingBox': {'vertices': [{'y': 300, 'x': 165}, {'y': 300, 'x': 312}, {'y': 440, 'x': 312}, {'y': 440, 'x': 165}]}}], 'boundingBox': {'vertices': [{'y': 300, 'x': 165}, {'y': 300, 'x': 312}, {'y': 440, 'x': 312}, {'y': 440, 'x': 165}]}}, {'property': {'detectedLanguages': [{'languageCode': 'zh-Hans'}]}, 'symbols': [{'property': {'detectedLanguages': [{'languageCode': 'zh-Hans'}]}, 'text': '卫', 'boundingBox': {'vertices': [{'y': 311, 'x': 316}, {'y': 311, 'x': 460}, {'y': 436, 'x': 460}, {'y': 436, 'x': 316}]}}, {'property': {'detectedLanguages': [{'languageCode': 'zh-Hans'}]}, 'text': '生', 'boundingBox': {'vertices': [{'y': 304, 'x': 472}, {'y': 304, 'x': 619}, {'y': 440, 'x': 619}, {'y': 440, 'x': 472}]}}], 'boundingBox': {'vertices': [{'y': 304, 'x': 316}, {'y': 304, 'x': 619}, {'y': 440, 'x': 619}, {'y': 440, 'x': 316}]}}, {'property': {'detectedLanguages': [{'languageCode': 'zh-Hans'}]}, 'symbols': [{'property': {'detectedLanguages': [{'languageCode': 'zh-Hans'}]}, 'text': '创', 'boundingBox': {'vertices': [{'y': 304, 'x': 631}, {'y': 304, 'x': 771}, {'y': 444, 'x': 771}, {'y': 444, 'x': 631}]}}, {'property': {'detectedLanguages': [{'languageCode': 'zh-Hans'}]}, 'text': '建', 'boundingBox': {'vertices': [{'y': 308, 'x': 786}, {'y': 308, 'x': 930}, {'y': 444, 'x': 930}, {'y': 444, 'x': 786}]}}], 'boundingBox': {'vertices': [{'y': 304, 'x': 631}, {'y': 304, 'x': 930}, {'y': 444, 'x': 930}, {'y': 444, 'x': 631}]}}, {'property': {'detectedLanguages': [{'languageCode': 'zh-Hans'}]}, 'symbols': [{'property': {'detectedBreak': {'type': 'EOL_SURE_SPACE'}, 'detectedLanguages': [{'languageCode': 'zh-Hans'}]}, 'text': '优', 'boundingBox': {'vertices': [{'y': 300, 'x': 938}, {'y': 300, 'x': 1082}, {'y': 440, 'x': 1082}, {'y': 440, 'x': 938}]}}], 'boundingBox': {'vertices': [{'y': 300, 'x': 938}, {'y': 300, 'x': 1082}, {'y': 440, 'x': 1082}, {'y': 440, 'x': 938}]}}, {'property': {'detectedLanguages': [{'languageCode': 'zh-Hans'}]}, 'symbols': [{'property': {'detectedLanguages': [{'languageCode': 'zh-Hans'}]}, 'text': '美', 'boundingBox': {'vertices': [{'y': 503, 'x': 158}, {'y': 509, 'x': 304}, {'y': 655, 'x': 297}, {'y': 649, 'x': 152}]}}], 'boundingBox': {'vertices': [{'y': 503, 'x': 158}, {'y': 509, 'x': 304}, {'y': 655, 'x': 297}, {'y': 649, 'x': 152}]}}, {'property': {'detectedLanguages': [{'languageCode': 'ja'}]}, 'symbols': [{'property': {'detectedLanguages': [{'languageCode': 'zh-Hans'}]}, 'text': '水', 'boundingBox': {'vertices': [{'y': 501, 'x': 313}, {'y': 508, 'x': 464}, {'y': 653, 'x': 457}, {'y': 647, 'x': 307}]}}], 'boundingBox': {'vertices': [{'y': 501, 'x': 313}, {'y': 508, 'x': 464}, {'y': 653, 'x': 457}, {'y': 647, 'x': 307}]}}, {'property': {'detectedLanguages': [{'languageCode': 'zh-Hans'}]}, 'symbols': [{'property': {'detectedLanguages': [{'languageCode': 'zh-Hans'}]}, 'text': '环', 'boundingBox': {'vertices': [{'y': 503, 'x': 465}, {'y': 510, 'x': 623}, {'y': 652, 'x': 617}, {'y': 645, 'x': 459}]}}, {'property': {'detectedBreak': {'type': 'EOL_SURE_SPACE'}, 'detectedLanguages': [{'languageCode': 'zh-Hans'}]}, 'text': '境', 'boundingBox': {'vertices': [{'y': 506, 'x': 620}, {'y': 513, 'x': 771}, {'y': 658, 'x': 764}, {'y': 652, 'x': 614}]}}], 'boundingBox': {'vertices': [{'y': 499, 'x': 466}, {'y': 512, 'x': 772}, {'y': 658, 'x': 765}, {'y': 645, 'x': 460}]}}], 'boundingBox': {'vertices': [{'y': 104, 'x': 152}, {'y': 104, 'x': 1082}, {'y': 658, 'x': 1082}, {'y': 658, 'x': 152}]}}], 'boundingBox': {'vertices': [{'y': 104, 'x': 152}, {'y': 104, 'x': 1082}, {'y': 658, 'x': 1082}, {'y': 658, 'x': 152}]}}], 'width': 1280, 'height': 818}], 'text': '请您爱护和保\\n护卫生创建优\\n美水环境\\n'}}]}\n"
          ],
          "name": "stdout"
        }
      ]
    },
    {
      "metadata": {
        "id": "ur44eBOZEP-u",
        "colab_type": "code",
        "colab": {},
        "outputId": "3ec99586-9809-419f-b5b6-abb2e3cbb870"
      },
      "cell_type": "code",
      "source": [
        "foreigntext = responses['responses'][0]['textAnnotations'][0]['description']\n",
        "foreignlang = responses['responses'][0]['textAnnotations'][0]['locale']\n",
        "print(foreignlang, foreigntext)"
      ],
      "execution_count": 0,
      "outputs": [
        {
          "output_type": "stream",
          "text": [
            "zh 请您爱护和保\n",
            "护卫生创建优\n",
            "美水环境\n",
            "\n"
          ],
          "name": "stdout"
        }
      ]
    },
    {
      "metadata": {
        "id": "TcTP08I6EP-x",
        "colab_type": "text"
      },
      "cell_type": "markdown",
      "source": [
        "<h2> Translate sign </h2>"
      ]
    },
    {
      "metadata": {
        "id": "12MuW1bZEP-y",
        "colab_type": "code",
        "colab": {},
        "outputId": "0ea7557d-4419-44dd-ad14-496d7e0c826e"
      },
      "cell_type": "code",
      "source": [
        "inputs=[foreigntext]\n",
        "outputs = service.translations().list(source=foreignlang, target='en', q=inputs).execute()\n",
        "# print(outputs)\n",
        "for input, output in zip(inputs, outputs['translations']):\n",
        "  print(\"{0} -> {1}\".format(input, output['translatedText']))"
      ],
      "execution_count": 0,
      "outputs": [
        {
          "output_type": "stream",
          "text": [
            "请您爱护和保\n",
            "护卫生创建优\n",
            "美水环境\n",
            " -> Please protect and protect the health to create a beautiful water environment\n"
          ],
          "name": "stdout"
        }
      ]
    },
    {
      "metadata": {
        "id": "TRC9uCEtEP-1",
        "colab_type": "text"
      },
      "cell_type": "markdown",
      "source": [
        "<h2> Sentiment analysis with Language API </h2>\n",
        "\n",
        "Let's evaluate the sentiment of some famous quotes using Google Cloud Natural Language API."
      ]
    },
    {
      "metadata": {
        "id": "VzgC3enREP-1",
        "colab_type": "code",
        "colab": {},
        "outputId": "8f71c093-3017-4e77-c5e9-47f70511e73b"
      },
      "cell_type": "code",
      "source": [
        "lservice = build('language', 'v1beta1', developerKey=APIKEY)\n",
        "quotes = [\n",
        "  'To succeed, you must have tremendous perseverance, tremendous will.',\n",
        "  'It’s not that I’m so smart, it’s just that I stay with problems longer.',\n",
        "  'Love is quivering happiness.',\n",
        "  'Love is of all passions the strongest, for it attacks simultaneously the head, the heart, and the senses.',\n",
        "  'What difference does it make to the dead, the orphans and the homeless, whether the mad destruction is wrought under the name of totalitarianism or in the holy name of liberty or democracy?',\n",
        "  'When someone you love dies, and you’re not expecting it, you don’t lose her all at once; you lose her in pieces over a long time — the way the mail stops coming, and her scent fades from the pillows and even from the clothes in her closet and drawers. '\n",
        "]\n",
        "for quote in quotes:\n",
        "  response = lservice.documents().analyzeSentiment(\n",
        "    body={\n",
        "      'document': {\n",
        "         'type': 'PLAIN_TEXT',\n",
        "         'content': quote\n",
        "      }\n",
        "    }).execute()\n",
        "  polarity = response['documentSentiment']['polarity']\n",
        "  magnitude = response['documentSentiment']['magnitude']\n",
        "  print('POLARITY=%s MAGNITUDE=%s for %s' % (polarity, magnitude, quote))"
      ],
      "execution_count": 0,
      "outputs": [
        {
          "output_type": "stream",
          "text": [
            "POLARITY=1 MAGNITUDE=0.9 for To succeed, you must have tremendous perseverance, tremendous will.\n",
            "POLARITY=-1 MAGNITUDE=0.5 for It’s not that I’m so smart, it’s just that I stay with problems longer.\n",
            "POLARITY=1 MAGNITUDE=0.9 for Love is quivering happiness.\n",
            "POLARITY=1 MAGNITUDE=0.9 for Love is of all passions the strongest, for it attacks simultaneously the head, the heart, and the senses.\n",
            "POLARITY=1 MAGNITUDE=0.2 for What difference does it make to the dead, the orphans and the homeless, whether the mad destruction is wrought under the name of totalitarianism or in the holy name of liberty or democracy?\n",
            "POLARITY=-1 MAGNITUDE=0.4 for When someone you love dies, and you’re not expecting it, you don’t lose her all at once; you lose her in pieces over a long time — the way the mail stops coming, and her scent fades from the pillows and even from the clothes in her closet and drawers. \n"
          ],
          "name": "stdout"
        }
      ]
    },
    {
      "metadata": {
        "id": "F1inYWG1EP-5",
        "colab_type": "text"
      },
      "cell_type": "markdown",
      "source": [
        "<h2> Speech API </h2>\n",
        "\n",
        "The Speech API can work on streaming data, audio content encoded and embedded directly into the POST message, or on a file on Cloud Storage. Here I'll pass in this <a href=\"https://storage.googleapis.com/cloud-training-demos/vision/audio.raw\">audio file</a> in Cloud Storage."
      ]
    },
    {
      "metadata": {
        "id": "LCwtn56NEP-6",
        "colab_type": "code",
        "colab": {},
        "outputId": "94c04966-af1f-4fe6-eb1e-0b148b19e3bb"
      },
      "cell_type": "code",
      "source": [
        "sservice = build('speech', 'v1', developerKey=APIKEY)\n",
        "response = sservice.speech().recognize(\n",
        "    body={\n",
        "        'config': {\n",
        "            'languageCode' : 'en-US',\n",
        "            'encoding': 'LINEAR16',\n",
        "            'sampleRateHertz': 16000\n",
        "        },\n",
        "        'audio': {\n",
        "            'uri': 'gs://cloud-training-demos/vision/audio.raw'\n",
        "            }\n",
        "        }).execute()\n",
        "print(response)"
      ],
      "execution_count": 0,
      "outputs": [
        {
          "output_type": "stream",
          "text": [
            "{'results': [{'alternatives': [{'confidence': 0.9835046, 'transcript': 'how old is the Brooklyn Bridge'}]}]}\n"
          ],
          "name": "stdout"
        }
      ]
    },
    {
      "metadata": {
        "id": "z8R9sBzNEP-9",
        "colab_type": "code",
        "colab": {},
        "outputId": "0a3de461-ef1f-451e-f16b-7a81312a5473"
      },
      "cell_type": "code",
      "source": [
        "print(response['results'][0]['alternatives'][0]['transcript'])\n",
        "print('Confidence=%f' % response['results'][0]['alternatives'][0]['confidence'])"
      ],
      "execution_count": 0,
      "outputs": [
        {
          "output_type": "stream",
          "text": [
            "how old is the Brooklyn Bridge\n",
            "Confidence=0.983505\n"
          ],
          "name": "stdout"
        }
      ]
    },
    {
      "metadata": {
        "id": "C-zTtWqVEP_A",
        "colab_type": "text"
      },
      "cell_type": "markdown",
      "source": [
        "<h2> Clean up </h2>\n",
        "\n",
        "Remember to delete the API key by visiting <a href=\"http://console.cloud.google.com/apis\">API console</a>.\n",
        "\n",
        "If necessary, commit all your notebooks to git.\n",
        "\n",
        "If you are running Datalab on a Compute Engine VM or delegating to one, remember to stop or shut it down so that you are not charged.\n"
      ]
    },
    {
      "metadata": {
        "id": "mipOMJ4WEP_A",
        "colab_type": "text"
      },
      "cell_type": "markdown",
      "source": [
        "## Challenge Exercise\n",
        "\n",
        "Here are a few portraits from the Metropolitan Museum of Art, New York (they are part of a [BigQuery public dataset](https://bigquery.cloud.google.com/dataset/bigquery-public-data:the_met) ):\n",
        "\n",
        "* gs://cloud-training-demos/images/met/APS6880.jpg\n",
        "* gs://cloud-training-demos/images/met/DP205018.jpg\n",
        "* gs://cloud-training-demos/images/met/DP290402.jpg\n",
        "* gs://cloud-training-demos/images/met/DP700302.jpg\n",
        "\n",
        "Use the Vision API to identify which of these images depict happy people and which ones depict unhappy people.\n",
        "\n",
        "Hint (highlight to see): <p style=\"color:white\">You will need to look for joyLikelihood and/or sorrowLikelihood from the response.</p>"
      ]
    },
    {
      "metadata": {
        "id": "KgcnjDyqEP_B",
        "colab_type": "code",
        "colab": {},
        "outputId": "36df9bac-0081-457b-93e3-d660a2c855cb"
      },
      "cell_type": "code",
      "source": [
        "import base64\n",
        "IMAGE=\"gs://cloud-training-demos/images/met/APS6880.jpg\"\n",
        "vservice = build('vision', 'v1', developerKey=APIKEY)\n",
        "request = vservice.images().annotate(body={\n",
        "        'requests': [{\n",
        "                'image': {\n",
        "                    'source': {\n",
        "                        'gcs_image_uri': IMAGE\n",
        "                    }\n",
        "                },\n",
        "                'features': [{\n",
        "                    'type': 'TEXT_DETECTION',\n",
        "                    'maxResults': 3,\n",
        "                }]\n",
        "            }],\n",
        "        })\n",
        "responses = request.execute(num_retries=3)\n",
        "print(responses)"
      ],
      "execution_count": 0,
      "outputs": [
        {
          "output_type": "stream",
          "text": [
            "{'responses': [{}]}\n"
          ],
          "name": "stdout"
        }
      ]
    },
    {
      "metadata": {
        "id": "D-XpUHW6EP_E",
        "colab_type": "code",
        "colab": {},
        "outputId": "90d44863-a4b1-4e1d-e7c4-25461d135455"
      },
      "cell_type": "code",
      "source": [
        "import base64\n",
        "IMAGE=\"gs://cloud-training-demos/images/met/DP205018.jpg\"\n",
        "vservice = build('vision', 'v1', developerKey=APIKEY)\n",
        "request = vservice.images().annotate(body={\n",
        "        'requests': [{\n",
        "                'image': {\n",
        "                    'source': {\n",
        "                        'gcs_image_uri': IMAGE\n",
        "                    }\n",
        "                },\n",
        "                'features': [{\n",
        "                    'type': 'TEXT_DETECTION',\n",
        "                    'maxResults': 3,\n",
        "                }]\n",
        "            }],\n",
        "        })\n",
        "responses = request.execute(num_retries=3)\n",
        "print(responses)"
      ],
      "execution_count": 0,
      "outputs": [
        {
          "output_type": "stream",
          "text": [
            "{'responses': [{'textAnnotations': [{'boundingPoly': {'vertices': [{'y': 3289, 'x': 1062}, {'y': 3289, 'x': 2290}, {'y': 3429, 'x': 2290}, {'y': 3429, 'x': 1062}]}, 'locale': 'en', 'description': 'AN EMBLE M OF A MERICA.\\nLondon:Published Febla8, by Haines & Son,No,Rolls Buildings,Fe\\n'}, {'boundingPoly': {'vertices': [{'y': 3289, 'x': 1062}, {'y': 3289, 'x': 1161}, {'y': 3359, 'x': 1161}, {'y': 3359, 'x': 1062}]}, 'description': 'AN'}, {'boundingPoly': {'vertices': [{'y': 3289, 'x': 1210}, {'y': 3289, 'x': 1534}, {'y': 3359, 'x': 1534}, {'y': 3359, 'x': 1210}]}, 'description': 'EMBLE'}, {'boundingPoly': {'vertices': [{'y': 3289, 'x': 1570}, {'y': 3289, 'x': 1630}, {'y': 3359, 'x': 1630}, {'y': 3359, 'x': 1570}]}, 'description': 'M'}, {'boundingPoly': {'vertices': [{'y': 3289, 'x': 1667}, {'y': 3289, 'x': 1762}, {'y': 3359, 'x': 1762}, {'y': 3359, 'x': 1667}]}, 'description': 'OF'}, {'boundingPoly': {'vertices': [{'y': 3289, 'x': 1810}, {'y': 3289, 'x': 1858}, {'y': 3359, 'x': 1858}, {'y': 3359, 'x': 1810}]}, 'description': 'A'}, {'boundingPoly': {'vertices': [{'y': 3289, 'x': 1882}, {'y': 3289, 'x': 2290}, {'y': 3359, 'x': 2290}, {'y': 3359, 'x': 1882}]}, 'description': 'MERICA.'}, {'boundingPoly': {'vertices': [{'y': 3404, 'x': 1330}, {'y': 3404, 'x': 1494}, {'y': 3429, 'x': 1494}, {'y': 3429, 'x': 1330}]}, 'description': 'London:Published'}, {'boundingPoly': {'vertices': [{'y': 3404, 'x': 1503}, {'y': 3404, 'x': 1600}, {'y': 3429, 'x': 1600}, {'y': 3429, 'x': 1503}]}, 'description': 'Febla8,'}, {'boundingPoly': {'vertices': [{'y': 3404, 'x': 1605}, {'y': 3404, 'x': 1622}, {'y': 3429, 'x': 1622}, {'y': 3429, 'x': 1605}]}, 'description': 'by'}, {'boundingPoly': {'vertices': [{'y': 3404, 'x': 1632}, {'y': 3404, 'x': 1708}, {'y': 3429, 'x': 1708}, {'y': 3429, 'x': 1632}]}, 'description': 'Haines'}, {'boundingPoly': {'vertices': [{'y': 3404, 'x': 1716}, {'y': 3404, 'x': 1725}, {'y': 3429, 'x': 1725}, {'y': 3429, 'x': 1716}]}, 'description': '&'}, {'boundingPoly': {'vertices': [{'y': 3404, 'x': 1734}, {'y': 3404, 'x': 1876}, {'y': 3429, 'x': 1876}, {'y': 3429, 'x': 1734}]}, 'description': 'Son,No,Rolls'}, {'boundingPoly': {'vertices': [{'y': 3404, 'x': 1884}, {'y': 3404, 'x': 1995}, {'y': 3429, 'x': 1995}, {'y': 3429, 'x': 1884}]}, 'description': 'Buildings,Fe'}], 'fullTextAnnotation': {'pages': [{'property': {'detectedLanguages': [{'languageCode': 'en'}]}, 'blocks': [{'property': {'detectedLanguages': [{'languageCode': 'en'}]}, 'blockType': 'TEXT', 'paragraphs': [{'property': {'detectedLanguages': [{'languageCode': 'en'}]}, 'words': [{'property': {'detectedLanguages': [{'languageCode': 'en'}]}, 'symbols': [{'property': {'detectedLanguages': [{'languageCode': 'en'}]}, 'text': 'A', 'boundingBox': {'vertices': [{'y': 3289, 'x': 1062}, {'y': 3289, 'x': 1089}, {'y': 3359, 'x': 1089}, {'y': 3359, 'x': 1062}]}}, {'property': {'detectedBreak': {'type': 'SPACE'}, 'detectedLanguages': [{'languageCode': 'en'}]}, 'text': 'N', 'boundingBox': {'vertices': [{'y': 3289, 'x': 1089}, {'y': 3289, 'x': 1161}, {'y': 3359, 'x': 1161}, {'y': 3359, 'x': 1089}]}}], 'boundingBox': {'vertices': [{'y': 3289, 'x': 1062}, {'y': 3289, 'x': 1161}, {'y': 3359, 'x': 1161}, {'y': 3359, 'x': 1062}]}}, {'property': {'detectedLanguages': [{'languageCode': 'en'}]}, 'symbols': [{'property': {'detectedLanguages': [{'languageCode': 'en'}]}, 'text': 'E', 'boundingBox': {'vertices': [{'y': 3289, 'x': 1210}, {'y': 3289, 'x': 1270}, {'y': 3359, 'x': 1270}, {'y': 3359, 'x': 1210}]}}, {'property': {'detectedLanguages': [{'languageCode': 'en'}]}, 'text': 'M', 'boundingBox': {'vertices': [{'y': 3289, 'x': 1271}, {'y': 3289, 'x': 1366}, {'y': 3359, 'x': 1366}, {'y': 3359, 'x': 1271}]}}, {'property': {'detectedLanguages': [{'languageCode': 'en'}]}, 'text': 'B', 'boundingBox': {'vertices': [{'y': 3289, 'x': 1367}, {'y': 3289, 'x': 1413}, {'y': 3359, 'x': 1413}, {'y': 3359, 'x': 1367}]}}, {'property': {'detectedLanguages': [{'languageCode': 'en'}]}, 'text': 'L', 'boundingBox': {'vertices': [{'y': 3289, 'x': 1414}, {'y': 3289, 'x': 1474}, {'y': 3359, 'x': 1474}, {'y': 3359, 'x': 1414}]}}, {'property': {'detectedBreak': {'type': 'SPACE'}, 'detectedLanguages': [{'languageCode': 'en'}]}, 'text': 'E', 'boundingBox': {'vertices': [{'y': 3289, 'x': 1474}, {'y': 3289, 'x': 1534}, {'y': 3359, 'x': 1534}, {'y': 3359, 'x': 1474}]}}], 'boundingBox': {'vertices': [{'y': 3289, 'x': 1210}, {'y': 3289, 'x': 1534}, {'y': 3359, 'x': 1534}, {'y': 3359, 'x': 1210}]}}, {'property': {'detectedLanguages': [{'languageCode': 'en'}]}, 'symbols': [{'property': {'detectedBreak': {'type': 'SPACE'}, 'detectedLanguages': [{'languageCode': 'en'}]}, 'text': 'M', 'boundingBox': {'vertices': [{'y': 3289, 'x': 1570}, {'y': 3289, 'x': 1630}, {'y': 3359, 'x': 1630}, {'y': 3359, 'x': 1570}]}}], 'boundingBox': {'vertices': [{'y': 3289, 'x': 1570}, {'y': 3289, 'x': 1630}, {'y': 3359, 'x': 1630}, {'y': 3359, 'x': 1570}]}}, {'property': {'detectedLanguages': [{'languageCode': 'en'}]}, 'symbols': [{'property': {'detectedLanguages': [{'languageCode': 'en'}]}, 'text': 'O', 'boundingBox': {'vertices': [{'y': 3289, 'x': 1667}, {'y': 3289, 'x': 1713}, {'y': 3359, 'x': 1713}, {'y': 3359, 'x': 1667}]}}, {'property': {'detectedBreak': {'type': 'SPACE'}, 'detectedLanguages': [{'languageCode': 'en'}]}, 'text': 'F', 'boundingBox': {'vertices': [{'y': 3289, 'x': 1714}, {'y': 3289, 'x': 1762}, {'y': 3359, 'x': 1762}, {'y': 3359, 'x': 1714}]}}], 'boundingBox': {'vertices': [{'y': 3289, 'x': 1667}, {'y': 3289, 'x': 1762}, {'y': 3359, 'x': 1762}, {'y': 3359, 'x': 1667}]}}, {'property': {'detectedLanguages': [{'languageCode': 'en'}]}, 'symbols': [{'property': {'detectedBreak': {'type': 'SPACE'}, 'detectedLanguages': [{'languageCode': 'en'}]}, 'text': 'A', 'boundingBox': {'vertices': [{'y': 3289, 'x': 1810}, {'y': 3289, 'x': 1858}, {'y': 3359, 'x': 1858}, {'y': 3359, 'x': 1810}]}}], 'boundingBox': {'vertices': [{'y': 3289, 'x': 1810}, {'y': 3289, 'x': 1858}, {'y': 3359, 'x': 1858}, {'y': 3359, 'x': 1810}]}}, {'property': {'detectedLanguages': [{'languageCode': 'co'}]}, 'symbols': [{'property': {'detectedLanguages': [{'languageCode': 'en'}]}, 'text': 'M', 'boundingBox': {'vertices': [{'y': 3289, 'x': 1882}, {'y': 3289, 'x': 1942}, {'y': 3359, 'x': 1942}, {'y': 3359, 'x': 1882}]}}, {'property': {'detectedLanguages': [{'languageCode': 'en'}]}, 'text': 'E', 'boundingBox': {'vertices': [{'y': 3289, 'x': 1943}, {'y': 3289, 'x': 2003}, {'y': 3359, 'x': 2003}, {'y': 3359, 'x': 1943}]}}, {'property': {'detectedLanguages': [{'languageCode': 'en'}]}, 'text': 'R', 'boundingBox': {'vertices': [{'y': 3289, 'x': 2003}, {'y': 3289, 'x': 2075}, {'y': 3359, 'x': 2075}, {'y': 3359, 'x': 2003}]}}, {'property': {'detectedLanguages': [{'languageCode': 'en'}]}, 'text': 'I', 'boundingBox': {'vertices': [{'y': 3289, 'x': 2076}, {'y': 3289, 'x': 2122}, {'y': 3359, 'x': 2122}, {'y': 3359, 'x': 2076}]}}, {'property': {'detectedLanguages': [{'languageCode': 'en'}]}, 'text': 'C', 'boundingBox': {'vertices': [{'y': 3289, 'x': 2123}, {'y': 3289, 'x': 2183}, {'y': 3359, 'x': 2183}, {'y': 3359, 'x': 2123}]}}, {'property': {'detectedLanguages': [{'languageCode': 'en'}]}, 'text': 'A', 'boundingBox': {'vertices': [{'y': 3289, 'x': 2183}, {'y': 3289, 'x': 2255}, {'y': 3359, 'x': 2255}, {'y': 3359, 'x': 2183}]}}, {'property': {'detectedBreak': {'type': 'EOL_SURE_SPACE'}, 'detectedLanguages': [{'languageCode': 'en'}]}, 'text': '.', 'boundingBox': {'vertices': [{'y': 3289, 'x': 2255}, {'y': 3289, 'x': 2290}, {'y': 3359, 'x': 2290}, {'y': 3359, 'x': 2255}]}}], 'boundingBox': {'vertices': [{'y': 3289, 'x': 1882}, {'y': 3289, 'x': 2290}, {'y': 3359, 'x': 2290}, {'y': 3359, 'x': 1882}]}}], 'boundingBox': {'vertices': [{'y': 3289, 'x': 1062}, {'y': 3289, 'x': 2290}, {'y': 3359, 'x': 2290}, {'y': 3359, 'x': 1062}]}}], 'boundingBox': {'vertices': [{'y': 3289, 'x': 1062}, {'y': 3289, 'x': 2290}, {'y': 3359, 'x': 2290}, {'y': 3359, 'x': 1062}]}}, {'property': {'detectedLanguages': [{'languageCode': 'en'}]}, 'blockType': 'TEXT', 'paragraphs': [{'property': {'detectedLanguages': [{'languageCode': 'en'}]}, 'words': [{'property': {'detectedLanguages': [{'languageCode': 'en'}]}, 'symbols': [{'property': {'detectedLanguages': [{'languageCode': 'en'}]}, 'text': 'L', 'boundingBox': {'vertices': [{'y': 3404, 'x': 1330}, {'y': 3404, 'x': 1339}, {'y': 3429, 'x': 1339}, {'y': 3429, 'x': 1330}]}}, {'property': {'detectedLanguages': [{'languageCode': 'en'}]}, 'text': 'o', 'boundingBox': {'vertices': [{'y': 3404, 'x': 1339}, {'y': 3404, 'x': 1346}, {'y': 3429, 'x': 1346}, {'y': 3429, 'x': 1339}]}}, {'property': {'detectedLanguages': [{'languageCode': 'en'}]}, 'text': 'n', 'boundingBox': {'vertices': [{'y': 3404, 'x': 1347}, {'y': 3404, 'x': 1360}, {'y': 3429, 'x': 1360}, {'y': 3429, 'x': 1347}]}}, {'property': {'detectedLanguages': [{'languageCode': 'en'}]}, 'text': 'd', 'boundingBox': {'vertices': [{'y': 3404, 'x': 1361}, {'y': 3404, 'x': 1374}, {'y': 3429, 'x': 1374}, {'y': 3429, 'x': 1361}]}}, {'property': {'detectedLanguages': [{'languageCode': 'en'}]}, 'text': 'o', 'boundingBox': {'vertices': [{'y': 3404, 'x': 1374}, {'y': 3404, 'x': 1381}, {'y': 3429, 'x': 1381}, {'y': 3429, 'x': 1374}]}}, {'property': {'detectedLanguages': [{'languageCode': 'en'}]}, 'text': 'n', 'boundingBox': {'vertices': [{'y': 3404, 'x': 1382}, {'y': 3404, 'x': 1393}, {'y': 3429, 'x': 1393}, {'y': 3429, 'x': 1382}]}}, {'property': {'detectedLanguages': [{'languageCode': 'en'}]}, 'text': ':', 'boundingBox': {'vertices': [{'y': 3404, 'x': 1394}, {'y': 3404, 'x': 1403}, {'y': 3429, 'x': 1403}, {'y': 3429, 'x': 1394}]}}, {'property': {'detectedLanguages': [{'languageCode': 'en'}]}, 'text': 'P', 'boundingBox': {'vertices': [{'y': 3404, 'x': 1404}, {'y': 3404, 'x': 1415}, {'y': 3429, 'x': 1415}, {'y': 3429, 'x': 1404}]}}, {'property': {'detectedLanguages': [{'languageCode': 'en'}]}, 'text': 'u', 'boundingBox': {'vertices': [{'y': 3404, 'x': 1416}, {'y': 3404, 'x': 1425}, {'y': 3429, 'x': 1425}, {'y': 3429, 'x': 1416}]}}, {'property': {'detectedLanguages': [{'languageCode': 'en'}]}, 'text': 'b', 'boundingBox': {'vertices': [{'y': 3404, 'x': 1425}, {'y': 3404, 'x': 1432}, {'y': 3429, 'x': 1432}, {'y': 3429, 'x': 1425}]}}, {'property': {'detectedLanguages': [{'languageCode': 'en'}]}, 'text': 'l', 'boundingBox': {'vertices': [{'y': 3404, 'x': 1433}, {'y': 3404, 'x': 1442}, {'y': 3429, 'x': 1442}, {'y': 3429, 'x': 1433}]}}, {'property': {'detectedLanguages': [{'languageCode': 'en'}]}, 'text': 'i', 'boundingBox': {'vertices': [{'y': 3404, 'x': 1443}, {'y': 3404, 'x': 1450}, {'y': 3429, 'x': 1450}, {'y': 3429, 'x': 1443}]}}, {'property': {'detectedLanguages': [{'languageCode': 'en'}]}, 'text': 's', 'boundingBox': {'vertices': [{'y': 3404, 'x': 1451}, {'y': 3404, 'x': 1458}, {'y': 3429, 'x': 1458}, {'y': 3429, 'x': 1451}]}}, {'property': {'detectedLanguages': [{'languageCode': 'en'}]}, 'text': 'h', 'boundingBox': {'vertices': [{'y': 3404, 'x': 1458}, {'y': 3404, 'x': 1471}, {'y': 3429, 'x': 1471}, {'y': 3429, 'x': 1458}]}}, {'property': {'detectedLanguages': [{'languageCode': 'en'}]}, 'text': 'e', 'boundingBox': {'vertices': [{'y': 3404, 'x': 1472}, {'y': 3404, 'x': 1479}, {'y': 3429, 'x': 1479}, {'y': 3429, 'x': 1472}]}}, {'property': {'detectedBreak': {'type': 'SPACE'}, 'detectedLanguages': [{'languageCode': 'en'}]}, 'text': 'd', 'boundingBox': {'vertices': [{'y': 3404, 'x': 1480}, {'y': 3404, 'x': 1493}, {'y': 3429, 'x': 1493}, {'y': 3429, 'x': 1480}]}}], 'boundingBox': {'vertices': [{'y': 3404, 'x': 1330}, {'y': 3404, 'x': 1494}, {'y': 3429, 'x': 1494}, {'y': 3429, 'x': 1330}]}}, {'property': {'detectedLanguages': [{'languageCode': 'en'}]}, 'symbols': [{'property': {'detectedLanguages': [{'languageCode': 'en'}]}, 'text': 'F', 'boundingBox': {'vertices': [{'y': 3404, 'x': 1503}, {'y': 3404, 'x': 1532}, {'y': 3429, 'x': 1532}, {'y': 3429, 'x': 1503}]}}, {'property': {'detectedLanguages': [{'languageCode': 'en'}]}, 'text': 'e', 'boundingBox': {'vertices': [{'y': 3404, 'x': 1533}, {'y': 3404, 'x': 1540}, {'y': 3429, 'x': 1540}, {'y': 3429, 'x': 1533}]}}, {'property': {'detectedLanguages': [{'languageCode': 'en'}]}, 'text': 'b', 'boundingBox': {'vertices': [{'y': 3404, 'x': 1541}, {'y': 3404, 'x': 1550}, {'y': 3429, 'x': 1550}, {'y': 3429, 'x': 1541}]}}, {'property': {'detectedLanguages': [{'languageCode': 'en'}]}, 'text': 'l', 'boundingBox': {'vertices': [{'y': 3404, 'x': 1550}, {'y': 3404, 'x': 1557}, {'y': 3429, 'x': 1557}, {'y': 3429, 'x': 1550}]}}, {'property': {'detectedLanguages': [{'languageCode': 'en'}]}, 'text': 'a', 'boundingBox': {'vertices': [{'y': 3404, 'x': 1558}, {'y': 3404, 'x': 1565}, {'y': 3429, 'x': 1565}, {'y': 3429, 'x': 1558}]}}, {'property': {'detectedLanguages': [{'languageCode': 'en'}]}, 'text': '8', 'boundingBox': {'vertices': [{'y': 3404, 'x': 1566}, {'y': 3404, 'x': 1579}, {'y': 3429, 'x': 1579}, {'y': 3429, 'x': 1566}]}}, {'property': {'detectedBreak': {'type': 'SPACE'}, 'detectedLanguages': [{'languageCode': 'en'}]}, 'text': ',', 'boundingBox': {'vertices': [{'y': 3404, 'x': 1580}, {'y': 3404, 'x': 1601}, {'y': 3429, 'x': 1601}, {'y': 3429, 'x': 1580}]}}], 'boundingBox': {'vertices': [{'y': 3404, 'x': 1503}, {'y': 3404, 'x': 1600}, {'y': 3429, 'x': 1600}, {'y': 3429, 'x': 1503}]}}, {'property': {'detectedLanguages': [{'languageCode': 'en'}]}, 'symbols': [{'property': {'detectedLanguages': [{'languageCode': 'en'}]}, 'text': 'b', 'boundingBox': {'vertices': [{'y': 3404, 'x': 1605}, {'y': 3404, 'x': 1614}, {'y': 3429, 'x': 1614}, {'y': 3429, 'x': 1605}]}}, {'property': {'detectedBreak': {'type': 'SPACE'}, 'detectedLanguages': [{'languageCode': 'en'}]}, 'text': 'y', 'boundingBox': {'vertices': [{'y': 3404, 'x': 1615}, {'y': 3404, 'x': 1622}, {'y': 3429, 'x': 1622}, {'y': 3429, 'x': 1615}]}}], 'boundingBox': {'vertices': [{'y': 3404, 'x': 1605}, {'y': 3404, 'x': 1622}, {'y': 3429, 'x': 1622}, {'y': 3429, 'x': 1605}]}}, {'property': {'detectedLanguages': [{'languageCode': 'en'}]}, 'symbols': [{'property': {'detectedLanguages': [{'languageCode': 'en'}]}, 'text': 'H', 'boundingBox': {'vertices': [{'y': 3404, 'x': 1632}, {'y': 3404, 'x': 1647}, {'y': 3429, 'x': 1647}, {'y': 3429, 'x': 1632}]}}, {'property': {'detectedLanguages': [{'languageCode': 'en'}]}, 'text': 'a', 'boundingBox': {'vertices': [{'y': 3404, 'x': 1648}, {'y': 3404, 'x': 1657}, {'y': 3429, 'x': 1657}, {'y': 3429, 'x': 1648}]}}, {'property': {'detectedLanguages': [{'languageCode': 'en'}]}, 'text': 'i', 'boundingBox': {'vertices': [{'y': 3404, 'x': 1658}, {'y': 3404, 'x': 1669}, {'y': 3429, 'x': 1669}, {'y': 3429, 'x': 1658}]}}, {'property': {'detectedLanguages': [{'languageCode': 'en'}]}, 'text': 'n', 'boundingBox': {'vertices': [{'y': 3404, 'x': 1669}, {'y': 3404, 'x': 1682}, {'y': 3429, 'x': 1682}, {'y': 3429, 'x': 1669}]}}, {'property': {'detectedLanguages': [{'languageCode': 'en'}]}, 'text': 'e', 'boundingBox': {'vertices': [{'y': 3404, 'x': 1683}, {'y': 3404, 'x': 1696}, {'y': 3429, 'x': 1696}, {'y': 3429, 'x': 1683}]}}, {'property': {'detectedBreak': {'type': 'SPACE'}, 'detectedLanguages': [{'languageCode': 'en'}]}, 'text': 's', 'boundingBox': {'vertices': [{'y': 3404, 'x': 1697}, {'y': 3404, 'x': 1708}, {'y': 3429, 'x': 1708}, {'y': 3429, 'x': 1697}]}}], 'boundingBox': {'vertices': [{'y': 3404, 'x': 1632}, {'y': 3404, 'x': 1708}, {'y': 3429, 'x': 1708}, {'y': 3429, 'x': 1632}]}}, {'property': {'detectedLanguages': [{'languageCode': 'en'}]}, 'symbols': [{'property': {'detectedBreak': {'type': 'SPACE'}, 'detectedLanguages': [{'languageCode': 'en'}]}, 'text': '&', 'boundingBox': {'vertices': [{'y': 3404, 'x': 1716}, {'y': 3404, 'x': 1725}, {'y': 3429, 'x': 1725}, {'y': 3429, 'x': 1716}]}}], 'boundingBox': {'vertices': [{'y': 3404, 'x': 1716}, {'y': 3404, 'x': 1725}, {'y': 3429, 'x': 1725}, {'y': 3429, 'x': 1716}]}}, {'property': {'detectedLanguages': [{'languageCode': 'gl'}]}, 'symbols': [{'property': {'detectedLanguages': [{'languageCode': 'en'}]}, 'text': 'S', 'boundingBox': {'vertices': [{'y': 3404, 'x': 1734}, {'y': 3404, 'x': 1743}, {'y': 3429, 'x': 1743}, {'y': 3429, 'x': 1734}]}}, {'property': {'detectedLanguages': [{'languageCode': 'en'}]}, 'text': 'o', 'boundingBox': {'vertices': [{'y': 3404, 'x': 1744}, {'y': 3404, 'x': 1755}, {'y': 3429, 'x': 1755}, {'y': 3429, 'x': 1744}]}}, {'property': {'detectedLanguages': [{'languageCode': 'en'}]}, 'text': 'n', 'boundingBox': {'vertices': [{'y': 3404, 'x': 1755}, {'y': 3404, 'x': 1772}, {'y': 3429, 'x': 1772}, {'y': 3429, 'x': 1755}]}}, {'property': {'detectedLanguages': [{'languageCode': 'en'}]}, 'text': ',', 'boundingBox': {'vertices': [{'y': 3404, 'x': 1773}, {'y': 3404, 'x': 1780}, {'y': 3429, 'x': 1780}, {'y': 3429, 'x': 1773}]}}, {'property': {'detectedLanguages': [{'languageCode': 'en'}]}, 'text': 'N', 'boundingBox': {'vertices': [{'y': 3404, 'x': 1781}, {'y': 3404, 'x': 1794}, {'y': 3429, 'x': 1794}, {'y': 3429, 'x': 1781}]}}, {'property': {'detectedLanguages': [{'languageCode': 'en'}]}, 'text': 'o', 'boundingBox': {'vertices': [{'y': 3404, 'x': 1794}, {'y': 3404, 'x': 1819}, {'y': 3429, 'x': 1819}, {'y': 3429, 'x': 1794}]}}, {'property': {'detectedLanguages': [{'languageCode': 'en'}]}, 'text': ',', 'boundingBox': {'vertices': [{'y': 3404, 'x': 1820}, {'y': 3404, 'x': 1829}, {'y': 3429, 'x': 1829}, {'y': 3429, 'x': 1820}]}}, {'property': {'detectedLanguages': [{'languageCode': 'en'}]}, 'text': 'R', 'boundingBox': {'vertices': [{'y': 3404, 'x': 1830}, {'y': 3404, 'x': 1841}, {'y': 3429, 'x': 1841}, {'y': 3429, 'x': 1830}]}}, {'property': {'detectedLanguages': [{'languageCode': 'en'}]}, 'text': 'o', 'boundingBox': {'vertices': [{'y': 3404, 'x': 1841}, {'y': 3404, 'x': 1854}, {'y': 3429, 'x': 1854}, {'y': 3429, 'x': 1841}]}}, {'property': {'detectedLanguages': [{'languageCode': 'en'}]}, 'text': 'l', 'boundingBox': {'vertices': [{'y': 3404, 'x': 1855}, {'y': 3404, 'x': 1862}, {'y': 3429, 'x': 1862}, {'y': 3429, 'x': 1855}]}}, {'property': {'detectedLanguages': [{'languageCode': 'en'}]}, 'text': 'l', 'boundingBox': {'vertices': [{'y': 3404, 'x': 1863}, {'y': 3404, 'x': 1872}, {'y': 3429, 'x': 1872}, {'y': 3429, 'x': 1863}]}}, {'property': {'detectedBreak': {'type': 'SPACE'}, 'detectedLanguages': [{'languageCode': 'en'}]}, 'text': 's', 'boundingBox': {'vertices': [{'y': 3404, 'x': 1873}, {'y': 3404, 'x': 1876}, {'y': 3429, 'x': 1876}, {'y': 3429, 'x': 1873}]}}], 'boundingBox': {'vertices': [{'y': 3404, 'x': 1734}, {'y': 3404, 'x': 1876}, {'y': 3429, 'x': 1876}, {'y': 3429, 'x': 1734}]}}, {'property': {'detectedLanguages': [{'languageCode': 'eo'}]}, 'symbols': [{'property': {'detectedLanguages': [{'languageCode': 'en'}]}, 'text': 'B', 'boundingBox': {'vertices': [{'y': 3404, 'x': 1884}, {'y': 3404, 'x': 1897}, {'y': 3429, 'x': 1897}, {'y': 3429, 'x': 1884}]}}, {'property': {'detectedLanguages': [{'languageCode': 'en'}]}, 'text': 'u', 'boundingBox': {'vertices': [{'y': 3404, 'x': 1898}, {'y': 3404, 'x': 1905}, {'y': 3429, 'x': 1905}, {'y': 3429, 'x': 1898}]}}, {'property': {'detectedLanguages': [{'languageCode': 'en'}]}, 'text': 'i', 'boundingBox': {'vertices': [{'y': 3404, 'x': 1906}, {'y': 3404, 'x': 1913}, {'y': 3429, 'x': 1913}, {'y': 3429, 'x': 1906}]}}, {'property': {'detectedLanguages': [{'languageCode': 'en'}]}, 'text': 'l', 'boundingBox': {'vertices': [{'y': 3404, 'x': 1914}, {'y': 3404, 'x': 1923}, {'y': 3429, 'x': 1923}, {'y': 3429, 'x': 1914}]}}, {'property': {'detectedLanguages': [{'languageCode': 'en'}]}, 'text': 'd', 'boundingBox': {'vertices': [{'y': 3404, 'x': 1923}, {'y': 3404, 'x': 1930}, {'y': 3429, 'x': 1930}, {'y': 3429, 'x': 1923}]}}, {'property': {'detectedLanguages': [{'languageCode': 'en'}]}, 'text': 'i', 'boundingBox': {'vertices': [{'y': 3404, 'x': 1931}, {'y': 3404, 'x': 1940}, {'y': 3429, 'x': 1940}, {'y': 3429, 'x': 1931}]}}, {'property': {'detectedLanguages': [{'languageCode': 'en'}]}, 'text': 'n', 'boundingBox': {'vertices': [{'y': 3404, 'x': 1941}, {'y': 3404, 'x': 1948}, {'y': 3429, 'x': 1948}, {'y': 3429, 'x': 1941}]}}, {'property': {'detectedLanguages': [{'languageCode': 'en'}]}, 'text': 'g', 'boundingBox': {'vertices': [{'y': 3404, 'x': 1949}, {'y': 3404, 'x': 1958}, {'y': 3429, 'x': 1958}, {'y': 3429, 'x': 1949}]}}, {'property': {'detectedLanguages': [{'languageCode': 'en'}]}, 'text': 's', 'boundingBox': {'vertices': [{'y': 3404, 'x': 1958}, {'y': 3404, 'x': 1969}, {'y': 3429, 'x': 1969}, {'y': 3429, 'x': 1958}]}}, {'property': {'detectedLanguages': [{'languageCode': 'en'}]}, 'text': ',', 'boundingBox': {'vertices': [{'y': 3404, 'x': 1970}, {'y': 3404, 'x': 1973}, {'y': 3429, 'x': 1973}, {'y': 3429, 'x': 1970}]}}, {'property': {'detectedLanguages': [{'languageCode': 'en'}]}, 'text': 'F', 'boundingBox': {'vertices': [{'y': 3404, 'x': 1974}, {'y': 3404, 'x': 1987}, {'y': 3429, 'x': 1987}, {'y': 3429, 'x': 1974}]}}, {'property': {'detectedBreak': {'type': 'EOL_SURE_SPACE'}, 'detectedLanguages': [{'languageCode': 'en'}]}, 'text': 'e', 'boundingBox': {'vertices': [{'y': 3404, 'x': 1988}, {'y': 3404, 'x': 1995}, {'y': 3429, 'x': 1995}, {'y': 3429, 'x': 1988}]}}], 'boundingBox': {'vertices': [{'y': 3404, 'x': 1884}, {'y': 3404, 'x': 1995}, {'y': 3429, 'x': 1995}, {'y': 3429, 'x': 1884}]}}], 'boundingBox': {'vertices': [{'y': 3404, 'x': 1330}, {'y': 3404, 'x': 1996}, {'y': 3429, 'x': 1996}, {'y': 3429, 'x': 1330}]}}], 'boundingBox': {'vertices': [{'y': 3404, 'x': 1330}, {'y': 3404, 'x': 1996}, {'y': 3429, 'x': 1996}, {'y': 3429, 'x': 1330}]}}], 'width': 3344, 'height': 4000}], 'text': 'AN EMBLE M OF A MERICA.\\nLondon:Published Febla8, by Haines & Son,No,Rolls Buildings,Fe\\n'}}]}\n"
          ],
          "name": "stdout"
        }
      ]
    },
    {
      "metadata": {
        "id": "fYRSgmg9EP_I",
        "colab_type": "code",
        "colab": {},
        "outputId": "3ddd25df-2e2a-405e-9c5a-06df93cab1d3"
      },
      "cell_type": "code",
      "source": [
        "import base64\n",
        "IMAGE=\"gs://cloud-training-demos/images/met/DP290402.jpg\"\n",
        "vservice = build('vision', 'v1', developerKey=APIKEY)\n",
        "request = vservice.images().annotate(body={\n",
        "        'requests': [{\n",
        "                'image': {\n",
        "                    'source': {\n",
        "                        'gcs_image_uri': IMAGE\n",
        "                    }\n",
        "                },\n",
        "                'features': [{\n",
        "                    'type': 'TEXT_DETECTION',\n",
        "                    'maxResults': 3,\n",
        "                }]\n",
        "            }],\n",
        "        })\n",
        "responses = request.execute(num_retries=3)\n",
        "print(responses)"
      ],
      "execution_count": 0,
      "outputs": [
        {
          "output_type": "stream",
          "text": [
            "{'responses': [{}]}\n"
          ],
          "name": "stdout"
        }
      ]
    },
    {
      "metadata": {
        "id": "C7XhhFVoEP_N",
        "colab_type": "code",
        "colab": {},
        "outputId": "84b33ce0-0c5b-4e5e-df72-101a40a1d08e"
      },
      "cell_type": "code",
      "source": [
        "import base64\n",
        "IMAGE=\"gs://cloud-training-demos/images/met/DP700302.jpg\"\n",
        "vservice = build('vision', 'v1', developerKey=APIKEY)\n",
        "request = vservice.images().annotate(body={\n",
        "        'requests': [{\n",
        "                'image': {\n",
        "                    'source': {\n",
        "                        'gcs_image_uri': IMAGE\n",
        "                    }\n",
        "                },\n",
        "                'features': [{\n",
        "                    'type': 'TEXT_DETECTION',\n",
        "                    'maxResults': 3,\n",
        "                }]\n",
        "            }],\n",
        "        })\n",
        "responses = request.execute(num_retries=3)\n",
        "print(responses)\n"
      ],
      "execution_count": 0,
      "outputs": [
        {
          "output_type": "stream",
          "text": [
            "{'responses': [{}]}\n"
          ],
          "name": "stdout"
        }
      ]
    },
    {
      "metadata": {
        "id": "7WDwQ3hoEP_S",
        "colab_type": "text"
      },
      "cell_type": "markdown",
      "source": [
        "Copyright 2018 Google Inc.\n",
        "Licensed under the Apache License, Version 2.0 (the \"License\"); you may not use this file except in compliance with the License. You may obtain a copy of the License at\n",
        "http://www.apache.org/licenses/LICENSE-2.0\n",
        "Unless required by applicable law or agreed to in writing, software distributed under the License is distributed on an \"AS IS\" BASIS, WITHOUT WARRANTIES OR CONDITIONS OF ANY KIND, either express or implied. See the License for the specific language governing permissions and limitations under the License."
      ]
    },
    {
      "metadata": {
        "id": "qXARHJvxEP_S",
        "colab_type": "code",
        "colab": {}
      },
      "cell_type": "code",
      "source": [
        ""
      ],
      "execution_count": 0,
      "outputs": []
    }
  ]
}